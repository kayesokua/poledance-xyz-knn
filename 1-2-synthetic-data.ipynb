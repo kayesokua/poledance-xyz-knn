{
 "cells": [
  {
   "cell_type": "markdown",
   "id": "513c5e34-7f9e-4a61-96ec-5c48353d2e8d",
   "metadata": {},
   "source": [
    "# 1.0 Data Processing\n",
    "\n",
    "## 1.3 Synthetic Data Generation\n",
    "\n",
    "Given the limited availability of only two poses from a single pose class, it is imperative to augment the dataset within each class. Through the application of rotational transformations, we are able to estimate the positioning of vectors contingent upon a specified degree of rotation. To comprehensively capture the entirety of the pose, we incrementally generate data by rotating +10 degrees until a full 360-degree rotation is achieved, subsequently validating the original vector against the final vector to ensure consistency and accuracy in the transformation process.\n",
    "\n",
    "Sources:\n",
    "- https://stackoverflow.com/questions/6802577/rotation-of-3d-vector\n",
    "- https://en.wikipedia.org/wiki/Euler%E2%80%93Rodrigues_formula"
   ]
  },
  {
   "cell_type": "markdown",
   "id": "623eb35f-0b0a-4ada-ba63-f632427b9dfb",
   "metadata": {},
   "source": [
    "### Raw Data"
   ]
  },
  {
   "cell_type": "code",
   "execution_count": 24,
   "id": "5fbc7ed7-8a11-43e0-b8f8-64493344f1ad",
   "metadata": {},
   "outputs": [
    {
     "data": {
      "text/html": [
       "<div>\n",
       "<style scoped>\n",
       "    .dataframe tbody tr th:only-of-type {\n",
       "        vertical-align: middle;\n",
       "    }\n",
       "\n",
       "    .dataframe tbody tr th {\n",
       "        vertical-align: top;\n",
       "    }\n",
       "\n",
       "    .dataframe thead th {\n",
       "        text-align: right;\n",
       "    }\n",
       "</style>\n",
       "<table border=\"1\" class=\"dataframe\">\n",
       "  <thead>\n",
       "    <tr style=\"text-align: right;\">\n",
       "      <th></th>\n",
       "      <th>image_filename</th>\n",
       "      <th>pose_name</th>\n",
       "      <th>landmark_00_x</th>\n",
       "      <th>landmark_00_y</th>\n",
       "      <th>landmark_00_z</th>\n",
       "      <th>landmark_00_v</th>\n",
       "      <th>landmark_01_x</th>\n",
       "      <th>landmark_01_y</th>\n",
       "      <th>landmark_01_z</th>\n",
       "      <th>landmark_01_v</th>\n",
       "      <th>...</th>\n",
       "      <th>landmark_30_z</th>\n",
       "      <th>landmark_30_v</th>\n",
       "      <th>landmark_31_x</th>\n",
       "      <th>landmark_31_y</th>\n",
       "      <th>landmark_31_z</th>\n",
       "      <th>landmark_31_v</th>\n",
       "      <th>landmark_32_x</th>\n",
       "      <th>landmark_32_y</th>\n",
       "      <th>landmark_32_z</th>\n",
       "      <th>landmark_32_v</th>\n",
       "    </tr>\n",
       "  </thead>\n",
       "  <tbody>\n",
       "    <tr>\n",
       "      <th>0</th>\n",
       "      <td>advanced-figurehead-lft.png</td>\n",
       "      <td>advanced-figurehead-lft</td>\n",
       "      <td>0.545408</td>\n",
       "      <td>0.259078</td>\n",
       "      <td>-0.407526</td>\n",
       "      <td>0.998032</td>\n",
       "      <td>0.529543</td>\n",
       "      <td>0.271390</td>\n",
       "      <td>-0.377108</td>\n",
       "      <td>0.997484</td>\n",
       "      <td>...</td>\n",
       "      <td>-0.279319</td>\n",
       "      <td>0.921783</td>\n",
       "      <td>0.178496</td>\n",
       "      <td>0.687856</td>\n",
       "      <td>0.396094</td>\n",
       "      <td>0.143073</td>\n",
       "      <td>0.165575</td>\n",
       "      <td>0.687296</td>\n",
       "      <td>-0.299426</td>\n",
       "      <td>0.903340</td>\n",
       "    </tr>\n",
       "    <tr>\n",
       "      <th>1</th>\n",
       "      <td>advanced-figurehead-rgt.png</td>\n",
       "      <td>advanced-figurehead-rgt</td>\n",
       "      <td>0.436167</td>\n",
       "      <td>0.272993</td>\n",
       "      <td>0.042864</td>\n",
       "      <td>0.994189</td>\n",
       "      <td>0.451747</td>\n",
       "      <td>0.284805</td>\n",
       "      <td>0.008824</td>\n",
       "      <td>0.993863</td>\n",
       "      <td>...</td>\n",
       "      <td>0.386870</td>\n",
       "      <td>0.028072</td>\n",
       "      <td>0.829540</td>\n",
       "      <td>0.681655</td>\n",
       "      <td>-0.259552</td>\n",
       "      <td>0.234634</td>\n",
       "      <td>0.822786</td>\n",
       "      <td>0.687349</td>\n",
       "      <td>0.296422</td>\n",
       "      <td>0.010969</td>\n",
       "    </tr>\n",
       "    <tr>\n",
       "      <th>2</th>\n",
       "      <td>aerial-leg-hold-crucifix-lft.png</td>\n",
       "      <td>aerial-leg-hold-crucifix-lft</td>\n",
       "      <td>0.504749</td>\n",
       "      <td>0.180154</td>\n",
       "      <td>-0.839282</td>\n",
       "      <td>0.999996</td>\n",
       "      <td>0.512618</td>\n",
       "      <td>0.166645</td>\n",
       "      <td>-0.803643</td>\n",
       "      <td>0.999990</td>\n",
       "      <td>...</td>\n",
       "      <td>0.039491</td>\n",
       "      <td>0.902986</td>\n",
       "      <td>0.393930</td>\n",
       "      <td>0.802434</td>\n",
       "      <td>-0.269182</td>\n",
       "      <td>0.987534</td>\n",
       "      <td>0.492710</td>\n",
       "      <td>0.779056</td>\n",
       "      <td>-0.184242</td>\n",
       "      <td>0.970091</td>\n",
       "    </tr>\n",
       "    <tr>\n",
       "      <th>3</th>\n",
       "      <td>aerial-leg-hold-crucifix-rgt.png</td>\n",
       "      <td>aerial-leg-hold-crucifix-rgt</td>\n",
       "      <td>0.499891</td>\n",
       "      <td>0.180474</td>\n",
       "      <td>-0.591090</td>\n",
       "      <td>0.999997</td>\n",
       "      <td>0.509142</td>\n",
       "      <td>0.168015</td>\n",
       "      <td>-0.550916</td>\n",
       "      <td>0.999988</td>\n",
       "      <td>...</td>\n",
       "      <td>-0.077581</td>\n",
       "      <td>0.926418</td>\n",
       "      <td>0.508029</td>\n",
       "      <td>0.777915</td>\n",
       "      <td>0.064188</td>\n",
       "      <td>0.965189</td>\n",
       "      <td>0.594786</td>\n",
       "      <td>0.795155</td>\n",
       "      <td>-0.319720</td>\n",
       "      <td>0.984336</td>\n",
       "    </tr>\n",
       "    <tr>\n",
       "      <th>4</th>\n",
       "      <td>air-walk-lft.png</td>\n",
       "      <td>air-walk-lft</td>\n",
       "      <td>0.450799</td>\n",
       "      <td>0.341594</td>\n",
       "      <td>-0.282800</td>\n",
       "      <td>0.999512</td>\n",
       "      <td>0.444959</td>\n",
       "      <td>0.327051</td>\n",
       "      <td>-0.349440</td>\n",
       "      <td>0.999634</td>\n",
       "      <td>...</td>\n",
       "      <td>0.380551</td>\n",
       "      <td>0.849768</td>\n",
       "      <td>0.548799</td>\n",
       "      <td>0.843092</td>\n",
       "      <td>-0.280939</td>\n",
       "      <td>0.903217</td>\n",
       "      <td>0.313885</td>\n",
       "      <td>0.762152</td>\n",
       "      <td>0.190190</td>\n",
       "      <td>0.823446</td>\n",
       "    </tr>\n",
       "    <tr>\n",
       "      <th>...</th>\n",
       "      <td>...</td>\n",
       "      <td>...</td>\n",
       "      <td>...</td>\n",
       "      <td>...</td>\n",
       "      <td>...</td>\n",
       "      <td>...</td>\n",
       "      <td>...</td>\n",
       "      <td>...</td>\n",
       "      <td>...</td>\n",
       "      <td>...</td>\n",
       "      <td>...</td>\n",
       "      <td>...</td>\n",
       "      <td>...</td>\n",
       "      <td>...</td>\n",
       "      <td>...</td>\n",
       "      <td>...</td>\n",
       "      <td>...</td>\n",
       "      <td>...</td>\n",
       "      <td>...</td>\n",
       "      <td>...</td>\n",
       "      <td>...</td>\n",
       "    </tr>\n",
       "    <tr>\n",
       "      <th>539</th>\n",
       "      <td>wrist-sit-rgt.png</td>\n",
       "      <td>wrist-sit-rgt</td>\n",
       "      <td>0.506111</td>\n",
       "      <td>0.534306</td>\n",
       "      <td>-0.154565</td>\n",
       "      <td>0.999970</td>\n",
       "      <td>0.509519</td>\n",
       "      <td>0.520750</td>\n",
       "      <td>-0.135237</td>\n",
       "      <td>0.999945</td>\n",
       "      <td>...</td>\n",
       "      <td>-0.187706</td>\n",
       "      <td>0.993354</td>\n",
       "      <td>0.924881</td>\n",
       "      <td>0.402281</td>\n",
       "      <td>-0.304024</td>\n",
       "      <td>0.996291</td>\n",
       "      <td>0.101837</td>\n",
       "      <td>0.413196</td>\n",
       "      <td>-0.236651</td>\n",
       "      <td>0.989679</td>\n",
       "    </tr>\n",
       "    <tr>\n",
       "      <th>540</th>\n",
       "      <td>yogini-lft.png</td>\n",
       "      <td>yogini-lft</td>\n",
       "      <td>0.750999</td>\n",
       "      <td>0.265975</td>\n",
       "      <td>0.050217</td>\n",
       "      <td>1.000000</td>\n",
       "      <td>0.734617</td>\n",
       "      <td>0.252835</td>\n",
       "      <td>0.082880</td>\n",
       "      <td>1.000000</td>\n",
       "      <td>...</td>\n",
       "      <td>0.004372</td>\n",
       "      <td>0.953845</td>\n",
       "      <td>0.225413</td>\n",
       "      <td>0.414827</td>\n",
       "      <td>0.473995</td>\n",
       "      <td>0.646005</td>\n",
       "      <td>0.272044</td>\n",
       "      <td>0.336316</td>\n",
       "      <td>0.049254</td>\n",
       "      <td>0.949220</td>\n",
       "    </tr>\n",
       "    <tr>\n",
       "      <th>541</th>\n",
       "      <td>yogini-rgt.png</td>\n",
       "      <td>yogini-rgt</td>\n",
       "      <td>0.254569</td>\n",
       "      <td>0.253966</td>\n",
       "      <td>0.185102</td>\n",
       "      <td>0.999985</td>\n",
       "      <td>0.276668</td>\n",
       "      <td>0.244936</td>\n",
       "      <td>0.168699</td>\n",
       "      <td>0.999988</td>\n",
       "      <td>...</td>\n",
       "      <td>0.462144</td>\n",
       "      <td>0.196382</td>\n",
       "      <td>0.693174</td>\n",
       "      <td>0.359902</td>\n",
       "      <td>-0.068871</td>\n",
       "      <td>0.595498</td>\n",
       "      <td>0.770825</td>\n",
       "      <td>0.392072</td>\n",
       "      <td>0.434250</td>\n",
       "      <td>0.176225</td>\n",
       "    </tr>\n",
       "    <tr>\n",
       "      <th>542</th>\n",
       "      <td>yogini-twisted-lft.png</td>\n",
       "      <td>yogini-twisted-lft</td>\n",
       "      <td>0.356109</td>\n",
       "      <td>0.269642</td>\n",
       "      <td>-0.166786</td>\n",
       "      <td>0.999335</td>\n",
       "      <td>0.358961</td>\n",
       "      <td>0.250586</td>\n",
       "      <td>-0.201648</td>\n",
       "      <td>0.998349</td>\n",
       "      <td>...</td>\n",
       "      <td>0.351428</td>\n",
       "      <td>0.970817</td>\n",
       "      <td>0.805866</td>\n",
       "      <td>0.250624</td>\n",
       "      <td>0.061751</td>\n",
       "      <td>0.957399</td>\n",
       "      <td>0.446802</td>\n",
       "      <td>0.869190</td>\n",
       "      <td>0.317473</td>\n",
       "      <td>0.962696</td>\n",
       "    </tr>\n",
       "    <tr>\n",
       "      <th>543</th>\n",
       "      <td>yogini-twisted-rgt.png</td>\n",
       "      <td>yogini-twisted-rgt</td>\n",
       "      <td>0.644864</td>\n",
       "      <td>0.268925</td>\n",
       "      <td>-0.251831</td>\n",
       "      <td>0.998788</td>\n",
       "      <td>0.640746</td>\n",
       "      <td>0.248651</td>\n",
       "      <td>-0.221982</td>\n",
       "      <td>0.995351</td>\n",
       "      <td>...</td>\n",
       "      <td>0.080691</td>\n",
       "      <td>0.839644</td>\n",
       "      <td>0.542495</td>\n",
       "      <td>0.863337</td>\n",
       "      <td>0.246485</td>\n",
       "      <td>0.965350</td>\n",
       "      <td>0.184719</td>\n",
       "      <td>0.236988</td>\n",
       "      <td>0.079781</td>\n",
       "      <td>0.798404</td>\n",
       "    </tr>\n",
       "  </tbody>\n",
       "</table>\n",
       "<p>544 rows × 134 columns</p>\n",
       "</div>"
      ],
      "text/plain": [
       "                       image_filename                     pose_name  \\\n",
       "0         advanced-figurehead-lft.png       advanced-figurehead-lft   \n",
       "1         advanced-figurehead-rgt.png       advanced-figurehead-rgt   \n",
       "2    aerial-leg-hold-crucifix-lft.png  aerial-leg-hold-crucifix-lft   \n",
       "3    aerial-leg-hold-crucifix-rgt.png  aerial-leg-hold-crucifix-rgt   \n",
       "4                    air-walk-lft.png                  air-walk-lft   \n",
       "..                                ...                           ...   \n",
       "539                 wrist-sit-rgt.png                 wrist-sit-rgt   \n",
       "540                    yogini-lft.png                    yogini-lft   \n",
       "541                    yogini-rgt.png                    yogini-rgt   \n",
       "542            yogini-twisted-lft.png            yogini-twisted-lft   \n",
       "543            yogini-twisted-rgt.png            yogini-twisted-rgt   \n",
       "\n",
       "     landmark_00_x  landmark_00_y  landmark_00_z  landmark_00_v  \\\n",
       "0         0.545408       0.259078      -0.407526       0.998032   \n",
       "1         0.436167       0.272993       0.042864       0.994189   \n",
       "2         0.504749       0.180154      -0.839282       0.999996   \n",
       "3         0.499891       0.180474      -0.591090       0.999997   \n",
       "4         0.450799       0.341594      -0.282800       0.999512   \n",
       "..             ...            ...            ...            ...   \n",
       "539       0.506111       0.534306      -0.154565       0.999970   \n",
       "540       0.750999       0.265975       0.050217       1.000000   \n",
       "541       0.254569       0.253966       0.185102       0.999985   \n",
       "542       0.356109       0.269642      -0.166786       0.999335   \n",
       "543       0.644864       0.268925      -0.251831       0.998788   \n",
       "\n",
       "     landmark_01_x  landmark_01_y  landmark_01_z  landmark_01_v  ...  \\\n",
       "0         0.529543       0.271390      -0.377108       0.997484  ...   \n",
       "1         0.451747       0.284805       0.008824       0.993863  ...   \n",
       "2         0.512618       0.166645      -0.803643       0.999990  ...   \n",
       "3         0.509142       0.168015      -0.550916       0.999988  ...   \n",
       "4         0.444959       0.327051      -0.349440       0.999634  ...   \n",
       "..             ...            ...            ...            ...  ...   \n",
       "539       0.509519       0.520750      -0.135237       0.999945  ...   \n",
       "540       0.734617       0.252835       0.082880       1.000000  ...   \n",
       "541       0.276668       0.244936       0.168699       0.999988  ...   \n",
       "542       0.358961       0.250586      -0.201648       0.998349  ...   \n",
       "543       0.640746       0.248651      -0.221982       0.995351  ...   \n",
       "\n",
       "     landmark_30_z  landmark_30_v  landmark_31_x  landmark_31_y  \\\n",
       "0        -0.279319       0.921783       0.178496       0.687856   \n",
       "1         0.386870       0.028072       0.829540       0.681655   \n",
       "2         0.039491       0.902986       0.393930       0.802434   \n",
       "3        -0.077581       0.926418       0.508029       0.777915   \n",
       "4         0.380551       0.849768       0.548799       0.843092   \n",
       "..             ...            ...            ...            ...   \n",
       "539      -0.187706       0.993354       0.924881       0.402281   \n",
       "540       0.004372       0.953845       0.225413       0.414827   \n",
       "541       0.462144       0.196382       0.693174       0.359902   \n",
       "542       0.351428       0.970817       0.805866       0.250624   \n",
       "543       0.080691       0.839644       0.542495       0.863337   \n",
       "\n",
       "     landmark_31_z  landmark_31_v  landmark_32_x  landmark_32_y  \\\n",
       "0         0.396094       0.143073       0.165575       0.687296   \n",
       "1        -0.259552       0.234634       0.822786       0.687349   \n",
       "2        -0.269182       0.987534       0.492710       0.779056   \n",
       "3         0.064188       0.965189       0.594786       0.795155   \n",
       "4        -0.280939       0.903217       0.313885       0.762152   \n",
       "..             ...            ...            ...            ...   \n",
       "539      -0.304024       0.996291       0.101837       0.413196   \n",
       "540       0.473995       0.646005       0.272044       0.336316   \n",
       "541      -0.068871       0.595498       0.770825       0.392072   \n",
       "542       0.061751       0.957399       0.446802       0.869190   \n",
       "543       0.246485       0.965350       0.184719       0.236988   \n",
       "\n",
       "     landmark_32_z  landmark_32_v  \n",
       "0        -0.299426       0.903340  \n",
       "1         0.296422       0.010969  \n",
       "2        -0.184242       0.970091  \n",
       "3        -0.319720       0.984336  \n",
       "4         0.190190       0.823446  \n",
       "..             ...            ...  \n",
       "539      -0.236651       0.989679  \n",
       "540       0.049254       0.949220  \n",
       "541       0.434250       0.176225  \n",
       "542       0.317473       0.962696  \n",
       "543       0.079781       0.798404  \n",
       "\n",
       "[544 rows x 134 columns]"
      ]
     },
     "execution_count": 24,
     "metadata": {},
     "output_type": "execute_result"
    }
   ],
   "source": [
    "import pandas as pd\n",
    "\n",
    "data = pd.read_csv(\"dataset/pose_data_raw.csv\")\n",
    "data"
   ]
  },
  {
   "cell_type": "code",
   "execution_count": 25,
   "id": "6b5a721f-8067-4f9b-860c-05151bdeac6f",
   "metadata": {},
   "outputs": [
    {
     "data": {
      "text/html": [
       "<div>\n",
       "<style scoped>\n",
       "    .dataframe tbody tr th:only-of-type {\n",
       "        vertical-align: middle;\n",
       "    }\n",
       "\n",
       "    .dataframe tbody tr th {\n",
       "        vertical-align: top;\n",
       "    }\n",
       "\n",
       "    .dataframe thead th {\n",
       "        text-align: right;\n",
       "    }\n",
       "</style>\n",
       "<table border=\"1\" class=\"dataframe\">\n",
       "  <thead>\n",
       "    <tr style=\"text-align: right;\">\n",
       "      <th></th>\n",
       "      <th>image_filename</th>\n",
       "      <th>pose_name</th>\n",
       "      <th>landmark_00_x</th>\n",
       "      <th>landmark_00_y</th>\n",
       "      <th>landmark_00_z</th>\n",
       "      <th>landmark_00_v</th>\n",
       "      <th>landmark_01_x</th>\n",
       "      <th>landmark_01_y</th>\n",
       "      <th>landmark_01_z</th>\n",
       "      <th>landmark_01_v</th>\n",
       "      <th>...</th>\n",
       "      <th>landmark_30_z</th>\n",
       "      <th>landmark_30_v</th>\n",
       "      <th>landmark_31_x</th>\n",
       "      <th>landmark_31_y</th>\n",
       "      <th>landmark_31_z</th>\n",
       "      <th>landmark_31_v</th>\n",
       "      <th>landmark_32_x</th>\n",
       "      <th>landmark_32_y</th>\n",
       "      <th>landmark_32_z</th>\n",
       "      <th>landmark_32_v</th>\n",
       "    </tr>\n",
       "  </thead>\n",
       "  <tbody>\n",
       "    <tr>\n",
       "      <th>0</th>\n",
       "      <td>advanced-figurehead-lft.png</td>\n",
       "      <td>advanced-figurehead-lft</td>\n",
       "      <td>0.545408</td>\n",
       "      <td>0.740922</td>\n",
       "      <td>-0.407526</td>\n",
       "      <td>0.998032</td>\n",
       "      <td>0.529543</td>\n",
       "      <td>0.728610</td>\n",
       "      <td>-0.377108</td>\n",
       "      <td>0.997484</td>\n",
       "      <td>...</td>\n",
       "      <td>-0.279319</td>\n",
       "      <td>0.921783</td>\n",
       "      <td>0.178496</td>\n",
       "      <td>0.312144</td>\n",
       "      <td>0.396094</td>\n",
       "      <td>0.143073</td>\n",
       "      <td>0.165575</td>\n",
       "      <td>0.312704</td>\n",
       "      <td>-0.299426</td>\n",
       "      <td>0.903340</td>\n",
       "    </tr>\n",
       "    <tr>\n",
       "      <th>1</th>\n",
       "      <td>advanced-figurehead-rgt.png</td>\n",
       "      <td>advanced-figurehead-rgt</td>\n",
       "      <td>0.436167</td>\n",
       "      <td>0.727007</td>\n",
       "      <td>0.042864</td>\n",
       "      <td>0.994189</td>\n",
       "      <td>0.451747</td>\n",
       "      <td>0.715195</td>\n",
       "      <td>0.008824</td>\n",
       "      <td>0.993863</td>\n",
       "      <td>...</td>\n",
       "      <td>0.386870</td>\n",
       "      <td>0.028072</td>\n",
       "      <td>0.829540</td>\n",
       "      <td>0.318345</td>\n",
       "      <td>-0.259552</td>\n",
       "      <td>0.234634</td>\n",
       "      <td>0.822786</td>\n",
       "      <td>0.312651</td>\n",
       "      <td>0.296422</td>\n",
       "      <td>0.010969</td>\n",
       "    </tr>\n",
       "    <tr>\n",
       "      <th>2</th>\n",
       "      <td>aerial-leg-hold-crucifix-lft.png</td>\n",
       "      <td>aerial-leg-hold-crucifix-lft</td>\n",
       "      <td>0.504749</td>\n",
       "      <td>0.819846</td>\n",
       "      <td>-0.839282</td>\n",
       "      <td>0.999996</td>\n",
       "      <td>0.512618</td>\n",
       "      <td>0.833355</td>\n",
       "      <td>-0.803643</td>\n",
       "      <td>0.999990</td>\n",
       "      <td>...</td>\n",
       "      <td>0.039491</td>\n",
       "      <td>0.902986</td>\n",
       "      <td>0.393930</td>\n",
       "      <td>0.197566</td>\n",
       "      <td>-0.269182</td>\n",
       "      <td>0.987534</td>\n",
       "      <td>0.492710</td>\n",
       "      <td>0.220944</td>\n",
       "      <td>-0.184242</td>\n",
       "      <td>0.970091</td>\n",
       "    </tr>\n",
       "    <tr>\n",
       "      <th>3</th>\n",
       "      <td>aerial-leg-hold-crucifix-rgt.png</td>\n",
       "      <td>aerial-leg-hold-crucifix-rgt</td>\n",
       "      <td>0.499891</td>\n",
       "      <td>0.819526</td>\n",
       "      <td>-0.591090</td>\n",
       "      <td>0.999997</td>\n",
       "      <td>0.509142</td>\n",
       "      <td>0.831985</td>\n",
       "      <td>-0.550916</td>\n",
       "      <td>0.999988</td>\n",
       "      <td>...</td>\n",
       "      <td>-0.077581</td>\n",
       "      <td>0.926418</td>\n",
       "      <td>0.508029</td>\n",
       "      <td>0.222085</td>\n",
       "      <td>0.064188</td>\n",
       "      <td>0.965189</td>\n",
       "      <td>0.594786</td>\n",
       "      <td>0.204845</td>\n",
       "      <td>-0.319720</td>\n",
       "      <td>0.984336</td>\n",
       "    </tr>\n",
       "    <tr>\n",
       "      <th>4</th>\n",
       "      <td>air-walk-lft.png</td>\n",
       "      <td>air-walk-lft</td>\n",
       "      <td>0.450799</td>\n",
       "      <td>0.658406</td>\n",
       "      <td>-0.282800</td>\n",
       "      <td>0.999512</td>\n",
       "      <td>0.444959</td>\n",
       "      <td>0.672949</td>\n",
       "      <td>-0.349440</td>\n",
       "      <td>0.999634</td>\n",
       "      <td>...</td>\n",
       "      <td>0.380551</td>\n",
       "      <td>0.849768</td>\n",
       "      <td>0.548799</td>\n",
       "      <td>0.156908</td>\n",
       "      <td>-0.280939</td>\n",
       "      <td>0.903217</td>\n",
       "      <td>0.313885</td>\n",
       "      <td>0.237848</td>\n",
       "      <td>0.190190</td>\n",
       "      <td>0.823446</td>\n",
       "    </tr>\n",
       "    <tr>\n",
       "      <th>...</th>\n",
       "      <td>...</td>\n",
       "      <td>...</td>\n",
       "      <td>...</td>\n",
       "      <td>...</td>\n",
       "      <td>...</td>\n",
       "      <td>...</td>\n",
       "      <td>...</td>\n",
       "      <td>...</td>\n",
       "      <td>...</td>\n",
       "      <td>...</td>\n",
       "      <td>...</td>\n",
       "      <td>...</td>\n",
       "      <td>...</td>\n",
       "      <td>...</td>\n",
       "      <td>...</td>\n",
       "      <td>...</td>\n",
       "      <td>...</td>\n",
       "      <td>...</td>\n",
       "      <td>...</td>\n",
       "      <td>...</td>\n",
       "      <td>...</td>\n",
       "    </tr>\n",
       "    <tr>\n",
       "      <th>539</th>\n",
       "      <td>wrist-sit-rgt.png</td>\n",
       "      <td>wrist-sit-rgt</td>\n",
       "      <td>0.506111</td>\n",
       "      <td>0.465694</td>\n",
       "      <td>-0.154565</td>\n",
       "      <td>0.999970</td>\n",
       "      <td>0.509519</td>\n",
       "      <td>0.479250</td>\n",
       "      <td>-0.135237</td>\n",
       "      <td>0.999945</td>\n",
       "      <td>...</td>\n",
       "      <td>-0.187706</td>\n",
       "      <td>0.993354</td>\n",
       "      <td>0.924881</td>\n",
       "      <td>0.597719</td>\n",
       "      <td>-0.304024</td>\n",
       "      <td>0.996291</td>\n",
       "      <td>0.101837</td>\n",
       "      <td>0.586804</td>\n",
       "      <td>-0.236651</td>\n",
       "      <td>0.989679</td>\n",
       "    </tr>\n",
       "    <tr>\n",
       "      <th>540</th>\n",
       "      <td>yogini-lft.png</td>\n",
       "      <td>yogini-lft</td>\n",
       "      <td>0.750999</td>\n",
       "      <td>0.734025</td>\n",
       "      <td>0.050217</td>\n",
       "      <td>1.000000</td>\n",
       "      <td>0.734617</td>\n",
       "      <td>0.747165</td>\n",
       "      <td>0.082880</td>\n",
       "      <td>1.000000</td>\n",
       "      <td>...</td>\n",
       "      <td>0.004372</td>\n",
       "      <td>0.953845</td>\n",
       "      <td>0.225413</td>\n",
       "      <td>0.585173</td>\n",
       "      <td>0.473995</td>\n",
       "      <td>0.646005</td>\n",
       "      <td>0.272044</td>\n",
       "      <td>0.663684</td>\n",
       "      <td>0.049254</td>\n",
       "      <td>0.949220</td>\n",
       "    </tr>\n",
       "    <tr>\n",
       "      <th>541</th>\n",
       "      <td>yogini-rgt.png</td>\n",
       "      <td>yogini-rgt</td>\n",
       "      <td>0.254569</td>\n",
       "      <td>0.746034</td>\n",
       "      <td>0.185102</td>\n",
       "      <td>0.999985</td>\n",
       "      <td>0.276668</td>\n",
       "      <td>0.755064</td>\n",
       "      <td>0.168699</td>\n",
       "      <td>0.999988</td>\n",
       "      <td>...</td>\n",
       "      <td>0.462144</td>\n",
       "      <td>0.196382</td>\n",
       "      <td>0.693174</td>\n",
       "      <td>0.640098</td>\n",
       "      <td>-0.068871</td>\n",
       "      <td>0.595498</td>\n",
       "      <td>0.770825</td>\n",
       "      <td>0.607928</td>\n",
       "      <td>0.434250</td>\n",
       "      <td>0.176225</td>\n",
       "    </tr>\n",
       "    <tr>\n",
       "      <th>542</th>\n",
       "      <td>yogini-twisted-lft.png</td>\n",
       "      <td>yogini-twisted-lft</td>\n",
       "      <td>0.356109</td>\n",
       "      <td>0.730358</td>\n",
       "      <td>-0.166786</td>\n",
       "      <td>0.999335</td>\n",
       "      <td>0.358961</td>\n",
       "      <td>0.749414</td>\n",
       "      <td>-0.201648</td>\n",
       "      <td>0.998349</td>\n",
       "      <td>...</td>\n",
       "      <td>0.351428</td>\n",
       "      <td>0.970817</td>\n",
       "      <td>0.805866</td>\n",
       "      <td>0.749376</td>\n",
       "      <td>0.061751</td>\n",
       "      <td>0.957399</td>\n",
       "      <td>0.446802</td>\n",
       "      <td>0.130810</td>\n",
       "      <td>0.317473</td>\n",
       "      <td>0.962696</td>\n",
       "    </tr>\n",
       "    <tr>\n",
       "      <th>543</th>\n",
       "      <td>yogini-twisted-rgt.png</td>\n",
       "      <td>yogini-twisted-rgt</td>\n",
       "      <td>0.644864</td>\n",
       "      <td>0.731075</td>\n",
       "      <td>-0.251831</td>\n",
       "      <td>0.998788</td>\n",
       "      <td>0.640746</td>\n",
       "      <td>0.751349</td>\n",
       "      <td>-0.221982</td>\n",
       "      <td>0.995351</td>\n",
       "      <td>...</td>\n",
       "      <td>0.080691</td>\n",
       "      <td>0.839644</td>\n",
       "      <td>0.542495</td>\n",
       "      <td>0.136663</td>\n",
       "      <td>0.246485</td>\n",
       "      <td>0.965350</td>\n",
       "      <td>0.184719</td>\n",
       "      <td>0.763012</td>\n",
       "      <td>0.079781</td>\n",
       "      <td>0.798404</td>\n",
       "    </tr>\n",
       "  </tbody>\n",
       "</table>\n",
       "<p>544 rows × 134 columns</p>\n",
       "</div>"
      ],
      "text/plain": [
       "                       image_filename                     pose_name  \\\n",
       "0         advanced-figurehead-lft.png       advanced-figurehead-lft   \n",
       "1         advanced-figurehead-rgt.png       advanced-figurehead-rgt   \n",
       "2    aerial-leg-hold-crucifix-lft.png  aerial-leg-hold-crucifix-lft   \n",
       "3    aerial-leg-hold-crucifix-rgt.png  aerial-leg-hold-crucifix-rgt   \n",
       "4                    air-walk-lft.png                  air-walk-lft   \n",
       "..                                ...                           ...   \n",
       "539                 wrist-sit-rgt.png                 wrist-sit-rgt   \n",
       "540                    yogini-lft.png                    yogini-lft   \n",
       "541                    yogini-rgt.png                    yogini-rgt   \n",
       "542            yogini-twisted-lft.png            yogini-twisted-lft   \n",
       "543            yogini-twisted-rgt.png            yogini-twisted-rgt   \n",
       "\n",
       "     landmark_00_x  landmark_00_y  landmark_00_z  landmark_00_v  \\\n",
       "0         0.545408       0.740922      -0.407526       0.998032   \n",
       "1         0.436167       0.727007       0.042864       0.994189   \n",
       "2         0.504749       0.819846      -0.839282       0.999996   \n",
       "3         0.499891       0.819526      -0.591090       0.999997   \n",
       "4         0.450799       0.658406      -0.282800       0.999512   \n",
       "..             ...            ...            ...            ...   \n",
       "539       0.506111       0.465694      -0.154565       0.999970   \n",
       "540       0.750999       0.734025       0.050217       1.000000   \n",
       "541       0.254569       0.746034       0.185102       0.999985   \n",
       "542       0.356109       0.730358      -0.166786       0.999335   \n",
       "543       0.644864       0.731075      -0.251831       0.998788   \n",
       "\n",
       "     landmark_01_x  landmark_01_y  landmark_01_z  landmark_01_v  ...  \\\n",
       "0         0.529543       0.728610      -0.377108       0.997484  ...   \n",
       "1         0.451747       0.715195       0.008824       0.993863  ...   \n",
       "2         0.512618       0.833355      -0.803643       0.999990  ...   \n",
       "3         0.509142       0.831985      -0.550916       0.999988  ...   \n",
       "4         0.444959       0.672949      -0.349440       0.999634  ...   \n",
       "..             ...            ...            ...            ...  ...   \n",
       "539       0.509519       0.479250      -0.135237       0.999945  ...   \n",
       "540       0.734617       0.747165       0.082880       1.000000  ...   \n",
       "541       0.276668       0.755064       0.168699       0.999988  ...   \n",
       "542       0.358961       0.749414      -0.201648       0.998349  ...   \n",
       "543       0.640746       0.751349      -0.221982       0.995351  ...   \n",
       "\n",
       "     landmark_30_z  landmark_30_v  landmark_31_x  landmark_31_y  \\\n",
       "0        -0.279319       0.921783       0.178496       0.312144   \n",
       "1         0.386870       0.028072       0.829540       0.318345   \n",
       "2         0.039491       0.902986       0.393930       0.197566   \n",
       "3        -0.077581       0.926418       0.508029       0.222085   \n",
       "4         0.380551       0.849768       0.548799       0.156908   \n",
       "..             ...            ...            ...            ...   \n",
       "539      -0.187706       0.993354       0.924881       0.597719   \n",
       "540       0.004372       0.953845       0.225413       0.585173   \n",
       "541       0.462144       0.196382       0.693174       0.640098   \n",
       "542       0.351428       0.970817       0.805866       0.749376   \n",
       "543       0.080691       0.839644       0.542495       0.136663   \n",
       "\n",
       "     landmark_31_z  landmark_31_v  landmark_32_x  landmark_32_y  \\\n",
       "0         0.396094       0.143073       0.165575       0.312704   \n",
       "1        -0.259552       0.234634       0.822786       0.312651   \n",
       "2        -0.269182       0.987534       0.492710       0.220944   \n",
       "3         0.064188       0.965189       0.594786       0.204845   \n",
       "4        -0.280939       0.903217       0.313885       0.237848   \n",
       "..             ...            ...            ...            ...   \n",
       "539      -0.304024       0.996291       0.101837       0.586804   \n",
       "540       0.473995       0.646005       0.272044       0.663684   \n",
       "541      -0.068871       0.595498       0.770825       0.607928   \n",
       "542       0.061751       0.957399       0.446802       0.130810   \n",
       "543       0.246485       0.965350       0.184719       0.763012   \n",
       "\n",
       "     landmark_32_z  landmark_32_v  \n",
       "0        -0.299426       0.903340  \n",
       "1         0.296422       0.010969  \n",
       "2        -0.184242       0.970091  \n",
       "3        -0.319720       0.984336  \n",
       "4         0.190190       0.823446  \n",
       "..             ...            ...  \n",
       "539      -0.236651       0.989679  \n",
       "540       0.049254       0.949220  \n",
       "541       0.434250       0.176225  \n",
       "542       0.317473       0.962696  \n",
       "543       0.079781       0.798404  \n",
       "\n",
       "[544 rows x 134 columns]"
      ]
     },
     "execution_count": 25,
     "metadata": {},
     "output_type": "execute_result"
    }
   ],
   "source": [
    "for column in data.columns:\n",
    "    if column.endswith('_y'):\n",
    "        data[column] = 1 - data[column]\n",
    "data"
   ]
  },
  {
   "cell_type": "markdown",
   "id": "b344d601-9c1d-4551-a141-700943723ec0",
   "metadata": {},
   "source": [
    "## Rotation Matrix Implementation (Manual)\n",
    "\n",
    "In the code below we illustrate how the rotation matrix is implemented and manually applied per selected landmark.\n",
    "\n",
    "### Choose Pole Stunt Class by Index"
   ]
  },
  {
   "cell_type": "code",
   "execution_count": 59,
   "id": "dd220391-994e-4fa7-994a-fe5c1b4790fe",
   "metadata": {},
   "outputs": [
    {
     "data": {
      "text/plain": [
       "<matplotlib.image.AxesImage at 0x11c9cdf10>"
      ]
     },
     "execution_count": 59,
     "metadata": {},
     "output_type": "execute_result"
    },
    {
     "data": {
      "image/png": "[encoded data removed]",
      "text/plain": [
       "<Figure size 640x480 with 1 Axes>"
      ]
     },
     "metadata": {},
     "output_type": "display_data"
    }
   ],
   "source": [
    "from PIL import Image\n",
    "import matplotlib.pyplot as plt\n",
    "\n",
    "idx = 543 ## Select Reference by Index No.\n",
    "\n",
    "source_image_dir = 'dataset/annotated/'\n",
    "ref_image = Image.open(source_image_dir + data['image_filename'][idx])\n",
    "plt.imshow(ref_image)"
   ]
  },
  {
   "cell_type": "code",
   "execution_count": 61,
   "id": "d02bed1e-ed15-4819-887e-0bb91cb8be5f",
   "metadata": {},
   "outputs": [],
   "source": [
    "import numpy as np\n",
    "import math\n",
    "\n",
    "def rotation_matrix_per_angle(axis, theta):\n",
    "    axis = np.asarray(axis)\n",
    "    axis = axis / math.sqrt(np.dot(axis, axis))\n",
    "    a = math.cos(theta / 2.0)\n",
    "    b, c, d = -axis * math.sin(theta / 2.0)\n",
    "    aa, bb, cc, dd = a * a, b * b, c * c, d * d\n",
    "    bc, ad, ac, ab, bd, cd = b * c, a * d, a * c, a * b, b * d, c * d\n",
    "    return np.array([[aa + bb - cc - dd, 2 * (bc + ad), 2 * (bd - ac)],\n",
    "                     [2 * (bc - ad), aa + cc - bb - dd, 2 * (cd + ab)],\n",
    "                     [2 * (bd + ac), 2 * (cd - ab), aa + dd - bb - cc]])\n",
    "\n",
    "def rotation_matrix_360(v, axis, angle_increment, full_circle=360):\n",
    "    rotated_vectors = []\n",
    "    for angle in np.arange(0, full_circle + 10, angle_increment):\n",
    "        theta = -np.radians(angle)\n",
    "        rot_matrix = rotation_matrix_per_angle(axis, theta)\n",
    "        rotated_v = np.dot(rot_matrix, v)\n",
    "        rotated_vectors.append(rotated_v)\n",
    "        \n",
    "    if np.allclose(rotated_vectors[0], rotated_vectors[-1], atol=1e-6):\n",
    "        return rotated_vectors\n",
    "    else:\n",
    "        return None\n",
    "\n",
    "# Nose Landmark\n",
    "x0 = data['landmark_00_x'][idx]\n",
    "y0 = data['landmark_00_y'][idx] \n",
    "z0 = data['landmark_00_z'][idx]\n",
    "\n",
    "# Right Shoulder and Left Shoulders\n",
    "x11 = data['landmark_11_x'][idx]  \n",
    "y11 = data['landmark_11_y'][idx]  \n",
    "z11 = data['landmark_11_z'][idx]\n",
    "x12 = data['landmark_12_x'][idx] \n",
    "y12 = data['landmark_12_y'][idx]\n",
    "z12 = data['landmark_12_z'][idx]\n",
    "\n",
    "# Right Shoulder and Left Elbows\n",
    "x13 = data['landmark_13_x'][idx]  \n",
    "y13 = data['landmark_13_y'][idx]\n",
    "z13 = data['landmark_13_z'][idx]\n",
    "x14 = data['landmark_14_x'][idx]\n",
    "y14 = data['landmark_14_y'][idx]\n",
    "z14 = data['landmark_14_z'][idx]\n",
    "\n",
    "# Right Shoulder and Left Wrists\n",
    "x15 = data['landmark_15_x'][idx]  \n",
    "y15 = data['landmark_15_y'][idx]  \n",
    "z15 = data['landmark_15_z'][idx]\n",
    "x16 = data['landmark_16_x'][idx] \n",
    "y16 = data['landmark_16_y'][idx]\n",
    "z16 = data['landmark_16_z'][idx]\n",
    "\n",
    "# Right and Left Hips\n",
    "x23 = data['landmark_23_x'][idx]  \n",
    "y23 = data['landmark_23_y'][idx]  \n",
    "z23 = data['landmark_23_z'][idx]\n",
    "x24 = data['landmark_24_x'][idx] \n",
    "y24 = data['landmark_24_y'][idx]\n",
    "z24 = data['landmark_24_z'][idx]\n",
    "\n",
    "# Right and Left Knees\n",
    "x25 = data['landmark_25_x'][idx]  \n",
    "y25 = data['landmark_25_y'][idx] \n",
    "z25 = data['landmark_25_z'][idx]\n",
    "x26 = data['landmark_26_x'][idx] \n",
    "y26 = data['landmark_26_y'][idx]\n",
    "z26 = data['landmark_26_z'][idx]\n",
    "\n",
    "# Right and Left Ankles\n",
    "x27 = data['landmark_27_x'][idx]  \n",
    "y27 = data['landmark_27_y'][idx]  \n",
    "z27 = data['landmark_27_z'][idx]\n",
    "x28 = data['landmark_28_x'][idx] \n",
    "y28 = data['landmark_28_y'][idx]\n",
    "z28 = data['landmark_28_z'][idx]\n",
    "\n",
    "\n",
    "# Original Vectors\n",
    "v0 = np.asarray([x0, y0, z0])\n",
    "\n",
    "v11 = np.asarray([x11, y11, z11])\n",
    "v12 = np.asarray([x12, y12, z12])\n",
    "v13 = np.asarray([x13, y13, z13])\n",
    "v14 = np.asarray([x14, y14, z14])\n",
    "v15 = np.asarray([x15, y15, z15])\n",
    "v16 = np.asarray([x16, y16, z16])\n",
    "\n",
    "v23 = np.asarray([x23, y23, z23])\n",
    "v24 = np.asarray([x24, y24, z24])\n",
    "v25 = np.asarray([x25, y25, z25])\n",
    "v26 = np.asarray([x26, y26, z26])\n",
    "v27 = np.asarray([x27, y27, z27])\n",
    "v28 = np.asarray([x28, y28, z28])\n",
    "\n",
    "\n",
    "axis = [0, 1, 0]\n",
    "angle_increment = 10 \n",
    "\n",
    "rv0 = rotation_matrix_360(v0, axis, angle_increment)\n",
    "rv11 = rotation_matrix_360(v11, axis, angle_increment)\n",
    "rv12 = rotation_matrix_360(v12, axis, angle_increment)\n",
    "rv13 = rotation_matrix_360(v13, axis, angle_increment)\n",
    "rv14 = rotation_matrix_360(v14, axis, angle_increment)\n",
    "rv15 = rotation_matrix_360(v15, axis, angle_increment)\n",
    "rv16 = rotation_matrix_360(v16, axis, angle_increment)\n",
    "\n",
    "rv23 = rotation_matrix_360(v23, axis, angle_increment)\n",
    "rv24 = rotation_matrix_360(v24, axis, angle_increment)\n",
    "rv25 = rotation_matrix_360(v25, axis, angle_increment)\n",
    "rv26 = rotation_matrix_360(v26, axis, angle_increment)\n",
    "rv27 = rotation_matrix_360(v27, axis, angle_increment)\n",
    "rv28 = rotation_matrix_360(v28, axis, angle_increment)"
   ]
  },
  {
   "cell_type": "markdown",
   "id": "1390a500-7146-4bbe-bc03-752a9f95dafc",
   "metadata": {},
   "source": [
    "### Visualize Results 360"
   ]
  },
  {
   "cell_type": "code",
   "execution_count": 62,
   "id": "4e7d9e9c-79f1-4a43-a0e7-c2ffaa2809a0",
   "metadata": {},
   "outputs": [
    {
     "data": {
      "application/vnd.plotly.v1+json": {
       "config": {
        "plotlyServerURL": "https://plot.ly"
       },
       "data": [
        {
         "marker": {
          "color": "black",
          "size": 5
         },
         "mode": "markers",
         "type": "scatter3d",
         "x": [
          0.6448638439178466
         ],
         "y": [
          0.7310750484466553
         ],
         "z": [
          -0.25183093547821056
         ]
        },
        {
         "marker": {
          "color": "magenta",
          "size": 5
         },
         "mode": "markers",
         "type": "scatter3d",
         "x": [
          0.5462579131126404
         ],
         "y": [
          0.681035578250885
         ],
         "z": [
          0.06766521930694566
         ]
        },
        {
         "marker": {
          "color": "lime",
          "size": 5
         },
         "mode": "markers",
         "type": "scatter3d",
         "x": [
          0.511048674583435
         ],
         "y": [
          0.7210554480552673
         ],
         "z": [
          -0.4360538125038148
         ]
        },
        {
         "marker": {
          "color": "magenta",
          "size": 5
         },
         "mode": "markers",
         "type": "scatter3d",
         "x": [
          0.47676047682762146
         ],
         "y": [
          0.5689667463302612
         ],
         "z": [
          0.14839129149913768
         ]
        },
        {
         "marker": {
          "color": "lime",
          "size": 5
         },
         "mode": "markers",
         "type": "scatter3d",
         "x": [
          0.3659592866897582
         ],
         "y": [
          0.7485448718070984
         ],
         "z": [
          -0.4937730729579926
         ]
        },
        {
         "marker": {
          "color": "magenta",
          "size": 5
         },
         "mode": "markers",
         "type": "scatter3d",
         "x": [
          0.4698794186115265
         ],
         "y": [
          0.45635342597961426
         ],
         "z": [
          0.030750920996069787
         ]
        },
        {
         "marker": {
          "color": "lime",
          "size": 5
         },
         "mode": "markers",
         "type": "scatter3d",
         "x": [
          0.23497183620929699
         ],
         "y": [
          0.7782798409461975
         ],
         "z": [
          -0.49504995346069336
         ]
        },
        {
         "marker": {
          "color": "magenta",
          "size": 5
         },
         "mode": "markers",
         "type": "scatter3d",
         "x": [
          0.40711498260498047
         ],
         "y": [
          0.48656904697418213
         ],
         "z": [
          0.13896483182907088
         ]
        },
        {
         "marker": {
          "color": "lime",
          "size": 5
         },
         "mode": "markers",
         "type": "scatter3d",
         "x": [
          0.35239589214324946
         ],
         "y": [
          0.51717808842659
         ],
         "z": [
          -0.13923332095146188
         ]
        },
        {
         "marker": {
          "color": "magenta",
          "size": 5
         },
         "mode": "markers",
         "type": "scatter3d",
         "x": [
          0.526343584060669
         ],
         "y": [
          0.4093383550643921
         ],
         "z": [
          0.16054640710353837
         ]
        },
        {
         "marker": {
          "color": "lime",
          "size": 5
         },
         "mode": "markers",
         "type": "scatter3d",
         "x": [
          0.14452323317527765
         ],
         "y": [
          0.4870809316635132
         ],
         "z": [
          -0.23046898841857913
         ]
        },
        {
         "marker": {
          "color": "magenta",
          "size": 5
         },
         "mode": "markers",
         "type": "scatter3d",
         "x": [
          0.5213912129402162
         ],
         "y": [
          0.223577618598938
         ],
         "z": [
          0.2982233762741088
         ]
        },
        {
         "marker": {
          "color": "lime",
          "size": 5
         },
         "mode": "markers",
         "type": "scatter3d",
         "x": [
          0.1881858557462692
         ],
         "y": [
          0.6924864947795868
         ],
         "z": [
          0.04844591394066805
         ]
        },
        {
         "line": {
          "color": "silver",
          "width": 5
         },
         "mode": "lines",
         "type": "scatter3d",
         "x": [
          0.5462579131126404,
          0.511048674583435,
          0.35239589214324946,
          0.40711498260498047,
          0.5462579131126404
         ],
         "y": [
          0.681035578250885,
          0.7210554480552673,
          0.51717808842659,
          0.48656904697418213,
          0.681035578250885
         ],
         "z": [
          0.06766521930694566,
          -0.4360538125038148,
          -0.13923332095146188,
          0.13896483182907088,
          0.06766521930694566
         ]
        },
        {
         "line": {
          "color": "silver",
          "width": 5
         },
         "mode": "lines",
         "type": "scatter3d",
         "x": [
          0.5462579131126404,
          0.47676047682762146
         ],
         "y": [
          0.681035578250885,
          0.5689667463302612
         ],
         "z": [
          0.06766521930694566,
          0.14839129149913768
         ]
        },
        {
         "line": {
          "color": "silver",
          "width": 5
         },
         "mode": "lines",
         "type": "scatter3d",
         "x": [
          0.4698794186115265,
          0.47676047682762146
         ],
         "y": [
          0.45635342597961426,
          0.5689667463302612
         ],
         "z": [
          0.030750920996069787,
          0.14839129149913768
         ]
        },
        {
         "line": {
          "color": "silver",
          "width": 5
         },
         "mode": "lines",
         "type": "scatter3d",
         "x": [
          0.511048674583435,
          0.3659592866897582
         ],
         "y": [
          0.7210554480552673,
          0.7485448718070984
         ],
         "z": [
          -0.4360538125038148,
          -0.4937730729579926
         ]
        },
        {
         "line": {
          "color": "silver",
          "width": 5
         },
         "mode": "lines",
         "type": "scatter3d",
         "x": [
          0.23497183620929699,
          0.3659592866897582
         ],
         "y": [
          0.7782798409461975,
          0.7485448718070984
         ],
         "z": [
          -0.49504995346069336,
          -0.4937730729579926
         ]
        },
        {
         "line": {
          "color": "silver",
          "width": 5
         },
         "mode": "lines",
         "type": "scatter3d",
         "x": [
          0.40711498260498047,
          0.526343584060669
         ],
         "y": [
          0.48656904697418213,
          0.4093383550643921
         ],
         "z": [
          0.13896483182907088,
          0.16054640710353837
         ]
        },
        {
         "line": {
          "color": "silver",
          "width": 5
         },
         "mode": "lines",
         "type": "scatter3d",
         "x": [
          0.5213912129402162,
          0.526343584060669
         ],
         "y": [
          0.223577618598938,
          0.4093383550643921
         ],
         "z": [
          0.2982233762741088,
          0.16054640710353837
         ]
        },
        {
         "line": {
          "color": "silver",
          "width": 5
         },
         "mode": "lines",
         "type": "scatter3d",
         "x": [
          0.35239589214324946,
          0.14452323317527765
         ],
         "y": [
          0.51717808842659,
          0.4870809316635132
         ],
         "z": [
          -0.13923332095146188,
          -0.23046898841857913
         ]
        },
        {
         "line": {
          "color": "silver",
          "width": 5
         },
         "mode": "lines",
         "type": "scatter3d",
         "x": [
          0.1881858557462692,
          0.14452323317527765
         ],
         "y": [
          0.6924864947795868,
          0.4870809316635132
         ],
         "z": [
          0.04844591394066805,
          -0.23046898841857913
         ]
        },
        {
         "line": {
          "color": "red",
          "dash": "dash",
          "width": 2
         },
         "mode": "lines",
         "name": "X axis",
         "type": "scatter3d",
         "x": [
          -1,
          1
         ],
         "y": [
          0,
          0
         ],
         "z": [
          0,
          0
         ]
        },
        {
         "line": {
          "color": "green",
          "dash": "dash",
          "width": 2
         },
         "mode": "lines",
         "name": "Y axis",
         "type": "scatter3d",
         "x": [
          0,
          0
         ],
         "y": [
          0,
          1
         ],
         "z": [
          0,
          0
         ]
        },
        {
         "line": {
          "color": "blue",
          "dash": "dash",
          "width": 2
         },
         "mode": "lines",
         "name": "Z axis",
         "type": "scatter3d",
         "x": [
          0,
          0
         ],
         "y": [
          0,
          0
         ],
         "z": [
          -2,
          2
         ]
        }
       ],
       "frames": [
        {
         "data": [
          {
           "marker": {
            "color": "black",
            "size": 5
           },
           "mode": "markers",
           "type": "scatter3d",
           "x": [
            0.6448638439178467
           ],
           "y": [
            0.7310750484466553
           ],
           "z": [
            -0.2518309354782104
           ]
          },
          {
           "marker": {
            "color": "magenta",
            "size": 5
           },
           "mode": "markers",
           "type": "scatter3d",
           "x": [
            0.5462579131126404
           ],
           "y": [
            0.681035578250885
           ],
           "z": [
            0.0676652193069458
           ]
          },
          {
           "marker": {
            "color": "lime",
            "size": 5
           },
           "mode": "markers",
           "type": "scatter3d",
           "x": [
            0.5110486745834351
           ],
           "y": [
            0.7210554480552673
           ],
           "z": [
            -0.4360538125038147
           ]
          },
          {
           "marker": {
            "color": "magenta",
            "size": 5
           },
           "mode": "markers",
           "type": "scatter3d",
           "x": [
            0.4767604768276214
           ],
           "y": [
            0.5689667463302612
           ],
           "z": [
            0.1483912914991378
           ]
          },
          {
           "marker": {
            "color": "lime",
            "size": 5
           },
           "mode": "markers",
           "type": "scatter3d",
           "x": [
            0.3659592866897583
           ],
           "y": [
            0.7485448718070984
           ],
           "z": [
            -0.4937730729579925
           ]
          },
          {
           "marker": {
            "color": "magenta",
            "size": 5
           },
           "mode": "markers",
           "type": "scatter3d",
           "x": [
            0.4698794186115265
           ],
           "y": [
            0.45635342597961426
           ],
           "z": [
            0.0307509209960699
           ]
          },
          {
           "marker": {
            "color": "lime",
            "size": 5
           },
           "mode": "markers",
           "type": "scatter3d",
           "x": [
            0.2349718362092971
           ],
           "y": [
            0.7782798409461975
           ],
           "z": [
            -0.4950499534606933
           ]
          },
          {
           "marker": {
            "color": "magenta",
            "size": 5
           },
           "mode": "markers",
           "type": "scatter3d",
           "x": [
            0.4071149826049804
           ],
           "y": [
            0.48656904697418213
           ],
           "z": [
            0.138964831829071
           ]
          },
          {
           "marker": {
            "color": "lime",
            "size": 5
           },
           "mode": "markers",
           "type": "scatter3d",
           "x": [
            0.3523958921432495
           ],
           "y": [
            0.51717808842659
           ],
           "z": [
            -0.1392333209514618
           ]
          },
          {
           "marker": {
            "color": "magenta",
            "size": 5
           },
           "mode": "markers",
           "type": "scatter3d",
           "x": [
            0.526343584060669
           ],
           "y": [
            0.4093383550643921
           ],
           "z": [
            0.1605464071035385
           ]
          },
          {
           "marker": {
            "color": "lime",
            "size": 5
           },
           "mode": "markers",
           "type": "scatter3d",
           "x": [
            0.1445232331752777
           ],
           "y": [
            0.4870809316635132
           ],
           "z": [
            -0.2304689884185791
           ]
          },
          {
           "marker": {
            "color": "magenta",
            "size": 5
           },
           "mode": "markers",
           "type": "scatter3d",
           "x": [
            0.5213912129402161
           ],
           "y": [
            0.223577618598938
           ],
           "z": [
            0.2982233762741089
           ]
          },
          {
           "marker": {
            "color": "lime",
            "size": 5
           },
           "mode": "markers",
           "type": "scatter3d",
           "x": [
            0.1881858557462692
           ],
           "y": [
            0.6924864947795868
           ],
           "z": [
            0.0484459139406681
           ]
          },
          {
           "line": {
            "color": "silver",
            "width": 5
           },
           "mode": "lines",
           "type": "scatter3d",
           "x": [
            0.5462579131126404,
            0.5110486745834351,
            0.3523958921432495,
            0.4071149826049804,
            0.5462579131126404
           ],
           "y": [
            0.681035578250885,
            0.7210554480552673,
            0.51717808842659,
            0.48656904697418213,
            0.681035578250885
           ],
           "z": [
            0.0676652193069458,
            -0.4360538125038147,
            -0.1392333209514618,
            0.138964831829071,
            0.0676652193069458
           ]
          },
          {
           "line": {
            "color": "silver",
            "width": 5
           },
           "mode": "lines",
           "type": "scatter3d",
           "x": [
            0.5462579131126404,
            0.4767604768276214
           ],
           "y": [
            0.681035578250885,
            0.5689667463302612
           ],
           "z": [
            0.0676652193069458,
            0.1483912914991378
           ]
          },
          {
           "line": {
            "color": "silver",
            "width": 5
           },
           "mode": "lines",
           "type": "scatter3d",
           "x": [
            0.4698794186115265,
            0.4767604768276214
           ],
           "y": [
            0.45635342597961426,
            0.5689667463302612
           ],
           "z": [
            0.0307509209960699,
            0.1483912914991378
           ]
          },
          {
           "line": {
            "color": "silver",
            "width": 5
           },
           "mode": "lines",
           "type": "scatter3d",
           "x": [
            0.5110486745834351,
            0.3659592866897583
           ],
           "y": [
            0.7210554480552673,
            0.7485448718070984
           ],
           "z": [
            -0.4360538125038147,
            -0.4937730729579925
           ]
          },
          {
           "line": {
            "color": "silver",
            "width": 5
           },
           "mode": "lines",
           "type": "scatter3d",
           "x": [
            0.2349718362092971,
            0.3659592866897583
           ],
           "y": [
            0.7782798409461975,
            0.7485448718070984
           ],
           "z": [
            -0.4950499534606933,
            -0.4937730729579925
           ]
          },
          {
           "line": {
            "color": "silver",
            "width": 5
           },
           "mode": "lines",
           "type": "scatter3d",
           "x": [
            0.4071149826049804,
            0.526343584060669
           ],
           "y": [
            0.48656904697418213,
            0.4093383550643921
           ],
           "z": [
            0.138964831829071,
            0.1605464071035385
           ]
          },
          {
           "line": {
            "color": "silver",
            "width": 5
           },
           "mode": "lines",
           "type": "scatter3d",
           "x": [
            0.5213912129402161,
            0.526343584060669
           ],
           "y": [
            0.223577618598938,
            0.4093383550643921
           ],
           "z": [
            0.2982233762741089,
            0.1605464071035385
           ]
          },
          {
           "line": {
            "color": "silver",
            "width": 5
           },
           "mode": "lines",
           "type": "scatter3d",
           "x": [
            0.3523958921432495,
            0.1445232331752777
           ],
           "y": [
            0.51717808842659,
            0.4870809316635132
           ],
           "z": [
            -0.1392333209514618,
            -0.2304689884185791
           ]
          },
          {
           "line": {
            "color": "silver",
            "width": 5
           },
           "mode": "lines",
           "type": "scatter3d",
           "x": [
            0.1881858557462692,
            0.1445232331752777
           ],
           "y": [
            0.6924864947795868,
            0.4870809316635132
           ],
           "z": [
            0.0484459139406681,
            -0.2304689884185791
           ]
          }
         ],
         "name": "frame0"
        },
        {
         "data": [
          {
           "marker": {
            "color": "black",
            "size": 5
           },
           "mode": "markers",
           "type": "scatter3d",
           "x": [
            0.6787968961534995
           ],
           "y": [
            0.7310750484466553
           ],
           "z": [
            -0.13602562636763288
           ]
          },
          {
           "marker": {
            "color": "magenta",
            "size": 5
           },
           "mode": "markers",
           "type": "scatter3d",
           "x": [
            0.5262090859535131
           ],
           "y": [
            0.681035578250885
           ],
           "z": [
            0.16149392373090193
           ]
          },
          {
           "marker": {
            "color": "lime",
            "size": 5
           },
           "mode": "markers",
           "type": "scatter3d",
           "x": [
            0.5790046468023846
           ],
           "y": [
            0.7210554480552673
           ],
           "z": [
            -0.3406865042437749
           ]
          },
          {
           "marker": {
            "color": "magenta",
            "size": 5
           },
           "mode": "markers",
           "type": "scatter3d",
           "x": [
            0.4437495365591712
           ],
           "y": [
            0.5689667463302612
           ],
           "z": [
            0.2289254823325787
           ]
          },
          {
           "marker": {
            "color": "lime",
            "size": 5
           },
           "mode": "markers",
           "type": "scatter3d",
           "x": [
            0.446142337119047
           ],
           "y": [
            0.7485448718070984
           ],
           "z": [
            -0.4227233872437275
           ]
          },
          {
           "marker": {
            "color": "magenta",
            "size": 5
           },
           "mode": "markers",
           "type": "scatter3d",
           "x": [
            0.45740105303695283
           ],
           "y": [
            0.45635342597961426
           ],
           "z": [
            0.11187745017428383
           ]
          },
          {
           "marker": {
            "color": "lime",
            "size": 5
           },
           "mode": "markers",
           "type": "scatter3d",
           "x": [
            0.31736660831097857
           ],
           "y": [
            0.7782798409461975
           ],
           "z": [
            -0.4467266011356267
           ]
          },
          {
           "marker": {
            "color": "magenta",
            "size": 5
           },
           "mode": "markers",
           "type": "scatter3d",
           "x": [
            0.3767990014299053
           ],
           "y": [
            0.48656904697418213
           ],
           "z": [
            0.2075484186115657
           ]
          },
          {
           "marker": {
            "color": "lime",
            "size": 5
           },
           "mode": "markers",
           "type": "scatter3d",
           "x": [
            0.37121981916606217
           ],
           "y": [
            0.51717808842659
           ],
           "z": [
            -0.07592514946264929
           ]
          },
          {
           "marker": {
            "color": "magenta",
            "size": 5
           },
           "mode": "markers",
           "type": "scatter3d",
           "x": [
            0.4904686513066771
           ],
           "y": [
            0.4093383550643921
           ],
           "z": [
            0.24950595063263487
           ]
          },
          {
           "marker": {
            "color": "lime",
            "size": 5
           },
           "mode": "markers",
           "type": "scatter3d",
           "x": [
            0.1823481203690318
           ],
           "y": [
            0.4870809316635132
           ],
           "z": [
            -0.20187145055207767
           ]
          },
          {
           "marker": {
            "color": "magenta",
            "size": 5
           },
           "mode": "markers",
           "type": "scatter3d",
           "x": [
            0.46168416302828563
           ],
           "y": [
            0.223577618598938
           ],
           "z": [
            0.38423132706283836
           ]
          },
          {
           "marker": {
            "color": "lime",
            "size": 5
           },
           "mode": "markers",
           "type": "scatter3d",
           "x": [
            0.17691434507495696
           ],
           "y": [
            0.6924864947795868
           ],
           "z": [
            0.08038804256356363
           ]
          },
          {
           "line": {
            "color": "silver",
            "width": 5
           },
           "mode": "lines",
           "type": "scatter3d",
           "x": [
            0.5262090859535131,
            0.5790046468023846,
            0.37121981916606217,
            0.3767990014299053,
            0.5262090859535131
           ],
           "y": [
            0.681035578250885,
            0.7210554480552673,
            0.51717808842659,
            0.48656904697418213,
            0.681035578250885
           ],
           "z": [
            0.16149392373090193,
            -0.3406865042437749,
            -0.07592514946264929,
            0.2075484186115657,
            0.16149392373090193
           ]
          },
          {
           "line": {
            "color": "silver",
            "width": 5
           },
           "mode": "lines",
           "type": "scatter3d",
           "x": [
            0.5262090859535131,
            0.4437495365591712
           ],
           "y": [
            0.681035578250885,
            0.5689667463302612
           ],
           "z": [
            0.16149392373090193,
            0.2289254823325787
           ]
          },
          {
           "line": {
            "color": "silver",
            "width": 5
           },
           "mode": "lines",
           "type": "scatter3d",
           "x": [
            0.45740105303695283,
            0.4437495365591712
           ],
           "y": [
            0.45635342597961426,
            0.5689667463302612
           ],
           "z": [
            0.11187745017428383,
            0.2289254823325787
           ]
          },
          {
           "line": {
            "color": "silver",
            "width": 5
           },
           "mode": "lines",
           "type": "scatter3d",
           "x": [
            0.5790046468023846,
            0.446142337119047
           ],
           "y": [
            0.7210554480552673,
            0.7485448718070984
           ],
           "z": [
            -0.3406865042437749,
            -0.4227233872437275
           ]
          },
          {
           "line": {
            "color": "silver",
            "width": 5
           },
           "mode": "lines",
           "type": "scatter3d",
           "x": [
            0.31736660831097857,
            0.446142337119047
           ],
           "y": [
            0.7782798409461975,
            0.7485448718070984
           ],
           "z": [
            -0.4467266011356267,
            -0.4227233872437275
           ]
          },
          {
           "line": {
            "color": "silver",
            "width": 5
           },
           "mode": "lines",
           "type": "scatter3d",
           "x": [
            0.3767990014299053,
            0.4904686513066771
           ],
           "y": [
            0.48656904697418213,
            0.4093383550643921
           ],
           "z": [
            0.2075484186115657,
            0.24950595063263487
           ]
          },
          {
           "line": {
            "color": "silver",
            "width": 5
           },
           "mode": "lines",
           "type": "scatter3d",
           "x": [
            0.46168416302828563,
            0.4904686513066771
           ],
           "y": [
            0.223577618598938,
            0.4093383550643921
           ],
           "z": [
            0.38423132706283836,
            0.24950595063263487
           ]
          },
          {
           "line": {
            "color": "silver",
            "width": 5
           },
           "mode": "lines",
           "type": "scatter3d",
           "x": [
            0.37121981916606217,
            0.1823481203690318
           ],
           "y": [
            0.51717808842659,
            0.4870809316635132
           ],
           "z": [
            -0.07592514946264929,
            -0.20187145055207767
           ]
          },
          {
           "line": {
            "color": "silver",
            "width": 5
           },
           "mode": "lines",
           "type": "scatter3d",
           "x": [
            0.17691434507495696,
            0.1823481203690318
           ],
           "y": [
            0.6924864947795868,
            0.4870809316635132
           ],
           "z": [
            0.08038804256356363,
            -0.20187145055207767
           ]
          }
         ],
         "name": "frame1"
        },
        {
         "data": [
          {
           "marker": {
            "color": "black",
            "size": 5
           },
           "mode": "markers",
           "type": "scatter3d",
           "x": [
            0.6921050481873311
           ],
           "y": [
            0.7310750484466552
           ],
           "z": [
            -0.016087247432162943
           ]
          },
          {
           "marker": {
            "color": "magenta",
            "size": 5
           },
           "mode": "markers",
           "type": "scatter3d",
           "x": [
            0.4901716619923336
           ],
           "y": [
            0.6810355782508849
           ],
           "z": [
            0.25041571700216303
           ]
          },
          {
           "marker": {
            "color": "lime",
            "size": 5
           },
           "mode": "markers",
           "type": "scatter3d",
           "x": [
            0.6293678558187319
           ],
           "y": [
            0.7210554480552672
           ],
           "z": [
            -0.23496760894797727
           ]
          },
          {
           "marker": {
            "color": "magenta",
            "size": 5
           },
           "mode": "markers",
           "type": "scatter3d",
           "x": [
            0.39725549117047065
           ],
           "y": [
            0.5689667463302611
           ],
           "z": [
            0.3025038882272277
           ]
          },
          {
           "marker": {
            "color": "lime",
            "size": 5
           },
           "mode": "markers",
           "type": "scatter3d",
           "x": [
            0.512769578393889
           ],
           "y": [
            0.7485448718070983
           ],
           "z": [
            -0.3388294653164169
           ]
          },
          {
           "marker": {
            "color": "magenta",
            "size": 5
           },
           "mode": "markers",
           "type": "scatter3d",
           "x": [
            0.4310247879219521
           ],
           "y": [
            0.4563534259796142
           ],
           "z": [
            0.1896046396416735
           ]
          },
          {
           "marker": {
            "color": "lime",
            "size": 5
           },
           "mode": "markers",
           "type": "scatter3d",
           "x": [
            0.39011835661438354
           ],
           "y": [
            0.7782798409461974
           ],
           "z": [
            -0.3848296870896215
           ]
          },
          {
           "marker": {
            "color": "magenta",
            "size": 5
           },
           "mode": "markers",
           "type": "scatter3d",
           "x": [
            0.33503417326587726
           ],
           "y": [
            0.4865690469741821
           ],
           "z": [
            0.26982575171911527
           ]
          },
          {
           "marker": {
            "color": "lime",
            "size": 5
           },
           "mode": "markers",
           "type": "scatter3d",
           "x": [
            0.3787644198298062
           ],
           "y": [
            0.5171780884265899
           ],
           "z": [
            -0.010310030727393588
           ]
          },
          {
           "marker": {
            "color": "magenta",
            "size": 5
           },
           "mode": "markers",
           "type": "scatter3d",
           "x": [
            0.43969107677184466
           ],
           "y": [
            0.40933835506439203
           ],
           "z": [
            0.3308843821078616
           ]
          },
          {
           "marker": {
            "color": "lime",
            "size": 5
           },
           "mode": "markers",
           "type": "scatter3d",
           "x": [
            0.21463245219797394
           ],
           "y": [
            0.48708093166351313
           ],
           "z": [
            -0.16714015081243422
           ]
          },
          {
           "marker": {
            "color": "magenta",
            "size": 5
           },
           "mode": "markers",
           "type": "scatter3d",
           "x": [
            0.3879490734461997
           ],
           "y": [
            0.22357761859893796
           ],
           "z": [
            0.45856460340919636
           ]
          },
          {
           "marker": {
            "color": "lime",
            "size": 5
           },
           "mode": "markers",
           "type": "scatter3d",
           "x": [
            0.16026738155152026
           ],
           "y": [
            0.6924864947795867
           ],
           "z": [
            0.10988762119147757
           ]
          },
          {
           "line": {
            "color": "silver",
            "width": 5
           },
           "mode": "lines",
           "type": "scatter3d",
           "x": [
            0.4901716619923336,
            0.6293678558187319,
            0.3787644198298062,
            0.33503417326587726,
            0.4901716619923336
           ],
           "y": [
            0.6810355782508849,
            0.7210554480552672,
            0.5171780884265899,
            0.4865690469741821,
            0.6810355782508849
           ],
           "z": [
            0.25041571700216303,
            -0.23496760894797727,
            -0.010310030727393588,
            0.26982575171911527,
            0.25041571700216303
           ]
          },
          {
           "line": {
            "color": "silver",
            "width": 5
           },
           "mode": "lines",
           "type": "scatter3d",
           "x": [
            0.4901716619923336,
            0.39725549117047065
           ],
           "y": [
            0.6810355782508849,
            0.5689667463302611
           ],
           "z": [
            0.25041571700216303,
            0.3025038882272277
           ]
          },
          {
           "line": {
            "color": "silver",
            "width": 5
           },
           "mode": "lines",
           "type": "scatter3d",
           "x": [
            0.4310247879219521,
            0.39725549117047065
           ],
           "y": [
            0.4563534259796142,
            0.5689667463302611
           ],
           "z": [
            0.1896046396416735,
            0.3025038882272277
           ]
          },
          {
           "line": {
            "color": "silver",
            "width": 5
           },
           "mode": "lines",
           "type": "scatter3d",
           "x": [
            0.6293678558187319,
            0.512769578393889
           ],
           "y": [
            0.7210554480552672,
            0.7485448718070983
           ],
           "z": [
            -0.23496760894797727,
            -0.3388294653164169
           ]
          },
          {
           "line": {
            "color": "silver",
            "width": 5
           },
           "mode": "lines",
           "type": "scatter3d",
           "x": [
            0.39011835661438354,
            0.512769578393889
           ],
           "y": [
            0.7782798409461974,
            0.7485448718070983
           ],
           "z": [
            -0.3848296870896215,
            -0.3388294653164169
           ]
          },
          {
           "line": {
            "color": "silver",
            "width": 5
           },
           "mode": "lines",
           "type": "scatter3d",
           "x": [
            0.33503417326587726,
            0.43969107677184466
           ],
           "y": [
            0.4865690469741821,
            0.40933835506439203
           ],
           "z": [
            0.26982575171911527,
            0.3308843821078616
           ]
          },
          {
           "line": {
            "color": "silver",
            "width": 5
           },
           "mode": "lines",
           "type": "scatter3d",
           "x": [
            0.3879490734461997,
            0.43969107677184466
           ],
           "y": [
            0.22357761859893796,
            0.40933835506439203
           ],
           "z": [
            0.45856460340919636,
            0.3308843821078616
           ]
          },
          {
           "line": {
            "color": "silver",
            "width": 5
           },
           "mode": "lines",
           "type": "scatter3d",
           "x": [
            0.3787644198298062,
            0.21463245219797394
           ],
           "y": [
            0.5171780884265899,
            0.48708093166351313
           ],
           "z": [
            -0.010310030727393588,
            -0.16714015081243422
           ]
          },
          {
           "line": {
            "color": "silver",
            "width": 5
           },
           "mode": "lines",
           "type": "scatter3d",
           "x": [
            0.16026738155152026,
            0.21463245219797394
           ],
           "y": [
            0.6924864947795867,
            0.48708093166351313
           ],
           "z": [
            0.10988762119147757,
            -0.16714015081243422
           ]
          }
         ],
         "name": "frame2"
        },
        {
         "data": [
          {
           "marker": {
            "color": "black",
            "size": 5
           },
           "mode": "markers",
           "type": "scatter3d",
           "x": [
            0.6843839385540436
           ],
           "y": [
            0.7310750484466553
           ],
           "z": [
            0.1043399343759932
           ]
          },
          {
           "marker": {
            "color": "magenta",
            "size": 5
           },
           "mode": "markers",
           "type": "scatter3d",
           "x": [
            0.4392406201203463
           ],
           "y": [
            0.681035578250885
           ],
           "z": [
            0.33172875542878044
           ]
          },
          {
           "marker": {
            "color": "lime",
            "size": 5
           },
           "mode": "markers",
           "type": "scatter3d",
           "x": [
            0.6606080410115289
           ],
           "y": [
            0.7210554480552673
           ],
           "z": [
            -0.12210934175364258
           ]
          },
          {
           "marker": {
            "color": "magenta",
            "size": 5
           },
           "mode": "markers",
           "type": "scatter3d",
           "x": [
            0.33869103870353345
           ],
           "y": [
            0.5689667463302612
           ],
           "z": [
            0.36689086655244585
           ]
          },
          {
           "marker": {
            "color": "lime",
            "size": 5
           },
           "mode": "markers",
           "type": "scatter3d",
           "x": [
            0.5638165755031593
           ],
           "y": [
            0.7485448718070984
           ],
           "z": [
            -0.24464038154144943
           ]
          },
          {
           "marker": {
            "color": "magenta",
            "size": 5
           },
           "mode": "markers",
           "type": "scatter3d",
           "x": [
            0.3915520527350096
           ],
           "y": [
            0.45635342597961426
           ],
           "z": [
            0.261570788078128
           ]
          },
          {
           "marker": {
            "color": "lime",
            "size": 5
           },
           "mode": "markers",
           "type": "scatter3d",
           "x": [
            0.45101655606147417
           ],
           "y": [
            0.7782798409461975
           ],
           "z": [
            -0.31123991773461596
           ]
          },
          {
           "marker": {
            "color": "magenta",
            "size": 5
           },
           "mode": "markers",
           "type": "scatter3d",
           "x": [
            0.28308950128263743
           ],
           "y": [
            0.48656904697418213
           ],
           "z": [
            0.323904565899098
           ]
          },
          {
           "marker": {
            "color": "lime",
            "size": 5
           },
           "mode": "markers",
           "type": "scatter3d",
           "x": [
            0.3748004552610661
           ],
           "y": [
            0.51717808842659
           ],
           "z": [
            0.05561835307438669
           ]
          },
          {
           "marker": {
            "color": "magenta",
            "size": 5
           },
           "mode": "markers",
           "type": "scatter3d",
           "x": [
            0.37555371136372023
           ],
           "y": [
            0.4093383550643921
           ],
           "z": [
            0.4022090590683173
           ]
          },
          {
           "marker": {
            "color": "lime",
            "size": 5
           },
           "mode": "markers",
           "type": "scatter3d",
           "x": [
            0.24039528557614198
           ],
           "y": [
            0.4870809316635132
           ],
           "z": [
            -0.12733038216735226
           ]
          },
          {
           "marker": {
            "color": "magenta",
            "size": 5
           },
           "mode": "markers",
           "type": "scatter3d",
           "x": [
            0.30242634757915443
           ],
           "y": [
            0.223577618598938
           ],
           "z": [
            0.5189646263258517
           ]
          },
          {
           "marker": {
            "color": "lime",
            "size": 5
           },
           "mode": "markers",
           "type": "scatter3d",
           "x": [
            0.13875077473884886
           ],
           "y": [
            0.6924864947795868
           ],
           "z": [
            0.13604832005530784
           ]
          },
          {
           "line": {
            "color": "silver",
            "width": 5
           },
           "mode": "lines",
           "type": "scatter3d",
           "x": [
            0.4392406201203463,
            0.6606080410115289,
            0.3748004552610661,
            0.28308950128263743,
            0.4392406201203463
           ],
           "y": [
            0.681035578250885,
            0.7210554480552673,
            0.51717808842659,
            0.48656904697418213,
            0.681035578250885
           ],
           "z": [
            0.33172875542878044,
            -0.12210934175364258,
            0.05561835307438669,
            0.323904565899098,
            0.33172875542878044
           ]
          },
          {
           "line": {
            "color": "silver",
            "width": 5
           },
           "mode": "lines",
           "type": "scatter3d",
           "x": [
            0.4392406201203463,
            0.33869103870353345
           ],
           "y": [
            0.681035578250885,
            0.5689667463302612
           ],
           "z": [
            0.33172875542878044,
            0.36689086655244585
           ]
          },
          {
           "line": {
            "color": "silver",
            "width": 5
           },
           "mode": "lines",
           "type": "scatter3d",
           "x": [
            0.3915520527350096,
            0.33869103870353345
           ],
           "y": [
            0.45635342597961426,
            0.5689667463302612
           ],
           "z": [
            0.261570788078128,
            0.36689086655244585
           ]
          },
          {
           "line": {
            "color": "silver",
            "width": 5
           },
           "mode": "lines",
           "type": "scatter3d",
           "x": [
            0.6606080410115289,
            0.5638165755031593
           ],
           "y": [
            0.7210554480552673,
            0.7485448718070984
           ],
           "z": [
            -0.12210934175364258,
            -0.24464038154144943
           ]
          },
          {
           "line": {
            "color": "silver",
            "width": 5
           },
           "mode": "lines",
           "type": "scatter3d",
           "x": [
            0.45101655606147417,
            0.5638165755031593
           ],
           "y": [
            0.7782798409461975,
            0.7485448718070984
           ],
           "z": [
            -0.31123991773461596,
            -0.24464038154144943
           ]
          },
          {
           "line": {
            "color": "silver",
            "width": 5
           },
           "mode": "lines",
           "type": "scatter3d",
           "x": [
            0.28308950128263743,
            0.37555371136372023
           ],
           "y": [
            0.48656904697418213,
            0.4093383550643921
           ],
           "z": [
            0.323904565899098,
            0.4022090590683173
           ]
          },
          {
           "line": {
            "color": "silver",
            "width": 5
           },
           "mode": "lines",
           "type": "scatter3d",
           "x": [
            0.30242634757915443,
            0.37555371136372023
           ],
           "y": [
            0.223577618598938,
            0.4093383550643921
           ],
           "z": [
            0.5189646263258517,
            0.4022090590683173
           ]
          },
          {
           "line": {
            "color": "silver",
            "width": 5
           },
           "mode": "lines",
           "type": "scatter3d",
           "x": [
            0.3748004552610661,
            0.24039528557614198
           ],
           "y": [
            0.51717808842659,
            0.4870809316635132
           ],
           "z": [
            0.05561835307438669,
            -0.12733038216735226
           ]
          },
          {
           "line": {
            "color": "silver",
            "width": 5
           },
           "mode": "lines",
           "type": "scatter3d",
           "x": [
            0.13875077473884886,
            0.24039528557614198
           ],
           "y": [
            0.6924864947795868,
            0.4870809316635132
           ],
           "z": [
            0.13604832005530784,
            -0.12733038216735226
           ]
          }
         ],
         "name": "frame3"
        },
        {
         "data": [
          {
           "marker": {
            "color": "black",
            "size": 5
           },
           "mode": "markers",
           "type": "scatter3d",
           "x": [
            0.6558681692627745
           ],
           "y": [
            0.7310750484466553
           ],
           "z": [
            0.2215968000766893
           ]
          },
          {
           "marker": {
            "color": "magenta",
            "size": 5
           },
           "mode": "markers",
           "type": "scatter3d",
           "x": [
            0.37496347427248056
           ],
           "y": [
            0.681035578250885
           ],
           "z": [
            0.4029623834845443
           ]
          },
          {
           "marker": {
            "color": "lime",
            "size": 5
           },
           "mode": "markers",
           "type": "scatter3d",
           "x": [
            0.6717759851619889
           ],
           "y": [
            0.7210554480552673
           ],
           "z": [
            -0.005540844000431755
           ]
          },
          {
           "marker": {
            "color": "magenta",
            "size": 5
           },
           "mode": "markers",
           "type": "scatter3d",
           "x": [
            0.2698356304115244
           ],
           "y": [
            0.5689667463302612
           ],
           "z": [
            0.4201300515532045
           ]
          },
          {
           "marker": {
            "color": "lime",
            "size": 5
           },
           "mode": "markers",
           "type": "scatter3d",
           "x": [
            0.5977322912707195
           ],
           "y": [
            0.7485448718070984
           ],
           "z": [
            -0.1430180235673512
           ]
          },
          {
           "marker": {
            "color": "magenta",
            "size": 5
           },
           "mode": "markers",
           "type": "scatter3d",
           "x": [
            0.3401822065606126
           ],
           "y": [
            0.45635342597961426
           ],
           "z": [
            0.32558924048003396
           ]
          },
          {
           "marker": {
            "color": "lime",
            "size": 5
           },
           "mode": "markers",
           "type": "scatter3d",
           "x": [
            0.49821084567802637
           ],
           "y": [
            0.7782798409461975
           ],
           "z": [
            -0.22819328097424174
           ]
          },
          {
           "marker": {
            "color": "magenta",
            "size": 5
           },
           "mode": "markers",
           "type": "scatter3d",
           "x": [
            0.22254329805312426
           ],
           "y": [
            0.48656904697418213
           ],
           "z": [
            0.36814170374785554
           ]
          },
          {
           "marker": {
            "color": "lime",
            "size": 5
           },
           "mode": "markers",
           "type": "scatter3d",
           "x": [
            0.3594483685174
           ],
           "y": [
            0.51717808842659
           ],
           "z": [
            0.1198568013622464
           ]
          },
          {
           "marker": {
            "color": "magenta",
            "size": 5
           },
           "mode": "markers",
           "type": "scatter3d",
           "x": [
            0.30000533647515665
           ],
           "y": [
            0.4093383550643921
           ],
           "z": [
            0.4613128172965864
           ]
          },
          {
           "marker": {
            "color": "lime",
            "size": 5
           },
           "mode": "markers",
           "type": "scatter3d",
           "x": [
            0.258853829847963
           ],
           "y": [
            0.4870809316635132
           ],
           "z": [
            -0.08365174429239751
           ]
          },
          {
           "marker": {
            "color": "magenta",
            "size": 5
           },
           "mode": "markers",
           "type": "scatter3d",
           "x": [
            0.2077145501760325
           ],
           "y": [
            0.223577618598938
           ],
           "z": [
            0.5635961716803681
           ]
          },
          {
           "marker": {
            "color": "lime",
            "size": 5
           },
           "mode": "markers",
           "type": "scatter3d",
           "x": [
            0.11301829584701728
           ],
           "y": [
            0.6924864947795868
           ],
           "z": [
            0.1580752595580293
           ]
          },
          {
           "line": {
            "color": "silver",
            "width": 5
           },
           "mode": "lines",
           "type": "scatter3d",
           "x": [
            0.37496347427248056,
            0.6717759851619889,
            0.3594483685174,
            0.22254329805312426,
            0.37496347427248056
           ],
           "y": [
            0.681035578250885,
            0.7210554480552673,
            0.51717808842659,
            0.48656904697418213,
            0.681035578250885
           ],
           "z": [
            0.4029623834845443,
            -0.005540844000431755,
            0.1198568013622464,
            0.36814170374785554,
            0.4029623834845443
           ]
          },
          {
           "line": {
            "color": "silver",
            "width": 5
           },
           "mode": "lines",
           "type": "scatter3d",
           "x": [
            0.37496347427248056,
            0.2698356304115244
           ],
           "y": [
            0.681035578250885,
            0.5689667463302612
           ],
           "z": [
            0.4029623834845443,
            0.4201300515532045
           ]
          },
          {
           "line": {
            "color": "silver",
            "width": 5
           },
           "mode": "lines",
           "type": "scatter3d",
           "x": [
            0.3401822065606126,
            0.2698356304115244
           ],
           "y": [
            0.45635342597961426,
            0.5689667463302612
           ],
           "z": [
            0.32558924048003396,
            0.4201300515532045
           ]
          },
          {
           "line": {
            "color": "silver",
            "width": 5
           },
           "mode": "lines",
           "type": "scatter3d",
           "x": [
            0.6717759851619889,
            0.5977322912707195
           ],
           "y": [
            0.7210554480552673,
            0.7485448718070984
           ],
           "z": [
            -0.005540844000431755,
            -0.1430180235673512
           ]
          },
          {
           "line": {
            "color": "silver",
            "width": 5
           },
           "mode": "lines",
           "type": "scatter3d",
           "x": [
            0.49821084567802637,
            0.5977322912707195
           ],
           "y": [
            0.7782798409461975,
            0.7485448718070984
           ],
           "z": [
            -0.22819328097424174,
            -0.1430180235673512
           ]
          },
          {
           "line": {
            "color": "silver",
            "width": 5
           },
           "mode": "lines",
           "type": "scatter3d",
           "x": [
            0.22254329805312426,
            0.30000533647515665
           ],
           "y": [
            0.48656904697418213,
            0.4093383550643921
           ],
           "z": [
            0.36814170374785554,
            0.4613128172965864
           ]
          },
          {
           "line": {
            "color": "silver",
            "width": 5
           },
           "mode": "lines",
           "type": "scatter3d",
           "x": [
            0.2077145501760325,
            0.30000533647515665
           ],
           "y": [
            0.223577618598938,
            0.4093383550643921
           ],
           "z": [
            0.5635961716803681,
            0.4613128172965864
           ]
          },
          {
           "line": {
            "color": "silver",
            "width": 5
           },
           "mode": "lines",
           "type": "scatter3d",
           "x": [
            0.3594483685174,
            0.258853829847963
           ],
           "y": [
            0.51717808842659,
            0.4870809316635132
           ],
           "z": [
            0.1198568013622464,
            -0.08365174429239751
           ]
          },
          {
           "line": {
            "color": "silver",
            "width": 5
           },
           "mode": "lines",
           "type": "scatter3d",
           "x": [
            0.11301829584701728,
            0.258853829847963
           ],
           "y": [
            0.6924864947795868,
            0.4870809316635132
           ],
           "z": [
            0.1580752595580293,
            -0.08365174429239751
           ]
          }
         ],
         "name": "frame4"
        },
        {
         "data": [
          {
           "marker": {
            "color": "black",
            "size": 5
           },
           "mode": "markers",
           "type": "scatter3d",
           "x": [
            0.6074241775337631
           ],
           "y": [
            0.7310750484466553
           ],
           "z": [
            0.33212055914044647
           ]
          },
          {
           "marker": {
            "color": "magenta",
            "size": 5
           },
           "mode": "markers",
           "type": "scatter3d",
           "x": [
            0.2992932529995186
           ],
           "y": [
            0.681035578250885
           ],
           "z": [
            0.4619522034269348
           ]
          },
          {
           "marker": {
            "color": "lime",
            "size": 5
           },
           "mode": "markers",
           "type": "scatter3d",
           "x": [
            0.6625323559383522
           ],
           "y": [
            0.7210554480552673
           ],
           "z": [
            0.11119600949392988
           ]
          },
          {
           "marker": {
            "color": "magenta",
            "size": 5
           },
           "mode": "markers",
           "type": "scatter3d",
           "x": [
            0.1927814030328785
           ],
           "y": [
            0.5689667463302612
           ],
           "z": [
            0.46060379753358294
           ]
          },
          {
           "marker": {
            "color": "lime",
            "size": 5
           },
           "mode": "markers",
           "type": "scatter3d",
           "x": [
            0.6134862138351526
           ],
           "y": [
            0.7485448718070984
           ],
           "z": [
            -0.037050135317770794
           ]
          },
          {
           "marker": {
            "color": "magenta",
            "size": 5
           },
           "mode": "markers",
           "type": "scatter3d",
           "x": [
            0.27847609618037383
           ],
           "y": [
            0.45635342597961426
           ],
           "z": [
            0.3797148285660593
           ]
          },
          {
           "marker": {
            "color": "lime",
            "size": 5
           },
           "mode": "markers",
           "type": "scatter3d",
           "x": [
            0.5302672508555039
           ],
           "y": [
            0.7782798409461975
           ],
           "z": [
            -0.13821310684283686
           ]
          },
          {
           "marker": {
            "color": "magenta",
            "size": 5
           },
           "mode": "markers",
           "type": "scatter3d",
           "x": [
            0.15523522932460923
           ],
           "y": [
            0.48656904697418213
           ],
           "z": [
            0.4011930422169251
           ]
          },
          {
           "marker": {
            "color": "lime",
            "size": 5
           },
           "mode": "markers",
           "type": "scatter3d",
           "x": [
            0.3331746249859833
           ],
           "y": [
            0.51717808842659
           ],
           "z": [
            0.18045346139118215
           ]
          },
          {
           "marker": {
            "color": "magenta",
            "size": 5
           },
           "mode": "markers",
           "type": "scatter3d",
           "x": [
            0.21534145124782056
           ],
           "y": [
            0.4093383550643921
           ],
           "z": [
            0.5063998190068477
           ]
          },
          {
           "marker": {
            "color": "lime",
            "size": 5
           },
           "mode": "markers",
           "type": "scatter3d",
           "x": [
            0.26944723148621175
           ],
           "y": [
            0.4870809316635132
           ],
           "z": [
            -0.03743139049694334
           ]
          },
          {
           "marker": {
            "color": "magenta",
            "size": 5
           },
           "mode": "markers",
           "type": "scatter3d",
           "x": [
            0.10669145127444568
           ],
           "y": [
            0.223577618598938
           ],
           "z": [
            0.5911031325518001
           ]
          },
          {
           "marker": {
            "color": "lime",
            "size": 5
           },
           "mode": "markers",
           "type": "scatter3d",
           "x": [
            0.08385181322589125
           ],
           "y": [
            0.6924864947795868
           ],
           "z": [
            0.17529916228902093
           ]
          },
          {
           "line": {
            "color": "silver",
            "width": 5
           },
           "mode": "lines",
           "type": "scatter3d",
           "x": [
            0.2992932529995186,
            0.6625323559383522,
            0.3331746249859833,
            0.15523522932460923,
            0.2992932529995186
           ],
           "y": [
            0.681035578250885,
            0.7210554480552673,
            0.51717808842659,
            0.48656904697418213,
            0.681035578250885
           ],
           "z": [
            0.4619522034269348,
            0.11119600949392988,
            0.18045346139118215,
            0.4011930422169251,
            0.4619522034269348
           ]
          },
          {
           "line": {
            "color": "silver",
            "width": 5
           },
           "mode": "lines",
           "type": "scatter3d",
           "x": [
            0.2992932529995186,
            0.1927814030328785
           ],
           "y": [
            0.681035578250885,
            0.5689667463302612
           ],
           "z": [
            0.4619522034269348,
            0.46060379753358294
           ]
          },
          {
           "line": {
            "color": "silver",
            "width": 5
           },
           "mode": "lines",
           "type": "scatter3d",
           "x": [
            0.27847609618037383,
            0.1927814030328785
           ],
           "y": [
            0.45635342597961426,
            0.5689667463302612
           ],
           "z": [
            0.3797148285660593,
            0.46060379753358294
           ]
          },
          {
           "line": {
            "color": "silver",
            "width": 5
           },
           "mode": "lines",
           "type": "scatter3d",
           "x": [
            0.6625323559383522,
            0.6134862138351526
           ],
           "y": [
            0.7210554480552673,
            0.7485448718070984
           ],
           "z": [
            0.11119600949392988,
            -0.037050135317770794
           ]
          },
          {
           "line": {
            "color": "silver",
            "width": 5
           },
           "mode": "lines",
           "type": "scatter3d",
           "x": [
            0.5302672508555039,
            0.6134862138351526
           ],
           "y": [
            0.7782798409461975,
            0.7485448718070984
           ],
           "z": [
            -0.13821310684283686,
            -0.037050135317770794
           ]
          },
          {
           "line": {
            "color": "silver",
            "width": 5
           },
           "mode": "lines",
           "type": "scatter3d",
           "x": [
            0.15523522932460923,
            0.21534145124782056
           ],
           "y": [
            0.48656904697418213,
            0.4093383550643921
           ],
           "z": [
            0.4011930422169251,
            0.5063998190068477
           ]
          },
          {
           "line": {
            "color": "silver",
            "width": 5
           },
           "mode": "lines",
           "type": "scatter3d",
           "x": [
            0.10669145127444568,
            0.21534145124782056
           ],
           "y": [
            0.223577618598938,
            0.4093383550643921
           ],
           "z": [
            0.5911031325518001,
            0.5063998190068477
           ]
          },
          {
           "line": {
            "color": "silver",
            "width": 5
           },
           "mode": "lines",
           "type": "scatter3d",
           "x": [
            0.3331746249859833,
            0.26944723148621175
           ],
           "y": [
            0.51717808842659,
            0.4870809316635132
           ],
           "z": [
            0.18045346139118215,
            -0.03743139049694334
           ]
          },
          {
           "line": {
            "color": "silver",
            "width": 5
           },
           "mode": "lines",
           "type": "scatter3d",
           "x": [
            0.08385181322589125,
            0.26944723148621175
           ],
           "y": [
            0.6924864947795868,
            0.4870809316635132
           ],
           "z": [
            0.17529916228902093,
            -0.03743139049694334
           ]
          }
         ],
         "name": "frame5"
        },
        {
         "data": [
          {
           "marker": {
            "color": "black",
            "size": 5
           },
           "mode": "markers",
           "type": "scatter3d",
           "x": [
            0.5405239095418536
           ],
           "y": [
            0.7310750484466553
           ],
           "z": [
            0.4325530030758331
           ]
          },
          {
           "marker": {
            "color": "magenta",
            "size": 5
           },
           "mode": "markers",
           "type": "scatter3d",
           "x": [
            0.21452915768385997
           ],
           "y": [
            0.681035578250885
           ],
           "z": [
            0.5069058394272921
           ]
          },
          {
           "marker": {
            "color": "lime",
            "size": 5
           },
           "mode": "markers",
           "type": "scatter3d",
           "x": [
            0.6331580163370776
           ],
           "y": [
            0.7210554480552673
           ],
           "z": [
            0.2245542285077141
           ]
          },
          {
           "marker": {
            "color": "magenta",
            "size": 5
           },
           "mode": "markers",
           "type": "scatter3d",
           "x": [
            0.10986961027517567
           ],
           "y": [
            0.5689667463302612
           ],
           "z": [
            0.4870823302026712
           ]
          },
          {
           "marker": {
            "color": "lime",
            "size": 5
           },
           "mode": "markers",
           "type": "scatter3d",
           "x": [
            0.6105996682312077
           ],
           "y": [
            0.7485448718070984
           ],
           "z": [
            0.0700435025451667
           ]
          },
          {
           "marker": {
            "color": "magenta",
            "size": 5
           },
           "mode": "markers",
           "type": "scatter3d",
           "x": [
            0.20830863053339854
           ],
           "y": [
            0.45635342597961426
           ],
           "z": [
            0.42230297373107945
           ]
          },
          {
           "marker": {
            "color": "lime",
            "size": 5
           },
           "mode": "markers",
           "type": "scatter3d",
           "x": [
            0.5462117539439131
           ],
           "y": [
            0.7782798409461975
           ],
           "z": [
            -0.04403339739921927
           ]
          },
          {
           "marker": {
            "color": "magenta",
            "size": 5
           },
           "mode": "markers",
           "type": "scatter3d",
           "x": [
            0.08321041670588249
           ],
           "y": [
            0.48656904697418213
           ],
           "z": [
            0.42205433311170837
           ]
          },
          {
           "marker": {
            "color": "lime",
            "size": 5
           },
           "mode": "markers",
           "type": "scatter3d",
           "x": [
            0.29677753906886284
           ],
           "y": [
            0.51717808842659
           ],
           "z": [
            0.23556713430960421
           ]
          },
          {
           "marker": {
            "color": "magenta",
            "size": 5
           },
           "mode": "markers",
           "type": "scatter3d",
           "x": [
            0.12413452499235178
           ],
           "y": [
            0.4093383550643921
           ],
           "z": [
            0.5361001184672587
           ]
          },
          {
           "marker": {
            "color": "lime",
            "size": 5
           },
           "mode": "markers",
           "type": "scatter3d",
           "x": [
            0.27185361534263
           ],
           "y": [
            0.4870809316635132
           ],
           "z": [
            0.009926297157562852
           ]
          },
          {
           "marker": {
            "color": "magenta",
            "size": 5
           },
           "mode": "markers",
           "type": "scatter3d",
           "x": [
            0.0024265866143644566
           ],
           "y": [
            0.223577618598938
           ],
           "z": [
            0.6006497238532633
           ]
          },
          {
           "marker": {
            "color": "lime",
            "size": 5
           },
           "mode": "markers",
           "type": "scatter3d",
           "x": [
            0.052137535690961384
           ],
           "y": [
            0.6924864947795868
           ],
           "z": [
            0.18719668867951694
           ]
          },
          {
           "line": {
            "color": "silver",
            "width": 5
           },
           "mode": "lines",
           "type": "scatter3d",
           "x": [
            0.21452915768385997,
            0.6331580163370776,
            0.29677753906886284,
            0.08321041670588249,
            0.21452915768385997
           ],
           "y": [
            0.681035578250885,
            0.7210554480552673,
            0.51717808842659,
            0.48656904697418213,
            0.681035578250885
           ],
           "z": [
            0.5069058394272921,
            0.2245542285077141,
            0.23556713430960421,
            0.42205433311170837,
            0.5069058394272921
           ]
          },
          {
           "line": {
            "color": "silver",
            "width": 5
           },
           "mode": "lines",
           "type": "scatter3d",
           "x": [
            0.21452915768385997,
            0.10986961027517567
           ],
           "y": [
            0.681035578250885,
            0.5689667463302612
           ],
           "z": [
            0.5069058394272921,
            0.4870823302026712
           ]
          },
          {
           "line": {
            "color": "silver",
            "width": 5
           },
           "mode": "lines",
           "type": "scatter3d",
           "x": [
            0.20830863053339854,
            0.10986961027517567
           ],
           "y": [
            0.45635342597961426,
            0.5689667463302612
           ],
           "z": [
            0.42230297373107945,
            0.4870823302026712
           ]
          },
          {
           "line": {
            "color": "silver",
            "width": 5
           },
           "mode": "lines",
           "type": "scatter3d",
           "x": [
            0.6331580163370776,
            0.6105996682312077
           ],
           "y": [
            0.7210554480552673,
            0.7485448718070984
           ],
           "z": [
            0.2245542285077141,
            0.0700435025451667
           ]
          },
          {
           "line": {
            "color": "silver",
            "width": 5
           },
           "mode": "lines",
           "type": "scatter3d",
           "x": [
            0.5462117539439131,
            0.6105996682312077
           ],
           "y": [
            0.7782798409461975,
            0.7485448718070984
           ],
           "z": [
            -0.04403339739921927,
            0.0700435025451667
           ]
          },
          {
           "line": {
            "color": "silver",
            "width": 5
           },
           "mode": "lines",
           "type": "scatter3d",
           "x": [
            0.08321041670588249,
            0.12413452499235178
           ],
           "y": [
            0.48656904697418213,
            0.4093383550643921
           ],
           "z": [
            0.42205433311170837,
            0.5361001184672587
           ]
          },
          {
           "line": {
            "color": "silver",
            "width": 5
           },
           "mode": "lines",
           "type": "scatter3d",
           "x": [
            0.0024265866143644566,
            0.12413452499235178
           ],
           "y": [
            0.223577618598938,
            0.4093383550643921
           ],
           "z": [
            0.6006497238532633,
            0.5361001184672587
           ]
          },
          {
           "line": {
            "color": "silver",
            "width": 5
           },
           "mode": "lines",
           "type": "scatter3d",
           "x": [
            0.29677753906886284,
            0.27185361534263
           ],
           "y": [
            0.51717808842659,
            0.4870809316635132
           ],
           "z": [
            0.23556713430960421,
            0.009926297157562852
           ]
          },
          {
           "line": {
            "color": "silver",
            "width": 5
           },
           "mode": "lines",
           "type": "scatter3d",
           "x": [
            0.052137535690961384,
            0.27185361534263
           ],
           "y": [
            0.6924864947795868,
            0.4870809316635132
           ],
           "z": [
            0.18719668867951694,
            0.009926297157562852
           ]
          }
         ],
         "name": "frame6"
        },
        {
         "data": [
          {
           "marker": {
            "color": "black",
            "size": 5
           },
           "mode": "markers",
           "type": "scatter3d",
           "x": [
            0.4572000960768101
           ],
           "y": [
            0.7310750484466552
           ],
           "z": [
            0.5198425428951415
           ]
          },
          {
           "marker": {
            "color": "magenta",
            "size": 5
           },
           "mode": "markers",
           "type": "scatter3d",
           "x": [
            0.12324670246896882
           ],
           "y": [
            0.6810355782508849
           ],
           "z": [
            0.5364573980033824
           ]
          },
          {
           "marker": {
            "color": "lime",
            "size": 5
           },
           "mode": "markers",
           "type": "scatter3d",
           "x": [
            0.5845454908028163
           ],
           "y": [
            0.7210554480552672
           ],
           "z": [
            0.3310894809182139
           ]
          },
          {
           "marker": {
            "color": "magenta",
            "size": 5
           },
           "mode": "markers",
           "type": "scatter3d",
           "x": [
            0.023619485005966778
           ],
           "y": [
            0.5689667463302611
           ],
           "z": [
            0.49876111274410306
           ]
          },
          {
           "marker": {
            "color": "lime",
            "size": 5
           },
           "mode": "markers",
           "type": "scatter3d",
           "x": [
            0.5891603606863981
           ],
           "y": [
            0.7485448718070983
           ],
           "z": [
            0.17500890402699207
           ]
          },
          {
           "marker": {
            "color": "magenta",
            "size": 5
           },
           "mode": "markers",
           "type": "scatter3d",
           "x": [
            0.13181181255691884
           ],
           "y": [
            0.4563534259796142
           ],
           "z": [
            0.45205965673489634
           ]
          },
          {
           "marker": {
            "color": "lime",
            "size": 5
           },
           "mode": "markers",
           "type": "scatter3d",
           "x": [
            0.5455598892852201
           ],
           "y": [
            0.7782798409461974
           ],
           "z": [
            0.05148424454239961
           ]
          },
          {
           "marker": {
            "color": "magenta",
            "size": 5
           },
           "mode": "markers",
           "type": "scatter3d",
           "x": [
            0.008657297682049814
           ],
           "y": [
            0.4865690469741821
           ],
           "z": [
            0.43009171666468987
           ]
          },
          {
           "marker": {
            "color": "lime",
            "size": 5
           },
           "mode": "markers",
           "type": "scatter3d",
           "x": [
            0.25136301780381576
           ],
           "y": [
            0.5171780884265899
           ],
           "z": [
            0.2835232190547506
           ]
          },
          {
           "marker": {
            "color": "magenta",
            "size": 5
           },
           "mode": "markers",
           "type": "scatter3d",
           "x": [
            0.029155834010090698
           ],
           "y": [
            0.40933835506439203
           ],
           "z": [
            0.5495112871077915
           ]
          },
          {
           "marker": {
            "color": "lime",
            "size": 5
           },
           "mode": "markers",
           "type": "scatter3d",
           "x": [
            0.2659998646614293
           ],
           "y": [
            0.48708093166351313
           ],
           "z": [
            0.05698237929588533
           ]
          },
          {
           "marker": {
            "color": "magenta",
            "size": 5
           },
           "mode": "markers",
           "type": "scatter3d",
           "x": [
            -0.10191200865208244
           ],
           "y": [
            0.22357761859893796
           ],
           "z": [
            0.5919458772388708
           ]
          },
          {
           "marker": {
            "color": "lime",
            "size": 5
           },
           "mode": "markers",
           "type": "scatter3d",
           "x": [
            0.018839085516927645
           ],
           "y": [
            0.6924864947795867
           ],
           "z": [
            0.1934063384105809
           ]
          },
          {
           "line": {
            "color": "silver",
            "width": 5
           },
           "mode": "lines",
           "type": "scatter3d",
           "x": [
            0.12324670246896882,
            0.5845454908028163,
            0.25136301780381576,
            0.008657297682049814,
            0.12324670246896882
           ],
           "y": [
            0.6810355782508849,
            0.7210554480552672,
            0.5171780884265899,
            0.4865690469741821,
            0.6810355782508849
           ],
           "z": [
            0.5364573980033824,
            0.3310894809182139,
            0.2835232190547506,
            0.43009171666468987,
            0.5364573980033824
           ]
          },
          {
           "line": {
            "color": "silver",
            "width": 5
           },
           "mode": "lines",
           "type": "scatter3d",
           "x": [
            0.12324670246896882,
            0.023619485005966778
           ],
           "y": [
            0.6810355782508849,
            0.5689667463302611
           ],
           "z": [
            0.5364573980033824,
            0.49876111274410306
           ]
          },
          {
           "line": {
            "color": "silver",
            "width": 5
           },
           "mode": "lines",
           "type": "scatter3d",
           "x": [
            0.13181181255691884,
            0.023619485005966778
           ],
           "y": [
            0.4563534259796142,
            0.5689667463302611
           ],
           "z": [
            0.45205965673489634,
            0.49876111274410306
           ]
          },
          {
           "line": {
            "color": "silver",
            "width": 5
           },
           "mode": "lines",
           "type": "scatter3d",
           "x": [
            0.5845454908028163,
            0.5891603606863981
           ],
           "y": [
            0.7210554480552672,
            0.7485448718070983
           ],
           "z": [
            0.3310894809182139,
            0.17500890402699207
           ]
          },
          {
           "line": {
            "color": "silver",
            "width": 5
           },
           "mode": "lines",
           "type": "scatter3d",
           "x": [
            0.5455598892852201,
            0.5891603606863981
           ],
           "y": [
            0.7782798409461974,
            0.7485448718070983
           ],
           "z": [
            0.05148424454239961,
            0.17500890402699207
           ]
          },
          {
           "line": {
            "color": "silver",
            "width": 5
           },
           "mode": "lines",
           "type": "scatter3d",
           "x": [
            0.008657297682049814,
            0.029155834010090698
           ],
           "y": [
            0.4865690469741821,
            0.40933835506439203
           ],
           "z": [
            0.43009171666468987,
            0.5495112871077915
           ]
          },
          {
           "line": {
            "color": "silver",
            "width": 5
           },
           "mode": "lines",
           "type": "scatter3d",
           "x": [
            -0.10191200865208244,
            0.029155834010090698
           ],
           "y": [
            0.22357761859893796,
            0.40933835506439203
           ],
           "z": [
            0.5919458772388708,
            0.5495112871077915
           ]
          },
          {
           "line": {
            "color": "silver",
            "width": 5
           },
           "mode": "lines",
           "type": "scatter3d",
           "x": [
            0.25136301780381576,
            0.2659998646614293
           ],
           "y": [
            0.5171780884265899,
            0.48708093166351313
           ],
           "z": [
            0.2835232190547506,
            0.05698237929588533
           ]
          },
          {
           "line": {
            "color": "silver",
            "width": 5
           },
           "mode": "lines",
           "type": "scatter3d",
           "x": [
            0.018839085516927645,
            0.2659998646614293
           ],
           "y": [
            0.6924864947795867,
            0.48708093166351313
           ],
           "z": [
            0.1934063384105809,
            0.05698237929588533
           ]
          }
         ],
         "name": "frame7"
        },
        {
         "data": [
          {
           "marker": {
            "color": "black",
            "size": 5
           },
           "mode": "markers",
           "type": "scatter3d",
           "x": [
            0.3599844890468846
           ],
           "y": [
            0.7310750484466552
           ],
           "z": [
            0.5913369301016002
           ]
          },
          {
           "marker": {
            "color": "magenta",
            "size": 5
           },
           "mode": "markers",
           "type": "scatter3d",
           "x": [
            0.028219458565398856
           ],
           "y": [
            0.6810355782508849
           ],
           "z": [
            0.5497089700016816
           ]
          },
          {
           "marker": {
            "color": "lime",
            "size": 5
           },
           "mode": "markers",
           "type": "scatter3d",
           "x": [
            0.518171846324802
           ],
           "y": [
            0.7210554480552672
           ],
           "z": [
            0.427564746990375
           ]
          },
          {
           "marker": {
            "color": "magenta",
            "size": 5
           },
           "mode": "markers",
           "type": "scatter3d",
           "x": [
            -0.06334830636311217
           ],
           "y": [
            0.5689667463302611
           ],
           "z": [
            0.4952852912601062
           ]
          },
          {
           "marker": {
            "color": "lime",
            "size": 5
           },
           "mode": "markers",
           "type": "scatter3d",
           "x": [
            0.5498197137116598
           ],
           "y": [
            0.7485448718070983
           ],
           "z": [
            0.2746567485187356
           ]
          },
          {
           "marker": {
            "color": "magenta",
            "size": 5
           },
           "mode": "markers",
           "type": "scatter3d",
           "x": [
            0.05130995935589279
           ],
           "y": [
            0.4563534259796142
           ],
           "z": [
            0.4680807358220473
           ]
          },
          {
           "marker": {
            "color": "lime",
            "size": 5
           },
           "mode": "markers",
           "type": "scatter3d",
           "x": [
            0.5283314634572204
           ],
           "y": [
            0.7782798409461974
           ],
           "z": [
            0.14543756376588232
           ]
          },
          {
           "marker": {
            "color": "magenta",
            "size": 5
           },
           "mode": "markers",
           "type": "scatter3d",
           "x": [
            -0.06615886895104782
           ],
           "y": [
            0.4865690469741821
           ],
           "z": [
            0.42506098104372453
           ]
          },
          {
           "marker": {
            "color": "lime",
            "size": 5
           },
           "mode": "markers",
           "type": "scatter3d",
           "x": [
            0.19831095843862412
           ],
           "y": [
            0.5171780884265899
           ],
           "z": [
            0.32286459425858977
           ]
          },
          {
           "marker": {
            "color": "magenta",
            "size": 5
           },
           "mode": "markers",
           "type": "scatter3d",
           "x": [
            -0.06670874223500298
           ],
           "y": [
            0.40933835506439203
           ],
           "z": [
            0.5462258333556822
           ]
          },
          {
           "marker": {
            "color": "lime",
            "size": 5
           },
           "mode": "markers",
           "type": "scatter3d",
           "x": [
            0.2520638426949173
           ],
           "y": [
            0.48708093166351313
           ],
           "z": [
            0.10230708067377746
           ]
          },
          {
           "marker": {
            "color": "magenta",
            "size": 5
           },
           "mode": "markers",
           "type": "scatter3d",
           "x": [
            -0.20315405910560036
           ],
           "y": [
            0.22357761859893796
           ],
           "z": [
            0.565256054683642
           ]
          },
          {
           "marker": {
            "color": "lime",
            "size": 5
           },
           "mode": "markers",
           "type": "scatter3d",
           "x": [
            -0.01503178073750066
           ],
           "y": [
            0.6924864947795867
           ],
           "z": [
            0.19373943441736882
           ]
          },
          {
           "line": {
            "color": "silver",
            "width": 5
           },
           "mode": "lines",
           "type": "scatter3d",
           "x": [
            0.028219458565398856,
            0.518171846324802,
            0.19831095843862412,
            -0.06615886895104782,
            0.028219458565398856
           ],
           "y": [
            0.6810355782508849,
            0.7210554480552672,
            0.5171780884265899,
            0.4865690469741821,
            0.6810355782508849
           ],
           "z": [
            0.5497089700016816,
            0.427564746990375,
            0.32286459425858977,
            0.42506098104372453,
            0.5497089700016816
           ]
          },
          {
           "line": {
            "color": "silver",
            "width": 5
           },
           "mode": "lines",
           "type": "scatter3d",
           "x": [
            0.028219458565398856,
            -0.06334830636311217
           ],
           "y": [
            0.6810355782508849,
            0.5689667463302611
           ],
           "z": [
            0.5497089700016816,
            0.4952852912601062
           ]
          },
          {
           "line": {
            "color": "silver",
            "width": 5
           },
           "mode": "lines",
           "type": "scatter3d",
           "x": [
            0.05130995935589279,
            -0.06334830636311217
           ],
           "y": [
            0.4563534259796142,
            0.5689667463302611
           ],
           "z": [
            0.4680807358220473,
            0.4952852912601062
           ]
          },
          {
           "line": {
            "color": "silver",
            "width": 5
           },
           "mode": "lines",
           "type": "scatter3d",
           "x": [
            0.518171846324802,
            0.5498197137116598
           ],
           "y": [
            0.7210554480552672,
            0.7485448718070983
           ],
           "z": [
            0.427564746990375,
            0.2746567485187356
           ]
          },
          {
           "line": {
            "color": "silver",
            "width": 5
           },
           "mode": "lines",
           "type": "scatter3d",
           "x": [
            0.5283314634572204,
            0.5498197137116598
           ],
           "y": [
            0.7782798409461974,
            0.7485448718070983
           ],
           "z": [
            0.14543756376588232,
            0.2746567485187356
           ]
          },
          {
           "line": {
            "color": "silver",
            "width": 5
           },
           "mode": "lines",
           "type": "scatter3d",
           "x": [
            -0.06615886895104782,
            -0.06670874223500298
           ],
           "y": [
            0.4865690469741821,
            0.40933835506439203
           ],
           "z": [
            0.42506098104372453,
            0.5462258333556822
           ]
          },
          {
           "line": {
            "color": "silver",
            "width": 5
           },
           "mode": "lines",
           "type": "scatter3d",
           "x": [
            -0.20315405910560036,
            -0.06670874223500298
           ],
           "y": [
            0.22357761859893796,
            0.40933835506439203
           ],
           "z": [
            0.565256054683642,
            0.5462258333556822
           ]
          },
          {
           "line": {
            "color": "silver",
            "width": 5
           },
           "mode": "lines",
           "type": "scatter3d",
           "x": [
            0.19831095843862412,
            0.2520638426949173
           ],
           "y": [
            0.5171780884265899,
            0.48708093166351313
           ],
           "z": [
            0.32286459425858977,
            0.10230708067377746
           ]
          },
          {
           "line": {
            "color": "silver",
            "width": 5
           },
           "mode": "lines",
           "type": "scatter3d",
           "x": [
            -0.01503178073750066,
            0.2520638426949173
           ],
           "y": [
            0.6924864947795867,
            0.48708093166351313
           ],
           "z": [
            0.19373943441736882,
            0.10230708067377746
           ]
          }
         ],
         "name": "frame8"
        },
        {
         "data": [
          {
           "marker": {
            "color": "black",
            "size": 5
           },
           "mode": "markers",
           "type": "scatter3d",
           "x": [
            0.25183093547821056
           ],
           "y": [
            0.7310750484466553
           ],
           "z": [
            0.6448638439178466
           ]
          },
          {
           "marker": {
            "color": "magenta",
            "size": 5
           },
           "mode": "markers",
           "type": "scatter3d",
           "x": [
            -0.06766521930694568
           ],
           "y": [
            0.681035578250885
           ],
           "z": [
            0.5462579131126404
           ]
          },
          {
           "marker": {
            "color": "lime",
            "size": 5
           },
           "mode": "markers",
           "type": "scatter3d",
           "x": [
            0.4360538125038148
           ],
           "y": [
            0.7210554480552673
           ],
           "z": [
            0.511048674583435
           ]
          },
          {
           "marker": {
            "color": "magenta",
            "size": 5
           },
           "mode": "markers",
           "type": "scatter3d",
           "x": [
            -0.14839129149913768
           ],
           "y": [
            0.5689667463302612
           ],
           "z": [
            0.47676047682762146
           ]
          },
          {
           "marker": {
            "color": "lime",
            "size": 5
           },
           "mode": "markers",
           "type": "scatter3d",
           "x": [
            0.49377307295799255
           ],
           "y": [
            0.7485448718070984
           ],
           "z": [
            0.3659592866897582
           ]
          },
          {
           "marker": {
            "color": "magenta",
            "size": 5
           },
           "mode": "markers",
           "type": "scatter3d",
           "x": [
            -0.030750920996069797
           ],
           "y": [
            0.45635342597961426
           ],
           "z": [
            0.4698794186115265
           ]
          },
          {
           "marker": {
            "color": "lime",
            "size": 5
           },
           "mode": "markers",
           "type": "scatter3d",
           "x": [
            0.49504995346069336
           ],
           "y": [
            0.7782798409461975
           ],
           "z": [
            0.23497183620929699
           ]
          },
          {
           "marker": {
            "color": "magenta",
            "size": 5
           },
           "mode": "markers",
           "type": "scatter3d",
           "x": [
            -0.1389648318290709
           ],
           "y": [
            0.48656904697418213
           ],
           "z": [
            0.40711498260498047
           ]
          },
          {
           "marker": {
            "color": "lime",
            "size": 5
           },
           "mode": "markers",
           "type": "scatter3d",
           "x": [
            0.13923332095146188
           ],
           "y": [
            0.51717808842659
           ],
           "z": [
            0.35239589214324946
           ]
          },
          {
           "marker": {
            "color": "magenta",
            "size": 5
           },
           "mode": "markers",
           "type": "scatter3d",
           "x": [
            -0.1605464071035384
           ],
           "y": [
            0.4093383550643921
           ],
           "z": [
            0.526343584060669
           ]
          },
          {
           "marker": {
            "color": "lime",
            "size": 5
           },
           "mode": "markers",
           "type": "scatter3d",
           "x": [
            0.23046898841857913
           ],
           "y": [
            0.4870809316635132
           ],
           "z": [
            0.14452323317527765
           ]
          },
          {
           "marker": {
            "color": "magenta",
            "size": 5
           },
           "mode": "markers",
           "type": "scatter3d",
           "x": [
            -0.2982233762741088
           ],
           "y": [
            0.223577618598938
           ],
           "z": [
            0.5213912129402162
           ]
          },
          {
           "marker": {
            "color": "lime",
            "size": 5
           },
           "mode": "markers",
           "type": "scatter3d",
           "x": [
            -0.04844591394066806
           ],
           "y": [
            0.6924864947795868
           ],
           "z": [
            0.1881858557462692
           ]
          },
          {
           "line": {
            "color": "silver",
            "width": 5
           },
           "mode": "lines",
           "type": "scatter3d",
           "x": [
            -0.06766521930694568,
            0.4360538125038148,
            0.13923332095146188,
            -0.1389648318290709,
            -0.06766521930694568
           ],
           "y": [
            0.681035578250885,
            0.7210554480552673,
            0.51717808842659,
            0.48656904697418213,
            0.681035578250885
           ],
           "z": [
            0.5462579131126404,
            0.511048674583435,
            0.35239589214324946,
            0.40711498260498047,
            0.5462579131126404
           ]
          },
          {
           "line": {
            "color": "silver",
            "width": 5
           },
           "mode": "lines",
           "type": "scatter3d",
           "x": [
            -0.06766521930694568,
            -0.14839129149913768
           ],
           "y": [
            0.681035578250885,
            0.5689667463302612
           ],
           "z": [
            0.5462579131126404,
            0.47676047682762146
           ]
          },
          {
           "line": {
            "color": "silver",
            "width": 5
           },
           "mode": "lines",
           "type": "scatter3d",
           "x": [
            -0.030750920996069797,
            -0.14839129149913768
           ],
           "y": [
            0.45635342597961426,
            0.5689667463302612
           ],
           "z": [
            0.4698794186115265,
            0.47676047682762146
           ]
          },
          {
           "line": {
            "color": "silver",
            "width": 5
           },
           "mode": "lines",
           "type": "scatter3d",
           "x": [
            0.4360538125038148,
            0.49377307295799255
           ],
           "y": [
            0.7210554480552673,
            0.7485448718070984
           ],
           "z": [
            0.511048674583435,
            0.3659592866897582
           ]
          },
          {
           "line": {
            "color": "silver",
            "width": 5
           },
           "mode": "lines",
           "type": "scatter3d",
           "x": [
            0.49504995346069336,
            0.49377307295799255
           ],
           "y": [
            0.7782798409461975,
            0.7485448718070984
           ],
           "z": [
            0.23497183620929699,
            0.3659592866897582
           ]
          },
          {
           "line": {
            "color": "silver",
            "width": 5
           },
           "mode": "lines",
           "type": "scatter3d",
           "x": [
            -0.1389648318290709,
            -0.1605464071035384
           ],
           "y": [
            0.48656904697418213,
            0.4093383550643921
           ],
           "z": [
            0.40711498260498047,
            0.526343584060669
           ]
          },
          {
           "line": {
            "color": "silver",
            "width": 5
           },
           "mode": "lines",
           "type": "scatter3d",
           "x": [
            -0.2982233762741088,
            -0.1605464071035384
           ],
           "y": [
            0.223577618598938,
            0.4093383550643921
           ],
           "z": [
            0.5213912129402162,
            0.526343584060669
           ]
          },
          {
           "line": {
            "color": "silver",
            "width": 5
           },
           "mode": "lines",
           "type": "scatter3d",
           "x": [
            0.13923332095146188,
            0.23046898841857913
           ],
           "y": [
            0.51717808842659,
            0.4870809316635132
           ],
           "z": [
            0.35239589214324946,
            0.14452323317527765
           ]
          },
          {
           "line": {
            "color": "silver",
            "width": 5
           },
           "mode": "lines",
           "type": "scatter3d",
           "x": [
            -0.04844591394066806,
            0.23046898841857913
           ],
           "y": [
            0.6924864947795868,
            0.4870809316635132
           ],
           "z": [
            0.1881858557462692,
            0.14452323317527765
           ]
          }
         ],
         "name": "frame9"
        },
        {
         "data": [
          {
           "marker": {
            "color": "black",
            "size": 5
           },
           "mode": "markers",
           "type": "scatter3d",
           "x": [
            0.13602562636763288
           ],
           "y": [
            0.7310750484466553
           ],
           "z": [
            0.6787968961534995
           ]
          },
          {
           "marker": {
            "color": "magenta",
            "size": 5
           },
           "mode": "markers",
           "type": "scatter3d",
           "x": [
            -0.16149392373090193
           ],
           "y": [
            0.681035578250885
           ],
           "z": [
            0.5262090859535131
           ]
          },
          {
           "marker": {
            "color": "lime",
            "size": 5
           },
           "mode": "markers",
           "type": "scatter3d",
           "x": [
            0.3406865042437749
           ],
           "y": [
            0.7210554480552673
           ],
           "z": [
            0.5790046468023846
           ]
          },
          {
           "marker": {
            "color": "magenta",
            "size": 5
           },
           "mode": "markers",
           "type": "scatter3d",
           "x": [
            -0.22892548233257867
           ],
           "y": [
            0.5689667463302612
           ],
           "z": [
            0.4437495365591712
           ]
          },
          {
           "marker": {
            "color": "lime",
            "size": 5
           },
           "mode": "markers",
           "type": "scatter3d",
           "x": [
            0.4227233872437275
           ],
           "y": [
            0.7485448718070984
           ],
           "z": [
            0.446142337119047
           ]
          },
          {
           "marker": {
            "color": "magenta",
            "size": 5
           },
           "mode": "markers",
           "type": "scatter3d",
           "x": [
            -0.1118774501742838
           ],
           "y": [
            0.45635342597961426
           ],
           "z": [
            0.45740105303695283
           ]
          },
          {
           "marker": {
            "color": "lime",
            "size": 5
           },
           "mode": "markers",
           "type": "scatter3d",
           "x": [
            0.44672660113562673
           ],
           "y": [
            0.7782798409461975
           ],
           "z": [
            0.3173666083109785
           ]
          },
          {
           "marker": {
            "color": "magenta",
            "size": 5
           },
           "mode": "markers",
           "type": "scatter3d",
           "x": [
            -0.20754841861156567
           ],
           "y": [
            0.48656904697418213
           ],
           "z": [
            0.37679900142990536
           ]
          },
          {
           "marker": {
            "color": "lime",
            "size": 5
           },
           "mode": "markers",
           "type": "scatter3d",
           "x": [
            0.0759251494626493
           ],
           "y": [
            0.51717808842659
           ],
           "z": [
            0.37121981916606217
           ]
          },
          {
           "marker": {
            "color": "magenta",
            "size": 5
           },
           "mode": "markers",
           "type": "scatter3d",
           "x": [
            -0.24950595063263487
           ],
           "y": [
            0.4093383550643921
           ],
           "z": [
            0.4904686513066771
           ]
          },
          {
           "marker": {
            "color": "lime",
            "size": 5
           },
           "mode": "markers",
           "type": "scatter3d",
           "x": [
            0.20187145055207767
           ],
           "y": [
            0.4870809316635132
           ],
           "z": [
            0.1823481203690318
           ]
          },
          {
           "marker": {
            "color": "magenta",
            "size": 5
           },
           "mode": "markers",
           "type": "scatter3d",
           "x": [
            -0.38423132706283836
           ],
           "y": [
            0.223577618598938
           ],
           "z": [
            0.46168416302828563
           ]
          },
          {
           "marker": {
            "color": "lime",
            "size": 5
           },
           "mode": "markers",
           "type": "scatter3d",
           "x": [
            -0.08038804256356363
           ],
           "y": [
            0.6924864947795868
           ],
           "z": [
            0.17691434507495696
           ]
          },
          {
           "line": {
            "color": "silver",
            "width": 5
           },
           "mode": "lines",
           "type": "scatter3d",
           "x": [
            -0.16149392373090193,
            0.3406865042437749,
            0.0759251494626493,
            -0.20754841861156567,
            -0.16149392373090193
           ],
           "y": [
            0.681035578250885,
            0.7210554480552673,
            0.51717808842659,
            0.48656904697418213,
            0.681035578250885
           ],
           "z": [
            0.5262090859535131,
            0.5790046468023846,
            0.37121981916606217,
            0.37679900142990536,
            0.5262090859535131
           ]
          },
          {
           "line": {
            "color": "silver",
            "width": 5
           },
           "mode": "lines",
           "type": "scatter3d",
           "x": [
            -0.16149392373090193,
            -0.22892548233257867
           ],
           "y": [
            0.681035578250885,
            0.5689667463302612
           ],
           "z": [
            0.5262090859535131,
            0.4437495365591712
           ]
          },
          {
           "line": {
            "color": "silver",
            "width": 5
           },
           "mode": "lines",
           "type": "scatter3d",
           "x": [
            -0.1118774501742838,
            -0.22892548233257867
           ],
           "y": [
            0.45635342597961426,
            0.5689667463302612
           ],
           "z": [
            0.45740105303695283,
            0.4437495365591712
           ]
          },
          {
           "line": {
            "color": "silver",
            "width": 5
           },
           "mode": "lines",
           "type": "scatter3d",
           "x": [
            0.3406865042437749,
            0.4227233872437275
           ],
           "y": [
            0.7210554480552673,
            0.7485448718070984
           ],
           "z": [
            0.5790046468023846,
            0.446142337119047
           ]
          },
          {
           "line": {
            "color": "silver",
            "width": 5
           },
           "mode": "lines",
           "type": "scatter3d",
           "x": [
            0.44672660113562673,
            0.4227233872437275
           ],
           "y": [
            0.7782798409461975,
            0.7485448718070984
           ],
           "z": [
            0.3173666083109785,
            0.446142337119047
           ]
          },
          {
           "line": {
            "color": "silver",
            "width": 5
           },
           "mode": "lines",
           "type": "scatter3d",
           "x": [
            -0.20754841861156567,
            -0.24950595063263487
           ],
           "y": [
            0.48656904697418213,
            0.4093383550643921
           ],
           "z": [
            0.37679900142990536,
            0.4904686513066771
           ]
          },
          {
           "line": {
            "color": "silver",
            "width": 5
           },
           "mode": "lines",
           "type": "scatter3d",
           "x": [
            -0.38423132706283836,
            -0.24950595063263487
           ],
           "y": [
            0.223577618598938,
            0.4093383550643921
           ],
           "z": [
            0.46168416302828563,
            0.4904686513066771
           ]
          },
          {
           "line": {
            "color": "silver",
            "width": 5
           },
           "mode": "lines",
           "type": "scatter3d",
           "x": [
            0.0759251494626493,
            0.20187145055207767
           ],
           "y": [
            0.51717808842659,
            0.4870809316635132
           ],
           "z": [
            0.37121981916606217,
            0.1823481203690318
           ]
          },
          {
           "line": {
            "color": "silver",
            "width": 5
           },
           "mode": "lines",
           "type": "scatter3d",
           "x": [
            -0.08038804256356363,
            0.20187145055207767
           ],
           "y": [
            0.6924864947795868,
            0.4870809316635132
           ],
           "z": [
            0.17691434507495696,
            0.1823481203690318
           ]
          }
         ],
         "name": "frame10"
        },
        {
         "data": [
          {
           "marker": {
            "color": "black",
            "size": 5
           },
           "mode": "markers",
           "type": "scatter3d",
           "x": [
            0.016087247432163054
           ],
           "y": [
            0.7310750484466553
           ],
           "z": [
            0.6921050481873312
           ]
          },
          {
           "marker": {
            "color": "magenta",
            "size": 5
           },
           "mode": "markers",
           "type": "scatter3d",
           "x": [
            -0.25041571700216303
           ],
           "y": [
            0.681035578250885
           ],
           "z": [
            0.4901716619923338
           ]
          },
          {
           "marker": {
            "color": "lime",
            "size": 5
           },
           "mode": "markers",
           "type": "scatter3d",
           "x": [
            0.23496760894797736
           ],
           "y": [
            0.7210554480552673
           ],
           "z": [
            0.6293678558187319
           ]
          },
          {
           "marker": {
            "color": "magenta",
            "size": 5
           },
           "mode": "markers",
           "type": "scatter3d",
           "x": [
            -0.3025038882272277
           ],
           "y": [
            0.5689667463302612
           ],
           "z": [
            0.39725549117047076
           ]
          },
          {
           "marker": {
            "color": "lime",
            "size": 5
           },
           "mode": "markers",
           "type": "scatter3d",
           "x": [
            0.338829465316417
           ],
           "y": [
            0.7485448718070984
           ],
           "z": [
            0.512769578393889
           ]
          },
          {
           "marker": {
            "color": "magenta",
            "size": 5
           },
           "mode": "markers",
           "type": "scatter3d",
           "x": [
            -0.18960463964167348
           ],
           "y": [
            0.45635342597961426
           ],
           "z": [
            0.4310247879219522
           ]
          },
          {
           "marker": {
            "color": "lime",
            "size": 5
           },
           "mode": "markers",
           "type": "scatter3d",
           "x": [
            0.3848296870896216
           ],
           "y": [
            0.7782798409461975
           ],
           "z": [
            0.39011835661438354
           ]
          },
          {
           "marker": {
            "color": "magenta",
            "size": 5
           },
           "mode": "markers",
           "type": "scatter3d",
           "x": [
            -0.26982575171911527
           ],
           "y": [
            0.48656904697418213
           ],
           "z": [
            0.3350341732658773
           ]
          },
          {
           "marker": {
            "color": "lime",
            "size": 5
           },
           "mode": "markers",
           "type": "scatter3d",
           "x": [
            0.01031003072739363
           ],
           "y": [
            0.51717808842659
           ],
           "z": [
            0.3787644198298063
           ]
          },
          {
           "marker": {
            "color": "magenta",
            "size": 5
           },
           "mode": "markers",
           "type": "scatter3d",
           "x": [
            -0.3308843821078616
           ],
           "y": [
            0.4093383550643921
           ],
           "z": [
            0.43969107677184477
           ]
          },
          {
           "marker": {
            "color": "lime",
            "size": 5
           },
           "mode": "markers",
           "type": "scatter3d",
           "x": [
            0.1671401508124343
           ],
           "y": [
            0.4870809316635132
           ],
           "z": [
            0.21463245219797394
           ]
          },
          {
           "marker": {
            "color": "magenta",
            "size": 5
           },
           "mode": "markers",
           "type": "scatter3d",
           "x": [
            -0.45856460340919647
           ],
           "y": [
            0.223577618598938
           ],
           "z": [
            0.38794907344619983
           ]
          },
          {
           "marker": {
            "color": "lime",
            "size": 5
           },
           "mode": "markers",
           "type": "scatter3d",
           "x": [
            -0.10988762119147757
           ],
           "y": [
            0.6924864947795868
           ],
           "z": [
            0.16026738155152034
           ]
          },
          {
           "line": {
            "color": "silver",
            "width": 5
           },
           "mode": "lines",
           "type": "scatter3d",
           "x": [
            -0.25041571700216303,
            0.23496760894797736,
            0.01031003072739363,
            -0.26982575171911527,
            -0.25041571700216303
           ],
           "y": [
            0.681035578250885,
            0.7210554480552673,
            0.51717808842659,
            0.48656904697418213,
            0.681035578250885
           ],
           "z": [
            0.4901716619923338,
            0.6293678558187319,
            0.3787644198298063,
            0.3350341732658773,
            0.4901716619923338
           ]
          },
          {
           "line": {
            "color": "silver",
            "width": 5
           },
           "mode": "lines",
           "type": "scatter3d",
           "x": [
            -0.25041571700216303,
            -0.3025038882272277
           ],
           "y": [
            0.681035578250885,
            0.5689667463302612
           ],
           "z": [
            0.4901716619923338,
            0.39725549117047076
           ]
          },
          {
           "line": {
            "color": "silver",
            "width": 5
           },
           "mode": "lines",
           "type": "scatter3d",
           "x": [
            -0.18960463964167348,
            -0.3025038882272277
           ],
           "y": [
            0.45635342597961426,
            0.5689667463302612
           ],
           "z": [
            0.4310247879219522,
            0.39725549117047076
           ]
          },
          {
           "line": {
            "color": "silver",
            "width": 5
           },
           "mode": "lines",
           "type": "scatter3d",
           "x": [
            0.23496760894797736,
            0.338829465316417
           ],
           "y": [
            0.7210554480552673,
            0.7485448718070984
           ],
           "z": [
            0.6293678558187319,
            0.512769578393889
           ]
          },
          {
           "line": {
            "color": "silver",
            "width": 5
           },
           "mode": "lines",
           "type": "scatter3d",
           "x": [
            0.3848296870896216,
            0.338829465316417
           ],
           "y": [
            0.7782798409461975,
            0.7485448718070984
           ],
           "z": [
            0.39011835661438354,
            0.512769578393889
           ]
          },
          {
           "line": {
            "color": "silver",
            "width": 5
           },
           "mode": "lines",
           "type": "scatter3d",
           "x": [
            -0.26982575171911527,
            -0.3308843821078616
           ],
           "y": [
            0.48656904697418213,
            0.4093383550643921
           ],
           "z": [
            0.3350341732658773,
            0.43969107677184477
           ]
          },
          {
           "line": {
            "color": "silver",
            "width": 5
           },
           "mode": "lines",
           "type": "scatter3d",
           "x": [
            -0.45856460340919647,
            -0.3308843821078616
           ],
           "y": [
            0.223577618598938,
            0.4093383550643921
           ],
           "z": [
            0.38794907344619983,
            0.43969107677184477
           ]
          },
          {
           "line": {
            "color": "silver",
            "width": 5
           },
           "mode": "lines",
           "type": "scatter3d",
           "x": [
            0.01031003072739363,
            0.1671401508124343
           ],
           "y": [
            0.51717808842659,
            0.4870809316635132
           ],
           "z": [
            0.3787644198298063,
            0.21463245219797394
           ]
          },
          {
           "line": {
            "color": "silver",
            "width": 5
           },
           "mode": "lines",
           "type": "scatter3d",
           "x": [
            -0.10988762119147757,
            0.1671401508124343
           ],
           "y": [
            0.6924864947795868,
            0.4870809316635132
           ],
           "z": [
            0.16026738155152034,
            0.21463245219797394
           ]
          }
         ],
         "name": "frame11"
        },
        {
         "data": [
          {
           "marker": {
            "color": "black",
            "size": 5
           },
           "mode": "markers",
           "type": "scatter3d",
           "x": [
            -0.10433993437599307
           ],
           "y": [
            0.7310750484466553
           ],
           "z": [
            0.6843839385540437
           ]
          },
          {
           "marker": {
            "color": "magenta",
            "size": 5
           },
           "mode": "markers",
           "type": "scatter3d",
           "x": [
            -0.33172875542878044
           ],
           "y": [
            0.681035578250885
           ],
           "z": [
            0.43924062012034637
           ]
          },
          {
           "marker": {
            "color": "lime",
            "size": 5
           },
           "mode": "markers",
           "type": "scatter3d",
           "x": [
            0.12210934175364269
           ],
           "y": [
            0.7210554480552673
           ],
           "z": [
            0.6606080410115289
           ]
          },
          {
           "marker": {
            "color": "magenta",
            "size": 5
           },
           "mode": "markers",
           "type": "scatter3d",
           "x": [
            -0.36689086655244574
           ],
           "y": [
            0.5689667463302612
           ],
           "z": [
            0.3386910387035335
           ]
          },
          {
           "marker": {
            "color": "lime",
            "size": 5
           },
           "mode": "markers",
           "type": "scatter3d",
           "x": [
            0.24464038154144954
           ],
           "y": [
            0.7485448718070984
           ],
           "z": [
            0.5638165755031592
           ]
          },
          {
           "marker": {
            "color": "magenta",
            "size": 5
           },
           "mode": "markers",
           "type": "scatter3d",
           "x": [
            -0.26157078807812795
           ],
           "y": [
            0.45635342597961426
           ],
           "z": [
            0.39155205273500965
           ]
          },
          {
           "marker": {
            "color": "lime",
            "size": 5
           },
           "mode": "markers",
           "type": "scatter3d",
           "x": [
            0.31123991773461607
           ],
           "y": [
            0.7782798409461975
           ],
           "z": [
            0.45101655606147406
           ]
          },
          {
           "marker": {
            "color": "magenta",
            "size": 5
           },
           "mode": "markers",
           "type": "scatter3d",
           "x": [
            -0.323904565899098
           ],
           "y": [
            0.48656904697418213
           ],
           "z": [
            0.2830895012826375
           ]
          },
          {
           "marker": {
            "color": "lime",
            "size": 5
           },
           "mode": "markers",
           "type": "scatter3d",
           "x": [
            -0.0556183530743866
           ],
           "y": [
            0.51717808842659
           ],
           "z": [
            0.3748004552610661
           ]
          },
          {
           "marker": {
            "color": "magenta",
            "size": 5
           },
           "mode": "markers",
           "type": "scatter3d",
           "x": [
            -0.40220905906831717
           ],
           "y": [
            0.4093383550643921
           ],
           "z": [
            0.37555371136372034
           ]
          },
          {
           "marker": {
            "color": "lime",
            "size": 5
           },
           "mode": "markers",
           "type": "scatter3d",
           "x": [
            0.1273303821673523
           ],
           "y": [
            0.4870809316635132
           ],
           "z": [
            0.24039528557614198
           ]
          },
          {
           "marker": {
            "color": "magenta",
            "size": 5
           },
           "mode": "markers",
           "type": "scatter3d",
           "x": [
            -0.5189646263258517
           ],
           "y": [
            0.223577618598938
           ],
           "z": [
            0.30242634757915454
           ]
          },
          {
           "marker": {
            "color": "lime",
            "size": 5
           },
           "mode": "markers",
           "type": "scatter3d",
           "x": [
            -0.13604832005530781
           ],
           "y": [
            0.6924864947795868
           ],
           "z": [
            0.1387507747388489
           ]
          },
          {
           "line": {
            "color": "silver",
            "width": 5
           },
           "mode": "lines",
           "type": "scatter3d",
           "x": [
            -0.33172875542878044,
            0.12210934175364269,
            -0.0556183530743866,
            -0.323904565899098,
            -0.33172875542878044
           ],
           "y": [
            0.681035578250885,
            0.7210554480552673,
            0.51717808842659,
            0.48656904697418213,
            0.681035578250885
           ],
           "z": [
            0.43924062012034637,
            0.6606080410115289,
            0.3748004552610661,
            0.2830895012826375,
            0.43924062012034637
           ]
          },
          {
           "line": {
            "color": "silver",
            "width": 5
           },
           "mode": "lines",
           "type": "scatter3d",
           "x": [
            -0.33172875542878044,
            -0.36689086655244574
           ],
           "y": [
            0.681035578250885,
            0.5689667463302612
           ],
           "z": [
            0.43924062012034637,
            0.3386910387035335
           ]
          },
          {
           "line": {
            "color": "silver",
            "width": 5
           },
           "mode": "lines",
           "type": "scatter3d",
           "x": [
            -0.26157078807812795,
            -0.36689086655244574
           ],
           "y": [
            0.45635342597961426,
            0.5689667463302612
           ],
           "z": [
            0.39155205273500965,
            0.3386910387035335
           ]
          },
          {
           "line": {
            "color": "silver",
            "width": 5
           },
           "mode": "lines",
           "type": "scatter3d",
           "x": [
            0.12210934175364269,
            0.24464038154144954
           ],
           "y": [
            0.7210554480552673,
            0.7485448718070984
           ],
           "z": [
            0.6606080410115289,
            0.5638165755031592
           ]
          },
          {
           "line": {
            "color": "silver",
            "width": 5
           },
           "mode": "lines",
           "type": "scatter3d",
           "x": [
            0.31123991773461607,
            0.24464038154144954
           ],
           "y": [
            0.7782798409461975,
            0.7485448718070984
           ],
           "z": [
            0.45101655606147406,
            0.5638165755031592
           ]
          },
          {
           "line": {
            "color": "silver",
            "width": 5
           },
           "mode": "lines",
           "type": "scatter3d",
           "x": [
            -0.323904565899098,
            -0.40220905906831717
           ],
           "y": [
            0.48656904697418213,
            0.4093383550643921
           ],
           "z": [
            0.2830895012826375,
            0.37555371136372034
           ]
          },
          {
           "line": {
            "color": "silver",
            "width": 5
           },
           "mode": "lines",
           "type": "scatter3d",
           "x": [
            -0.5189646263258517,
            -0.40220905906831717
           ],
           "y": [
            0.223577618598938,
            0.4093383550643921
           ],
           "z": [
            0.30242634757915454,
            0.37555371136372034
           ]
          },
          {
           "line": {
            "color": "silver",
            "width": 5
           },
           "mode": "lines",
           "type": "scatter3d",
           "x": [
            -0.0556183530743866,
            0.1273303821673523
           ],
           "y": [
            0.51717808842659,
            0.4870809316635132
           ],
           "z": [
            0.3748004552610661,
            0.24039528557614198
           ]
          },
          {
           "line": {
            "color": "silver",
            "width": 5
           },
           "mode": "lines",
           "type": "scatter3d",
           "x": [
            -0.13604832005530781,
            0.1273303821673523
           ],
           "y": [
            0.6924864947795868,
            0.4870809316635132
           ],
           "z": [
            0.1387507747388489,
            0.24039528557614198
           ]
          }
         ],
         "name": "frame12"
        },
        {
         "data": [
          {
           "marker": {
            "color": "black",
            "size": 5
           },
           "mode": "markers",
           "type": "scatter3d",
           "x": [
            -0.22159680007668922
           ],
           "y": [
            0.7310750484466553
           ],
           "z": [
            0.6558681692627744
           ]
          },
          {
           "marker": {
            "color": "magenta",
            "size": 5
           },
           "mode": "markers",
           "type": "scatter3d",
           "x": [
            -0.40296238348454416
           ],
           "y": [
            0.681035578250885
           ],
           "z": [
            0.3749634742724805
           ]
          },
          {
           "marker": {
            "color": "lime",
            "size": 5
           },
           "mode": "markers",
           "type": "scatter3d",
           "x": [
            0.005540844000431755
           ],
           "y": [
            0.7210554480552673
           ],
           "z": [
            0.6717759851619887
           ]
          },
          {
           "marker": {
            "color": "magenta",
            "size": 5
           },
           "mode": "markers",
           "type": "scatter3d",
           "x": [
            -0.4201300515532044
           ],
           "y": [
            0.5689667463302612
           ],
           "z": [
            0.26983563041152436
           ]
          },
          {
           "marker": {
            "color": "lime",
            "size": 5
           },
           "mode": "markers",
           "type": "scatter3d",
           "x": [
            0.1430180235673512
           ],
           "y": [
            0.7485448718070984
           ],
           "z": [
            0.5977322912707195
           ]
          },
          {
           "marker": {
            "color": "magenta",
            "size": 5
           },
           "mode": "markers",
           "type": "scatter3d",
           "x": [
            -0.3255892404800339
           ],
           "y": [
            0.45635342597961426
           ],
           "z": [
            0.3401822065606126
           ]
          },
          {
           "marker": {
            "color": "lime",
            "size": 5
           },
           "mode": "markers",
           "type": "scatter3d",
           "x": [
            0.2281932809742417
           ],
           "y": [
            0.7782798409461975
           ],
           "z": [
            0.4982108456780263
           ]
          },
          {
           "marker": {
            "color": "magenta",
            "size": 5
           },
           "mode": "markers",
           "type": "scatter3d",
           "x": [
            -0.3681417037478555
           ],
           "y": [
            0.48656904697418213
           ],
           "z": [
            0.22254329805312423
           ]
          },
          {
           "marker": {
            "color": "lime",
            "size": 5
           },
           "mode": "markers",
           "type": "scatter3d",
           "x": [
            -0.11985680136224636
           ],
           "y": [
            0.51717808842659
           ],
           "z": [
            0.3594483685173999
           ]
          },
          {
           "marker": {
            "color": "magenta",
            "size": 5
           },
           "mode": "markers",
           "type": "scatter3d",
           "x": [
            -0.46131281729658635
           ],
           "y": [
            0.4093383550643921
           ],
           "z": [
            0.3000053364751566
           ]
          },
          {
           "marker": {
            "color": "lime",
            "size": 5
           },
           "mode": "markers",
           "type": "scatter3d",
           "x": [
            0.08365174429239752
           ],
           "y": [
            0.4870809316635132
           ],
           "z": [
            0.258853829847963
           ]
          },
          {
           "marker": {
            "color": "magenta",
            "size": 5
           },
           "mode": "markers",
           "type": "scatter3d",
           "x": [
            -0.563596171680368
           ],
           "y": [
            0.223577618598938
           ],
           "z": [
            0.20771455017603246
           ]
          },
          {
           "marker": {
            "color": "lime",
            "size": 5
           },
           "mode": "markers",
           "type": "scatter3d",
           "x": [
            -0.15807525955802929
           ],
           "y": [
            0.6924864947795868
           ],
           "z": [
            0.11301829584701727
           ]
          },
          {
           "line": {
            "color": "silver",
            "width": 5
           },
           "mode": "lines",
           "type": "scatter3d",
           "x": [
            -0.40296238348454416,
            0.005540844000431755,
            -0.11985680136224636,
            -0.3681417037478555,
            -0.40296238348454416
           ],
           "y": [
            0.681035578250885,
            0.7210554480552673,
            0.51717808842659,
            0.48656904697418213,
            0.681035578250885
           ],
           "z": [
            0.3749634742724805,
            0.6717759851619887,
            0.3594483685173999,
            0.22254329805312423,
            0.3749634742724805
           ]
          },
          {
           "line": {
            "color": "silver",
            "width": 5
           },
           "mode": "lines",
           "type": "scatter3d",
           "x": [
            -0.40296238348454416,
            -0.4201300515532044
           ],
           "y": [
            0.681035578250885,
            0.5689667463302612
           ],
           "z": [
            0.3749634742724805,
            0.26983563041152436
           ]
          },
          {
           "line": {
            "color": "silver",
            "width": 5
           },
           "mode": "lines",
           "type": "scatter3d",
           "x": [
            -0.3255892404800339,
            -0.4201300515532044
           ],
           "y": [
            0.45635342597961426,
            0.5689667463302612
           ],
           "z": [
            0.3401822065606126,
            0.26983563041152436
           ]
          },
          {
           "line": {
            "color": "silver",
            "width": 5
           },
           "mode": "lines",
           "type": "scatter3d",
           "x": [
            0.005540844000431755,
            0.1430180235673512
           ],
           "y": [
            0.7210554480552673,
            0.7485448718070984
           ],
           "z": [
            0.6717759851619887,
            0.5977322912707195
           ]
          },
          {
           "line": {
            "color": "silver",
            "width": 5
           },
           "mode": "lines",
           "type": "scatter3d",
           "x": [
            0.2281932809742417,
            0.1430180235673512
           ],
           "y": [
            0.7782798409461975,
            0.7485448718070984
           ],
           "z": [
            0.4982108456780263,
            0.5977322912707195
           ]
          },
          {
           "line": {
            "color": "silver",
            "width": 5
           },
           "mode": "lines",
           "type": "scatter3d",
           "x": [
            -0.3681417037478555,
            -0.46131281729658635
           ],
           "y": [
            0.48656904697418213,
            0.4093383550643921
           ],
           "z": [
            0.22254329805312423,
            0.3000053364751566
           ]
          },
          {
           "line": {
            "color": "silver",
            "width": 5
           },
           "mode": "lines",
           "type": "scatter3d",
           "x": [
            -0.563596171680368,
            -0.46131281729658635
           ],
           "y": [
            0.223577618598938,
            0.4093383550643921
           ],
           "z": [
            0.20771455017603246,
            0.3000053364751566
           ]
          },
          {
           "line": {
            "color": "silver",
            "width": 5
           },
           "mode": "lines",
           "type": "scatter3d",
           "x": [
            -0.11985680136224636,
            0.08365174429239752
           ],
           "y": [
            0.51717808842659,
            0.4870809316635132
           ],
           "z": [
            0.3594483685173999,
            0.258853829847963
           ]
          },
          {
           "line": {
            "color": "silver",
            "width": 5
           },
           "mode": "lines",
           "type": "scatter3d",
           "x": [
            -0.15807525955802929,
            0.08365174429239752
           ],
           "y": [
            0.6924864947795868,
            0.4870809316635132
           ],
           "z": [
            0.11301829584701727,
            0.258853829847963
           ]
          }
         ],
         "name": "frame13"
        },
        {
         "data": [
          {
           "marker": {
            "color": "black",
            "size": 5
           },
           "mode": "markers",
           "type": "scatter3d",
           "x": [
            -0.33212055914044625
           ],
           "y": [
            0.7310750484466552
           ],
           "z": [
            0.6074241775337632
           ]
          },
          {
           "marker": {
            "color": "magenta",
            "size": 5
           },
           "mode": "markers",
           "type": "scatter3d",
           "x": [
            -0.4619522034269347
           ],
           "y": [
            0.6810355782508849
           ],
           "z": [
            0.2992932529995187
           ]
          },
          {
           "marker": {
            "color": "lime",
            "size": 5
           },
           "mode": "markers",
           "type": "scatter3d",
           "x": [
            -0.11119600949392966
           ],
           "y": [
            0.7210554480552672
           ],
           "z": [
            0.6625323559383522
           ]
          },
          {
           "marker": {
            "color": "magenta",
            "size": 5
           },
           "mode": "markers",
           "type": "scatter3d",
           "x": [
            -0.4606037975335828
           ],
           "y": [
            0.5689667463302611
           ],
           "z": [
            0.19278140303287863
           ]
          },
          {
           "marker": {
            "color": "lime",
            "size": 5
           },
           "mode": "markers",
           "type": "scatter3d",
           "x": [
            0.037050135317771016
           ],
           "y": [
            0.7485448718070983
           ],
           "z": [
            0.6134862138351524
           ]
          },
          {
           "marker": {
            "color": "magenta",
            "size": 5
           },
           "mode": "markers",
           "type": "scatter3d",
           "x": [
            -0.37971482856605926
           ],
           "y": [
            0.4563534259796142
           ],
           "z": [
            0.27847609618037394
           ]
          },
          {
           "marker": {
            "color": "lime",
            "size": 5
           },
           "mode": "markers",
           "type": "scatter3d",
           "x": [
            0.13821310684283702
           ],
           "y": [
            0.7782798409461974
           ],
           "z": [
            0.5302672508555039
           ]
          },
          {
           "marker": {
            "color": "magenta",
            "size": 5
           },
           "mode": "markers",
           "type": "scatter3d",
           "x": [
            -0.40119304221692503
           ],
           "y": [
            0.4865690469741821
           ],
           "z": [
            0.15523522932460937
           ]
          },
          {
           "marker": {
            "color": "lime",
            "size": 5
           },
           "mode": "markers",
           "type": "scatter3d",
           "x": [
            -0.180453461391182
           ],
           "y": [
            0.5171780884265899
           ],
           "z": [
            0.3331746249859834
           ]
          },
          {
           "marker": {
            "color": "magenta",
            "size": 5
           },
           "mode": "markers",
           "type": "scatter3d",
           "x": [
            -0.5063998190068476
           ],
           "y": [
            0.40933835506439203
           ],
           "z": [
            0.21534145124782073
           ]
          },
          {
           "marker": {
            "color": "lime",
            "size": 5
           },
           "mode": "markers",
           "type": "scatter3d",
           "x": [
            0.03743139049694341
           ],
           "y": [
            0.48708093166351313
           ],
           "z": [
            0.26944723148621175
           ]
          },
          {
           "marker": {
            "color": "magenta",
            "size": 5
           },
           "mode": "markers",
           "type": "scatter3d",
           "x": [
            -0.5911031325518001
           ],
           "y": [
            0.22357761859893796
           ],
           "z": [
            0.1066914512744459
           ]
          },
          {
           "marker": {
            "color": "lime",
            "size": 5
           },
           "mode": "markers",
           "type": "scatter3d",
           "x": [
            -0.17529916228902093
           ],
           "y": [
            0.6924864947795867
           ],
           "z": [
            0.08385181322589129
           ]
          },
          {
           "line": {
            "color": "silver",
            "width": 5
           },
           "mode": "lines",
           "type": "scatter3d",
           "x": [
            -0.4619522034269347,
            -0.11119600949392966,
            -0.180453461391182,
            -0.40119304221692503,
            -0.4619522034269347
           ],
           "y": [
            0.6810355782508849,
            0.7210554480552672,
            0.5171780884265899,
            0.4865690469741821,
            0.6810355782508849
           ],
           "z": [
            0.2992932529995187,
            0.6625323559383522,
            0.3331746249859834,
            0.15523522932460937,
            0.2992932529995187
           ]
          },
          {
           "line": {
            "color": "silver",
            "width": 5
           },
           "mode": "lines",
           "type": "scatter3d",
           "x": [
            -0.4619522034269347,
            -0.4606037975335828
           ],
           "y": [
            0.6810355782508849,
            0.5689667463302611
           ],
           "z": [
            0.2992932529995187,
            0.19278140303287863
           ]
          },
          {
           "line": {
            "color": "silver",
            "width": 5
           },
           "mode": "lines",
           "type": "scatter3d",
           "x": [
            -0.37971482856605926,
            -0.4606037975335828
           ],
           "y": [
            0.4563534259796142,
            0.5689667463302611
           ],
           "z": [
            0.27847609618037394,
            0.19278140303287863
           ]
          },
          {
           "line": {
            "color": "silver",
            "width": 5
           },
           "mode": "lines",
           "type": "scatter3d",
           "x": [
            -0.11119600949392966,
            0.037050135317771016
           ],
           "y": [
            0.7210554480552672,
            0.7485448718070983
           ],
           "z": [
            0.6625323559383522,
            0.6134862138351524
           ]
          },
          {
           "line": {
            "color": "silver",
            "width": 5
           },
           "mode": "lines",
           "type": "scatter3d",
           "x": [
            0.13821310684283702,
            0.037050135317771016
           ],
           "y": [
            0.7782798409461974,
            0.7485448718070983
           ],
           "z": [
            0.5302672508555039,
            0.6134862138351524
           ]
          },
          {
           "line": {
            "color": "silver",
            "width": 5
           },
           "mode": "lines",
           "type": "scatter3d",
           "x": [
            -0.40119304221692503,
            -0.5063998190068476
           ],
           "y": [
            0.4865690469741821,
            0.40933835506439203
           ],
           "z": [
            0.15523522932460937,
            0.21534145124782073
           ]
          },
          {
           "line": {
            "color": "silver",
            "width": 5
           },
           "mode": "lines",
           "type": "scatter3d",
           "x": [
            -0.5911031325518001,
            -0.5063998190068476
           ],
           "y": [
            0.22357761859893796,
            0.40933835506439203
           ],
           "z": [
            0.1066914512744459,
            0.21534145124782073
           ]
          },
          {
           "line": {
            "color": "silver",
            "width": 5
           },
           "mode": "lines",
           "type": "scatter3d",
           "x": [
            -0.180453461391182,
            0.03743139049694341
           ],
           "y": [
            0.5171780884265899,
            0.48708093166351313
           ],
           "z": [
            0.3331746249859834,
            0.26944723148621175
           ]
          },
          {
           "line": {
            "color": "silver",
            "width": 5
           },
           "mode": "lines",
           "type": "scatter3d",
           "x": [
            -0.17529916228902093,
            0.03743139049694341
           ],
           "y": [
            0.6924864947795867,
            0.48708093166351313
           ],
           "z": [
            0.08385181322589129,
            0.26944723148621175
           ]
          }
         ],
         "name": "frame14"
        },
        {
         "data": [
          {
           "marker": {
            "color": "black",
            "size": 5
           },
           "mode": "markers",
           "type": "scatter3d",
           "x": [
            -0.4325530030758333
           ],
           "y": [
            0.7310750484466553
           ],
           "z": [
            0.5405239095418534
           ]
          },
          {
           "marker": {
            "color": "magenta",
            "size": 5
           },
           "mode": "markers",
           "type": "scatter3d",
           "x": [
            -0.5069058394272921
           ],
           "y": [
            0.681035578250885
           ],
           "z": [
            0.2145291576838598
           ]
          },
          {
           "marker": {
            "color": "lime",
            "size": 5
           },
           "mode": "markers",
           "type": "scatter3d",
           "x": [
            -0.22455422850771425
           ],
           "y": [
            0.7210554480552673
           ],
           "z": [
            0.6331580163370776
           ]
          },
          {
           "marker": {
            "color": "magenta",
            "size": 5
           },
           "mode": "markers",
           "type": "scatter3d",
           "x": [
            -0.4870823302026712
           ],
           "y": [
            0.5689667463302612
           ],
           "z": [
            0.10986961027517553
           ]
          },
          {
           "marker": {
            "color": "lime",
            "size": 5
           },
           "mode": "markers",
           "type": "scatter3d",
           "x": [
            -0.07004350254516689
           ],
           "y": [
            0.7485448718070984
           ],
           "z": [
            0.6105996682312077
           ]
          },
          {
           "marker": {
            "color": "magenta",
            "size": 5
           },
           "mode": "markers",
           "type": "scatter3d",
           "x": [
            -0.4223029737310795
           ],
           "y": [
            0.45635342597961426
           ],
           "z": [
            0.2083086305333984
           ]
          },
          {
           "marker": {
            "color": "lime",
            "size": 5
           },
           "mode": "markers",
           "type": "scatter3d",
           "x": [
            0.044033397399219104
           ],
           "y": [
            0.7782798409461975
           ],
           "z": [
            0.5462117539439131
           ]
          },
          {
           "marker": {
            "color": "magenta",
            "size": 5
           },
           "mode": "markers",
           "type": "scatter3d",
           "x": [
            -0.42205433311170837
           ],
           "y": [
            0.48656904697418213
           ],
           "z": [
            0.08321041670588236
           ]
          },
          {
           "marker": {
            "color": "lime",
            "size": 5
           },
           "mode": "markers",
           "type": "scatter3d",
           "x": [
            -0.2355671343096043
           ],
           "y": [
            0.51717808842659
           ],
           "z": [
            0.2967775390688628
           ]
          },
          {
           "marker": {
            "color": "magenta",
            "size": 5
           },
           "mode": "markers",
           "type": "scatter3d",
           "x": [
            -0.5361001184672587
           ],
           "y": [
            0.4093383550643921
           ],
           "z": [
            0.12413452499235159
           ]
          },
          {
           "marker": {
            "color": "lime",
            "size": 5
           },
           "mode": "markers",
           "type": "scatter3d",
           "x": [
            -0.009926297157562922
           ],
           "y": [
            0.4870809316635132
           ],
           "z": [
            0.2718536153426299
           ]
          },
          {
           "marker": {
            "color": "magenta",
            "size": 5
           },
           "mode": "markers",
           "type": "scatter3d",
           "x": [
            -0.6006497238532633
           ],
           "y": [
            0.223577618598938
           ],
           "z": [
            0.0024265866143642345
           ]
          },
          {
           "marker": {
            "color": "lime",
            "size": 5
           },
           "mode": "markers",
           "type": "scatter3d",
           "x": [
            -0.18719668867951697
           ],
           "y": [
            0.6924864947795868
           ],
           "z": [
            0.05213753569096133
           ]
          },
          {
           "line": {
            "color": "silver",
            "width": 5
           },
           "mode": "lines",
           "type": "scatter3d",
           "x": [
            -0.5069058394272921,
            -0.22455422850771425,
            -0.2355671343096043,
            -0.42205433311170837,
            -0.5069058394272921
           ],
           "y": [
            0.681035578250885,
            0.7210554480552673,
            0.51717808842659,
            0.48656904697418213,
            0.681035578250885
           ],
           "z": [
            0.2145291576838598,
            0.6331580163370776,
            0.2967775390688628,
            0.08321041670588236,
            0.2145291576838598
           ]
          },
          {
           "line": {
            "color": "silver",
            "width": 5
           },
           "mode": "lines",
           "type": "scatter3d",
           "x": [
            -0.5069058394272921,
            -0.4870823302026712
           ],
           "y": [
            0.681035578250885,
            0.5689667463302612
           ],
           "z": [
            0.2145291576838598,
            0.10986961027517553
           ]
          },
          {
           "line": {
            "color": "silver",
            "width": 5
           },
           "mode": "lines",
           "type": "scatter3d",
           "x": [
            -0.4223029737310795,
            -0.4870823302026712
           ],
           "y": [
            0.45635342597961426,
            0.5689667463302612
           ],
           "z": [
            0.2083086305333984,
            0.10986961027517553
           ]
          },
          {
           "line": {
            "color": "silver",
            "width": 5
           },
           "mode": "lines",
           "type": "scatter3d",
           "x": [
            -0.22455422850771425,
            -0.07004350254516689
           ],
           "y": [
            0.7210554480552673,
            0.7485448718070984
           ],
           "z": [
            0.6331580163370776,
            0.6105996682312077
           ]
          },
          {
           "line": {
            "color": "silver",
            "width": 5
           },
           "mode": "lines",
           "type": "scatter3d",
           "x": [
            0.044033397399219104,
            -0.07004350254516689
           ],
           "y": [
            0.7782798409461975,
            0.7485448718070984
           ],
           "z": [
            0.5462117539439131,
            0.6105996682312077
           ]
          },
          {
           "line": {
            "color": "silver",
            "width": 5
           },
           "mode": "lines",
           "type": "scatter3d",
           "x": [
            -0.42205433311170837,
            -0.5361001184672587
           ],
           "y": [
            0.48656904697418213,
            0.4093383550643921
           ],
           "z": [
            0.08321041670588236,
            0.12413452499235159
           ]
          },
          {
           "line": {
            "color": "silver",
            "width": 5
           },
           "mode": "lines",
           "type": "scatter3d",
           "x": [
            -0.6006497238532633,
            -0.5361001184672587
           ],
           "y": [
            0.223577618598938,
            0.4093383550643921
           ],
           "z": [
            0.0024265866143642345,
            0.12413452499235159
           ]
          },
          {
           "line": {
            "color": "silver",
            "width": 5
           },
           "mode": "lines",
           "type": "scatter3d",
           "x": [
            -0.2355671343096043,
            -0.009926297157562922
           ],
           "y": [
            0.51717808842659,
            0.4870809316635132
           ],
           "z": [
            0.2967775390688628,
            0.2718536153426299
           ]
          },
          {
           "line": {
            "color": "silver",
            "width": 5
           },
           "mode": "lines",
           "type": "scatter3d",
           "x": [
            -0.18719668867951697,
            -0.009926297157562922
           ],
           "y": [
            0.6924864947795868,
            0.4870809316635132
           ],
           "z": [
            0.05213753569096133,
            0.2718536153426299
           ]
          }
         ],
         "name": "frame15"
        },
        {
         "data": [
          {
           "marker": {
            "color": "black",
            "size": 5
           },
           "mode": "markers",
           "type": "scatter3d",
           "x": [
            -0.5198425428951415
           ],
           "y": [
            0.7310750484466552
           ],
           "z": [
            0.4572000960768101
           ]
          },
          {
           "marker": {
            "color": "magenta",
            "size": 5
           },
           "mode": "markers",
           "type": "scatter3d",
           "x": [
            -0.5364573980033824
           ],
           "y": [
            0.6810355782508849
           ],
           "z": [
            0.12324670246896888
           ]
          },
          {
           "marker": {
            "color": "lime",
            "size": 5
           },
           "mode": "markers",
           "type": "scatter3d",
           "x": [
            -0.3310894809182139
           ],
           "y": [
            0.7210554480552672
           ],
           "z": [
            0.5845454908028163
           ]
          },
          {
           "marker": {
            "color": "magenta",
            "size": 5
           },
           "mode": "markers",
           "type": "scatter3d",
           "x": [
            -0.49876111274410306
           ],
           "y": [
            0.5689667463302611
           ],
           "z": [
            0.023619485005966806
           ]
          },
          {
           "marker": {
            "color": "lime",
            "size": 5
           },
           "mode": "markers",
           "type": "scatter3d",
           "x": [
            -0.17500890402699204
           ],
           "y": [
            0.7485448718070983
           ],
           "z": [
            0.5891603606863982
           ]
          },
          {
           "marker": {
            "color": "magenta",
            "size": 5
           },
           "mode": "markers",
           "type": "scatter3d",
           "x": [
            -0.45205965673489634
           ],
           "y": [
            0.4563534259796142
           ],
           "z": [
            0.13181181255691887
           ]
          },
          {
           "marker": {
            "color": "lime",
            "size": 5
           },
           "mode": "markers",
           "type": "scatter3d",
           "x": [
            -0.05148424454239958
           ],
           "y": [
            0.7782798409461974
           ],
           "z": [
            0.5455598892852203
           ]
          },
          {
           "marker": {
            "color": "magenta",
            "size": 5
           },
           "mode": "markers",
           "type": "scatter3d",
           "x": [
            -0.43009171666468987
           ],
           "y": [
            0.4865690469741821
           ],
           "z": [
            0.008657297682049842
           ]
          },
          {
           "marker": {
            "color": "lime",
            "size": 5
           },
           "mode": "markers",
           "type": "scatter3d",
           "x": [
            -0.2835232190547506
           ],
           "y": [
            0.5171780884265899
           ],
           "z": [
            0.25136301780381576
           ]
          },
          {
           "marker": {
            "color": "magenta",
            "size": 5
           },
           "mode": "markers",
           "type": "scatter3d",
           "x": [
            -0.5495112871077915
           ],
           "y": [
            0.40933835506439203
           ],
           "z": [
            0.029155834010090725
           ]
          },
          {
           "marker": {
            "color": "lime",
            "size": 5
           },
           "mode": "markers",
           "type": "scatter3d",
           "x": [
            -0.056982379295885316
           ],
           "y": [
            0.48708093166351313
           ],
           "z": [
            0.2659998646614293
           ]
          },
          {
           "marker": {
            "color": "magenta",
            "size": 5
           },
           "mode": "markers",
           "type": "scatter3d",
           "x": [
            -0.5919458772388708
           ],
           "y": [
            0.22357761859893796
           ],
           "z": [
            -0.10191200865208241
           ]
          },
          {
           "marker": {
            "color": "lime",
            "size": 5
           },
           "mode": "markers",
           "type": "scatter3d",
           "x": [
            -0.1934063384105809
           ],
           "y": [
            0.6924864947795867
           ],
           "z": [
            0.018839085516927645
           ]
          },
          {
           "line": {
            "color": "silver",
            "width": 5
           },
           "mode": "lines",
           "type": "scatter3d",
           "x": [
            -0.5364573980033824,
            -0.3310894809182139,
            -0.2835232190547506,
            -0.43009171666468987,
            -0.5364573980033824
           ],
           "y": [
            0.6810355782508849,
            0.7210554480552672,
            0.5171780884265899,
            0.4865690469741821,
            0.6810355782508849
           ],
           "z": [
            0.12324670246896888,
            0.5845454908028163,
            0.25136301780381576,
            0.008657297682049842,
            0.12324670246896888
           ]
          },
          {
           "line": {
            "color": "silver",
            "width": 5
           },
           "mode": "lines",
           "type": "scatter3d",
           "x": [
            -0.5364573980033824,
            -0.49876111274410306
           ],
           "y": [
            0.6810355782508849,
            0.5689667463302611
           ],
           "z": [
            0.12324670246896888,
            0.023619485005966806
           ]
          },
          {
           "line": {
            "color": "silver",
            "width": 5
           },
           "mode": "lines",
           "type": "scatter3d",
           "x": [
            -0.45205965673489634,
            -0.49876111274410306
           ],
           "y": [
            0.4563534259796142,
            0.5689667463302611
           ],
           "z": [
            0.13181181255691887,
            0.023619485005966806
           ]
          },
          {
           "line": {
            "color": "silver",
            "width": 5
           },
           "mode": "lines",
           "type": "scatter3d",
           "x": [
            -0.3310894809182139,
            -0.17500890402699204
           ],
           "y": [
            0.7210554480552672,
            0.7485448718070983
           ],
           "z": [
            0.5845454908028163,
            0.5891603606863982
           ]
          },
          {
           "line": {
            "color": "silver",
            "width": 5
           },
           "mode": "lines",
           "type": "scatter3d",
           "x": [
            -0.05148424454239958,
            -0.17500890402699204
           ],
           "y": [
            0.7782798409461974,
            0.7485448718070983
           ],
           "z": [
            0.5455598892852203,
            0.5891603606863982
           ]
          },
          {
           "line": {
            "color": "silver",
            "width": 5
           },
           "mode": "lines",
           "type": "scatter3d",
           "x": [
            -0.43009171666468987,
            -0.5495112871077915
           ],
           "y": [
            0.4865690469741821,
            0.40933835506439203
           ],
           "z": [
            0.008657297682049842,
            0.029155834010090725
           ]
          },
          {
           "line": {
            "color": "silver",
            "width": 5
           },
           "mode": "lines",
           "type": "scatter3d",
           "x": [
            -0.5919458772388708,
            -0.5495112871077915
           ],
           "y": [
            0.22357761859893796,
            0.40933835506439203
           ],
           "z": [
            -0.10191200865208241,
            0.029155834010090725
           ]
          },
          {
           "line": {
            "color": "silver",
            "width": 5
           },
           "mode": "lines",
           "type": "scatter3d",
           "x": [
            -0.2835232190547506,
            -0.056982379295885316
           ],
           "y": [
            0.5171780884265899,
            0.48708093166351313
           ],
           "z": [
            0.25136301780381576,
            0.2659998646614293
           ]
          },
          {
           "line": {
            "color": "silver",
            "width": 5
           },
           "mode": "lines",
           "type": "scatter3d",
           "x": [
            -0.1934063384105809,
            -0.056982379295885316
           ],
           "y": [
            0.6924864947795867,
            0.48708093166351313
           ],
           "z": [
            0.018839085516927645,
            0.2659998646614293
           ]
          }
         ],
         "name": "frame16"
        },
        {
         "data": [
          {
           "marker": {
            "color": "black",
            "size": 5
           },
           "mode": "markers",
           "type": "scatter3d",
           "x": [
            -0.5913369301016004
           ],
           "y": [
            0.7310750484466553
           ],
           "z": [
            0.35998448904688457
           ]
          },
          {
           "marker": {
            "color": "magenta",
            "size": 5
           },
           "mode": "markers",
           "type": "scatter3d",
           "x": [
            -0.5497089700016817
           ],
           "y": [
            0.681035578250885
           ],
           "z": [
            0.028219458565398745
           ]
          },
          {
           "marker": {
            "color": "lime",
            "size": 5
           },
           "mode": "markers",
           "type": "scatter3d",
           "x": [
            -0.42756474699037517
           ],
           "y": [
            0.7210554480552673
           ],
           "z": [
            0.5181718463248021
           ]
          },
          {
           "marker": {
            "color": "magenta",
            "size": 5
           },
           "mode": "markers",
           "type": "scatter3d",
           "x": [
            -0.4952852912601063
           ],
           "y": [
            0.5689667463302612
           ],
           "z": [
            -0.06334830636311228
           ]
          },
          {
           "marker": {
            "color": "lime",
            "size": 5
           },
           "mode": "markers",
           "type": "scatter3d",
           "x": [
            -0.2746567485187358
           ],
           "y": [
            0.7485448718070984
           ],
           "z": [
            0.5498197137116599
           ]
          },
          {
           "marker": {
            "color": "magenta",
            "size": 5
           },
           "mode": "markers",
           "type": "scatter3d",
           "x": [
            -0.4680807358220474
           ],
           "y": [
            0.45635342597961426
           ],
           "z": [
            0.05130995935589271
           ]
          },
          {
           "marker": {
            "color": "lime",
            "size": 5
           },
           "mode": "markers",
           "type": "scatter3d",
           "x": [
            -0.14543756376588246
           ],
           "y": [
            0.7782798409461975
           ],
           "z": [
            0.5283314634572205
           ]
          },
          {
           "marker": {
            "color": "magenta",
            "size": 5
           },
           "mode": "markers",
           "type": "scatter3d",
           "x": [
            -0.42506098104372453
           ],
           "y": [
            0.48656904697418213
           ],
           "z": [
            -0.06615886895104794
           ]
          },
          {
           "marker": {
            "color": "lime",
            "size": 5
           },
           "mode": "markers",
           "type": "scatter3d",
           "x": [
            -0.3228645942585898
           ],
           "y": [
            0.51717808842659
           ],
           "z": [
            0.19831095843862406
           ]
          },
          {
           "marker": {
            "color": "magenta",
            "size": 5
           },
           "mode": "markers",
           "type": "scatter3d",
           "x": [
            -0.5462258333556822
           ],
           "y": [
            0.4093383550643921
           ],
           "z": [
            -0.06670874223500309
           ]
          },
          {
           "marker": {
            "color": "lime",
            "size": 5
           },
           "mode": "markers",
           "type": "scatter3d",
           "x": [
            -0.10230708067377756
           ],
           "y": [
            0.4870809316635132
           ],
           "z": [
            0.25206384269491733
           ]
          },
          {
           "marker": {
            "color": "magenta",
            "size": 5
           },
           "mode": "markers",
           "type": "scatter3d",
           "x": [
            -0.5652560546836422
           ],
           "y": [
            0.223577618598938
           ],
           "z": [
            -0.20315405910560053
           ]
          },
          {
           "marker": {
            "color": "lime",
            "size": 5
           },
           "mode": "markers",
           "type": "scatter3d",
           "x": [
            -0.19373943441736885
           ],
           "y": [
            0.6924864947795868
           ],
           "z": [
            -0.015031780737500701
           ]
          },
          {
           "line": {
            "color": "silver",
            "width": 5
           },
           "mode": "lines",
           "type": "scatter3d",
           "x": [
            -0.5497089700016817,
            -0.42756474699037517,
            -0.3228645942585898,
            -0.42506098104372453,
            -0.5497089700016817
           ],
           "y": [
            0.681035578250885,
            0.7210554480552673,
            0.51717808842659,
            0.48656904697418213,
            0.681035578250885
           ],
           "z": [
            0.028219458565398745,
            0.5181718463248021,
            0.19831095843862406,
            -0.06615886895104794,
            0.028219458565398745
           ]
          },
          {
           "line": {
            "color": "silver",
            "width": 5
           },
           "mode": "lines",
           "type": "scatter3d",
           "x": [
            -0.5497089700016817,
            -0.4952852912601063
           ],
           "y": [
            0.681035578250885,
            0.5689667463302612
           ],
           "z": [
            0.028219458565398745,
            -0.06334830636311228
           ]
          },
          {
           "line": {
            "color": "silver",
            "width": 5
           },
           "mode": "lines",
           "type": "scatter3d",
           "x": [
            -0.4680807358220474,
            -0.4952852912601063
           ],
           "y": [
            0.45635342597961426,
            0.5689667463302612
           ],
           "z": [
            0.05130995935589271,
            -0.06334830636311228
           ]
          },
          {
           "line": {
            "color": "silver",
            "width": 5
           },
           "mode": "lines",
           "type": "scatter3d",
           "x": [
            -0.42756474699037517,
            -0.2746567485187358
           ],
           "y": [
            0.7210554480552673,
            0.7485448718070984
           ],
           "z": [
            0.5181718463248021,
            0.5498197137116599
           ]
          },
          {
           "line": {
            "color": "silver",
            "width": 5
           },
           "mode": "lines",
           "type": "scatter3d",
           "x": [
            -0.14543756376588246,
            -0.2746567485187358
           ],
           "y": [
            0.7782798409461975,
            0.7485448718070984
           ],
           "z": [
            0.5283314634572205,
            0.5498197137116599
           ]
          },
          {
           "line": {
            "color": "silver",
            "width": 5
           },
           "mode": "lines",
           "type": "scatter3d",
           "x": [
            -0.42506098104372453,
            -0.5462258333556822
           ],
           "y": [
            0.48656904697418213,
            0.4093383550643921
           ],
           "z": [
            -0.06615886895104794,
            -0.06670874223500309
           ]
          },
          {
           "line": {
            "color": "silver",
            "width": 5
           },
           "mode": "lines",
           "type": "scatter3d",
           "x": [
            -0.5652560546836422,
            -0.5462258333556822
           ],
           "y": [
            0.223577618598938,
            0.4093383550643921
           ],
           "z": [
            -0.20315405910560053,
            -0.06670874223500309
           ]
          },
          {
           "line": {
            "color": "silver",
            "width": 5
           },
           "mode": "lines",
           "type": "scatter3d",
           "x": [
            -0.3228645942585898,
            -0.10230708067377756
           ],
           "y": [
            0.51717808842659,
            0.4870809316635132
           ],
           "z": [
            0.19831095843862406,
            0.25206384269491733
           ]
          },
          {
           "line": {
            "color": "silver",
            "width": 5
           },
           "mode": "lines",
           "type": "scatter3d",
           "x": [
            -0.19373943441736885,
            -0.10230708067377756
           ],
           "y": [
            0.6924864947795868,
            0.4870809316635132
           ],
           "z": [
            -0.015031780737500701,
            0.25206384269491733
           ]
          }
         ],
         "name": "frame17"
        },
        {
         "data": [
          {
           "marker": {
            "color": "black",
            "size": 5
           },
           "mode": "markers",
           "type": "scatter3d",
           "x": [
            -0.6448638439178467
           ],
           "y": [
            0.7310750484466553
           ],
           "z": [
            0.25183093547821045
           ]
          },
          {
           "marker": {
            "color": "magenta",
            "size": 5
           },
           "mode": "markers",
           "type": "scatter3d",
           "x": [
            -0.5462579131126404
           ],
           "y": [
            0.681035578250885
           ],
           "z": [
            -0.06766521930694573
           ]
          },
          {
           "marker": {
            "color": "lime",
            "size": 5
           },
           "mode": "markers",
           "type": "scatter3d",
           "x": [
            -0.5110486745834351
           ],
           "y": [
            0.7210554480552673
           ],
           "z": [
            0.43605381250381475
           ]
          },
          {
           "marker": {
            "color": "magenta",
            "size": 5
           },
           "mode": "markers",
           "type": "scatter3d",
           "x": [
            -0.4767604768276214
           ],
           "y": [
            0.5689667463302612
           ],
           "z": [
            -0.14839129149913774
           ]
          },
          {
           "marker": {
            "color": "lime",
            "size": 5
           },
           "mode": "markers",
           "type": "scatter3d",
           "x": [
            -0.36595928668975825
           ],
           "y": [
            0.7485448718070984
           ],
           "z": [
            0.49377307295799255
           ]
          },
          {
           "marker": {
            "color": "magenta",
            "size": 5
           },
           "mode": "markers",
           "type": "scatter3d",
           "x": [
            -0.4698794186115265
           ],
           "y": [
            0.45635342597961426
           ],
           "z": [
            -0.030750920996069842
           ]
          },
          {
           "marker": {
            "color": "lime",
            "size": 5
           },
           "mode": "markers",
           "type": "scatter3d",
           "x": [
            -0.23497183620929704
           ],
           "y": [
            0.7782798409461975
           ],
           "z": [
            0.49504995346069336
           ]
          },
          {
           "marker": {
            "color": "magenta",
            "size": 5
           },
           "mode": "markers",
           "type": "scatter3d",
           "x": [
            -0.4071149826049804
           ],
           "y": [
            0.48656904697418213
           ],
           "z": [
            -0.13896483182907093
           ]
          },
          {
           "marker": {
            "color": "lime",
            "size": 5
           },
           "mode": "markers",
           "type": "scatter3d",
           "x": [
            -0.3523958921432495
           ],
           "y": [
            0.51717808842659
           ],
           "z": [
            0.13923332095146185
           ]
          },
          {
           "marker": {
            "color": "magenta",
            "size": 5
           },
           "mode": "markers",
           "type": "scatter3d",
           "x": [
            -0.526343584060669
           ],
           "y": [
            0.4093383550643921
           ],
           "z": [
            -0.16054640710353846
           ]
          },
          {
           "marker": {
            "color": "lime",
            "size": 5
           },
           "mode": "markers",
           "type": "scatter3d",
           "x": [
            -0.14452323317527768
           ],
           "y": [
            0.4870809316635132
           ],
           "z": [
            0.23046898841857913
           ]
          },
          {
           "marker": {
            "color": "magenta",
            "size": 5
           },
           "mode": "markers",
           "type": "scatter3d",
           "x": [
            -0.5213912129402161
           ],
           "y": [
            0.223577618598938
           ],
           "z": [
            -0.29822337627410883
           ]
          },
          {
           "marker": {
            "color": "lime",
            "size": 5
           },
           "mode": "markers",
           "type": "scatter3d",
           "x": [
            -0.1881858557462692
           ],
           "y": [
            0.6924864947795868
           ],
           "z": [
            -0.04844591394066808
           ]
          },
          {
           "line": {
            "color": "silver",
            "width": 5
           },
           "mode": "lines",
           "type": "scatter3d",
           "x": [
            -0.5462579131126404,
            -0.5110486745834351,
            -0.3523958921432495,
            -0.4071149826049804,
            -0.5462579131126404
           ],
           "y": [
            0.681035578250885,
            0.7210554480552673,
            0.51717808842659,
            0.48656904697418213,
            0.681035578250885
           ],
           "z": [
            -0.06766521930694573,
            0.43605381250381475,
            0.13923332095146185,
            -0.13896483182907093,
            -0.06766521930694573
           ]
          },
          {
           "line": {
            "color": "silver",
            "width": 5
           },
           "mode": "lines",
           "type": "scatter3d",
           "x": [
            -0.5462579131126404,
            -0.4767604768276214
           ],
           "y": [
            0.681035578250885,
            0.5689667463302612
           ],
           "z": [
            -0.06766521930694573,
            -0.14839129149913774
           ]
          },
          {
           "line": {
            "color": "silver",
            "width": 5
           },
           "mode": "lines",
           "type": "scatter3d",
           "x": [
            -0.4698794186115265,
            -0.4767604768276214
           ],
           "y": [
            0.45635342597961426,
            0.5689667463302612
           ],
           "z": [
            -0.030750920996069842,
            -0.14839129149913774
           ]
          },
          {
           "line": {
            "color": "silver",
            "width": 5
           },
           "mode": "lines",
           "type": "scatter3d",
           "x": [
            -0.5110486745834351,
            -0.36595928668975825
           ],
           "y": [
            0.7210554480552673,
            0.7485448718070984
           ],
           "z": [
            0.43605381250381475,
            0.49377307295799255
           ]
          },
          {
           "line": {
            "color": "silver",
            "width": 5
           },
           "mode": "lines",
           "type": "scatter3d",
           "x": [
            -0.23497183620929704,
            -0.36595928668975825
           ],
           "y": [
            0.7782798409461975,
            0.7485448718070984
           ],
           "z": [
            0.49504995346069336,
            0.49377307295799255
           ]
          },
          {
           "line": {
            "color": "silver",
            "width": 5
           },
           "mode": "lines",
           "type": "scatter3d",
           "x": [
            -0.4071149826049804,
            -0.526343584060669
           ],
           "y": [
            0.48656904697418213,
            0.4093383550643921
           ],
           "z": [
            -0.13896483182907093,
            -0.16054640710353846
           ]
          },
          {
           "line": {
            "color": "silver",
            "width": 5
           },
           "mode": "lines",
           "type": "scatter3d",
           "x": [
            -0.5213912129402161,
            -0.526343584060669
           ],
           "y": [
            0.223577618598938,
            0.4093383550643921
           ],
           "z": [
            -0.29822337627410883,
            -0.16054640710353846
           ]
          },
          {
           "line": {
            "color": "silver",
            "width": 5
           },
           "mode": "lines",
           "type": "scatter3d",
           "x": [
            -0.3523958921432495,
            -0.14452323317527768
           ],
           "y": [
            0.51717808842659,
            0.4870809316635132
           ],
           "z": [
            0.13923332095146185,
            0.23046898841857913
           ]
          },
          {
           "line": {
            "color": "silver",
            "width": 5
           },
           "mode": "lines",
           "type": "scatter3d",
           "x": [
            -0.1881858557462692,
            -0.14452323317527768
           ],
           "y": [
            0.6924864947795868,
            0.4870809316635132
           ],
           "z": [
            -0.04844591394066808,
            0.23046898841857913
           ]
          }
         ],
         "name": "frame18"
        },
        {
         "data": [
          {
           "marker": {
            "color": "black",
            "size": 5
           },
           "mode": "markers",
           "type": "scatter3d",
           "x": [
            -0.6787968961534995
           ],
           "y": [
            0.7310750484466553
           ],
           "z": [
            0.1360256263676328
           ]
          },
          {
           "marker": {
            "color": "magenta",
            "size": 5
           },
           "mode": "markers",
           "type": "scatter3d",
           "x": [
            -0.5262090859535131
           ],
           "y": [
            0.681035578250885
           ],
           "z": [
            -0.16149392373090202
           ]
          },
          {
           "marker": {
            "color": "lime",
            "size": 5
           },
           "mode": "markers",
           "type": "scatter3d",
           "x": [
            -0.5790046468023847
           ],
           "y": [
            0.7210554480552673
           ],
           "z": [
            0.3406865042437748
           ]
          },
          {
           "marker": {
            "color": "magenta",
            "size": 5
           },
           "mode": "markers",
           "type": "scatter3d",
           "x": [
            -0.4437495365591712
           ],
           "y": [
            0.5689667463302612
           ],
           "z": [
            -0.22892548233257876
           ]
          },
          {
           "marker": {
            "color": "lime",
            "size": 5
           },
           "mode": "markers",
           "type": "scatter3d",
           "x": [
            -0.44614233711904705
           ],
           "y": [
            0.7485448718070984
           ],
           "z": [
            0.42272338724372743
           ]
          },
          {
           "marker": {
            "color": "magenta",
            "size": 5
           },
           "mode": "markers",
           "type": "scatter3d",
           "x": [
            -0.45740105303695283
           ],
           "y": [
            0.45635342597961426
           ],
           "z": [
            -0.11187745017428388
           ]
          },
          {
           "marker": {
            "color": "lime",
            "size": 5
           },
           "mode": "markers",
           "type": "scatter3d",
           "x": [
            -0.3173666083109786
           ],
           "y": [
            0.7782798409461975
           ],
           "z": [
            0.4467266011356267
           ]
          },
          {
           "marker": {
            "color": "magenta",
            "size": 5
           },
           "mode": "markers",
           "type": "scatter3d",
           "x": [
            -0.3767990014299053
           ],
           "y": [
            0.48656904697418213
           ],
           "z": [
            -0.20754841861156575
           ]
          },
          {
           "marker": {
            "color": "lime",
            "size": 5
           },
           "mode": "markers",
           "type": "scatter3d",
           "x": [
            -0.37121981916606217
           ],
           "y": [
            0.51717808842659
           ],
           "z": [
            0.07592514946264925
           ]
          },
          {
           "marker": {
            "color": "magenta",
            "size": 5
           },
           "mode": "markers",
           "type": "scatter3d",
           "x": [
            -0.49046865130667705
           ],
           "y": [
            0.4093383550643921
           ],
           "z": [
            -0.24950595063263498
           ]
          },
          {
           "marker": {
            "color": "lime",
            "size": 5
           },
           "mode": "markers",
           "type": "scatter3d",
           "x": [
            -0.18234812036903184
           ],
           "y": [
            0.4870809316635132
           ],
           "z": [
            0.20187145055207767
           ]
          },
          {
           "marker": {
            "color": "magenta",
            "size": 5
           },
           "mode": "markers",
           "type": "scatter3d",
           "x": [
            -0.4616841630282856
           ],
           "y": [
            0.223577618598938
           ],
           "z": [
            -0.3842313270628384
           ]
          },
          {
           "marker": {
            "color": "lime",
            "size": 5
           },
           "mode": "markers",
           "type": "scatter3d",
           "x": [
            -0.17691434507495696
           ],
           "y": [
            0.6924864947795868
           ],
           "z": [
            -0.08038804256356366
           ]
          },
          {
           "line": {
            "color": "silver",
            "width": 5
           },
           "mode": "lines",
           "type": "scatter3d",
           "x": [
            -0.5262090859535131,
            -0.5790046468023847,
            -0.37121981916606217,
            -0.3767990014299053,
            -0.5262090859535131
           ],
           "y": [
            0.681035578250885,
            0.7210554480552673,
            0.51717808842659,
            0.48656904697418213,
            0.681035578250885
           ],
           "z": [
            -0.16149392373090202,
            0.3406865042437748,
            0.07592514946264925,
            -0.20754841861156575,
            -0.16149392373090202
           ]
          },
          {
           "line": {
            "color": "silver",
            "width": 5
           },
           "mode": "lines",
           "type": "scatter3d",
           "x": [
            -0.5262090859535131,
            -0.4437495365591712
           ],
           "y": [
            0.681035578250885,
            0.5689667463302612
           ],
           "z": [
            -0.16149392373090202,
            -0.22892548233257876
           ]
          },
          {
           "line": {
            "color": "silver",
            "width": 5
           },
           "mode": "lines",
           "type": "scatter3d",
           "x": [
            -0.45740105303695283,
            -0.4437495365591712
           ],
           "y": [
            0.45635342597961426,
            0.5689667463302612
           ],
           "z": [
            -0.11187745017428388,
            -0.22892548233257876
           ]
          },
          {
           "line": {
            "color": "silver",
            "width": 5
           },
           "mode": "lines",
           "type": "scatter3d",
           "x": [
            -0.5790046468023847,
            -0.44614233711904705
           ],
           "y": [
            0.7210554480552673,
            0.7485448718070984
           ],
           "z": [
            0.3406865042437748,
            0.42272338724372743
           ]
          },
          {
           "line": {
            "color": "silver",
            "width": 5
           },
           "mode": "lines",
           "type": "scatter3d",
           "x": [
            -0.3173666083109786,
            -0.44614233711904705
           ],
           "y": [
            0.7782798409461975,
            0.7485448718070984
           ],
           "z": [
            0.4467266011356267,
            0.42272338724372743
           ]
          },
          {
           "line": {
            "color": "silver",
            "width": 5
           },
           "mode": "lines",
           "type": "scatter3d",
           "x": [
            -0.3767990014299053,
            -0.49046865130667705
           ],
           "y": [
            0.48656904697418213,
            0.4093383550643921
           ],
           "z": [
            -0.20754841861156575,
            -0.24950595063263498
           ]
          },
          {
           "line": {
            "color": "silver",
            "width": 5
           },
           "mode": "lines",
           "type": "scatter3d",
           "x": [
            -0.4616841630282856,
            -0.49046865130667705
           ],
           "y": [
            0.223577618598938,
            0.4093383550643921
           ],
           "z": [
            -0.3842313270628384,
            -0.24950595063263498
           ]
          },
          {
           "line": {
            "color": "silver",
            "width": 5
           },
           "mode": "lines",
           "type": "scatter3d",
           "x": [
            -0.37121981916606217,
            -0.18234812036903184
           ],
           "y": [
            0.51717808842659,
            0.4870809316635132
           ],
           "z": [
            0.07592514946264925,
            0.20187145055207767
           ]
          },
          {
           "line": {
            "color": "silver",
            "width": 5
           },
           "mode": "lines",
           "type": "scatter3d",
           "x": [
            -0.17691434507495696,
            -0.18234812036903184
           ],
           "y": [
            0.6924864947795868,
            0.4870809316635132
           ],
           "z": [
            -0.08038804256356366,
            0.20187145055207767
           ]
          }
         ],
         "name": "frame19"
        },
        {
         "data": [
          {
           "marker": {
            "color": "black",
            "size": 5
           },
           "mode": "markers",
           "type": "scatter3d",
           "x": [
            -0.6921050481873311
           ],
           "y": [
            0.7310750484466552
           ],
           "z": [
            0.016087247432162943
           ]
          },
          {
           "marker": {
            "color": "magenta",
            "size": 5
           },
           "mode": "markers",
           "type": "scatter3d",
           "x": [
            -0.4901716619923336
           ],
           "y": [
            0.6810355782508849
           ],
           "z": [
            -0.25041571700216303
           ]
          },
          {
           "marker": {
            "color": "lime",
            "size": 5
           },
           "mode": "markers",
           "type": "scatter3d",
           "x": [
            -0.6293678558187319
           ],
           "y": [
            0.7210554480552672
           ],
           "z": [
            0.23496760894797727
           ]
          },
          {
           "marker": {
            "color": "magenta",
            "size": 5
           },
           "mode": "markers",
           "type": "scatter3d",
           "x": [
            -0.39725549117047065
           ],
           "y": [
            0.5689667463302611
           ],
           "z": [
            -0.3025038882272277
           ]
          },
          {
           "marker": {
            "color": "lime",
            "size": 5
           },
           "mode": "markers",
           "type": "scatter3d",
           "x": [
            -0.512769578393889
           ],
           "y": [
            0.7485448718070983
           ],
           "z": [
            0.3388294653164169
           ]
          },
          {
           "marker": {
            "color": "magenta",
            "size": 5
           },
           "mode": "markers",
           "type": "scatter3d",
           "x": [
            -0.4310247879219521
           ],
           "y": [
            0.4563534259796142
           ],
           "z": [
            -0.1896046396416735
           ]
          },
          {
           "marker": {
            "color": "lime",
            "size": 5
           },
           "mode": "markers",
           "type": "scatter3d",
           "x": [
            -0.39011835661438354
           ],
           "y": [
            0.7782798409461974
           ],
           "z": [
            0.3848296870896215
           ]
          },
          {
           "marker": {
            "color": "magenta",
            "size": 5
           },
           "mode": "markers",
           "type": "scatter3d",
           "x": [
            -0.33503417326587726
           ],
           "y": [
            0.4865690469741821
           ],
           "z": [
            -0.26982575171911527
           ]
          },
          {
           "marker": {
            "color": "lime",
            "size": 5
           },
           "mode": "markers",
           "type": "scatter3d",
           "x": [
            -0.3787644198298062
           ],
           "y": [
            0.5171780884265899
           ],
           "z": [
            0.010310030727393588
           ]
          },
          {
           "marker": {
            "color": "magenta",
            "size": 5
           },
           "mode": "markers",
           "type": "scatter3d",
           "x": [
            -0.43969107677184466
           ],
           "y": [
            0.40933835506439203
           ],
           "z": [
            -0.3308843821078616
           ]
          },
          {
           "marker": {
            "color": "lime",
            "size": 5
           },
           "mode": "markers",
           "type": "scatter3d",
           "x": [
            -0.21463245219797394
           ],
           "y": [
            0.48708093166351313
           ],
           "z": [
            0.16714015081243422
           ]
          },
          {
           "marker": {
            "color": "magenta",
            "size": 5
           },
           "mode": "markers",
           "type": "scatter3d",
           "x": [
            -0.3879490734461997
           ],
           "y": [
            0.22357761859893796
           ],
           "z": [
            -0.45856460340919636
           ]
          },
          {
           "marker": {
            "color": "lime",
            "size": 5
           },
           "mode": "markers",
           "type": "scatter3d",
           "x": [
            -0.16026738155152026
           ],
           "y": [
            0.6924864947795867
           ],
           "z": [
            -0.10988762119147757
           ]
          },
          {
           "line": {
            "color": "silver",
            "width": 5
           },
           "mode": "lines",
           "type": "scatter3d",
           "x": [
            -0.4901716619923336,
            -0.6293678558187319,
            -0.3787644198298062,
            -0.33503417326587726,
            -0.4901716619923336
           ],
           "y": [
            0.6810355782508849,
            0.7210554480552672,
            0.5171780884265899,
            0.4865690469741821,
            0.6810355782508849
           ],
           "z": [
            -0.25041571700216303,
            0.23496760894797727,
            0.010310030727393588,
            -0.26982575171911527,
            -0.25041571700216303
           ]
          },
          {
           "line": {
            "color": "silver",
            "width": 5
           },
           "mode": "lines",
           "type": "scatter3d",
           "x": [
            -0.4901716619923336,
            -0.39725549117047065
           ],
           "y": [
            0.6810355782508849,
            0.5689667463302611
           ],
           "z": [
            -0.25041571700216303,
            -0.3025038882272277
           ]
          },
          {
           "line": {
            "color": "silver",
            "width": 5
           },
           "mode": "lines",
           "type": "scatter3d",
           "x": [
            -0.4310247879219521,
            -0.39725549117047065
           ],
           "y": [
            0.4563534259796142,
            0.5689667463302611
           ],
           "z": [
            -0.1896046396416735,
            -0.3025038882272277
           ]
          },
          {
           "line": {
            "color": "silver",
            "width": 5
           },
           "mode": "lines",
           "type": "scatter3d",
           "x": [
            -0.6293678558187319,
            -0.512769578393889
           ],
           "y": [
            0.7210554480552672,
            0.7485448718070983
           ],
           "z": [
            0.23496760894797727,
            0.3388294653164169
           ]
          },
          {
           "line": {
            "color": "silver",
            "width": 5
           },
           "mode": "lines",
           "type": "scatter3d",
           "x": [
            -0.39011835661438354,
            -0.512769578393889
           ],
           "y": [
            0.7782798409461974,
            0.7485448718070983
           ],
           "z": [
            0.3848296870896215,
            0.3388294653164169
           ]
          },
          {
           "line": {
            "color": "silver",
            "width": 5
           },
           "mode": "lines",
           "type": "scatter3d",
           "x": [
            -0.33503417326587726,
            -0.43969107677184466
           ],
           "y": [
            0.4865690469741821,
            0.40933835506439203
           ],
           "z": [
            -0.26982575171911527,
            -0.3308843821078616
           ]
          },
          {
           "line": {
            "color": "silver",
            "width": 5
           },
           "mode": "lines",
           "type": "scatter3d",
           "x": [
            -0.3879490734461997,
            -0.43969107677184466
           ],
           "y": [
            0.22357761859893796,
            0.40933835506439203
           ],
           "z": [
            -0.45856460340919636,
            -0.3308843821078616
           ]
          },
          {
           "line": {
            "color": "silver",
            "width": 5
           },
           "mode": "lines",
           "type": "scatter3d",
           "x": [
            -0.3787644198298062,
            -0.21463245219797394
           ],
           "y": [
            0.5171780884265899,
            0.48708093166351313
           ],
           "z": [
            0.010310030727393588,
            0.16714015081243422
           ]
          },
          {
           "line": {
            "color": "silver",
            "width": 5
           },
           "mode": "lines",
           "type": "scatter3d",
           "x": [
            -0.16026738155152026,
            -0.21463245219797394
           ],
           "y": [
            0.6924864947795867,
            0.48708093166351313
           ],
           "z": [
            -0.10988762119147757,
            0.16714015081243422
           ]
          }
         ],
         "name": "frame20"
        },
        {
         "data": [
          {
           "marker": {
            "color": "black",
            "size": 5
           },
           "mode": "markers",
           "type": "scatter3d",
           "x": [
            -0.6843839385540437
           ],
           "y": [
            0.7310750484466554
           ],
           "z": [
            -0.10433993437599343
           ]
          },
          {
           "marker": {
            "color": "magenta",
            "size": 5
           },
           "mode": "markers",
           "type": "scatter3d",
           "x": [
            -0.4392406201203463
           ],
           "y": [
            0.6810355782508851
           ],
           "z": [
            -0.33172875542878066
           ]
          },
          {
           "marker": {
            "color": "lime",
            "size": 5
           },
           "mode": "markers",
           "type": "scatter3d",
           "x": [
            -0.660608041011529
           ],
           "y": [
            0.7210554480552674
           ],
           "z": [
            0.12210934175364241
           ]
          },
          {
           "marker": {
            "color": "magenta",
            "size": 5
           },
           "mode": "markers",
           "type": "scatter3d",
           "x": [
            -0.3386910387035334
           ],
           "y": [
            0.5689667463302613
           ],
           "z": [
            -0.36689086655244596
           ]
          },
          {
           "marker": {
            "color": "lime",
            "size": 5
           },
           "mode": "markers",
           "type": "scatter3d",
           "x": [
            -0.5638165755031594
           ],
           "y": [
            0.7485448718070985
           ],
           "z": [
            0.24464038154144932
           ]
          },
          {
           "marker": {
            "color": "magenta",
            "size": 5
           },
           "mode": "markers",
           "type": "scatter3d",
           "x": [
            -0.3915520527350096
           ],
           "y": [
            0.45635342597961437
           ],
           "z": [
            -0.26157078807812817
           ]
          },
          {
           "marker": {
            "color": "lime",
            "size": 5
           },
           "mode": "markers",
           "type": "scatter3d",
           "x": [
            -0.4510165560614743
           ],
           "y": [
            0.7782798409461977
           ],
           "z": [
            0.3112399177346159
           ]
          },
          {
           "marker": {
            "color": "magenta",
            "size": 5
           },
           "mode": "markers",
           "type": "scatter3d",
           "x": [
            -0.2830895012826374
           ],
           "y": [
            0.48656904697418224
           ],
           "z": [
            -0.3239045658990981
           ]
          },
          {
           "marker": {
            "color": "lime",
            "size": 5
           },
           "mode": "markers",
           "type": "scatter3d",
           "x": [
            -0.3748004552610661
           ],
           "y": [
            0.5171780884265901
           ],
           "z": [
            -0.0556183530743868
           ]
          },
          {
           "marker": {
            "color": "magenta",
            "size": 5
           },
           "mode": "markers",
           "type": "scatter3d",
           "x": [
            -0.3755537113637202
           ],
           "y": [
            0.4093383550643922
           ],
           "z": [
            -0.4022090590683174
           ]
          },
          {
           "marker": {
            "color": "lime",
            "size": 5
           },
           "mode": "markers",
           "type": "scatter3d",
           "x": [
            -0.24039528557614206
           ],
           "y": [
            0.4870809316635133
           ],
           "z": [
            0.1273303821673522
           ]
          },
          {
           "marker": {
            "color": "magenta",
            "size": 5
           },
           "mode": "markers",
           "type": "scatter3d",
           "x": [
            -0.3024263475791544
           ],
           "y": [
            0.22357761859893804
           ],
           "z": [
            -0.5189646263258518
           ]
          },
          {
           "marker": {
            "color": "lime",
            "size": 5
           },
           "mode": "markers",
           "type": "scatter3d",
           "x": [
            -0.13875077473884886
           ],
           "y": [
            0.6924864947795869
           ],
           "z": [
            -0.1360483200553079
           ]
          },
          {
           "line": {
            "color": "silver",
            "width": 5
           },
           "mode": "lines",
           "type": "scatter3d",
           "x": [
            -0.4392406201203463,
            -0.660608041011529,
            -0.3748004552610661,
            -0.2830895012826374,
            -0.4392406201203463
           ],
           "y": [
            0.6810355782508851,
            0.7210554480552674,
            0.5171780884265901,
            0.48656904697418224,
            0.6810355782508851
           ],
           "z": [
            -0.33172875542878066,
            0.12210934175364241,
            -0.0556183530743868,
            -0.3239045658990981,
            -0.33172875542878066
           ]
          },
          {
           "line": {
            "color": "silver",
            "width": 5
           },
           "mode": "lines",
           "type": "scatter3d",
           "x": [
            -0.4392406201203463,
            -0.3386910387035334
           ],
           "y": [
            0.6810355782508851,
            0.5689667463302613
           ],
           "z": [
            -0.33172875542878066,
            -0.36689086655244596
           ]
          },
          {
           "line": {
            "color": "silver",
            "width": 5
           },
           "mode": "lines",
           "type": "scatter3d",
           "x": [
            -0.3915520527350096,
            -0.3386910387035334
           ],
           "y": [
            0.45635342597961437,
            0.5689667463302613
           ],
           "z": [
            -0.26157078807812817,
            -0.36689086655244596
           ]
          },
          {
           "line": {
            "color": "silver",
            "width": 5
           },
           "mode": "lines",
           "type": "scatter3d",
           "x": [
            -0.660608041011529,
            -0.5638165755031594
           ],
           "y": [
            0.7210554480552674,
            0.7485448718070985
           ],
           "z": [
            0.12210934175364241,
            0.24464038154144932
           ]
          },
          {
           "line": {
            "color": "silver",
            "width": 5
           },
           "mode": "lines",
           "type": "scatter3d",
           "x": [
            -0.4510165560614743,
            -0.5638165755031594
           ],
           "y": [
            0.7782798409461977,
            0.7485448718070985
           ],
           "z": [
            0.3112399177346159,
            0.24464038154144932
           ]
          },
          {
           "line": {
            "color": "silver",
            "width": 5
           },
           "mode": "lines",
           "type": "scatter3d",
           "x": [
            -0.2830895012826374,
            -0.3755537113637202
           ],
           "y": [
            0.48656904697418224,
            0.4093383550643922
           ],
           "z": [
            -0.3239045658990981,
            -0.4022090590683174
           ]
          },
          {
           "line": {
            "color": "silver",
            "width": 5
           },
           "mode": "lines",
           "type": "scatter3d",
           "x": [
            -0.3024263475791544,
            -0.3755537113637202
           ],
           "y": [
            0.22357761859893804,
            0.4093383550643922
           ],
           "z": [
            -0.5189646263258518,
            -0.4022090590683174
           ]
          },
          {
           "line": {
            "color": "silver",
            "width": 5
           },
           "mode": "lines",
           "type": "scatter3d",
           "x": [
            -0.3748004552610661,
            -0.24039528557614206
           ],
           "y": [
            0.5171780884265901,
            0.4870809316635133
           ],
           "z": [
            -0.0556183530743868,
            0.1273303821673522
           ]
          },
          {
           "line": {
            "color": "silver",
            "width": 5
           },
           "mode": "lines",
           "type": "scatter3d",
           "x": [
            -0.13875077473884886,
            -0.24039528557614206
           ],
           "y": [
            0.6924864947795869,
            0.4870809316635133
           ],
           "z": [
            -0.1360483200553079,
            0.1273303821673522
           ]
          }
         ],
         "name": "frame21"
        },
        {
         "data": [
          {
           "marker": {
            "color": "black",
            "size": 5
           },
           "mode": "markers",
           "type": "scatter3d",
           "x": [
            -0.6558681692627745
           ],
           "y": [
            0.7310750484466553
           ],
           "z": [
            -0.2215968000766893
           ]
          },
          {
           "marker": {
            "color": "magenta",
            "size": 5
           },
           "mode": "markers",
           "type": "scatter3d",
           "x": [
            -0.37496347427248056
           ],
           "y": [
            0.681035578250885
           ],
           "z": [
            -0.4029623834845443
           ]
          },
          {
           "marker": {
            "color": "lime",
            "size": 5
           },
           "mode": "markers",
           "type": "scatter3d",
           "x": [
            -0.6717759851619889
           ],
           "y": [
            0.7210554480552673
           ],
           "z": [
            0.005540844000431755
           ]
          },
          {
           "marker": {
            "color": "magenta",
            "size": 5
           },
           "mode": "markers",
           "type": "scatter3d",
           "x": [
            -0.2698356304115244
           ],
           "y": [
            0.5689667463302612
           ],
           "z": [
            -0.4201300515532045
           ]
          },
          {
           "marker": {
            "color": "lime",
            "size": 5
           },
           "mode": "markers",
           "type": "scatter3d",
           "x": [
            -0.5977322912707195
           ],
           "y": [
            0.7485448718070984
           ],
           "z": [
            0.1430180235673512
           ]
          },
          {
           "marker": {
            "color": "magenta",
            "size": 5
           },
           "mode": "markers",
           "type": "scatter3d",
           "x": [
            -0.3401822065606126
           ],
           "y": [
            0.45635342597961426
           ],
           "z": [
            -0.32558924048003396
           ]
          },
          {
           "marker": {
            "color": "lime",
            "size": 5
           },
           "mode": "markers",
           "type": "scatter3d",
           "x": [
            -0.49821084567802637
           ],
           "y": [
            0.7782798409461975
           ],
           "z": [
            0.22819328097424174
           ]
          },
          {
           "marker": {
            "color": "magenta",
            "size": 5
           },
           "mode": "markers",
           "type": "scatter3d",
           "x": [
            -0.22254329805312426
           ],
           "y": [
            0.48656904697418213
           ],
           "z": [
            -0.36814170374785554
           ]
          },
          {
           "marker": {
            "color": "lime",
            "size": 5
           },
           "mode": "markers",
           "type": "scatter3d",
           "x": [
            -0.3594483685174
           ],
           "y": [
            0.51717808842659
           ],
           "z": [
            -0.1198568013622464
           ]
          },
          {
           "marker": {
            "color": "magenta",
            "size": 5
           },
           "mode": "markers",
           "type": "scatter3d",
           "x": [
            -0.30000533647515665
           ],
           "y": [
            0.4093383550643921
           ],
           "z": [
            -0.4613128172965864
           ]
          },
          {
           "marker": {
            "color": "lime",
            "size": 5
           },
           "mode": "markers",
           "type": "scatter3d",
           "x": [
            -0.258853829847963
           ],
           "y": [
            0.4870809316635132
           ],
           "z": [
            0.08365174429239751
           ]
          },
          {
           "marker": {
            "color": "magenta",
            "size": 5
           },
           "mode": "markers",
           "type": "scatter3d",
           "x": [
            -0.2077145501760325
           ],
           "y": [
            0.223577618598938
           ],
           "z": [
            -0.5635961716803681
           ]
          },
          {
           "marker": {
            "color": "lime",
            "size": 5
           },
           "mode": "markers",
           "type": "scatter3d",
           "x": [
            -0.11301829584701728
           ],
           "y": [
            0.6924864947795868
           ],
           "z": [
            -0.1580752595580293
           ]
          },
          {
           "line": {
            "color": "silver",
            "width": 5
           },
           "mode": "lines",
           "type": "scatter3d",
           "x": [
            -0.37496347427248056,
            -0.6717759851619889,
            -0.3594483685174,
            -0.22254329805312426,
            -0.37496347427248056
           ],
           "y": [
            0.681035578250885,
            0.7210554480552673,
            0.51717808842659,
            0.48656904697418213,
            0.681035578250885
           ],
           "z": [
            -0.4029623834845443,
            0.005540844000431755,
            -0.1198568013622464,
            -0.36814170374785554,
            -0.4029623834845443
           ]
          },
          {
           "line": {
            "color": "silver",
            "width": 5
           },
           "mode": "lines",
           "type": "scatter3d",
           "x": [
            -0.37496347427248056,
            -0.2698356304115244
           ],
           "y": [
            0.681035578250885,
            0.5689667463302612
           ],
           "z": [
            -0.4029623834845443,
            -0.4201300515532045
           ]
          },
          {
           "line": {
            "color": "silver",
            "width": 5
           },
           "mode": "lines",
           "type": "scatter3d",
           "x": [
            -0.3401822065606126,
            -0.2698356304115244
           ],
           "y": [
            0.45635342597961426,
            0.5689667463302612
           ],
           "z": [
            -0.32558924048003396,
            -0.4201300515532045
           ]
          },
          {
           "line": {
            "color": "silver",
            "width": 5
           },
           "mode": "lines",
           "type": "scatter3d",
           "x": [
            -0.6717759851619889,
            -0.5977322912707195
           ],
           "y": [
            0.7210554480552673,
            0.7485448718070984
           ],
           "z": [
            0.005540844000431755,
            0.1430180235673512
           ]
          },
          {
           "line": {
            "color": "silver",
            "width": 5
           },
           "mode": "lines",
           "type": "scatter3d",
           "x": [
            -0.49821084567802637,
            -0.5977322912707195
           ],
           "y": [
            0.7782798409461975,
            0.7485448718070984
           ],
           "z": [
            0.22819328097424174,
            0.1430180235673512
           ]
          },
          {
           "line": {
            "color": "silver",
            "width": 5
           },
           "mode": "lines",
           "type": "scatter3d",
           "x": [
            -0.22254329805312426,
            -0.30000533647515665
           ],
           "y": [
            0.48656904697418213,
            0.4093383550643921
           ],
           "z": [
            -0.36814170374785554,
            -0.4613128172965864
           ]
          },
          {
           "line": {
            "color": "silver",
            "width": 5
           },
           "mode": "lines",
           "type": "scatter3d",
           "x": [
            -0.2077145501760325,
            -0.30000533647515665
           ],
           "y": [
            0.223577618598938,
            0.4093383550643921
           ],
           "z": [
            -0.5635961716803681,
            -0.4613128172965864
           ]
          },
          {
           "line": {
            "color": "silver",
            "width": 5
           },
           "mode": "lines",
           "type": "scatter3d",
           "x": [
            -0.3594483685174,
            -0.258853829847963
           ],
           "y": [
            0.51717808842659,
            0.4870809316635132
           ],
           "z": [
            -0.1198568013622464,
            0.08365174429239751
           ]
          },
          {
           "line": {
            "color": "silver",
            "width": 5
           },
           "mode": "lines",
           "type": "scatter3d",
           "x": [
            -0.11301829584701728,
            -0.258853829847963
           ],
           "y": [
            0.6924864947795868,
            0.4870809316635132
           ],
           "z": [
            -0.1580752595580293,
            0.08365174429239751
           ]
          }
         ],
         "name": "frame22"
        },
        {
         "data": [
          {
           "marker": {
            "color": "black",
            "size": 5
           },
           "mode": "markers",
           "type": "scatter3d",
           "x": [
            -0.6074241775337633
           ],
           "y": [
            0.7310750484466553
           ],
           "z": [
            -0.33212055914044636
           ]
          },
          {
           "marker": {
            "color": "magenta",
            "size": 5
           },
           "mode": "markers",
           "type": "scatter3d",
           "x": [
            -0.29929325299951876
           ],
           "y": [
            0.681035578250885
           ],
           "z": [
            -0.46195220342693477
           ]
          },
          {
           "marker": {
            "color": "lime",
            "size": 5
           },
           "mode": "markers",
           "type": "scatter3d",
           "x": [
            -0.6625323559383524
           ],
           "y": [
            0.7210554480552673
           ],
           "z": [
            -0.11119600949392972
           ]
          },
          {
           "marker": {
            "color": "magenta",
            "size": 5
           },
           "mode": "markers",
           "type": "scatter3d",
           "x": [
            -0.19278140303287866
           ],
           "y": [
            0.5689667463302612
           ],
           "z": [
            -0.4606037975335829
           ]
          },
          {
           "marker": {
            "color": "lime",
            "size": 5
           },
           "mode": "markers",
           "type": "scatter3d",
           "x": [
            -0.6134862138351527
           ],
           "y": [
            0.7485448718070984
           ],
           "z": [
            0.037050135317771016
           ]
          },
          {
           "marker": {
            "color": "magenta",
            "size": 5
           },
           "mode": "markers",
           "type": "scatter3d",
           "x": [
            -0.278476096180374
           ],
           "y": [
            0.45635342597961426
           ],
           "z": [
            -0.3797148285660593
           ]
          },
          {
           "marker": {
            "color": "lime",
            "size": 5
           },
           "mode": "markers",
           "type": "scatter3d",
           "x": [
            -0.530267250855504
           ],
           "y": [
            0.7782798409461975
           ],
           "z": [
            0.13821310684283705
           ]
          },
          {
           "marker": {
            "color": "magenta",
            "size": 5
           },
           "mode": "markers",
           "type": "scatter3d",
           "x": [
            -0.15523522932460943
           ],
           "y": [
            0.48656904697418213
           ],
           "z": [
            -0.4011930422169251
           ]
          },
          {
           "marker": {
            "color": "lime",
            "size": 5
           },
           "mode": "markers",
           "type": "scatter3d",
           "x": [
            -0.33317462498598344
           ],
           "y": [
            0.51717808842659
           ],
           "z": [
            -0.18045346139118207
           ]
          },
          {
           "marker": {
            "color": "magenta",
            "size": 5
           },
           "mode": "markers",
           "type": "scatter3d",
           "x": [
            -0.21534145124782073
           ],
           "y": [
            0.4093383550643921
           ],
           "z": [
            -0.5063998190068477
           ]
          },
          {
           "marker": {
            "color": "lime",
            "size": 5
           },
           "mode": "markers",
           "type": "scatter3d",
           "x": [
            -0.26944723148621175
           ],
           "y": [
            0.4870809316635132
           ],
           "z": [
            0.037431390496943426
           ]
          },
          {
           "marker": {
            "color": "magenta",
            "size": 5
           },
           "mode": "markers",
           "type": "scatter3d",
           "x": [
            -0.10669145127444593
           ],
           "y": [
            0.223577618598938
           ],
           "z": [
            -0.5911031325518001
           ]
          },
          {
           "marker": {
            "color": "lime",
            "size": 5
           },
           "mode": "markers",
           "type": "scatter3d",
           "x": [
            -0.0838518132258913
           ],
           "y": [
            0.6924864947795868
           ],
           "z": [
            -0.17529916228902095
           ]
          },
          {
           "line": {
            "color": "silver",
            "width": 5
           },
           "mode": "lines",
           "type": "scatter3d",
           "x": [
            -0.29929325299951876,
            -0.6625323559383524,
            -0.33317462498598344,
            -0.15523522932460943,
            -0.29929325299951876
           ],
           "y": [
            0.681035578250885,
            0.7210554480552673,
            0.51717808842659,
            0.48656904697418213,
            0.681035578250885
           ],
           "z": [
            -0.46195220342693477,
            -0.11119600949392972,
            -0.18045346139118207,
            -0.4011930422169251,
            -0.46195220342693477
           ]
          },
          {
           "line": {
            "color": "silver",
            "width": 5
           },
           "mode": "lines",
           "type": "scatter3d",
           "x": [
            -0.29929325299951876,
            -0.19278140303287866
           ],
           "y": [
            0.681035578250885,
            0.5689667463302612
           ],
           "z": [
            -0.46195220342693477,
            -0.4606037975335829
           ]
          },
          {
           "line": {
            "color": "silver",
            "width": 5
           },
           "mode": "lines",
           "type": "scatter3d",
           "x": [
            -0.278476096180374,
            -0.19278140303287866
           ],
           "y": [
            0.45635342597961426,
            0.5689667463302612
           ],
           "z": [
            -0.3797148285660593,
            -0.4606037975335829
           ]
          },
          {
           "line": {
            "color": "silver",
            "width": 5
           },
           "mode": "lines",
           "type": "scatter3d",
           "x": [
            -0.6625323559383524,
            -0.6134862138351527
           ],
           "y": [
            0.7210554480552673,
            0.7485448718070984
           ],
           "z": [
            -0.11119600949392972,
            0.037050135317771016
           ]
          },
          {
           "line": {
            "color": "silver",
            "width": 5
           },
           "mode": "lines",
           "type": "scatter3d",
           "x": [
            -0.530267250855504,
            -0.6134862138351527
           ],
           "y": [
            0.7782798409461975,
            0.7485448718070984
           ],
           "z": [
            0.13821310684283705,
            0.037050135317771016
           ]
          },
          {
           "line": {
            "color": "silver",
            "width": 5
           },
           "mode": "lines",
           "type": "scatter3d",
           "x": [
            -0.15523522932460943,
            -0.21534145124782073
           ],
           "y": [
            0.48656904697418213,
            0.4093383550643921
           ],
           "z": [
            -0.4011930422169251,
            -0.5063998190068477
           ]
          },
          {
           "line": {
            "color": "silver",
            "width": 5
           },
           "mode": "lines",
           "type": "scatter3d",
           "x": [
            -0.10669145127444593,
            -0.21534145124782073
           ],
           "y": [
            0.223577618598938,
            0.4093383550643921
           ],
           "z": [
            -0.5911031325518001,
            -0.5063998190068477
           ]
          },
          {
           "line": {
            "color": "silver",
            "width": 5
           },
           "mode": "lines",
           "type": "scatter3d",
           "x": [
            -0.33317462498598344,
            -0.26944723148621175
           ],
           "y": [
            0.51717808842659,
            0.4870809316635132
           ],
           "z": [
            -0.18045346139118207,
            0.037431390496943426
           ]
          },
          {
           "line": {
            "color": "silver",
            "width": 5
           },
           "mode": "lines",
           "type": "scatter3d",
           "x": [
            -0.0838518132258913,
            -0.26944723148621175
           ],
           "y": [
            0.6924864947795868,
            0.4870809316635132
           ],
           "z": [
            -0.17529916228902095,
            0.037431390496943426
           ]
          }
         ],
         "name": "frame23"
        },
        {
         "data": [
          {
           "marker": {
            "color": "black",
            "size": 5
           },
           "mode": "markers",
           "type": "scatter3d",
           "x": [
            -0.5405239095418537
           ],
           "y": [
            0.7310750484466553
           ],
           "z": [
            -0.432553003075833
           ]
          },
          {
           "marker": {
            "color": "magenta",
            "size": 5
           },
           "mode": "markers",
           "type": "scatter3d",
           "x": [
            -0.21452915768386016
           ],
           "y": [
            0.681035578250885
           ],
           "z": [
            -0.5069058394272921
           ]
          },
          {
           "marker": {
            "color": "lime",
            "size": 5
           },
           "mode": "markers",
           "type": "scatter3d",
           "x": [
            -0.6331580163370778
           ],
           "y": [
            0.7210554480552673
           ],
           "z": [
            -0.22455422850771387
           ]
          },
          {
           "marker": {
            "color": "magenta",
            "size": 5
           },
           "mode": "markers",
           "type": "scatter3d",
           "x": [
            -0.10986961027517586
           ],
           "y": [
            0.5689667463302612
           ],
           "z": [
            -0.4870823302026713
           ]
          },
          {
           "marker": {
            "color": "lime",
            "size": 5
           },
           "mode": "markers",
           "type": "scatter3d",
           "x": [
            -0.6105996682312078
           ],
           "y": [
            0.7485448718070984
           ],
           "z": [
            -0.07004350254516648
           ]
          },
          {
           "marker": {
            "color": "magenta",
            "size": 5
           },
           "mode": "markers",
           "type": "scatter3d",
           "x": [
            -0.20830863053339868
           ],
           "y": [
            0.45635342597961426
           ],
           "z": [
            -0.4223029737310794
           ]
          },
          {
           "marker": {
            "color": "lime",
            "size": 5
           },
           "mode": "markers",
           "type": "scatter3d",
           "x": [
            -0.5462117539439131
           ],
           "y": [
            0.7782798409461975
           ],
           "z": [
            0.044033397399219465
           ]
          },
          {
           "marker": {
            "color": "magenta",
            "size": 5
           },
           "mode": "markers",
           "type": "scatter3d",
           "x": [
            -0.08321041670588264
           ],
           "y": [
            0.48656904697418213
           ],
           "z": [
            -0.42205433311170837
           ]
          },
          {
           "marker": {
            "color": "lime",
            "size": 5
           },
           "mode": "markers",
           "type": "scatter3d",
           "x": [
            -0.29677753906886295
           ],
           "y": [
            0.51717808842659
           ],
           "z": [
            -0.2355671343096041
           ]
          },
          {
           "marker": {
            "color": "magenta",
            "size": 5
           },
           "mode": "markers",
           "type": "scatter3d",
           "x": [
            -0.12413452499235197
           ],
           "y": [
            0.4093383550643921
           ],
           "z": [
            -0.5361001184672587
           ]
          },
          {
           "marker": {
            "color": "lime",
            "size": 5
           },
           "mode": "markers",
           "type": "scatter3d",
           "x": [
            -0.27185361534263
           ],
           "y": [
            0.4870809316635132
           ],
           "z": [
            -0.009926297157562755
           ]
          },
          {
           "marker": {
            "color": "magenta",
            "size": 5
           },
           "mode": "markers",
           "type": "scatter3d",
           "x": [
            -0.002426586614364623
           ],
           "y": [
            0.223577618598938
           ],
           "z": [
            -0.6006497238532633
           ]
          },
          {
           "marker": {
            "color": "lime",
            "size": 5
           },
           "mode": "markers",
           "type": "scatter3d",
           "x": [
            -0.05213753569096146
           ],
           "y": [
            0.6924864947795868
           ],
           "z": [
            -0.18719668867951697
           ]
          },
          {
           "line": {
            "color": "silver",
            "width": 5
           },
           "mode": "lines",
           "type": "scatter3d",
           "x": [
            -0.21452915768386016,
            -0.6331580163370778,
            -0.29677753906886295,
            -0.08321041670588264,
            -0.21452915768386016
           ],
           "y": [
            0.681035578250885,
            0.7210554480552673,
            0.51717808842659,
            0.48656904697418213,
            0.681035578250885
           ],
           "z": [
            -0.5069058394272921,
            -0.22455422850771387,
            -0.2355671343096041,
            -0.42205433311170837,
            -0.5069058394272921
           ]
          },
          {
           "line": {
            "color": "silver",
            "width": 5
           },
           "mode": "lines",
           "type": "scatter3d",
           "x": [
            -0.21452915768386016,
            -0.10986961027517586
           ],
           "y": [
            0.681035578250885,
            0.5689667463302612
           ],
           "z": [
            -0.5069058394272921,
            -0.4870823302026713
           ]
          },
          {
           "line": {
            "color": "silver",
            "width": 5
           },
           "mode": "lines",
           "type": "scatter3d",
           "x": [
            -0.20830863053339868,
            -0.10986961027517586
           ],
           "y": [
            0.45635342597961426,
            0.5689667463302612
           ],
           "z": [
            -0.4223029737310794,
            -0.4870823302026713
           ]
          },
          {
           "line": {
            "color": "silver",
            "width": 5
           },
           "mode": "lines",
           "type": "scatter3d",
           "x": [
            -0.6331580163370778,
            -0.6105996682312078
           ],
           "y": [
            0.7210554480552673,
            0.7485448718070984
           ],
           "z": [
            -0.22455422850771387,
            -0.07004350254516648
           ]
          },
          {
           "line": {
            "color": "silver",
            "width": 5
           },
           "mode": "lines",
           "type": "scatter3d",
           "x": [
            -0.5462117539439131,
            -0.6105996682312078
           ],
           "y": [
            0.7782798409461975,
            0.7485448718070984
           ],
           "z": [
            0.044033397399219465,
            -0.07004350254516648
           ]
          },
          {
           "line": {
            "color": "silver",
            "width": 5
           },
           "mode": "lines",
           "type": "scatter3d",
           "x": [
            -0.08321041670588264,
            -0.12413452499235197
           ],
           "y": [
            0.48656904697418213,
            0.4093383550643921
           ],
           "z": [
            -0.42205433311170837,
            -0.5361001184672587
           ]
          },
          {
           "line": {
            "color": "silver",
            "width": 5
           },
           "mode": "lines",
           "type": "scatter3d",
           "x": [
            -0.002426586614364623,
            -0.12413452499235197
           ],
           "y": [
            0.223577618598938,
            0.4093383550643921
           ],
           "z": [
            -0.6006497238532633,
            -0.5361001184672587
           ]
          },
          {
           "line": {
            "color": "silver",
            "width": 5
           },
           "mode": "lines",
           "type": "scatter3d",
           "x": [
            -0.29677753906886295,
            -0.27185361534263
           ],
           "y": [
            0.51717808842659,
            0.4870809316635132
           ],
           "z": [
            -0.2355671343096041,
            -0.009926297157562755
           ]
          },
          {
           "line": {
            "color": "silver",
            "width": 5
           },
           "mode": "lines",
           "type": "scatter3d",
           "x": [
            -0.05213753569096146,
            -0.27185361534263
           ],
           "y": [
            0.6924864947795868,
            0.4870809316635132
           ],
           "z": [
            -0.18719668867951697,
            -0.009926297157562755
           ]
          }
         ],
         "name": "frame24"
        },
        {
         "data": [
          {
           "marker": {
            "color": "black",
            "size": 5
           },
           "mode": "markers",
           "type": "scatter3d",
           "x": [
            -0.45720009607681006
           ],
           "y": [
            0.7310750484466553
           ],
           "z": [
            -0.5198425428951416
           ]
          },
          {
           "marker": {
            "color": "magenta",
            "size": 5
           },
           "mode": "markers",
           "type": "scatter3d",
           "x": [
            -0.12324670246896872
           ],
           "y": [
            0.681035578250885
           ],
           "z": [
            -0.5364573980033827
           ]
          },
          {
           "marker": {
            "color": "lime",
            "size": 5
           },
           "mode": "markers",
           "type": "scatter3d",
           "x": [
            -0.5845454908028163
           ],
           "y": [
            0.7210554480552673
           ],
           "z": [
            -0.3310894809182141
           ]
          },
          {
           "marker": {
            "color": "magenta",
            "size": 5
           },
           "mode": "markers",
           "type": "scatter3d",
           "x": [
            -0.023619485005966667
           ],
           "y": [
            0.5689667463302612
           ],
           "z": [
            -0.4987611127441032
           ]
          },
          {
           "marker": {
            "color": "lime",
            "size": 5
           },
           "mode": "markers",
           "type": "scatter3d",
           "x": [
            -0.5891603606863982
           ],
           "y": [
            0.7485448718070984
           ],
           "z": [
            -0.1750089040269922
           ]
          },
          {
           "marker": {
            "color": "magenta",
            "size": 5
           },
           "mode": "markers",
           "type": "scatter3d",
           "x": [
            -0.1318118125569188
           ],
           "y": [
            0.45635342597961426
           ],
           "z": [
            -0.45205965673489645
           ]
          },
          {
           "marker": {
            "color": "lime",
            "size": 5
           },
           "mode": "markers",
           "type": "scatter3d",
           "x": [
            -0.5455598892852203
           ],
           "y": [
            0.7782798409461975
           ],
           "z": [
            -0.05148424454239972
           ]
          },
          {
           "marker": {
            "color": "magenta",
            "size": 5
           },
           "mode": "markers",
           "type": "scatter3d",
           "x": [
            -0.00865729768204973
           ],
           "y": [
            0.48656904697418213
           ],
           "z": [
            -0.43009171666468987
           ]
          },
          {
           "marker": {
            "color": "lime",
            "size": 5
           },
           "mode": "markers",
           "type": "scatter3d",
           "x": [
            -0.25136301780381576
           ],
           "y": [
            0.51717808842659
           ],
           "z": [
            -0.2835232190547507
           ]
          },
          {
           "marker": {
            "color": "magenta",
            "size": 5
           },
           "mode": "markers",
           "type": "scatter3d",
           "x": [
            -0.029155834010090587
           ],
           "y": [
            0.4093383550643921
           ],
           "z": [
            -0.5495112871077915
           ]
          },
          {
           "marker": {
            "color": "lime",
            "size": 5
           },
           "mode": "markers",
           "type": "scatter3d",
           "x": [
            -0.26599986466142933
           ],
           "y": [
            0.4870809316635132
           ],
           "z": [
            -0.056982379295885385
           ]
          },
          {
           "marker": {
            "color": "magenta",
            "size": 5
           },
           "mode": "markers",
           "type": "scatter3d",
           "x": [
            0.10191200865208264
           ],
           "y": [
            0.223577618598938
           ],
           "z": [
            -0.5919458772388708
           ]
          },
          {
           "marker": {
            "color": "lime",
            "size": 5
           },
           "mode": "markers",
           "type": "scatter3d",
           "x": [
            -0.018839085516927596
           ],
           "y": [
            0.6924864947795868
           ],
           "z": [
            -0.19340633841058094
           ]
          },
          {
           "line": {
            "color": "silver",
            "width": 5
           },
           "mode": "lines",
           "type": "scatter3d",
           "x": [
            -0.12324670246896872,
            -0.5845454908028163,
            -0.25136301780381576,
            -0.00865729768204973,
            -0.12324670246896872
           ],
           "y": [
            0.681035578250885,
            0.7210554480552673,
            0.51717808842659,
            0.48656904697418213,
            0.681035578250885
           ],
           "z": [
            -0.5364573980033827,
            -0.3310894809182141,
            -0.2835232190547507,
            -0.43009171666468987,
            -0.5364573980033827
           ]
          },
          {
           "line": {
            "color": "silver",
            "width": 5
           },
           "mode": "lines",
           "type": "scatter3d",
           "x": [
            -0.12324670246896872,
            -0.023619485005966667
           ],
           "y": [
            0.681035578250885,
            0.5689667463302612
           ],
           "z": [
            -0.5364573980033827,
            -0.4987611127441032
           ]
          },
          {
           "line": {
            "color": "silver",
            "width": 5
           },
           "mode": "lines",
           "type": "scatter3d",
           "x": [
            -0.1318118125569188,
            -0.023619485005966667
           ],
           "y": [
            0.45635342597961426,
            0.5689667463302612
           ],
           "z": [
            -0.45205965673489645,
            -0.4987611127441032
           ]
          },
          {
           "line": {
            "color": "silver",
            "width": 5
           },
           "mode": "lines",
           "type": "scatter3d",
           "x": [
            -0.5845454908028163,
            -0.5891603606863982
           ],
           "y": [
            0.7210554480552673,
            0.7485448718070984
           ],
           "z": [
            -0.3310894809182141,
            -0.1750089040269922
           ]
          },
          {
           "line": {
            "color": "silver",
            "width": 5
           },
           "mode": "lines",
           "type": "scatter3d",
           "x": [
            -0.5455598892852203,
            -0.5891603606863982
           ],
           "y": [
            0.7782798409461975,
            0.7485448718070984
           ],
           "z": [
            -0.05148424454239972,
            -0.1750089040269922
           ]
          },
          {
           "line": {
            "color": "silver",
            "width": 5
           },
           "mode": "lines",
           "type": "scatter3d",
           "x": [
            -0.00865729768204973,
            -0.029155834010090587
           ],
           "y": [
            0.48656904697418213,
            0.4093383550643921
           ],
           "z": [
            -0.43009171666468987,
            -0.5495112871077915
           ]
          },
          {
           "line": {
            "color": "silver",
            "width": 5
           },
           "mode": "lines",
           "type": "scatter3d",
           "x": [
            0.10191200865208264,
            -0.029155834010090587
           ],
           "y": [
            0.223577618598938,
            0.4093383550643921
           ],
           "z": [
            -0.5919458772388708,
            -0.5495112871077915
           ]
          },
          {
           "line": {
            "color": "silver",
            "width": 5
           },
           "mode": "lines",
           "type": "scatter3d",
           "x": [
            -0.25136301780381576,
            -0.26599986466142933
           ],
           "y": [
            0.51717808842659,
            0.4870809316635132
           ],
           "z": [
            -0.2835232190547507,
            -0.056982379295885385
           ]
          },
          {
           "line": {
            "color": "silver",
            "width": 5
           },
           "mode": "lines",
           "type": "scatter3d",
           "x": [
            -0.018839085516927596,
            -0.26599986466142933
           ],
           "y": [
            0.6924864947795868,
            0.4870809316635132
           ],
           "z": [
            -0.19340633841058094,
            -0.056982379295885385
           ]
          }
         ],
         "name": "frame25"
        },
        {
         "data": [
          {
           "marker": {
            "color": "black",
            "size": 5
           },
           "mode": "markers",
           "type": "scatter3d",
           "x": [
            -0.3599844890468846
           ],
           "y": [
            0.7310750484466552
           ],
           "z": [
            -0.5913369301016002
           ]
          },
          {
           "marker": {
            "color": "magenta",
            "size": 5
           },
           "mode": "markers",
           "type": "scatter3d",
           "x": [
            -0.028219458565398856
           ],
           "y": [
            0.6810355782508849
           ],
           "z": [
            -0.5497089700016816
           ]
          },
          {
           "marker": {
            "color": "lime",
            "size": 5
           },
           "mode": "markers",
           "type": "scatter3d",
           "x": [
            -0.518171846324802
           ],
           "y": [
            0.7210554480552672
           ],
           "z": [
            -0.427564746990375
           ]
          },
          {
           "marker": {
            "color": "magenta",
            "size": 5
           },
           "mode": "markers",
           "type": "scatter3d",
           "x": [
            0.06334830636311217
           ],
           "y": [
            0.5689667463302611
           ],
           "z": [
            -0.4952852912601062
           ]
          },
          {
           "marker": {
            "color": "lime",
            "size": 5
           },
           "mode": "markers",
           "type": "scatter3d",
           "x": [
            -0.5498197137116598
           ],
           "y": [
            0.7485448718070983
           ],
           "z": [
            -0.2746567485187356
           ]
          },
          {
           "marker": {
            "color": "magenta",
            "size": 5
           },
           "mode": "markers",
           "type": "scatter3d",
           "x": [
            -0.05130995935589279
           ],
           "y": [
            0.4563534259796142
           ],
           "z": [
            -0.4680807358220473
           ]
          },
          {
           "marker": {
            "color": "lime",
            "size": 5
           },
           "mode": "markers",
           "type": "scatter3d",
           "x": [
            -0.5283314634572204
           ],
           "y": [
            0.7782798409461974
           ],
           "z": [
            -0.14543756376588232
           ]
          },
          {
           "marker": {
            "color": "magenta",
            "size": 5
           },
           "mode": "markers",
           "type": "scatter3d",
           "x": [
            0.06615886895104782
           ],
           "y": [
            0.4865690469741821
           ],
           "z": [
            -0.42506098104372453
           ]
          },
          {
           "marker": {
            "color": "lime",
            "size": 5
           },
           "mode": "markers",
           "type": "scatter3d",
           "x": [
            -0.19831095843862412
           ],
           "y": [
            0.5171780884265899
           ],
           "z": [
            -0.32286459425858977
           ]
          },
          {
           "marker": {
            "color": "magenta",
            "size": 5
           },
           "mode": "markers",
           "type": "scatter3d",
           "x": [
            0.06670874223500298
           ],
           "y": [
            0.40933835506439203
           ],
           "z": [
            -0.5462258333556822
           ]
          },
          {
           "marker": {
            "color": "lime",
            "size": 5
           },
           "mode": "markers",
           "type": "scatter3d",
           "x": [
            -0.2520638426949173
           ],
           "y": [
            0.48708093166351313
           ],
           "z": [
            -0.10230708067377746
           ]
          },
          {
           "marker": {
            "color": "magenta",
            "size": 5
           },
           "mode": "markers",
           "type": "scatter3d",
           "x": [
            0.20315405910560036
           ],
           "y": [
            0.22357761859893796
           ],
           "z": [
            -0.565256054683642
           ]
          },
          {
           "marker": {
            "color": "lime",
            "size": 5
           },
           "mode": "markers",
           "type": "scatter3d",
           "x": [
            0.01503178073750066
           ],
           "y": [
            0.6924864947795867
           ],
           "z": [
            -0.19373943441736882
           ]
          },
          {
           "line": {
            "color": "silver",
            "width": 5
           },
           "mode": "lines",
           "type": "scatter3d",
           "x": [
            -0.028219458565398856,
            -0.518171846324802,
            -0.19831095843862412,
            0.06615886895104782,
            -0.028219458565398856
           ],
           "y": [
            0.6810355782508849,
            0.7210554480552672,
            0.5171780884265899,
            0.4865690469741821,
            0.6810355782508849
           ],
           "z": [
            -0.5497089700016816,
            -0.427564746990375,
            -0.32286459425858977,
            -0.42506098104372453,
            -0.5497089700016816
           ]
          },
          {
           "line": {
            "color": "silver",
            "width": 5
           },
           "mode": "lines",
           "type": "scatter3d",
           "x": [
            -0.028219458565398856,
            0.06334830636311217
           ],
           "y": [
            0.6810355782508849,
            0.5689667463302611
           ],
           "z": [
            -0.5497089700016816,
            -0.4952852912601062
           ]
          },
          {
           "line": {
            "color": "silver",
            "width": 5
           },
           "mode": "lines",
           "type": "scatter3d",
           "x": [
            -0.05130995935589279,
            0.06334830636311217
           ],
           "y": [
            0.4563534259796142,
            0.5689667463302611
           ],
           "z": [
            -0.4680807358220473,
            -0.4952852912601062
           ]
          },
          {
           "line": {
            "color": "silver",
            "width": 5
           },
           "mode": "lines",
           "type": "scatter3d",
           "x": [
            -0.518171846324802,
            -0.5498197137116598
           ],
           "y": [
            0.7210554480552672,
            0.7485448718070983
           ],
           "z": [
            -0.427564746990375,
            -0.2746567485187356
           ]
          },
          {
           "line": {
            "color": "silver",
            "width": 5
           },
           "mode": "lines",
           "type": "scatter3d",
           "x": [
            -0.5283314634572204,
            -0.5498197137116598
           ],
           "y": [
            0.7782798409461974,
            0.7485448718070983
           ],
           "z": [
            -0.14543756376588232,
            -0.2746567485187356
           ]
          },
          {
           "line": {
            "color": "silver",
            "width": 5
           },
           "mode": "lines",
           "type": "scatter3d",
           "x": [
            0.06615886895104782,
            0.06670874223500298
           ],
           "y": [
            0.4865690469741821,
            0.40933835506439203
           ],
           "z": [
            -0.42506098104372453,
            -0.5462258333556822
           ]
          },
          {
           "line": {
            "color": "silver",
            "width": 5
           },
           "mode": "lines",
           "type": "scatter3d",
           "x": [
            0.20315405910560036,
            0.06670874223500298
           ],
           "y": [
            0.22357761859893796,
            0.40933835506439203
           ],
           "z": [
            -0.565256054683642,
            -0.5462258333556822
           ]
          },
          {
           "line": {
            "color": "silver",
            "width": 5
           },
           "mode": "lines",
           "type": "scatter3d",
           "x": [
            -0.19831095843862412,
            -0.2520638426949173
           ],
           "y": [
            0.5171780884265899,
            0.48708093166351313
           ],
           "z": [
            -0.32286459425858977,
            -0.10230708067377746
           ]
          },
          {
           "line": {
            "color": "silver",
            "width": 5
           },
           "mode": "lines",
           "type": "scatter3d",
           "x": [
            0.01503178073750066,
            -0.2520638426949173
           ],
           "y": [
            0.6924864947795867,
            0.48708093166351313
           ],
           "z": [
            -0.19373943441736882,
            -0.10230708067377746
           ]
          }
         ],
         "name": "frame26"
        },
        {
         "data": [
          {
           "marker": {
            "color": "black",
            "size": 5
           },
           "mode": "markers",
           "type": "scatter3d",
           "x": [
            -0.25183093547821056
           ],
           "y": [
            0.7310750484466553
           ],
           "z": [
            -0.6448638439178466
           ]
          },
          {
           "marker": {
            "color": "magenta",
            "size": 5
           },
           "mode": "markers",
           "type": "scatter3d",
           "x": [
            0.06766521930694568
           ],
           "y": [
            0.681035578250885
           ],
           "z": [
            -0.5462579131126404
           ]
          },
          {
           "marker": {
            "color": "lime",
            "size": 5
           },
           "mode": "markers",
           "type": "scatter3d",
           "x": [
            -0.4360538125038148
           ],
           "y": [
            0.7210554480552673
           ],
           "z": [
            -0.511048674583435
           ]
          },
          {
           "marker": {
            "color": "magenta",
            "size": 5
           },
           "mode": "markers",
           "type": "scatter3d",
           "x": [
            0.14839129149913768
           ],
           "y": [
            0.5689667463302612
           ],
           "z": [
            -0.47676047682762146
           ]
          },
          {
           "marker": {
            "color": "lime",
            "size": 5
           },
           "mode": "markers",
           "type": "scatter3d",
           "x": [
            -0.49377307295799255
           ],
           "y": [
            0.7485448718070984
           ],
           "z": [
            -0.3659592866897582
           ]
          },
          {
           "marker": {
            "color": "magenta",
            "size": 5
           },
           "mode": "markers",
           "type": "scatter3d",
           "x": [
            0.030750920996069797
           ],
           "y": [
            0.45635342597961426
           ],
           "z": [
            -0.4698794186115265
           ]
          },
          {
           "marker": {
            "color": "lime",
            "size": 5
           },
           "mode": "markers",
           "type": "scatter3d",
           "x": [
            -0.49504995346069336
           ],
           "y": [
            0.7782798409461975
           ],
           "z": [
            -0.23497183620929699
           ]
          },
          {
           "marker": {
            "color": "magenta",
            "size": 5
           },
           "mode": "markers",
           "type": "scatter3d",
           "x": [
            0.1389648318290709
           ],
           "y": [
            0.48656904697418213
           ],
           "z": [
            -0.40711498260498047
           ]
          },
          {
           "marker": {
            "color": "lime",
            "size": 5
           },
           "mode": "markers",
           "type": "scatter3d",
           "x": [
            -0.13923332095146188
           ],
           "y": [
            0.51717808842659
           ],
           "z": [
            -0.35239589214324946
           ]
          },
          {
           "marker": {
            "color": "magenta",
            "size": 5
           },
           "mode": "markers",
           "type": "scatter3d",
           "x": [
            0.1605464071035384
           ],
           "y": [
            0.4093383550643921
           ],
           "z": [
            -0.526343584060669
           ]
          },
          {
           "marker": {
            "color": "lime",
            "size": 5
           },
           "mode": "markers",
           "type": "scatter3d",
           "x": [
            -0.23046898841857913
           ],
           "y": [
            0.4870809316635132
           ],
           "z": [
            -0.14452323317527765
           ]
          },
          {
           "marker": {
            "color": "magenta",
            "size": 5
           },
           "mode": "markers",
           "type": "scatter3d",
           "x": [
            0.2982233762741088
           ],
           "y": [
            0.223577618598938
           ],
           "z": [
            -0.5213912129402162
           ]
          },
          {
           "marker": {
            "color": "lime",
            "size": 5
           },
           "mode": "markers",
           "type": "scatter3d",
           "x": [
            0.04844591394066806
           ],
           "y": [
            0.6924864947795868
           ],
           "z": [
            -0.1881858557462692
           ]
          },
          {
           "line": {
            "color": "silver",
            "width": 5
           },
           "mode": "lines",
           "type": "scatter3d",
           "x": [
            0.06766521930694568,
            -0.4360538125038148,
            -0.13923332095146188,
            0.1389648318290709,
            0.06766521930694568
           ],
           "y": [
            0.681035578250885,
            0.7210554480552673,
            0.51717808842659,
            0.48656904697418213,
            0.681035578250885
           ],
           "z": [
            -0.5462579131126404,
            -0.511048674583435,
            -0.35239589214324946,
            -0.40711498260498047,
            -0.5462579131126404
           ]
          },
          {
           "line": {
            "color": "silver",
            "width": 5
           },
           "mode": "lines",
           "type": "scatter3d",
           "x": [
            0.06766521930694568,
            0.14839129149913768
           ],
           "y": [
            0.681035578250885,
            0.5689667463302612
           ],
           "z": [
            -0.5462579131126404,
            -0.47676047682762146
           ]
          },
          {
           "line": {
            "color": "silver",
            "width": 5
           },
           "mode": "lines",
           "type": "scatter3d",
           "x": [
            0.030750920996069797,
            0.14839129149913768
           ],
           "y": [
            0.45635342597961426,
            0.5689667463302612
           ],
           "z": [
            -0.4698794186115265,
            -0.47676047682762146
           ]
          },
          {
           "line": {
            "color": "silver",
            "width": 5
           },
           "mode": "lines",
           "type": "scatter3d",
           "x": [
            -0.4360538125038148,
            -0.49377307295799255
           ],
           "y": [
            0.7210554480552673,
            0.7485448718070984
           ],
           "z": [
            -0.511048674583435,
            -0.3659592866897582
           ]
          },
          {
           "line": {
            "color": "silver",
            "width": 5
           },
           "mode": "lines",
           "type": "scatter3d",
           "x": [
            -0.49504995346069336,
            -0.49377307295799255
           ],
           "y": [
            0.7782798409461975,
            0.7485448718070984
           ],
           "z": [
            -0.23497183620929699,
            -0.3659592866897582
           ]
          },
          {
           "line": {
            "color": "silver",
            "width": 5
           },
           "mode": "lines",
           "type": "scatter3d",
           "x": [
            0.1389648318290709,
            0.1605464071035384
           ],
           "y": [
            0.48656904697418213,
            0.4093383550643921
           ],
           "z": [
            -0.40711498260498047,
            -0.526343584060669
           ]
          },
          {
           "line": {
            "color": "silver",
            "width": 5
           },
           "mode": "lines",
           "type": "scatter3d",
           "x": [
            0.2982233762741088,
            0.1605464071035384
           ],
           "y": [
            0.223577618598938,
            0.4093383550643921
           ],
           "z": [
            -0.5213912129402162,
            -0.526343584060669
           ]
          },
          {
           "line": {
            "color": "silver",
            "width": 5
           },
           "mode": "lines",
           "type": "scatter3d",
           "x": [
            -0.13923332095146188,
            -0.23046898841857913
           ],
           "y": [
            0.51717808842659,
            0.4870809316635132
           ],
           "z": [
            -0.35239589214324946,
            -0.14452323317527765
           ]
          },
          {
           "line": {
            "color": "silver",
            "width": 5
           },
           "mode": "lines",
           "type": "scatter3d",
           "x": [
            0.04844591394066806,
            -0.23046898841857913
           ],
           "y": [
            0.6924864947795868,
            0.4870809316635132
           ],
           "z": [
            -0.1881858557462692,
            -0.14452323317527765
           ]
          }
         ],
         "name": "frame27"
        },
        {
         "data": [
          {
           "marker": {
            "color": "black",
            "size": 5
           },
           "mode": "markers",
           "type": "scatter3d",
           "x": [
            -0.13602562636763316
           ],
           "y": [
            0.7310750484466553
           ],
           "z": [
            -0.6787968961534994
           ]
          },
          {
           "marker": {
            "color": "magenta",
            "size": 5
           },
           "mode": "markers",
           "type": "scatter3d",
           "x": [
            0.1614939237309017
           ],
           "y": [
            0.681035578250885
           ],
           "z": [
            -0.5262090859535131
           ]
          },
          {
           "marker": {
            "color": "lime",
            "size": 5
           },
           "mode": "markers",
           "type": "scatter3d",
           "x": [
            -0.3406865042437751
           ],
           "y": [
            0.7210554480552673
           ],
           "z": [
            -0.5790046468023844
           ]
          },
          {
           "marker": {
            "color": "magenta",
            "size": 5
           },
           "mode": "markers",
           "type": "scatter3d",
           "x": [
            0.22892548233257848
           ],
           "y": [
            0.5689667463302612
           ],
           "z": [
            -0.44374953655917126
           ]
          },
          {
           "marker": {
            "color": "lime",
            "size": 5
           },
           "mode": "markers",
           "type": "scatter3d",
           "x": [
            -0.4227233872437276
           ],
           "y": [
            0.7485448718070984
           ],
           "z": [
            -0.4461423371190468
           ]
          },
          {
           "marker": {
            "color": "magenta",
            "size": 5
           },
           "mode": "markers",
           "type": "scatter3d",
           "x": [
            0.11187745017428363
           ],
           "y": [
            0.45635342597961426
           ],
           "z": [
            -0.45740105303695283
           ]
          },
          {
           "marker": {
            "color": "lime",
            "size": 5
           },
           "mode": "markers",
           "type": "scatter3d",
           "x": [
            -0.4467266011356268
           ],
           "y": [
            0.7782798409461975
           ],
           "z": [
            -0.31736660831097835
           ]
          },
          {
           "marker": {
            "color": "magenta",
            "size": 5
           },
           "mode": "markers",
           "type": "scatter3d",
           "x": [
            0.20754841861156553
           ],
           "y": [
            0.48656904697418213
           ],
           "z": [
            -0.3767990014299054
           ]
          },
          {
           "marker": {
            "color": "lime",
            "size": 5
           },
           "mode": "markers",
           "type": "scatter3d",
           "x": [
            -0.07592514946264944
           ],
           "y": [
            0.51717808842659
           ],
           "z": [
            -0.3712198191660621
           ]
          },
          {
           "marker": {
            "color": "magenta",
            "size": 5
           },
           "mode": "markers",
           "type": "scatter3d",
           "x": [
            0.24950595063263467
           ],
           "y": [
            0.4093383550643921
           ],
           "z": [
            -0.49046865130667716
           ]
          },
          {
           "marker": {
            "color": "lime",
            "size": 5
           },
           "mode": "markers",
           "type": "scatter3d",
           "x": [
            -0.20187145055207772
           ],
           "y": [
            0.4870809316635132
           ],
           "z": [
            -0.1823481203690317
           ]
          },
          {
           "marker": {
            "color": "magenta",
            "size": 5
           },
           "mode": "markers",
           "type": "scatter3d",
           "x": [
            0.38423132706283813
           ],
           "y": [
            0.223577618598938
           ],
           "z": [
            -0.46168416302828574
           ]
          },
          {
           "marker": {
            "color": "lime",
            "size": 5
           },
           "mode": "markers",
           "type": "scatter3d",
           "x": [
            0.08038804256356356
           ],
           "y": [
            0.6924864947795868
           ],
           "z": [
            -0.17691434507495699
           ]
          },
          {
           "line": {
            "color": "silver",
            "width": 5
           },
           "mode": "lines",
           "type": "scatter3d",
           "x": [
            0.1614939237309017,
            -0.3406865042437751,
            -0.07592514946264944,
            0.20754841861156553,
            0.1614939237309017
           ],
           "y": [
            0.681035578250885,
            0.7210554480552673,
            0.51717808842659,
            0.48656904697418213,
            0.681035578250885
           ],
           "z": [
            -0.5262090859535131,
            -0.5790046468023844,
            -0.3712198191660621,
            -0.3767990014299054,
            -0.5262090859535131
           ]
          },
          {
           "line": {
            "color": "silver",
            "width": 5
           },
           "mode": "lines",
           "type": "scatter3d",
           "x": [
            0.1614939237309017,
            0.22892548233257848
           ],
           "y": [
            0.681035578250885,
            0.5689667463302612
           ],
           "z": [
            -0.5262090859535131,
            -0.44374953655917126
           ]
          },
          {
           "line": {
            "color": "silver",
            "width": 5
           },
           "mode": "lines",
           "type": "scatter3d",
           "x": [
            0.11187745017428363,
            0.22892548233257848
           ],
           "y": [
            0.45635342597961426,
            0.5689667463302612
           ],
           "z": [
            -0.45740105303695283,
            -0.44374953655917126
           ]
          },
          {
           "line": {
            "color": "silver",
            "width": 5
           },
           "mode": "lines",
           "type": "scatter3d",
           "x": [
            -0.3406865042437751,
            -0.4227233872437276
           ],
           "y": [
            0.7210554480552673,
            0.7485448718070984
           ],
           "z": [
            -0.5790046468023844,
            -0.4461423371190468
           ]
          },
          {
           "line": {
            "color": "silver",
            "width": 5
           },
           "mode": "lines",
           "type": "scatter3d",
           "x": [
            -0.4467266011356268,
            -0.4227233872437276
           ],
           "y": [
            0.7782798409461975,
            0.7485448718070984
           ],
           "z": [
            -0.31736660831097835,
            -0.4461423371190468
           ]
          },
          {
           "line": {
            "color": "silver",
            "width": 5
           },
           "mode": "lines",
           "type": "scatter3d",
           "x": [
            0.20754841861156553,
            0.24950595063263467
           ],
           "y": [
            0.48656904697418213,
            0.4093383550643921
           ],
           "z": [
            -0.3767990014299054,
            -0.49046865130667716
           ]
          },
          {
           "line": {
            "color": "silver",
            "width": 5
           },
           "mode": "lines",
           "type": "scatter3d",
           "x": [
            0.38423132706283813,
            0.24950595063263467
           ],
           "y": [
            0.223577618598938,
            0.4093383550643921
           ],
           "z": [
            -0.46168416302828574,
            -0.49046865130667716
           ]
          },
          {
           "line": {
            "color": "silver",
            "width": 5
           },
           "mode": "lines",
           "type": "scatter3d",
           "x": [
            -0.07592514946264944,
            -0.20187145055207772
           ],
           "y": [
            0.51717808842659,
            0.4870809316635132
           ],
           "z": [
            -0.3712198191660621,
            -0.1823481203690317
           ]
          },
          {
           "line": {
            "color": "silver",
            "width": 5
           },
           "mode": "lines",
           "type": "scatter3d",
           "x": [
            0.08038804256356356,
            -0.20187145055207772
           ],
           "y": [
            0.6924864947795868,
            0.4870809316635132
           ],
           "z": [
            -0.17691434507495699,
            -0.1823481203690317
           ]
          }
         ],
         "name": "frame28"
        },
        {
         "data": [
          {
           "marker": {
            "color": "black",
            "size": 5
           },
           "mode": "markers",
           "type": "scatter3d",
           "x": [
            -0.016087247432162666
           ],
           "y": [
            0.7310750484466553
           ],
           "z": [
            -0.6921050481873312
           ]
          },
          {
           "marker": {
            "color": "magenta",
            "size": 5
           },
           "mode": "markers",
           "type": "scatter3d",
           "x": [
            0.2504157170021633
           ],
           "y": [
            0.681035578250885
           ],
           "z": [
            -0.49017166199233353
           ]
          },
          {
           "marker": {
            "color": "lime",
            "size": 5
           },
           "mode": "markers",
           "type": "scatter3d",
           "x": [
            -0.23496760894797702
           ],
           "y": [
            0.7210554480552673
           ],
           "z": [
            -0.629367855818732
           ]
          },
          {
           "marker": {
            "color": "magenta",
            "size": 5
           },
           "mode": "markers",
           "type": "scatter3d",
           "x": [
            0.3025038882272279
           ],
           "y": [
            0.5689667463302612
           ],
           "z": [
            -0.3972554911704706
           ]
          },
          {
           "marker": {
            "color": "lime",
            "size": 5
           },
           "mode": "markers",
           "type": "scatter3d",
           "x": [
            -0.3388294653164167
           ],
           "y": [
            0.7485448718070984
           ],
           "z": [
            -0.5127695783938893
           ]
          },
          {
           "marker": {
            "color": "magenta",
            "size": 5
           },
           "mode": "markers",
           "type": "scatter3d",
           "x": [
            0.1896046396416737
           ],
           "y": [
            0.45635342597961426
           ],
           "z": [
            -0.43102478792195204
           ]
          },
          {
           "marker": {
            "color": "lime",
            "size": 5
           },
           "mode": "markers",
           "type": "scatter3d",
           "x": [
            -0.3848296870896214
           ],
           "y": [
            0.7782798409461975
           ],
           "z": [
            -0.39011835661438377
           ]
          },
          {
           "marker": {
            "color": "magenta",
            "size": 5
           },
           "mode": "markers",
           "type": "scatter3d",
           "x": [
            0.2698257517191154
           ],
           "y": [
            0.48656904697418213
           ],
           "z": [
            -0.33503417326587714
           ]
          },
          {
           "marker": {
            "color": "lime",
            "size": 5
           },
           "mode": "markers",
           "type": "scatter3d",
           "x": [
            -0.010310030727393435
           ],
           "y": [
            0.51717808842659
           ],
           "z": [
            -0.37876441982980624
           ]
          },
          {
           "marker": {
            "color": "magenta",
            "size": 5
           },
           "mode": "markers",
           "type": "scatter3d",
           "x": [
            0.33088438210786186
           ],
           "y": [
            0.4093383550643921
           ],
           "z": [
            -0.4396910767718446
           ]
          },
          {
           "marker": {
            "color": "lime",
            "size": 5
           },
           "mode": "markers",
           "type": "scatter3d",
           "x": [
            -0.16714015081243416
           ],
           "y": [
            0.4870809316635132
           ],
           "z": [
            -0.21463245219797406
           ]
          },
          {
           "marker": {
            "color": "magenta",
            "size": 5
           },
           "mode": "markers",
           "type": "scatter3d",
           "x": [
            0.4585646034091966
           ],
           "y": [
            0.223577618598938
           ],
           "z": [
            -0.38794907344619955
           ]
          },
          {
           "marker": {
            "color": "lime",
            "size": 5
           },
           "mode": "markers",
           "type": "scatter3d",
           "x": [
            0.10988762119147766
           ],
           "y": [
            0.6924864947795868
           ],
           "z": [
            -0.16026738155152026
           ]
          },
          {
           "line": {
            "color": "silver",
            "width": 5
           },
           "mode": "lines",
           "type": "scatter3d",
           "x": [
            0.2504157170021633,
            -0.23496760894797702,
            -0.010310030727393435,
            0.2698257517191154,
            0.2504157170021633
           ],
           "y": [
            0.681035578250885,
            0.7210554480552673,
            0.51717808842659,
            0.48656904697418213,
            0.681035578250885
           ],
           "z": [
            -0.49017166199233353,
            -0.629367855818732,
            -0.37876441982980624,
            -0.33503417326587714,
            -0.49017166199233353
           ]
          },
          {
           "line": {
            "color": "silver",
            "width": 5
           },
           "mode": "lines",
           "type": "scatter3d",
           "x": [
            0.2504157170021633,
            0.3025038882272279
           ],
           "y": [
            0.681035578250885,
            0.5689667463302612
           ],
           "z": [
            -0.49017166199233353,
            -0.3972554911704706
           ]
          },
          {
           "line": {
            "color": "silver",
            "width": 5
           },
           "mode": "lines",
           "type": "scatter3d",
           "x": [
            0.1896046396416737,
            0.3025038882272279
           ],
           "y": [
            0.45635342597961426,
            0.5689667463302612
           ],
           "z": [
            -0.43102478792195204,
            -0.3972554911704706
           ]
          },
          {
           "line": {
            "color": "silver",
            "width": 5
           },
           "mode": "lines",
           "type": "scatter3d",
           "x": [
            -0.23496760894797702,
            -0.3388294653164167
           ],
           "y": [
            0.7210554480552673,
            0.7485448718070984
           ],
           "z": [
            -0.629367855818732,
            -0.5127695783938893
           ]
          },
          {
           "line": {
            "color": "silver",
            "width": 5
           },
           "mode": "lines",
           "type": "scatter3d",
           "x": [
            -0.3848296870896214,
            -0.3388294653164167
           ],
           "y": [
            0.7782798409461975,
            0.7485448718070984
           ],
           "z": [
            -0.39011835661438377,
            -0.5127695783938893
           ]
          },
          {
           "line": {
            "color": "silver",
            "width": 5
           },
           "mode": "lines",
           "type": "scatter3d",
           "x": [
            0.2698257517191154,
            0.33088438210786186
           ],
           "y": [
            0.48656904697418213,
            0.4093383550643921
           ],
           "z": [
            -0.33503417326587714,
            -0.4396910767718446
           ]
          },
          {
           "line": {
            "color": "silver",
            "width": 5
           },
           "mode": "lines",
           "type": "scatter3d",
           "x": [
            0.4585646034091966,
            0.33088438210786186
           ],
           "y": [
            0.223577618598938,
            0.4093383550643921
           ],
           "z": [
            -0.38794907344619955,
            -0.4396910767718446
           ]
          },
          {
           "line": {
            "color": "silver",
            "width": 5
           },
           "mode": "lines",
           "type": "scatter3d",
           "x": [
            -0.010310030727393435,
            -0.16714015081243416
           ],
           "y": [
            0.51717808842659,
            0.4870809316635132
           ],
           "z": [
            -0.37876441982980624,
            -0.21463245219797406
           ]
          },
          {
           "line": {
            "color": "silver",
            "width": 5
           },
           "mode": "lines",
           "type": "scatter3d",
           "x": [
            0.10988762119147766,
            -0.16714015081243416
           ],
           "y": [
            0.6924864947795868,
            0.4870809316635132
           ],
           "z": [
            -0.16026738155152026,
            -0.21463245219797406
           ]
          }
         ],
         "name": "frame29"
        },
        {
         "data": [
          {
           "marker": {
            "color": "black",
            "size": 5
           },
           "mode": "markers",
           "type": "scatter3d",
           "x": [
            0.10433993437599345
           ],
           "y": [
            0.7310750484466553
           ],
           "z": [
            -0.6843839385540436
           ]
          },
          {
           "marker": {
            "color": "magenta",
            "size": 5
           },
           "mode": "markers",
           "type": "scatter3d",
           "x": [
            0.3317287554287806
           ],
           "y": [
            0.681035578250885
           ],
           "z": [
            -0.43924062012034626
           ]
          },
          {
           "marker": {
            "color": "lime",
            "size": 5
           },
           "mode": "markers",
           "type": "scatter3d",
           "x": [
            -0.12210934175364235
           ],
           "y": [
            0.7210554480552673
           ],
           "z": [
            -0.6606080410115289
           ]
          },
          {
           "marker": {
            "color": "magenta",
            "size": 5
           },
           "mode": "markers",
           "type": "scatter3d",
           "x": [
            0.36689086655244596
           ],
           "y": [
            0.5689667463302612
           ],
           "z": [
            -0.33869103870353334
           ]
          },
          {
           "marker": {
            "color": "lime",
            "size": 5
           },
           "mode": "markers",
           "type": "scatter3d",
           "x": [
            -0.24464038154144926
           ],
           "y": [
            0.7485448718070984
           ],
           "z": [
            -0.5638165755031594
           ]
          },
          {
           "marker": {
            "color": "magenta",
            "size": 5
           },
           "mode": "markers",
           "type": "scatter3d",
           "x": [
            0.26157078807812817
           ],
           "y": [
            0.45635342597961426
           ],
           "z": [
            -0.39155205273500954
           ]
          },
          {
           "marker": {
            "color": "lime",
            "size": 5
           },
           "mode": "markers",
           "type": "scatter3d",
           "x": [
            -0.31123991773461585
           ],
           "y": [
            0.7782798409461975
           ],
           "z": [
            -0.4510165560614743
           ]
          },
          {
           "marker": {
            "color": "magenta",
            "size": 5
           },
           "mode": "markers",
           "type": "scatter3d",
           "x": [
            0.3239045658990981
           ],
           "y": [
            0.48656904697418213
           ],
           "z": [
            -0.2830895012826373
           ]
          },
          {
           "marker": {
            "color": "lime",
            "size": 5
           },
           "mode": "markers",
           "type": "scatter3d",
           "x": [
            0.05561835307438681
           ],
           "y": [
            0.51717808842659
           ],
           "z": [
            -0.3748004552610661
           ]
          },
          {
           "marker": {
            "color": "magenta",
            "size": 5
           },
           "mode": "markers",
           "type": "scatter3d",
           "x": [
            0.4022090590683174
           ],
           "y": [
            0.4093383550643921
           ],
           "z": [
            -0.3755537113637201
           ]
          },
          {
           "marker": {
            "color": "lime",
            "size": 5
           },
           "mode": "markers",
           "type": "scatter3d",
           "x": [
            -0.12733038216735218
           ],
           "y": [
            0.4870809316635132
           ],
           "z": [
            -0.24039528557614206
           ]
          },
          {
           "marker": {
            "color": "magenta",
            "size": 5
           },
           "mode": "markers",
           "type": "scatter3d",
           "x": [
            0.5189646263258518
           ],
           "y": [
            0.223577618598938
           ],
           "z": [
            -0.3024263475791543
           ]
          },
          {
           "marker": {
            "color": "lime",
            "size": 5
           },
           "mode": "markers",
           "type": "scatter3d",
           "x": [
            0.1360483200553079
           ],
           "y": [
            0.6924864947795868
           ],
           "z": [
            -0.13875077473884884
           ]
          },
          {
           "line": {
            "color": "silver",
            "width": 5
           },
           "mode": "lines",
           "type": "scatter3d",
           "x": [
            0.3317287554287806,
            -0.12210934175364235,
            0.05561835307438681,
            0.3239045658990981,
            0.3317287554287806
           ],
           "y": [
            0.681035578250885,
            0.7210554480552673,
            0.51717808842659,
            0.48656904697418213,
            0.681035578250885
           ],
           "z": [
            -0.43924062012034626,
            -0.6606080410115289,
            -0.3748004552610661,
            -0.2830895012826373,
            -0.43924062012034626
           ]
          },
          {
           "line": {
            "color": "silver",
            "width": 5
           },
           "mode": "lines",
           "type": "scatter3d",
           "x": [
            0.3317287554287806,
            0.36689086655244596
           ],
           "y": [
            0.681035578250885,
            0.5689667463302612
           ],
           "z": [
            -0.43924062012034626,
            -0.33869103870353334
           ]
          },
          {
           "line": {
            "color": "silver",
            "width": 5
           },
           "mode": "lines",
           "type": "scatter3d",
           "x": [
            0.26157078807812817,
            0.36689086655244596
           ],
           "y": [
            0.45635342597961426,
            0.5689667463302612
           ],
           "z": [
            -0.39155205273500954,
            -0.33869103870353334
           ]
          },
          {
           "line": {
            "color": "silver",
            "width": 5
           },
           "mode": "lines",
           "type": "scatter3d",
           "x": [
            -0.12210934175364235,
            -0.24464038154144926
           ],
           "y": [
            0.7210554480552673,
            0.7485448718070984
           ],
           "z": [
            -0.6606080410115289,
            -0.5638165755031594
           ]
          },
          {
           "line": {
            "color": "silver",
            "width": 5
           },
           "mode": "lines",
           "type": "scatter3d",
           "x": [
            -0.31123991773461585,
            -0.24464038154144926
           ],
           "y": [
            0.7782798409461975,
            0.7485448718070984
           ],
           "z": [
            -0.4510165560614743,
            -0.5638165755031594
           ]
          },
          {
           "line": {
            "color": "silver",
            "width": 5
           },
           "mode": "lines",
           "type": "scatter3d",
           "x": [
            0.3239045658990981,
            0.4022090590683174
           ],
           "y": [
            0.48656904697418213,
            0.4093383550643921
           ],
           "z": [
            -0.2830895012826373,
            -0.3755537113637201
           ]
          },
          {
           "line": {
            "color": "silver",
            "width": 5
           },
           "mode": "lines",
           "type": "scatter3d",
           "x": [
            0.5189646263258518,
            0.4022090590683174
           ],
           "y": [
            0.223577618598938,
            0.4093383550643921
           ],
           "z": [
            -0.3024263475791543,
            -0.3755537113637201
           ]
          },
          {
           "line": {
            "color": "silver",
            "width": 5
           },
           "mode": "lines",
           "type": "scatter3d",
           "x": [
            0.05561835307438681,
            -0.12733038216735218
           ],
           "y": [
            0.51717808842659,
            0.4870809316635132
           ],
           "z": [
            -0.3748004552610661,
            -0.24039528557614206
           ]
          },
          {
           "line": {
            "color": "silver",
            "width": 5
           },
           "mode": "lines",
           "type": "scatter3d",
           "x": [
            0.1360483200553079,
            -0.12733038216735218
           ],
           "y": [
            0.6924864947795868,
            0.4870809316635132
           ],
           "z": [
            -0.13875077473884884,
            -0.24039528557614206
           ]
          }
         ],
         "name": "frame30"
        },
        {
         "data": [
          {
           "marker": {
            "color": "black",
            "size": 5
           },
           "mode": "markers",
           "type": "scatter3d",
           "x": [
            0.2215968000766892
           ],
           "y": [
            0.7310750484466553
           ],
           "z": [
            -0.6558681692627744
           ]
          },
          {
           "marker": {
            "color": "magenta",
            "size": 5
           },
           "mode": "markers",
           "type": "scatter3d",
           "x": [
            0.4029623834845442
           ],
           "y": [
            0.681035578250885
           ],
           "z": [
            -0.37496347427248056
           ]
          },
          {
           "marker": {
            "color": "lime",
            "size": 5
           },
           "mode": "markers",
           "type": "scatter3d",
           "x": [
            -0.0055408440004318105
           ],
           "y": [
            0.7210554480552673
           ],
           "z": [
            -0.6717759851619888
           ]
          },
          {
           "marker": {
            "color": "magenta",
            "size": 5
           },
           "mode": "markers",
           "type": "scatter3d",
           "x": [
            0.4201300515532044
           ],
           "y": [
            0.5689667463302612
           ],
           "z": [
            -0.2698356304115245
           ]
          },
          {
           "marker": {
            "color": "lime",
            "size": 5
           },
           "mode": "markers",
           "type": "scatter3d",
           "x": [
            -0.14301802356735124
           ],
           "y": [
            0.7485448718070984
           ],
           "z": [
            -0.5977322912707195
           ]
          },
          {
           "marker": {
            "color": "magenta",
            "size": 5
           },
           "mode": "markers",
           "type": "scatter3d",
           "x": [
            0.3255892404800339
           ],
           "y": [
            0.45635342597961426
           ],
           "z": [
            -0.3401822065606126
           ]
          },
          {
           "marker": {
            "color": "lime",
            "size": 5
           },
           "mode": "markers",
           "type": "scatter3d",
           "x": [
            -0.22819328097424177
           ],
           "y": [
            0.7782798409461975
           ],
           "z": [
            -0.4982108456780263
           ]
          },
          {
           "marker": {
            "color": "magenta",
            "size": 5
           },
           "mode": "markers",
           "type": "scatter3d",
           "x": [
            0.3681417037478555
           ],
           "y": [
            0.48656904697418213
           ],
           "z": [
            -0.22254329805312428
           ]
          },
          {
           "marker": {
            "color": "lime",
            "size": 5
           },
           "mode": "markers",
           "type": "scatter3d",
           "x": [
            0.11985680136224634
           ],
           "y": [
            0.51717808842659
           ],
           "z": [
            -0.3594483685173999
           ]
          },
          {
           "marker": {
            "color": "magenta",
            "size": 5
           },
           "mode": "markers",
           "type": "scatter3d",
           "x": [
            0.46131281729658635
           ],
           "y": [
            0.4093383550643921
           ],
           "z": [
            -0.30000533647515665
           ]
          },
          {
           "marker": {
            "color": "lime",
            "size": 5
           },
           "mode": "markers",
           "type": "scatter3d",
           "x": [
            -0.08365174429239752
           ],
           "y": [
            0.4870809316635132
           ],
           "z": [
            -0.258853829847963
           ]
          },
          {
           "marker": {
            "color": "magenta",
            "size": 5
           },
           "mode": "markers",
           "type": "scatter3d",
           "x": [
            0.5635961716803681
           ],
           "y": [
            0.223577618598938
           ],
           "z": [
            -0.20771455017603252
           ]
          },
          {
           "marker": {
            "color": "lime",
            "size": 5
           },
           "mode": "markers",
           "type": "scatter3d",
           "x": [
            0.1580752595580293
           ],
           "y": [
            0.6924864947795868
           ],
           "z": [
            -0.1130182958470173
           ]
          },
          {
           "line": {
            "color": "silver",
            "width": 5
           },
           "mode": "lines",
           "type": "scatter3d",
           "x": [
            0.4029623834845442,
            -0.0055408440004318105,
            0.11985680136224634,
            0.3681417037478555,
            0.4029623834845442
           ],
           "y": [
            0.681035578250885,
            0.7210554480552673,
            0.51717808842659,
            0.48656904697418213,
            0.681035578250885
           ],
           "z": [
            -0.37496347427248056,
            -0.6717759851619888,
            -0.3594483685173999,
            -0.22254329805312428,
            -0.37496347427248056
           ]
          },
          {
           "line": {
            "color": "silver",
            "width": 5
           },
           "mode": "lines",
           "type": "scatter3d",
           "x": [
            0.4029623834845442,
            0.4201300515532044
           ],
           "y": [
            0.681035578250885,
            0.5689667463302612
           ],
           "z": [
            -0.37496347427248056,
            -0.2698356304115245
           ]
          },
          {
           "line": {
            "color": "silver",
            "width": 5
           },
           "mode": "lines",
           "type": "scatter3d",
           "x": [
            0.3255892404800339,
            0.4201300515532044
           ],
           "y": [
            0.45635342597961426,
            0.5689667463302612
           ],
           "z": [
            -0.3401822065606126,
            -0.2698356304115245
           ]
          },
          {
           "line": {
            "color": "silver",
            "width": 5
           },
           "mode": "lines",
           "type": "scatter3d",
           "x": [
            -0.0055408440004318105,
            -0.14301802356735124
           ],
           "y": [
            0.7210554480552673,
            0.7485448718070984
           ],
           "z": [
            -0.6717759851619888,
            -0.5977322912707195
           ]
          },
          {
           "line": {
            "color": "silver",
            "width": 5
           },
           "mode": "lines",
           "type": "scatter3d",
           "x": [
            -0.22819328097424177,
            -0.14301802356735124
           ],
           "y": [
            0.7782798409461975,
            0.7485448718070984
           ],
           "z": [
            -0.4982108456780263,
            -0.5977322912707195
           ]
          },
          {
           "line": {
            "color": "silver",
            "width": 5
           },
           "mode": "lines",
           "type": "scatter3d",
           "x": [
            0.3681417037478555,
            0.46131281729658635
           ],
           "y": [
            0.48656904697418213,
            0.4093383550643921
           ],
           "z": [
            -0.22254329805312428,
            -0.30000533647515665
           ]
          },
          {
           "line": {
            "color": "silver",
            "width": 5
           },
           "mode": "lines",
           "type": "scatter3d",
           "x": [
            0.5635961716803681,
            0.46131281729658635
           ],
           "y": [
            0.223577618598938,
            0.4093383550643921
           ],
           "z": [
            -0.20771455017603252,
            -0.30000533647515665
           ]
          },
          {
           "line": {
            "color": "silver",
            "width": 5
           },
           "mode": "lines",
           "type": "scatter3d",
           "x": [
            0.11985680136224634,
            -0.08365174429239752
           ],
           "y": [
            0.51717808842659,
            0.4870809316635132
           ],
           "z": [
            -0.3594483685173999,
            -0.258853829847963
           ]
          },
          {
           "line": {
            "color": "silver",
            "width": 5
           },
           "mode": "lines",
           "type": "scatter3d",
           "x": [
            0.1580752595580293,
            -0.08365174429239752
           ],
           "y": [
            0.6924864947795868,
            0.4870809316635132
           ],
           "z": [
            -0.1130182958470173,
            -0.258853829847963
           ]
          }
         ],
         "name": "frame31"
        },
        {
         "data": [
          {
           "marker": {
            "color": "black",
            "size": 5
           },
           "mode": "markers",
           "type": "scatter3d",
           "x": [
            0.33212055914044625
           ],
           "y": [
            0.7310750484466552
           ],
           "z": [
            -0.6074241775337633
           ]
          },
          {
           "marker": {
            "color": "magenta",
            "size": 5
           },
           "mode": "markers",
           "type": "scatter3d",
           "x": [
            0.4619522034269347
           ],
           "y": [
            0.6810355782508849
           ],
           "z": [
            -0.29929325299951876
           ]
          },
          {
           "marker": {
            "color": "lime",
            "size": 5
           },
           "mode": "markers",
           "type": "scatter3d",
           "x": [
            0.11119600949392966
           ],
           "y": [
            0.7210554480552672
           ],
           "z": [
            -0.6625323559383522
           ]
          },
          {
           "marker": {
            "color": "magenta",
            "size": 5
           },
           "mode": "markers",
           "type": "scatter3d",
           "x": [
            0.4606037975335828
           ],
           "y": [
            0.5689667463302611
           ],
           "z": [
            -0.1927814030328787
           ]
          },
          {
           "marker": {
            "color": "lime",
            "size": 5
           },
           "mode": "markers",
           "type": "scatter3d",
           "x": [
            -0.03705013531777107
           ],
           "y": [
            0.7485448718070983
           ],
           "z": [
            -0.6134862138351526
           ]
          },
          {
           "marker": {
            "color": "magenta",
            "size": 5
           },
           "mode": "markers",
           "type": "scatter3d",
           "x": [
            0.37971482856605926
           ],
           "y": [
            0.4563534259796142
           ],
           "z": [
            -0.278476096180374
           ]
          },
          {
           "marker": {
            "color": "lime",
            "size": 5
           },
           "mode": "markers",
           "type": "scatter3d",
           "x": [
            -0.13821310684283708
           ],
           "y": [
            0.7782798409461974
           ],
           "z": [
            -0.5302672508555039
           ]
          },
          {
           "marker": {
            "color": "magenta",
            "size": 5
           },
           "mode": "markers",
           "type": "scatter3d",
           "x": [
            0.40119304221692503
           ],
           "y": [
            0.4865690469741821
           ],
           "z": [
            -0.15523522932460943
           ]
          },
          {
           "marker": {
            "color": "lime",
            "size": 5
           },
           "mode": "markers",
           "type": "scatter3d",
           "x": [
            0.180453461391182
           ],
           "y": [
            0.5171780884265899
           ],
           "z": [
            -0.33317462498598344
           ]
          },
          {
           "marker": {
            "color": "magenta",
            "size": 5
           },
           "mode": "markers",
           "type": "scatter3d",
           "x": [
            0.5063998190068476
           ],
           "y": [
            0.40933835506439203
           ],
           "z": [
            -0.21534145124782078
           ]
          },
          {
           "marker": {
            "color": "lime",
            "size": 5
           },
           "mode": "markers",
           "type": "scatter3d",
           "x": [
            -0.03743139049694344
           ],
           "y": [
            0.48708093166351313
           ],
           "z": [
            -0.26944723148621175
           ]
          },
          {
           "marker": {
            "color": "magenta",
            "size": 5
           },
           "mode": "markers",
           "type": "scatter3d",
           "x": [
            0.5911031325518001
           ],
           "y": [
            0.22357761859893796
           ],
           "z": [
            -0.10669145127444596
           ]
          },
          {
           "marker": {
            "color": "lime",
            "size": 5
           },
           "mode": "markers",
           "type": "scatter3d",
           "x": [
            0.17529916228902093
           ],
           "y": [
            0.6924864947795867
           ],
           "z": [
            -0.0838518132258913
           ]
          },
          {
           "line": {
            "color": "silver",
            "width": 5
           },
           "mode": "lines",
           "type": "scatter3d",
           "x": [
            0.4619522034269347,
            0.11119600949392966,
            0.180453461391182,
            0.40119304221692503,
            0.4619522034269347
           ],
           "y": [
            0.6810355782508849,
            0.7210554480552672,
            0.5171780884265899,
            0.4865690469741821,
            0.6810355782508849
           ],
           "z": [
            -0.29929325299951876,
            -0.6625323559383522,
            -0.33317462498598344,
            -0.15523522932460943,
            -0.29929325299951876
           ]
          },
          {
           "line": {
            "color": "silver",
            "width": 5
           },
           "mode": "lines",
           "type": "scatter3d",
           "x": [
            0.4619522034269347,
            0.4606037975335828
           ],
           "y": [
            0.6810355782508849,
            0.5689667463302611
           ],
           "z": [
            -0.29929325299951876,
            -0.1927814030328787
           ]
          },
          {
           "line": {
            "color": "silver",
            "width": 5
           },
           "mode": "lines",
           "type": "scatter3d",
           "x": [
            0.37971482856605926,
            0.4606037975335828
           ],
           "y": [
            0.4563534259796142,
            0.5689667463302611
           ],
           "z": [
            -0.278476096180374,
            -0.1927814030328787
           ]
          },
          {
           "line": {
            "color": "silver",
            "width": 5
           },
           "mode": "lines",
           "type": "scatter3d",
           "x": [
            0.11119600949392966,
            -0.03705013531777107
           ],
           "y": [
            0.7210554480552672,
            0.7485448718070983
           ],
           "z": [
            -0.6625323559383522,
            -0.6134862138351526
           ]
          },
          {
           "line": {
            "color": "silver",
            "width": 5
           },
           "mode": "lines",
           "type": "scatter3d",
           "x": [
            -0.13821310684283708,
            -0.03705013531777107
           ],
           "y": [
            0.7782798409461974,
            0.7485448718070983
           ],
           "z": [
            -0.5302672508555039,
            -0.6134862138351526
           ]
          },
          {
           "line": {
            "color": "silver",
            "width": 5
           },
           "mode": "lines",
           "type": "scatter3d",
           "x": [
            0.40119304221692503,
            0.5063998190068476
           ],
           "y": [
            0.4865690469741821,
            0.40933835506439203
           ],
           "z": [
            -0.15523522932460943,
            -0.21534145124782078
           ]
          },
          {
           "line": {
            "color": "silver",
            "width": 5
           },
           "mode": "lines",
           "type": "scatter3d",
           "x": [
            0.5911031325518001,
            0.5063998190068476
           ],
           "y": [
            0.22357761859893796,
            0.40933835506439203
           ],
           "z": [
            -0.10669145127444596,
            -0.21534145124782078
           ]
          },
          {
           "line": {
            "color": "silver",
            "width": 5
           },
           "mode": "lines",
           "type": "scatter3d",
           "x": [
            0.180453461391182,
            -0.03743139049694344
           ],
           "y": [
            0.5171780884265899,
            0.48708093166351313
           ],
           "z": [
            -0.33317462498598344,
            -0.26944723148621175
           ]
          },
          {
           "line": {
            "color": "silver",
            "width": 5
           },
           "mode": "lines",
           "type": "scatter3d",
           "x": [
            0.17529916228902093,
            -0.03743139049694344
           ],
           "y": [
            0.6924864947795867,
            0.48708093166351313
           ],
           "z": [
            -0.0838518132258913,
            -0.26944723148621175
           ]
          }
         ],
         "name": "frame32"
        },
        {
         "data": [
          {
           "marker": {
            "color": "black",
            "size": 5
           },
           "mode": "markers",
           "type": "scatter3d",
           "x": [
            0.4325530030758329
           ],
           "y": [
            0.7310750484466553
           ],
           "z": [
            -0.5405239095418536
           ]
          },
          {
           "marker": {
            "color": "magenta",
            "size": 5
           },
           "mode": "markers",
           "type": "scatter3d",
           "x": [
            0.506905839427292
           ],
           "y": [
            0.681035578250885
           ],
           "z": [
            -0.2145291576838601
           ]
          },
          {
           "marker": {
            "color": "lime",
            "size": 5
           },
           "mode": "markers",
           "type": "scatter3d",
           "x": [
            0.22455422850771387
           ],
           "y": [
            0.7210554480552673
           ],
           "z": [
            -0.6331580163370776
           ]
          },
          {
           "marker": {
            "color": "magenta",
            "size": 5
           },
           "mode": "markers",
           "type": "scatter3d",
           "x": [
            0.4870823302026712
           ],
           "y": [
            0.5689667463302612
           ],
           "z": [
            -0.1098696102751758
           ]
          },
          {
           "marker": {
            "color": "lime",
            "size": 5
           },
           "mode": "markers",
           "type": "scatter3d",
           "x": [
            0.07004350254516653
           ],
           "y": [
            0.7485448718070984
           ],
           "z": [
            -0.6105996682312077
           ]
          },
          {
           "marker": {
            "color": "magenta",
            "size": 5
           },
           "mode": "markers",
           "type": "scatter3d",
           "x": [
            0.42230297373107933
           ],
           "y": [
            0.45635342597961426
           ],
           "z": [
            -0.20830863053339865
           ]
          },
          {
           "marker": {
            "color": "lime",
            "size": 5
           },
           "mode": "markers",
           "type": "scatter3d",
           "x": [
            -0.04403339739921944
           ],
           "y": [
            0.7782798409461975
           ],
           "z": [
            -0.546211753943913
           ]
          },
          {
           "marker": {
            "color": "magenta",
            "size": 5
           },
           "mode": "markers",
           "type": "scatter3d",
           "x": [
            0.42205433311170837
           ],
           "y": [
            0.48656904697418213
           ],
           "z": [
            -0.08321041670588263
           ]
          },
          {
           "marker": {
            "color": "lime",
            "size": 5
           },
           "mode": "markers",
           "type": "scatter3d",
           "x": [
            0.23556713430960408
           ],
           "y": [
            0.51717808842659
           ],
           "z": [
            -0.29677753906886295
           ]
          },
          {
           "marker": {
            "color": "magenta",
            "size": 5
           },
           "mode": "markers",
           "type": "scatter3d",
           "x": [
            0.5361001184672587
           ],
           "y": [
            0.4093383550643921
           ],
           "z": [
            -0.12413452499235192
           ]
          },
          {
           "marker": {
            "color": "lime",
            "size": 5
           },
           "mode": "markers",
           "type": "scatter3d",
           "x": [
            0.009926297157562783
           ],
           "y": [
            0.4870809316635132
           ],
           "z": [
            -0.2718536153426299
           ]
          },
          {
           "marker": {
            "color": "magenta",
            "size": 5
           },
           "mode": "markers",
           "type": "scatter3d",
           "x": [
            0.6006497238532633
           ],
           "y": [
            0.223577618598938
           ],
           "z": [
            -0.002426586614364623
           ]
          },
          {
           "marker": {
            "color": "lime",
            "size": 5
           },
           "mode": "markers",
           "type": "scatter3d",
           "x": [
            0.18719668867951694
           ],
           "y": [
            0.6924864947795868
           ],
           "z": [
            -0.05213753569096144
           ]
          },
          {
           "line": {
            "color": "silver",
            "width": 5
           },
           "mode": "lines",
           "type": "scatter3d",
           "x": [
            0.506905839427292,
            0.22455422850771387,
            0.23556713430960408,
            0.42205433311170837,
            0.506905839427292
           ],
           "y": [
            0.681035578250885,
            0.7210554480552673,
            0.51717808842659,
            0.48656904697418213,
            0.681035578250885
           ],
           "z": [
            -0.2145291576838601,
            -0.6331580163370776,
            -0.29677753906886295,
            -0.08321041670588263,
            -0.2145291576838601
           ]
          },
          {
           "line": {
            "color": "silver",
            "width": 5
           },
           "mode": "lines",
           "type": "scatter3d",
           "x": [
            0.506905839427292,
            0.4870823302026712
           ],
           "y": [
            0.681035578250885,
            0.5689667463302612
           ],
           "z": [
            -0.2145291576838601,
            -0.1098696102751758
           ]
          },
          {
           "line": {
            "color": "silver",
            "width": 5
           },
           "mode": "lines",
           "type": "scatter3d",
           "x": [
            0.42230297373107933,
            0.4870823302026712
           ],
           "y": [
            0.45635342597961426,
            0.5689667463302612
           ],
           "z": [
            -0.20830863053339865,
            -0.1098696102751758
           ]
          },
          {
           "line": {
            "color": "silver",
            "width": 5
           },
           "mode": "lines",
           "type": "scatter3d",
           "x": [
            0.22455422850771387,
            0.07004350254516653
           ],
           "y": [
            0.7210554480552673,
            0.7485448718070984
           ],
           "z": [
            -0.6331580163370776,
            -0.6105996682312077
           ]
          },
          {
           "line": {
            "color": "silver",
            "width": 5
           },
           "mode": "lines",
           "type": "scatter3d",
           "x": [
            -0.04403339739921944,
            0.07004350254516653
           ],
           "y": [
            0.7782798409461975,
            0.7485448718070984
           ],
           "z": [
            -0.546211753943913,
            -0.6105996682312077
           ]
          },
          {
           "line": {
            "color": "silver",
            "width": 5
           },
           "mode": "lines",
           "type": "scatter3d",
           "x": [
            0.42205433311170837,
            0.5361001184672587
           ],
           "y": [
            0.48656904697418213,
            0.4093383550643921
           ],
           "z": [
            -0.08321041670588263,
            -0.12413452499235192
           ]
          },
          {
           "line": {
            "color": "silver",
            "width": 5
           },
           "mode": "lines",
           "type": "scatter3d",
           "x": [
            0.6006497238532633,
            0.5361001184672587
           ],
           "y": [
            0.223577618598938,
            0.4093383550643921
           ],
           "z": [
            -0.002426586614364623,
            -0.12413452499235192
           ]
          },
          {
           "line": {
            "color": "silver",
            "width": 5
           },
           "mode": "lines",
           "type": "scatter3d",
           "x": [
            0.23556713430960408,
            0.009926297157562783
           ],
           "y": [
            0.51717808842659,
            0.4870809316635132
           ],
           "z": [
            -0.29677753906886295,
            -0.2718536153426299
           ]
          },
          {
           "line": {
            "color": "silver",
            "width": 5
           },
           "mode": "lines",
           "type": "scatter3d",
           "x": [
            0.18719668867951694,
            0.009926297157562783
           ],
           "y": [
            0.6924864947795868,
            0.4870809316635132
           ],
           "z": [
            -0.05213753569096144,
            -0.2718536153426299
           ]
          }
         ],
         "name": "frame33"
        },
        {
         "data": [
          {
           "marker": {
            "color": "black",
            "size": 5
           },
           "mode": "markers",
           "type": "scatter3d",
           "x": [
            0.5198425428951416
           ],
           "y": [
            0.7310750484466552
           ],
           "z": [
            -0.45720009607681
           ]
          },
          {
           "marker": {
            "color": "magenta",
            "size": 5
           },
           "mode": "markers",
           "type": "scatter3d",
           "x": [
            0.5364573980033824
           ],
           "y": [
            0.6810355782508849
           ],
           "z": [
            -0.12324670246896871
           ]
          },
          {
           "marker": {
            "color": "lime",
            "size": 5
           },
           "mode": "markers",
           "type": "scatter3d",
           "x": [
            0.331089480918214
           ],
           "y": [
            0.7210554480552672
           ],
           "z": [
            -0.5845454908028161
           ]
          },
          {
           "marker": {
            "color": "magenta",
            "size": 5
           },
           "mode": "markers",
           "type": "scatter3d",
           "x": [
            0.498761112744103
           ],
           "y": [
            0.5689667463302611
           ],
           "z": [
            -0.023619485005966667
           ]
          },
          {
           "marker": {
            "color": "lime",
            "size": 5
           },
           "mode": "markers",
           "type": "scatter3d",
           "x": [
            0.17500890402699218
           ],
           "y": [
            0.7485448718070983
           ],
           "z": [
            -0.589160360686398
           ]
          },
          {
           "marker": {
            "color": "magenta",
            "size": 5
           },
           "mode": "markers",
           "type": "scatter3d",
           "x": [
            0.45205965673489634
           ],
           "y": [
            0.4563534259796142
           ],
           "z": [
            -0.13181181255691876
           ]
          },
          {
           "marker": {
            "color": "lime",
            "size": 5
           },
           "mode": "markers",
           "type": "scatter3d",
           "x": [
            0.05148424454239972
           ],
           "y": [
            0.7782798409461974
           ],
           "z": [
            -0.5455598892852201
           ]
          },
          {
           "marker": {
            "color": "magenta",
            "size": 5
           },
           "mode": "markers",
           "type": "scatter3d",
           "x": [
            0.4300917166646898
           ],
           "y": [
            0.4865690469741821
           ],
           "z": [
            -0.00865729768204973
           ]
          },
          {
           "marker": {
            "color": "lime",
            "size": 5
           },
           "mode": "markers",
           "type": "scatter3d",
           "x": [
            0.28352321905475064
           ],
           "y": [
            0.5171780884265899
           ],
           "z": [
            -0.2513630178038157
           ]
          },
          {
           "marker": {
            "color": "magenta",
            "size": 5
           },
           "mode": "markers",
           "type": "scatter3d",
           "x": [
            0.5495112871077914
           ],
           "y": [
            0.40933835506439203
           ],
           "z": [
            -0.029155834010090587
           ]
          },
          {
           "marker": {
            "color": "lime",
            "size": 5
           },
           "mode": "markers",
           "type": "scatter3d",
           "x": [
            0.05698237929588537
           ],
           "y": [
            0.48708093166351313
           ],
           "z": [
            -0.2659998646614292
           ]
          },
          {
           "marker": {
            "color": "magenta",
            "size": 5
           },
           "mode": "markers",
           "type": "scatter3d",
           "x": [
            0.5919458772388707
           ],
           "y": [
            0.22357761859893796
           ],
           "z": [
            0.10191200865208255
           ]
          },
          {
           "marker": {
            "color": "lime",
            "size": 5
           },
           "mode": "markers",
           "type": "scatter3d",
           "x": [
            0.19340633841058089
           ],
           "y": [
            0.6924864947795867
           ],
           "z": [
            -0.018839085516927603
           ]
          },
          {
           "line": {
            "color": "silver",
            "width": 5
           },
           "mode": "lines",
           "type": "scatter3d",
           "x": [
            0.5364573980033824,
            0.331089480918214,
            0.28352321905475064,
            0.4300917166646898,
            0.5364573980033824
           ],
           "y": [
            0.6810355782508849,
            0.7210554480552672,
            0.5171780884265899,
            0.4865690469741821,
            0.6810355782508849
           ],
           "z": [
            -0.12324670246896871,
            -0.5845454908028161,
            -0.2513630178038157,
            -0.00865729768204973,
            -0.12324670246896871
           ]
          },
          {
           "line": {
            "color": "silver",
            "width": 5
           },
           "mode": "lines",
           "type": "scatter3d",
           "x": [
            0.5364573980033824,
            0.498761112744103
           ],
           "y": [
            0.6810355782508849,
            0.5689667463302611
           ],
           "z": [
            -0.12324670246896871,
            -0.023619485005966667
           ]
          },
          {
           "line": {
            "color": "silver",
            "width": 5
           },
           "mode": "lines",
           "type": "scatter3d",
           "x": [
            0.45205965673489634,
            0.498761112744103
           ],
           "y": [
            0.4563534259796142,
            0.5689667463302611
           ],
           "z": [
            -0.13181181255691876,
            -0.023619485005966667
           ]
          },
          {
           "line": {
            "color": "silver",
            "width": 5
           },
           "mode": "lines",
           "type": "scatter3d",
           "x": [
            0.331089480918214,
            0.17500890402699218
           ],
           "y": [
            0.7210554480552672,
            0.7485448718070983
           ],
           "z": [
            -0.5845454908028161,
            -0.589160360686398
           ]
          },
          {
           "line": {
            "color": "silver",
            "width": 5
           },
           "mode": "lines",
           "type": "scatter3d",
           "x": [
            0.05148424454239972,
            0.17500890402699218
           ],
           "y": [
            0.7782798409461974,
            0.7485448718070983
           ],
           "z": [
            -0.5455598892852201,
            -0.589160360686398
           ]
          },
          {
           "line": {
            "color": "silver",
            "width": 5
           },
           "mode": "lines",
           "type": "scatter3d",
           "x": [
            0.4300917166646898,
            0.5495112871077914
           ],
           "y": [
            0.4865690469741821,
            0.40933835506439203
           ],
           "z": [
            -0.00865729768204973,
            -0.029155834010090587
           ]
          },
          {
           "line": {
            "color": "silver",
            "width": 5
           },
           "mode": "lines",
           "type": "scatter3d",
           "x": [
            0.5919458772388707,
            0.5495112871077914
           ],
           "y": [
            0.22357761859893796,
            0.40933835506439203
           ],
           "z": [
            0.10191200865208255,
            -0.029155834010090587
           ]
          },
          {
           "line": {
            "color": "silver",
            "width": 5
           },
           "mode": "lines",
           "type": "scatter3d",
           "x": [
            0.28352321905475064,
            0.05698237929588537
           ],
           "y": [
            0.5171780884265899,
            0.48708093166351313
           ],
           "z": [
            -0.2513630178038157,
            -0.2659998646614292
           ]
          },
          {
           "line": {
            "color": "silver",
            "width": 5
           },
           "mode": "lines",
           "type": "scatter3d",
           "x": [
            0.19340633841058089,
            0.05698237929588537
           ],
           "y": [
            0.6924864947795867,
            0.48708093166351313
           ],
           "z": [
            -0.018839085516927603,
            -0.2659998646614292
           ]
          }
         ],
         "name": "frame34"
        },
        {
         "data": [
          {
           "marker": {
            "color": "black",
            "size": 5
           },
           "mode": "markers",
           "type": "scatter3d",
           "x": [
            0.5913369301016004
           ],
           "y": [
            0.7310750484466553
           ],
           "z": [
            -0.3599844890468846
           ]
          },
          {
           "marker": {
            "color": "magenta",
            "size": 5
           },
           "mode": "markers",
           "type": "scatter3d",
           "x": [
            0.5497089700016817
           ],
           "y": [
            0.681035578250885
           ],
           "z": [
            -0.028219458565398828
           ]
          },
          {
           "marker": {
            "color": "lime",
            "size": 5
           },
           "mode": "markers",
           "type": "scatter3d",
           "x": [
            0.4275647469903751
           ],
           "y": [
            0.7210554480552673
           ],
           "z": [
            -0.5181718463248021
           ]
          },
          {
           "marker": {
            "color": "magenta",
            "size": 5
           },
           "mode": "markers",
           "type": "scatter3d",
           "x": [
            0.4952852912601063
           ],
           "y": [
            0.5689667463302612
           ],
           "z": [
            0.06334830636311221
           ]
          },
          {
           "marker": {
            "color": "lime",
            "size": 5
           },
           "mode": "markers",
           "type": "scatter3d",
           "x": [
            0.27465674851873567
           ],
           "y": [
            0.7485448718070984
           ],
           "z": [
            -0.5498197137116599
           ]
          },
          {
           "marker": {
            "color": "magenta",
            "size": 5
           },
           "mode": "markers",
           "type": "scatter3d",
           "x": [
            0.4680807358220474
           ],
           "y": [
            0.45635342597961426
           ],
           "z": [
            -0.05130995935589278
           ]
          },
          {
           "marker": {
            "color": "lime",
            "size": 5
           },
           "mode": "markers",
           "type": "scatter3d",
           "x": [
            0.1454375637658824
           ],
           "y": [
            0.7782798409461975
           ],
           "z": [
            -0.5283314634572205
           ]
          },
          {
           "marker": {
            "color": "magenta",
            "size": 5
           },
           "mode": "markers",
           "type": "scatter3d",
           "x": [
            0.4250609810437246
           ],
           "y": [
            0.48656904697418213
           ],
           "z": [
            0.06615886895104788
           ]
          },
          {
           "marker": {
            "color": "lime",
            "size": 5
           },
           "mode": "markers",
           "type": "scatter3d",
           "x": [
            0.3228645942585898
           ],
           "y": [
            0.51717808842659
           ],
           "z": [
            -0.19831095843862412
           ]
          },
          {
           "marker": {
            "color": "magenta",
            "size": 5
           },
           "mode": "markers",
           "type": "scatter3d",
           "x": [
            0.5462258333556823
           ],
           "y": [
            0.4093383550643921
           ],
           "z": [
            0.06670874223500302
           ]
          },
          {
           "marker": {
            "color": "lime",
            "size": 5
           },
           "mode": "markers",
           "type": "scatter3d",
           "x": [
            0.10230708067377753
           ],
           "y": [
            0.4870809316635132
           ],
           "z": [
            -0.25206384269491733
           ]
          },
          {
           "marker": {
            "color": "magenta",
            "size": 5
           },
           "mode": "markers",
           "type": "scatter3d",
           "x": [
            0.5652560546836422
           ],
           "y": [
            0.223577618598938
           ],
           "z": [
            0.20315405910560044
           ]
          },
          {
           "marker": {
            "color": "lime",
            "size": 5
           },
           "mode": "markers",
           "type": "scatter3d",
           "x": [
            0.19373943441736885
           ],
           "y": [
            0.6924864947795868
           ],
           "z": [
            0.01503178073750068
           ]
          },
          {
           "line": {
            "color": "silver",
            "width": 5
           },
           "mode": "lines",
           "type": "scatter3d",
           "x": [
            0.5497089700016817,
            0.4275647469903751,
            0.3228645942585898,
            0.4250609810437246,
            0.5497089700016817
           ],
           "y": [
            0.681035578250885,
            0.7210554480552673,
            0.51717808842659,
            0.48656904697418213,
            0.681035578250885
           ],
           "z": [
            -0.028219458565398828,
            -0.5181718463248021,
            -0.19831095843862412,
            0.06615886895104788,
            -0.028219458565398828
           ]
          },
          {
           "line": {
            "color": "silver",
            "width": 5
           },
           "mode": "lines",
           "type": "scatter3d",
           "x": [
            0.5497089700016817,
            0.4952852912601063
           ],
           "y": [
            0.681035578250885,
            0.5689667463302612
           ],
           "z": [
            -0.028219458565398828,
            0.06334830636311221
           ]
          },
          {
           "line": {
            "color": "silver",
            "width": 5
           },
           "mode": "lines",
           "type": "scatter3d",
           "x": [
            0.4680807358220474,
            0.4952852912601063
           ],
           "y": [
            0.45635342597961426,
            0.5689667463302612
           ],
           "z": [
            -0.05130995935589278,
            0.06334830636311221
           ]
          },
          {
           "line": {
            "color": "silver",
            "width": 5
           },
           "mode": "lines",
           "type": "scatter3d",
           "x": [
            0.4275647469903751,
            0.27465674851873567
           ],
           "y": [
            0.7210554480552673,
            0.7485448718070984
           ],
           "z": [
            -0.5181718463248021,
            -0.5498197137116599
           ]
          },
          {
           "line": {
            "color": "silver",
            "width": 5
           },
           "mode": "lines",
           "type": "scatter3d",
           "x": [
            0.1454375637658824,
            0.27465674851873567
           ],
           "y": [
            0.7782798409461975,
            0.7485448718070984
           ],
           "z": [
            -0.5283314634572205,
            -0.5498197137116599
           ]
          },
          {
           "line": {
            "color": "silver",
            "width": 5
           },
           "mode": "lines",
           "type": "scatter3d",
           "x": [
            0.4250609810437246,
            0.5462258333556823
           ],
           "y": [
            0.48656904697418213,
            0.4093383550643921
           ],
           "z": [
            0.06615886895104788,
            0.06670874223500302
           ]
          },
          {
           "line": {
            "color": "silver",
            "width": 5
           },
           "mode": "lines",
           "type": "scatter3d",
           "x": [
            0.5652560546836422,
            0.5462258333556823
           ],
           "y": [
            0.223577618598938,
            0.4093383550643921
           ],
           "z": [
            0.20315405910560044,
            0.06670874223500302
           ]
          },
          {
           "line": {
            "color": "silver",
            "width": 5
           },
           "mode": "lines",
           "type": "scatter3d",
           "x": [
            0.3228645942585898,
            0.10230708067377753
           ],
           "y": [
            0.51717808842659,
            0.4870809316635132
           ],
           "z": [
            -0.19831095843862412,
            -0.25206384269491733
           ]
          },
          {
           "line": {
            "color": "silver",
            "width": 5
           },
           "mode": "lines",
           "type": "scatter3d",
           "x": [
            0.19373943441736885,
            0.10230708067377753
           ],
           "y": [
            0.6924864947795868,
            0.4870809316635132
           ],
           "z": [
            0.01503178073750068,
            -0.25206384269491733
           ]
          }
         ],
         "name": "frame35"
        },
        {
         "data": [
          {
           "marker": {
            "color": "black",
            "size": 5
           },
           "mode": "markers",
           "type": "scatter3d",
           "x": [
            0.6448638439178466
           ],
           "y": [
            0.7310750484466553
           ],
           "z": [
            -0.25183093547821056
           ]
          },
          {
           "marker": {
            "color": "magenta",
            "size": 5
           },
           "mode": "markers",
           "type": "scatter3d",
           "x": [
            0.5462579131126404
           ],
           "y": [
            0.681035578250885
           ],
           "z": [
            0.06766521930694566
           ]
          },
          {
           "marker": {
            "color": "lime",
            "size": 5
           },
           "mode": "markers",
           "type": "scatter3d",
           "x": [
            0.511048674583435
           ],
           "y": [
            0.7210554480552673
           ],
           "z": [
            -0.4360538125038148
           ]
          },
          {
           "marker": {
            "color": "magenta",
            "size": 5
           },
           "mode": "markers",
           "type": "scatter3d",
           "x": [
            0.47676047682762146
           ],
           "y": [
            0.5689667463302612
           ],
           "z": [
            0.14839129149913768
           ]
          },
          {
           "marker": {
            "color": "lime",
            "size": 5
           },
           "mode": "markers",
           "type": "scatter3d",
           "x": [
            0.3659592866897582
           ],
           "y": [
            0.7485448718070984
           ],
           "z": [
            -0.4937730729579926
           ]
          },
          {
           "marker": {
            "color": "magenta",
            "size": 5
           },
           "mode": "markers",
           "type": "scatter3d",
           "x": [
            0.4698794186115265
           ],
           "y": [
            0.45635342597961426
           ],
           "z": [
            0.030750920996069787
           ]
          },
          {
           "marker": {
            "color": "lime",
            "size": 5
           },
           "mode": "markers",
           "type": "scatter3d",
           "x": [
            0.23497183620929699
           ],
           "y": [
            0.7782798409461975
           ],
           "z": [
            -0.49504995346069336
           ]
          },
          {
           "marker": {
            "color": "magenta",
            "size": 5
           },
           "mode": "markers",
           "type": "scatter3d",
           "x": [
            0.40711498260498047
           ],
           "y": [
            0.48656904697418213
           ],
           "z": [
            0.13896483182907088
           ]
          },
          {
           "marker": {
            "color": "lime",
            "size": 5
           },
           "mode": "markers",
           "type": "scatter3d",
           "x": [
            0.35239589214324946
           ],
           "y": [
            0.51717808842659
           ],
           "z": [
            -0.13923332095146188
           ]
          },
          {
           "marker": {
            "color": "magenta",
            "size": 5
           },
           "mode": "markers",
           "type": "scatter3d",
           "x": [
            0.526343584060669
           ],
           "y": [
            0.4093383550643921
           ],
           "z": [
            0.16054640710353837
           ]
          },
          {
           "marker": {
            "color": "lime",
            "size": 5
           },
           "mode": "markers",
           "type": "scatter3d",
           "x": [
            0.14452323317527765
           ],
           "y": [
            0.4870809316635132
           ],
           "z": [
            -0.23046898841857913
           ]
          },
          {
           "marker": {
            "color": "magenta",
            "size": 5
           },
           "mode": "markers",
           "type": "scatter3d",
           "x": [
            0.5213912129402162
           ],
           "y": [
            0.223577618598938
           ],
           "z": [
            0.2982233762741088
           ]
          },
          {
           "marker": {
            "color": "lime",
            "size": 5
           },
           "mode": "markers",
           "type": "scatter3d",
           "x": [
            0.1881858557462692
           ],
           "y": [
            0.6924864947795868
           ],
           "z": [
            0.04844591394066805
           ]
          },
          {
           "line": {
            "color": "silver",
            "width": 5
           },
           "mode": "lines",
           "type": "scatter3d",
           "x": [
            0.5462579131126404,
            0.511048674583435,
            0.35239589214324946,
            0.40711498260498047,
            0.5462579131126404
           ],
           "y": [
            0.681035578250885,
            0.7210554480552673,
            0.51717808842659,
            0.48656904697418213,
            0.681035578250885
           ],
           "z": [
            0.06766521930694566,
            -0.4360538125038148,
            -0.13923332095146188,
            0.13896483182907088,
            0.06766521930694566
           ]
          },
          {
           "line": {
            "color": "silver",
            "width": 5
           },
           "mode": "lines",
           "type": "scatter3d",
           "x": [
            0.5462579131126404,
            0.47676047682762146
           ],
           "y": [
            0.681035578250885,
            0.5689667463302612
           ],
           "z": [
            0.06766521930694566,
            0.14839129149913768
           ]
          },
          {
           "line": {
            "color": "silver",
            "width": 5
           },
           "mode": "lines",
           "type": "scatter3d",
           "x": [
            0.4698794186115265,
            0.47676047682762146
           ],
           "y": [
            0.45635342597961426,
            0.5689667463302612
           ],
           "z": [
            0.030750920996069787,
            0.14839129149913768
           ]
          },
          {
           "line": {
            "color": "silver",
            "width": 5
           },
           "mode": "lines",
           "type": "scatter3d",
           "x": [
            0.511048674583435,
            0.3659592866897582
           ],
           "y": [
            0.7210554480552673,
            0.7485448718070984
           ],
           "z": [
            -0.4360538125038148,
            -0.4937730729579926
           ]
          },
          {
           "line": {
            "color": "silver",
            "width": 5
           },
           "mode": "lines",
           "type": "scatter3d",
           "x": [
            0.23497183620929699,
            0.3659592866897582
           ],
           "y": [
            0.7782798409461975,
            0.7485448718070984
           ],
           "z": [
            -0.49504995346069336,
            -0.4937730729579926
           ]
          },
          {
           "line": {
            "color": "silver",
            "width": 5
           },
           "mode": "lines",
           "type": "scatter3d",
           "x": [
            0.40711498260498047,
            0.526343584060669
           ],
           "y": [
            0.48656904697418213,
            0.4093383550643921
           ],
           "z": [
            0.13896483182907088,
            0.16054640710353837
           ]
          },
          {
           "line": {
            "color": "silver",
            "width": 5
           },
           "mode": "lines",
           "type": "scatter3d",
           "x": [
            0.5213912129402162,
            0.526343584060669
           ],
           "y": [
            0.223577618598938,
            0.4093383550643921
           ],
           "z": [
            0.2982233762741088,
            0.16054640710353837
           ]
          },
          {
           "line": {
            "color": "silver",
            "width": 5
           },
           "mode": "lines",
           "type": "scatter3d",
           "x": [
            0.35239589214324946,
            0.14452323317527765
           ],
           "y": [
            0.51717808842659,
            0.4870809316635132
           ],
           "z": [
            -0.13923332095146188,
            -0.23046898841857913
           ]
          },
          {
           "line": {
            "color": "silver",
            "width": 5
           },
           "mode": "lines",
           "type": "scatter3d",
           "x": [
            0.1881858557462692,
            0.14452323317527765
           ],
           "y": [
            0.6924864947795868,
            0.4870809316635132
           ],
           "z": [
            0.04844591394066805,
            -0.23046898841857913
           ]
          }
         ],
         "name": "frame36"
        }
       ],
       "layout": {
        "height": 1000,
        "scene": {
         "aspectmode": "cube",
         "aspectratio": {
          "x": 1,
          "y": 1,
          "z": 1
         },
         "camera": {
          "center": {
           "x": 0,
           "y": 0,
           "z": 0
          },
          "eye": {
           "x": -3.0165211945235946,
           "y": -0.20414734486980815,
           "z": -2.119319524873786
          },
          "projection": {
           "type": "perspective"
          },
          "up": {
           "x": 0.04217892487661844,
           "y": -0.9984561194927359,
           "z": 0.036142990243756494
          }
         },
         "xaxis": {
          "autorange": false,
          "backgroundcolor": "rgb(230, 230, 255)",
          "gridcolor": "white",
          "range": [
           -1,
           1
          ],
          "showbackground": true,
          "type": "linear",
          "zerolinecolor": "white"
         },
         "yaxis": {
          "autorange": "reversed",
          "backgroundcolor": "rgb(230, 255, 230)",
          "gridcolor": "white",
          "range": [
           0,
           1
          ],
          "showbackground": true,
          "type": "linear",
          "zerolinecolor": "white"
         },
         "zaxis": {
          "autorange": false,
          "backgroundcolor": "rgb(255, 230, 255)",
          "gridcolor": "white",
          "range": [
           -2,
           2
          ],
          "showbackground": true,
          "type": "linear",
          "zerolinecolor": "white"
         }
        },
        "sliders": [
         {
          "active": 36,
          "steps": [
           {
            "args": [
             [
              "frame0"
             ],
             {
              "frame": {
               "duration": 500,
               "redraw": true
              },
              "mode": "immediate",
              "transition": {
               "duration": 300
              }
             }
            ],
            "label": "0 degrees",
            "method": "animate"
           },
           {
            "args": [
             [
              "frame1"
             ],
             {
              "frame": {
               "duration": 500,
               "redraw": true
              },
              "mode": "immediate",
              "transition": {
               "duration": 300
              }
             }
            ],
            "label": "10 degrees",
            "method": "animate"
           },
           {
            "args": [
             [
              "frame2"
             ],
             {
              "frame": {
               "duration": 500,
               "redraw": true
              },
              "mode": "immediate",
              "transition": {
               "duration": 300
              }
             }
            ],
            "label": "20 degrees",
            "method": "animate"
           },
           {
            "args": [
             [
              "frame3"
             ],
             {
              "frame": {
               "duration": 500,
               "redraw": true
              },
              "mode": "immediate",
              "transition": {
               "duration": 300
              }
             }
            ],
            "label": "30 degrees",
            "method": "animate"
           },
           {
            "args": [
             [
              "frame4"
             ],
             {
              "frame": {
               "duration": 500,
               "redraw": true
              },
              "mode": "immediate",
              "transition": {
               "duration": 300
              }
             }
            ],
            "label": "40 degrees",
            "method": "animate"
           },
           {
            "args": [
             [
              "frame5"
             ],
             {
              "frame": {
               "duration": 500,
               "redraw": true
              },
              "mode": "immediate",
              "transition": {
               "duration": 300
              }
             }
            ],
            "label": "50 degrees",
            "method": "animate"
           },
           {
            "args": [
             [
              "frame6"
             ],
             {
              "frame": {
               "duration": 500,
               "redraw": true
              },
              "mode": "immediate",
              "transition": {
               "duration": 300
              }
             }
            ],
            "label": "60 degrees",
            "method": "animate"
           },
           {
            "args": [
             [
              "frame7"
             ],
             {
              "frame": {
               "duration": 500,
               "redraw": true
              },
              "mode": "immediate",
              "transition": {
               "duration": 300
              }
             }
            ],
            "label": "70 degrees",
            "method": "animate"
           },
           {
            "args": [
             [
              "frame8"
             ],
             {
              "frame": {
               "duration": 500,
               "redraw": true
              },
              "mode": "immediate",
              "transition": {
               "duration": 300
              }
             }
            ],
            "label": "80 degrees",
            "method": "animate"
           },
           {
            "args": [
             [
              "frame9"
             ],
             {
              "frame": {
               "duration": 500,
               "redraw": true
              },
              "mode": "immediate",
              "transition": {
               "duration": 300
              }
             }
            ],
            "label": "90 degrees",
            "method": "animate"
           },
           {
            "args": [
             [
              "frame10"
             ],
             {
              "frame": {
               "duration": 500,
               "redraw": true
              },
              "mode": "immediate",
              "transition": {
               "duration": 300
              }
             }
            ],
            "label": "100 degrees",
            "method": "animate"
           },
           {
            "args": [
             [
              "frame11"
             ],
             {
              "frame": {
               "duration": 500,
               "redraw": true
              },
              "mode": "immediate",
              "transition": {
               "duration": 300
              }
             }
            ],
            "label": "110 degrees",
            "method": "animate"
           },
           {
            "args": [
             [
              "frame12"
             ],
             {
              "frame": {
               "duration": 500,
               "redraw": true
              },
              "mode": "immediate",
              "transition": {
               "duration": 300
              }
             }
            ],
            "label": "120 degrees",
            "method": "animate"
           },
           {
            "args": [
             [
              "frame13"
             ],
             {
              "frame": {
               "duration": 500,
               "redraw": true
              },
              "mode": "immediate",
              "transition": {
               "duration": 300
              }
             }
            ],
            "label": "130 degrees",
            "method": "animate"
           },
           {
            "args": [
             [
              "frame14"
             ],
             {
              "frame": {
               "duration": 500,
               "redraw": true
              },
              "mode": "immediate",
              "transition": {
               "duration": 300
              }
             }
            ],
            "label": "140 degrees",
            "method": "animate"
           },
           {
            "args": [
             [
              "frame15"
             ],
             {
              "frame": {
               "duration": 500,
               "redraw": true
              },
              "mode": "immediate",
              "transition": {
               "duration": 300
              }
             }
            ],
            "label": "150 degrees",
            "method": "animate"
           },
           {
            "args": [
             [
              "frame16"
             ],
             {
              "frame": {
               "duration": 500,
               "redraw": true
              },
              "mode": "immediate",
              "transition": {
               "duration": 300
              }
             }
            ],
            "label": "160 degrees",
            "method": "animate"
           },
           {
            "args": [
             [
              "frame17"
             ],
             {
              "frame": {
               "duration": 500,
               "redraw": true
              },
              "mode": "immediate",
              "transition": {
               "duration": 300
              }
             }
            ],
            "label": "170 degrees",
            "method": "animate"
           },
           {
            "args": [
             [
              "frame18"
             ],
             {
              "frame": {
               "duration": 500,
               "redraw": true
              },
              "mode": "immediate",
              "transition": {
               "duration": 300
              }
             }
            ],
            "label": "180 degrees",
            "method": "animate"
           },
           {
            "args": [
             [
              "frame19"
             ],
             {
              "frame": {
               "duration": 500,
               "redraw": true
              },
              "mode": "immediate",
              "transition": {
               "duration": 300
              }
             }
            ],
            "label": "190 degrees",
            "method": "animate"
           },
           {
            "args": [
             [
              "frame20"
             ],
             {
              "frame": {
               "duration": 500,
               "redraw": true
              },
              "mode": "immediate",
              "transition": {
               "duration": 300
              }
             }
            ],
            "label": "200 degrees",
            "method": "animate"
           },
           {
            "args": [
             [
              "frame21"
             ],
             {
              "frame": {
               "duration": 500,
               "redraw": true
              },
              "mode": "immediate",
              "transition": {
               "duration": 300
              }
             }
            ],
            "label": "210 degrees",
            "method": "animate"
           },
           {
            "args": [
             [
              "frame22"
             ],
             {
              "frame": {
               "duration": 500,
               "redraw": true
              },
              "mode": "immediate",
              "transition": {
               "duration": 300
              }
             }
            ],
            "label": "220 degrees",
            "method": "animate"
           },
           {
            "args": [
             [
              "frame23"
             ],
             {
              "frame": {
               "duration": 500,
               "redraw": true
              },
              "mode": "immediate",
              "transition": {
               "duration": 300
              }
             }
            ],
            "label": "230 degrees",
            "method": "animate"
           },
           {
            "args": [
             [
              "frame24"
             ],
             {
              "frame": {
               "duration": 500,
               "redraw": true
              },
              "mode": "immediate",
              "transition": {
               "duration": 300
              }
             }
            ],
            "label": "240 degrees",
            "method": "animate"
           },
           {
            "args": [
             [
              "frame25"
             ],
             {
              "frame": {
               "duration": 500,
               "redraw": true
              },
              "mode": "immediate",
              "transition": {
               "duration": 300
              }
             }
            ],
            "label": "250 degrees",
            "method": "animate"
           },
           {
            "args": [
             [
              "frame26"
             ],
             {
              "frame": {
               "duration": 500,
               "redraw": true
              },
              "mode": "immediate",
              "transition": {
               "duration": 300
              }
             }
            ],
            "label": "260 degrees",
            "method": "animate"
           },
           {
            "args": [
             [
              "frame27"
             ],
             {
              "frame": {
               "duration": 500,
               "redraw": true
              },
              "mode": "immediate",
              "transition": {
               "duration": 300
              }
             }
            ],
            "label": "270 degrees",
            "method": "animate"
           },
           {
            "args": [
             [
              "frame28"
             ],
             {
              "frame": {
               "duration": 500,
               "redraw": true
              },
              "mode": "immediate",
              "transition": {
               "duration": 300
              }
             }
            ],
            "label": "280 degrees",
            "method": "animate"
           },
           {
            "args": [
             [
              "frame29"
             ],
             {
              "frame": {
               "duration": 500,
               "redraw": true
              },
              "mode": "immediate",
              "transition": {
               "duration": 300
              }
             }
            ],
            "label": "290 degrees",
            "method": "animate"
           },
           {
            "args": [
             [
              "frame30"
             ],
             {
              "frame": {
               "duration": 500,
               "redraw": true
              },
              "mode": "immediate",
              "transition": {
               "duration": 300
              }
             }
            ],
            "label": "300 degrees",
            "method": "animate"
           },
           {
            "args": [
             [
              "frame31"
             ],
             {
              "frame": {
               "duration": 500,
               "redraw": true
              },
              "mode": "immediate",
              "transition": {
               "duration": 300
              }
             }
            ],
            "label": "310 degrees",
            "method": "animate"
           },
           {
            "args": [
             [
              "frame32"
             ],
             {
              "frame": {
               "duration": 500,
               "redraw": true
              },
              "mode": "immediate",
              "transition": {
               "duration": 300
              }
             }
            ],
            "label": "320 degrees",
            "method": "animate"
           },
           {
            "args": [
             [
              "frame33"
             ],
             {
              "frame": {
               "duration": 500,
               "redraw": true
              },
              "mode": "immediate",
              "transition": {
               "duration": 300
              }
             }
            ],
            "label": "330 degrees",
            "method": "animate"
           },
           {
            "args": [
             [
              "frame34"
             ],
             {
              "frame": {
               "duration": 500,
               "redraw": true
              },
              "mode": "immediate",
              "transition": {
               "duration": 300
              }
             }
            ],
            "label": "340 degrees",
            "method": "animate"
           },
           {
            "args": [
             [
              "frame35"
             ],
             {
              "frame": {
               "duration": 500,
               "redraw": true
              },
              "mode": "immediate",
              "transition": {
               "duration": 300
              }
             }
            ],
            "label": "350 degrees",
            "method": "animate"
           },
           {
            "args": [
             [
              "frame36"
             ],
             {
              "frame": {
               "duration": 500,
               "redraw": true
              },
              "mode": "immediate",
              "transition": {
               "duration": 300
              }
             }
            ],
            "label": "360 degrees",
            "method": "animate"
           }
          ]
         }
        ],
        "template": {
         "data": {
          "bar": [
           {
            "error_x": {
             "color": "#2a3f5f"
            },
            "error_y": {
             "color": "#2a3f5f"
            },
            "marker": {
             "line": {
              "color": "#E5ECF6",
              "width": 0.5
             },
             "pattern": {
              "fillmode": "overlay",
              "size": 10,
              "solidity": 0.2
             }
            },
            "type": "bar"
           }
          ],
          "barpolar": [
           {
            "marker": {
             "line": {
              "color": "#E5ECF6",
              "width": 0.5
             },
             "pattern": {
              "fillmode": "overlay",
              "size": 10,
              "solidity": 0.2
             }
            },
            "type": "barpolar"
           }
          ],
          "carpet": [
           {
            "aaxis": {
             "endlinecolor": "#2a3f5f",
             "gridcolor": "white",
             "linecolor": "white",
             "minorgridcolor": "white",
             "startlinecolor": "#2a3f5f"
            },
            "baxis": {
             "endlinecolor": "#2a3f5f",
             "gridcolor": "white",
             "linecolor": "white",
             "minorgridcolor": "white",
             "startlinecolor": "#2a3f5f"
            },
            "type": "carpet"
           }
          ],
          "choropleth": [
           {
            "colorbar": {
             "outlinewidth": 0,
             "ticks": ""
            },
            "type": "choropleth"
           }
          ],
          "contour": [
           {
            "colorbar": {
             "outlinewidth": 0,
             "ticks": ""
            },
            "colorscale": [
             [
              0,
              "#0d0887"
             ],
             [
              0.1111111111111111,
              "#46039f"
             ],
             [
              0.2222222222222222,
              "#7201a8"
             ],
             [
              0.3333333333333333,
              "#9c179e"
             ],
             [
              0.4444444444444444,
              "#bd3786"
             ],
             [
              0.5555555555555556,
              "#d8576b"
             ],
             [
              0.6666666666666666,
              "#ed7953"
             ],
             [
              0.7777777777777778,
              "#fb9f3a"
             ],
             [
              0.8888888888888888,
              "#fdca26"
             ],
             [
              1,
              "#f0f921"
             ]
            ],
            "type": "contour"
           }
          ],
          "contourcarpet": [
           {
            "colorbar": {
             "outlinewidth": 0,
             "ticks": ""
            },
            "type": "contourcarpet"
           }
          ],
          "heatmap": [
           {
            "colorbar": {
             "outlinewidth": 0,
             "ticks": ""
            },
            "colorscale": [
             [
              0,
              "#0d0887"
             ],
             [
              0.1111111111111111,
              "#46039f"
             ],
             [
              0.2222222222222222,
              "#7201a8"
             ],
             [
              0.3333333333333333,
              "#9c179e"
             ],
             [
              0.4444444444444444,
              "#bd3786"
             ],
             [
              0.5555555555555556,
              "#d8576b"
             ],
             [
              0.6666666666666666,
              "#ed7953"
             ],
             [
              0.7777777777777778,
              "#fb9f3a"
             ],
             [
              0.8888888888888888,
              "#fdca26"
             ],
             [
              1,
              "#f0f921"
             ]
            ],
            "type": "heatmap"
           }
          ],
          "heatmapgl": [
           {
            "colorbar": {
             "outlinewidth": 0,
             "ticks": ""
            },
            "colorscale": [
             [
              0,
              "#0d0887"
             ],
             [
              0.1111111111111111,
              "#46039f"
             ],
             [
              0.2222222222222222,
              "#7201a8"
             ],
             [
              0.3333333333333333,
              "#9c179e"
             ],
             [
              0.4444444444444444,
              "#bd3786"
             ],
             [
              0.5555555555555556,
              "#d8576b"
             ],
             [
              0.6666666666666666,
              "#ed7953"
             ],
             [
              0.7777777777777778,
              "#fb9f3a"
             ],
             [
              0.8888888888888888,
              "#fdca26"
             ],
             [
              1,
              "#f0f921"
             ]
            ],
            "type": "heatmapgl"
           }
          ],
          "histogram": [
           {
            "marker": {
             "pattern": {
              "fillmode": "overlay",
              "size": 10,
              "solidity": 0.2
             }
            },
            "type": "histogram"
           }
          ],
          "histogram2d": [
           {
            "colorbar": {
             "outlinewidth": 0,
             "ticks": ""
            },
            "colorscale": [
             [
              0,
              "#0d0887"
             ],
             [
              0.1111111111111111,
              "#46039f"
             ],
             [
              0.2222222222222222,
              "#7201a8"
             ],
             [
              0.3333333333333333,
              "#9c179e"
             ],
             [
              0.4444444444444444,
              "#bd3786"
             ],
             [
              0.5555555555555556,
              "#d8576b"
             ],
             [
              0.6666666666666666,
              "#ed7953"
             ],
             [
              0.7777777777777778,
              "#fb9f3a"
             ],
             [
              0.8888888888888888,
              "#fdca26"
             ],
             [
              1,
              "#f0f921"
             ]
            ],
            "type": "histogram2d"
           }
          ],
          "histogram2dcontour": [
           {
            "colorbar": {
             "outlinewidth": 0,
             "ticks": ""
            },
            "colorscale": [
             [
              0,
              "#0d0887"
             ],
             [
              0.1111111111111111,
              "#46039f"
             ],
             [
              0.2222222222222222,
              "#7201a8"
             ],
             [
              0.3333333333333333,
              "#9c179e"
             ],
             [
              0.4444444444444444,
              "#bd3786"
             ],
             [
              0.5555555555555556,
              "#d8576b"
             ],
             [
              0.6666666666666666,
              "#ed7953"
             ],
             [
              0.7777777777777778,
              "#fb9f3a"
             ],
             [
              0.8888888888888888,
              "#fdca26"
             ],
             [
              1,
              "#f0f921"
             ]
            ],
            "type": "histogram2dcontour"
           }
          ],
          "mesh3d": [
           {
            "colorbar": {
             "outlinewidth": 0,
             "ticks": ""
            },
            "type": "mesh3d"
           }
          ],
          "parcoords": [
           {
            "line": {
             "colorbar": {
              "outlinewidth": 0,
              "ticks": ""
             }
            },
            "type": "parcoords"
           }
          ],
          "pie": [
           {
            "automargin": true,
            "type": "pie"
           }
          ],
          "scatter": [
           {
            "fillpattern": {
             "fillmode": "overlay",
             "size": 10,
             "solidity": 0.2
            },
            "type": "scatter"
           }
          ],
          "scatter3d": [
           {
            "line": {
             "colorbar": {
              "outlinewidth": 0,
              "ticks": ""
             }
            },
            "marker": {
             "colorbar": {
              "outlinewidth": 0,
              "ticks": ""
             }
            },
            "type": "scatter3d"
           }
          ],
          "scattercarpet": [
           {
            "marker": {
             "colorbar": {
              "outlinewidth": 0,
              "ticks": ""
             }
            },
            "type": "scattercarpet"
           }
          ],
          "scattergeo": [
           {
            "marker": {
             "colorbar": {
              "outlinewidth": 0,
              "ticks": ""
             }
            },
            "type": "scattergeo"
           }
          ],
          "scattergl": [
           {
            "marker": {
             "colorbar": {
              "outlinewidth": 0,
              "ticks": ""
             }
            },
            "type": "scattergl"
           }
          ],
          "scattermapbox": [
           {
            "marker": {
             "colorbar": {
              "outlinewidth": 0,
              "ticks": ""
             }
            },
            "type": "scattermapbox"
           }
          ],
          "scatterpolar": [
           {
            "marker": {
             "colorbar": {
              "outlinewidth": 0,
              "ticks": ""
             }
            },
            "type": "scatterpolar"
           }
          ],
          "scatterpolargl": [
           {
            "marker": {
             "colorbar": {
              "outlinewidth": 0,
              "ticks": ""
             }
            },
            "type": "scatterpolargl"
           }
          ],
          "scatterternary": [
           {
            "marker": {
             "colorbar": {
              "outlinewidth": 0,
              "ticks": ""
             }
            },
            "type": "scatterternary"
           }
          ],
          "surface": [
           {
            "colorbar": {
             "outlinewidth": 0,
             "ticks": ""
            },
            "colorscale": [
             [
              0,
              "#0d0887"
             ],
             [
              0.1111111111111111,
              "#46039f"
             ],
             [
              0.2222222222222222,
              "#7201a8"
             ],
             [
              0.3333333333333333,
              "#9c179e"
             ],
             [
              0.4444444444444444,
              "#bd3786"
             ],
             [
              0.5555555555555556,
              "#d8576b"
             ],
             [
              0.6666666666666666,
              "#ed7953"
             ],
             [
              0.7777777777777778,
              "#fb9f3a"
             ],
             [
              0.8888888888888888,
              "#fdca26"
             ],
             [
              1,
              "#f0f921"
             ]
            ],
            "type": "surface"
           }
          ],
          "table": [
           {
            "cells": {
             "fill": {
              "color": "#EBF0F8"
             },
             "line": {
              "color": "white"
             }
            },
            "header": {
             "fill": {
              "color": "#C8D4E3"
             },
             "line": {
              "color": "white"
             }
            },
            "type": "table"
           }
          ]
         },
         "layout": {
          "annotationdefaults": {
           "arrowcolor": "#2a3f5f",
           "arrowhead": 0,
           "arrowwidth": 1
          },
          "autotypenumbers": "strict",
          "coloraxis": {
           "colorbar": {
            "outlinewidth": 0,
            "ticks": ""
           }
          },
          "colorscale": {
           "diverging": [
            [
             0,
             "#8e0152"
            ],
            [
             0.1,
             "#c51b7d"
            ],
            [
             0.2,
             "#de77ae"
            ],
            [
             0.3,
             "#f1b6da"
            ],
            [
             0.4,
             "#fde0ef"
            ],
            [
             0.5,
             "#f7f7f7"
            ],
            [
             0.6,
             "#e6f5d0"
            ],
            [
             0.7,
             "#b8e186"
            ],
            [
             0.8,
             "#7fbc41"
            ],
            [
             0.9,
             "#4d9221"
            ],
            [
             1,
             "#276419"
            ]
           ],
           "sequential": [
            [
             0,
             "#0d0887"
            ],
            [
             0.1111111111111111,
             "#46039f"
            ],
            [
             0.2222222222222222,
             "#7201a8"
            ],
            [
             0.3333333333333333,
             "#9c179e"
            ],
            [
             0.4444444444444444,
             "#bd3786"
            ],
            [
             0.5555555555555556,
             "#d8576b"
            ],
            [
             0.6666666666666666,
             "#ed7953"
            ],
            [
             0.7777777777777778,
             "#fb9f3a"
            ],
            [
             0.8888888888888888,
             "#fdca26"
            ],
            [
             1,
             "#f0f921"
            ]
           ],
           "sequentialminus": [
            [
             0,
             "#0d0887"
            ],
            [
             0.1111111111111111,
             "#46039f"
            ],
            [
             0.2222222222222222,
             "#7201a8"
            ],
            [
             0.3333333333333333,
             "#9c179e"
            ],
            [
             0.4444444444444444,
             "#bd3786"
            ],
            [
             0.5555555555555556,
             "#d8576b"
            ],
            [
             0.6666666666666666,
             "#ed7953"
            ],
            [
             0.7777777777777778,
             "#fb9f3a"
            ],
            [
             0.8888888888888888,
             "#fdca26"
            ],
            [
             1,
             "#f0f921"
            ]
           ]
          },
          "colorway": [
           "#636efa",
           "#EF553B",
           "#00cc96",
           "#ab63fa",
           "#FFA15A",
           "#19d3f3",
           "#FF6692",
           "#B6E880",
           "#FF97FF",
           "#FECB52"
          ],
          "font": {
           "color": "#2a3f5f"
          },
          "geo": {
           "bgcolor": "white",
           "lakecolor": "white",
           "landcolor": "#E5ECF6",
           "showlakes": true,
           "showland": true,
           "subunitcolor": "white"
          },
          "hoverlabel": {
           "align": "left"
          },
          "hovermode": "closest",
          "mapbox": {
           "style": "light"
          },
          "paper_bgcolor": "white",
          "plot_bgcolor": "#E5ECF6",
          "polar": {
           "angularaxis": {
            "gridcolor": "white",
            "linecolor": "white",
            "ticks": ""
           },
           "bgcolor": "#E5ECF6",
           "radialaxis": {
            "gridcolor": "white",
            "linecolor": "white",
            "ticks": ""
           }
          },
          "scene": {
           "xaxis": {
            "backgroundcolor": "#E5ECF6",
            "gridcolor": "white",
            "gridwidth": 2,
            "linecolor": "white",
            "showbackground": true,
            "ticks": "",
            "zerolinecolor": "white"
           },
           "yaxis": {
            "backgroundcolor": "#E5ECF6",
            "gridcolor": "white",
            "gridwidth": 2,
            "linecolor": "white",
            "showbackground": true,
            "ticks": "",
            "zerolinecolor": "white"
           },
           "zaxis": {
            "backgroundcolor": "#E5ECF6",
            "gridcolor": "white",
            "gridwidth": 2,
            "linecolor": "white",
            "showbackground": true,
            "ticks": "",
            "zerolinecolor": "white"
           }
          },
          "shapedefaults": {
           "line": {
            "color": "#2a3f5f"
           }
          },
          "ternary": {
           "aaxis": {
            "gridcolor": "white",
            "linecolor": "white",
            "ticks": ""
           },
           "baxis": {
            "gridcolor": "white",
            "linecolor": "white",
            "ticks": ""
           },
           "bgcolor": "#E5ECF6",
           "caxis": {
            "gridcolor": "white",
            "linecolor": "white",
            "ticks": ""
           }
          },
          "title": {
           "x": 0.05
          },
          "xaxis": {
           "automargin": true,
           "gridcolor": "white",
           "linecolor": "white",
           "ticks": "",
           "title": {
            "standoff": 15
           },
           "zerolinecolor": "white",
           "zerolinewidth": 2
          },
          "yaxis": {
           "automargin": true,
           "gridcolor": "white",
           "linecolor": "white",
           "ticks": "",
           "title": {
            "standoff": 15
           },
           "zerolinecolor": "white",
           "zerolinewidth": 2
          }
         }
        },
        "title": {
         "text": "Vector Rotation on Selected Landmarks"
        },
        "updatemenus": [
         {
          "buttons": [
           {
            "args": [
             null,
             {
              "frame": {
               "duration": 500,
               "redraw": true
              },
              "fromcurrent": true,
              "transition": {
               "duration": 300
              }
             }
            ],
            "label": "Play",
            "method": "animate"
           }
          ],
          "direction": "left",
          "pad": {
           "r": 10,
           "t": 87
          },
          "showactive": false,
          "type": "buttons",
          "x": 0.1,
          "xanchor": "right",
          "y": 0,
          "yanchor": "top"
         }
        ],
        "width": 700
       }
      },
      "text/html": [
       "<div>                            <div id=\"b96f5700-c738-4fa8-b833-23ce61afb843\" class=\"plotly-graph-div\" style=\"height:1000px; width:700px;\"></div>            <script type=\"text/javascript\">                require([\"plotly\"], function(Plotly) {                    window.PLOTLYENV=window.PLOTLYENV || {};                                    if (document.getElementById(\"b96f5700-c738-4fa8-b833-23ce61afb843\")) {                    Plotly.newPlot(                        \"b96f5700-c738-4fa8-b833-23ce61afb843\",                        [{\"marker\":{\"color\":\"black\",\"size\":5},\"mode\":\"markers\",\"x\":[0.6448638439178467],\"y\":[0.7310750484466553],\"z\":[-0.2518309354782104],\"type\":\"scatter3d\"},{\"marker\":{\"color\":\"magenta\",\"size\":5},\"mode\":\"markers\",\"x\":[0.5462579131126404],\"y\":[0.681035578250885],\"z\":[0.0676652193069458],\"type\":\"scatter3d\"},{\"marker\":{\"color\":\"lime\",\"size\":5},\"mode\":\"markers\",\"x\":[0.5110486745834351],\"y\":[0.7210554480552673],\"z\":[-0.4360538125038147],\"type\":\"scatter3d\"},{\"marker\":{\"color\":\"magenta\",\"size\":5},\"mode\":\"markers\",\"x\":[0.4767604768276214],\"y\":[0.5689667463302612],\"z\":[0.1483912914991378],\"type\":\"scatter3d\"},{\"marker\":{\"color\":\"lime\",\"size\":5},\"mode\":\"markers\",\"x\":[0.3659592866897583],\"y\":[0.7485448718070984],\"z\":[-0.4937730729579925],\"type\":\"scatter3d\"},{\"marker\":{\"color\":\"magenta\",\"size\":5},\"mode\":\"markers\",\"x\":[0.4698794186115265],\"y\":[0.45635342597961426],\"z\":[0.0307509209960699],\"type\":\"scatter3d\"},{\"marker\":{\"color\":\"lime\",\"size\":5},\"mode\":\"markers\",\"x\":[0.2349718362092971],\"y\":[0.7782798409461975],\"z\":[-0.4950499534606933],\"type\":\"scatter3d\"},{\"marker\":{\"color\":\"magenta\",\"size\":5},\"mode\":\"markers\",\"x\":[0.4071149826049804],\"y\":[0.48656904697418213],\"z\":[0.138964831829071],\"type\":\"scatter3d\"},{\"marker\":{\"color\":\"lime\",\"size\":5},\"mode\":\"markers\",\"x\":[0.3523958921432495],\"y\":[0.51717808842659],\"z\":[-0.1392333209514618],\"type\":\"scatter3d\"},{\"marker\":{\"color\":\"magenta\",\"size\":5},\"mode\":\"markers\",\"x\":[0.526343584060669],\"y\":[0.4093383550643921],\"z\":[0.1605464071035385],\"type\":\"scatter3d\"},{\"marker\":{\"color\":\"lime\",\"size\":5},\"mode\":\"markers\",\"x\":[0.1445232331752777],\"y\":[0.4870809316635132],\"z\":[-0.2304689884185791],\"type\":\"scatter3d\"},{\"marker\":{\"color\":\"magenta\",\"size\":5},\"mode\":\"markers\",\"x\":[0.5213912129402161],\"y\":[0.223577618598938],\"z\":[0.2982233762741089],\"type\":\"scatter3d\"},{\"marker\":{\"color\":\"lime\",\"size\":5},\"mode\":\"markers\",\"x\":[0.1881858557462692],\"y\":[0.6924864947795868],\"z\":[0.0484459139406681],\"type\":\"scatter3d\"},{\"line\":{\"color\":\"silver\",\"width\":5},\"mode\":\"lines\",\"x\":[0.5462579131126404,0.5110486745834351,0.3523958921432495,0.4071149826049804,0.5462579131126404],\"y\":[0.681035578250885,0.7210554480552673,0.51717808842659,0.48656904697418213,0.681035578250885],\"z\":[0.0676652193069458,-0.4360538125038147,-0.1392333209514618,0.138964831829071,0.0676652193069458],\"type\":\"scatter3d\"},{\"line\":{\"color\":\"silver\",\"width\":5},\"mode\":\"lines\",\"x\":[0.5462579131126404,0.4767604768276214],\"y\":[0.681035578250885,0.5689667463302612],\"z\":[0.0676652193069458,0.1483912914991378],\"type\":\"scatter3d\"},{\"line\":{\"color\":\"silver\",\"width\":5},\"mode\":\"lines\",\"x\":[0.4698794186115265,0.4767604768276214],\"y\":[0.45635342597961426,0.5689667463302612],\"z\":[0.0307509209960699,0.1483912914991378],\"type\":\"scatter3d\"},{\"line\":{\"color\":\"silver\",\"width\":5},\"mode\":\"lines\",\"x\":[0.5110486745834351,0.3659592866897583],\"y\":[0.7210554480552673,0.7485448718070984],\"z\":[-0.4360538125038147,-0.4937730729579925],\"type\":\"scatter3d\"},{\"line\":{\"color\":\"silver\",\"width\":5},\"mode\":\"lines\",\"x\":[0.2349718362092971,0.3659592866897583],\"y\":[0.7782798409461975,0.7485448718070984],\"z\":[-0.4950499534606933,-0.4937730729579925],\"type\":\"scatter3d\"},{\"line\":{\"color\":\"silver\",\"width\":5},\"mode\":\"lines\",\"x\":[0.4071149826049804,0.526343584060669],\"y\":[0.48656904697418213,0.4093383550643921],\"z\":[0.138964831829071,0.1605464071035385],\"type\":\"scatter3d\"},{\"line\":{\"color\":\"silver\",\"width\":5},\"mode\":\"lines\",\"x\":[0.5213912129402161,0.526343584060669],\"y\":[0.223577618598938,0.4093383550643921],\"z\":[0.2982233762741089,0.1605464071035385],\"type\":\"scatter3d\"},{\"line\":{\"color\":\"silver\",\"width\":5},\"mode\":\"lines\",\"x\":[0.3523958921432495,0.1445232331752777],\"y\":[0.51717808842659,0.4870809316635132],\"z\":[-0.1392333209514618,-0.2304689884185791],\"type\":\"scatter3d\"},{\"line\":{\"color\":\"silver\",\"width\":5},\"mode\":\"lines\",\"x\":[0.1881858557462692,0.1445232331752777],\"y\":[0.6924864947795868,0.4870809316635132],\"z\":[0.0484459139406681,-0.2304689884185791],\"type\":\"scatter3d\"},{\"line\":{\"color\":\"red\",\"dash\":\"dash\",\"width\":2},\"mode\":\"lines\",\"name\":\"X axis\",\"x\":[-1,1],\"y\":[0,0],\"z\":[0,0],\"type\":\"scatter3d\"},{\"line\":{\"color\":\"green\",\"dash\":\"dash\",\"width\":2},\"mode\":\"lines\",\"name\":\"Y axis\",\"x\":[0,0],\"y\":[0,1],\"z\":[0,0],\"type\":\"scatter3d\"},{\"line\":{\"color\":\"blue\",\"dash\":\"dash\",\"width\":2},\"mode\":\"lines\",\"name\":\"Z axis\",\"x\":[0,0],\"y\":[0,0],\"z\":[-2,2],\"type\":\"scatter3d\"}],                        {\"height\":1000,\"scene\":{\"aspectmode\":\"cube\",\"xaxis\":{\"autorange\":false,\"range\":[-1,1],\"backgroundcolor\":\"rgb(230, 230, 255)\",\"gridcolor\":\"white\",\"showbackground\":true,\"zerolinecolor\":\"white\"},\"yaxis\":{\"autorange\":\"reversed\",\"range\":[0,1],\"backgroundcolor\":\"rgb(230, 255, 230)\",\"gridcolor\":\"white\",\"showbackground\":true,\"zerolinecolor\":\"white\"},\"zaxis\":{\"autorange\":false,\"range\":[-2,2],\"backgroundcolor\":\"rgb(255, 230, 255)\",\"gridcolor\":\"white\",\"showbackground\":true,\"zerolinecolor\":\"white\"},\"camera\":{\"up\":{\"x\":0,\"y\":-1.5,\"z\":0},\"eye\":{\"x\":-2.5,\"y\":0.1,\"z\":-2.5}}},\"sliders\":[{\"steps\":[{\"args\":[[\"frame0\"],{\"mode\":\"immediate\",\"frame\":{\"duration\":500,\"redraw\":true},\"transition\":{\"duration\":300}}],\"label\":\"0 degrees\",\"method\":\"animate\"},{\"args\":[[\"frame1\"],{\"mode\":\"immediate\",\"frame\":{\"duration\":500,\"redraw\":true},\"transition\":{\"duration\":300}}],\"label\":\"10 degrees\",\"method\":\"animate\"},{\"args\":[[\"frame2\"],{\"mode\":\"immediate\",\"frame\":{\"duration\":500,\"redraw\":true},\"transition\":{\"duration\":300}}],\"label\":\"20 degrees\",\"method\":\"animate\"},{\"args\":[[\"frame3\"],{\"mode\":\"immediate\",\"frame\":{\"duration\":500,\"redraw\":true},\"transition\":{\"duration\":300}}],\"label\":\"30 degrees\",\"method\":\"animate\"},{\"args\":[[\"frame4\"],{\"mode\":\"immediate\",\"frame\":{\"duration\":500,\"redraw\":true},\"transition\":{\"duration\":300}}],\"label\":\"40 degrees\",\"method\":\"animate\"},{\"args\":[[\"frame5\"],{\"mode\":\"immediate\",\"frame\":{\"duration\":500,\"redraw\":true},\"transition\":{\"duration\":300}}],\"label\":\"50 degrees\",\"method\":\"animate\"},{\"args\":[[\"frame6\"],{\"mode\":\"immediate\",\"frame\":{\"duration\":500,\"redraw\":true},\"transition\":{\"duration\":300}}],\"label\":\"60 degrees\",\"method\":\"animate\"},{\"args\":[[\"frame7\"],{\"mode\":\"immediate\",\"frame\":{\"duration\":500,\"redraw\":true},\"transition\":{\"duration\":300}}],\"label\":\"70 degrees\",\"method\":\"animate\"},{\"args\":[[\"frame8\"],{\"mode\":\"immediate\",\"frame\":{\"duration\":500,\"redraw\":true},\"transition\":{\"duration\":300}}],\"label\":\"80 degrees\",\"method\":\"animate\"},{\"args\":[[\"frame9\"],{\"mode\":\"immediate\",\"frame\":{\"duration\":500,\"redraw\":true},\"transition\":{\"duration\":300}}],\"label\":\"90 degrees\",\"method\":\"animate\"},{\"args\":[[\"frame10\"],{\"mode\":\"immediate\",\"frame\":{\"duration\":500,\"redraw\":true},\"transition\":{\"duration\":300}}],\"label\":\"100 degrees\",\"method\":\"animate\"},{\"args\":[[\"frame11\"],{\"mode\":\"immediate\",\"frame\":{\"duration\":500,\"redraw\":true},\"transition\":{\"duration\":300}}],\"label\":\"110 degrees\",\"method\":\"animate\"},{\"args\":[[\"frame12\"],{\"mode\":\"immediate\",\"frame\":{\"duration\":500,\"redraw\":true},\"transition\":{\"duration\":300}}],\"label\":\"120 degrees\",\"method\":\"animate\"},{\"args\":[[\"frame13\"],{\"mode\":\"immediate\",\"frame\":{\"duration\":500,\"redraw\":true},\"transition\":{\"duration\":300}}],\"label\":\"130 degrees\",\"method\":\"animate\"},{\"args\":[[\"frame14\"],{\"mode\":\"immediate\",\"frame\":{\"duration\":500,\"redraw\":true},\"transition\":{\"duration\":300}}],\"label\":\"140 degrees\",\"method\":\"animate\"},{\"args\":[[\"frame15\"],{\"mode\":\"immediate\",\"frame\":{\"duration\":500,\"redraw\":true},\"transition\":{\"duration\":300}}],\"label\":\"150 degrees\",\"method\":\"animate\"},{\"args\":[[\"frame16\"],{\"mode\":\"immediate\",\"frame\":{\"duration\":500,\"redraw\":true},\"transition\":{\"duration\":300}}],\"label\":\"160 degrees\",\"method\":\"animate\"},{\"args\":[[\"frame17\"],{\"mode\":\"immediate\",\"frame\":{\"duration\":500,\"redraw\":true},\"transition\":{\"duration\":300}}],\"label\":\"170 degrees\",\"method\":\"animate\"},{\"args\":[[\"frame18\"],{\"mode\":\"immediate\",\"frame\":{\"duration\":500,\"redraw\":true},\"transition\":{\"duration\":300}}],\"label\":\"180 degrees\",\"method\":\"animate\"},{\"args\":[[\"frame19\"],{\"mode\":\"immediate\",\"frame\":{\"duration\":500,\"redraw\":true},\"transition\":{\"duration\":300}}],\"label\":\"190 degrees\",\"method\":\"animate\"},{\"args\":[[\"frame20\"],{\"mode\":\"immediate\",\"frame\":{\"duration\":500,\"redraw\":true},\"transition\":{\"duration\":300}}],\"label\":\"200 degrees\",\"method\":\"animate\"},{\"args\":[[\"frame21\"],{\"mode\":\"immediate\",\"frame\":{\"duration\":500,\"redraw\":true},\"transition\":{\"duration\":300}}],\"label\":\"210 degrees\",\"method\":\"animate\"},{\"args\":[[\"frame22\"],{\"mode\":\"immediate\",\"frame\":{\"duration\":500,\"redraw\":true},\"transition\":{\"duration\":300}}],\"label\":\"220 degrees\",\"method\":\"animate\"},{\"args\":[[\"frame23\"],{\"mode\":\"immediate\",\"frame\":{\"duration\":500,\"redraw\":true},\"transition\":{\"duration\":300}}],\"label\":\"230 degrees\",\"method\":\"animate\"},{\"args\":[[\"frame24\"],{\"mode\":\"immediate\",\"frame\":{\"duration\":500,\"redraw\":true},\"transition\":{\"duration\":300}}],\"label\":\"240 degrees\",\"method\":\"animate\"},{\"args\":[[\"frame25\"],{\"mode\":\"immediate\",\"frame\":{\"duration\":500,\"redraw\":true},\"transition\":{\"duration\":300}}],\"label\":\"250 degrees\",\"method\":\"animate\"},{\"args\":[[\"frame26\"],{\"mode\":\"immediate\",\"frame\":{\"duration\":500,\"redraw\":true},\"transition\":{\"duration\":300}}],\"label\":\"260 degrees\",\"method\":\"animate\"},{\"args\":[[\"frame27\"],{\"mode\":\"immediate\",\"frame\":{\"duration\":500,\"redraw\":true},\"transition\":{\"duration\":300}}],\"label\":\"270 degrees\",\"method\":\"animate\"},{\"args\":[[\"frame28\"],{\"mode\":\"immediate\",\"frame\":{\"duration\":500,\"redraw\":true},\"transition\":{\"duration\":300}}],\"label\":\"280 degrees\",\"method\":\"animate\"},{\"args\":[[\"frame29\"],{\"mode\":\"immediate\",\"frame\":{\"duration\":500,\"redraw\":true},\"transition\":{\"duration\":300}}],\"label\":\"290 degrees\",\"method\":\"animate\"},{\"args\":[[\"frame30\"],{\"mode\":\"immediate\",\"frame\":{\"duration\":500,\"redraw\":true},\"transition\":{\"duration\":300}}],\"label\":\"300 degrees\",\"method\":\"animate\"},{\"args\":[[\"frame31\"],{\"mode\":\"immediate\",\"frame\":{\"duration\":500,\"redraw\":true},\"transition\":{\"duration\":300}}],\"label\":\"310 degrees\",\"method\":\"animate\"},{\"args\":[[\"frame32\"],{\"mode\":\"immediate\",\"frame\":{\"duration\":500,\"redraw\":true},\"transition\":{\"duration\":300}}],\"label\":\"320 degrees\",\"method\":\"animate\"},{\"args\":[[\"frame33\"],{\"mode\":\"immediate\",\"frame\":{\"duration\":500,\"redraw\":true},\"transition\":{\"duration\":300}}],\"label\":\"330 degrees\",\"method\":\"animate\"},{\"args\":[[\"frame34\"],{\"mode\":\"immediate\",\"frame\":{\"duration\":500,\"redraw\":true},\"transition\":{\"duration\":300}}],\"label\":\"340 degrees\",\"method\":\"animate\"},{\"args\":[[\"frame35\"],{\"mode\":\"immediate\",\"frame\":{\"duration\":500,\"redraw\":true},\"transition\":{\"duration\":300}}],\"label\":\"350 degrees\",\"method\":\"animate\"},{\"args\":[[\"frame36\"],{\"mode\":\"immediate\",\"frame\":{\"duration\":500,\"redraw\":true},\"transition\":{\"duration\":300}}],\"label\":\"360 degrees\",\"method\":\"animate\"}]}],\"title\":{\"text\":\"Vector Rotation on Selected Landmarks\"},\"updatemenus\":[{\"buttons\":[{\"args\":[null,{\"frame\":{\"duration\":500,\"redraw\":true},\"fromcurrent\":true,\"transition\":{\"duration\":300}}],\"label\":\"Play\",\"method\":\"animate\"}],\"direction\":\"left\",\"pad\":{\"r\":10,\"t\":87},\"showactive\":false,\"type\":\"buttons\",\"x\":0.1,\"xanchor\":\"right\",\"y\":0,\"yanchor\":\"top\"}],\"width\":700,\"template\":{\"data\":{\"histogram2dcontour\":[{\"type\":\"histogram2dcontour\",\"colorbar\":{\"outlinewidth\":0,\"ticks\":\"\"},\"colorscale\":[[0.0,\"#0d0887\"],[0.1111111111111111,\"#46039f\"],[0.2222222222222222,\"#7201a8\"],[0.3333333333333333,\"#9c179e\"],[0.4444444444444444,\"#bd3786\"],[0.5555555555555556,\"#d8576b\"],[0.6666666666666666,\"#ed7953\"],[0.7777777777777778,\"#fb9f3a\"],[0.8888888888888888,\"#fdca26\"],[1.0,\"#f0f921\"]]}],\"choropleth\":[{\"type\":\"choropleth\",\"colorbar\":{\"outlinewidth\":0,\"ticks\":\"\"}}],\"histogram2d\":[{\"type\":\"histogram2d\",\"colorbar\":{\"outlinewidth\":0,\"ticks\":\"\"},\"colorscale\":[[0.0,\"#0d0887\"],[0.1111111111111111,\"#46039f\"],[0.2222222222222222,\"#7201a8\"],[0.3333333333333333,\"#9c179e\"],[0.4444444444444444,\"#bd3786\"],[0.5555555555555556,\"#d8576b\"],[0.6666666666666666,\"#ed7953\"],[0.7777777777777778,\"#fb9f3a\"],[0.8888888888888888,\"#fdca26\"],[1.0,\"#f0f921\"]]}],\"heatmap\":[{\"type\":\"heatmap\",\"colorbar\":{\"outlinewidth\":0,\"ticks\":\"\"},\"colorscale\":[[0.0,\"#0d0887\"],[0.1111111111111111,\"#46039f\"],[0.2222222222222222,\"#7201a8\"],[0.3333333333333333,\"#9c179e\"],[0.4444444444444444,\"#bd3786\"],[0.5555555555555556,\"#d8576b\"],[0.6666666666666666,\"#ed7953\"],[0.7777777777777778,\"#fb9f3a\"],[0.8888888888888888,\"#fdca26\"],[1.0,\"#f0f921\"]]}],\"heatmapgl\":[{\"type\":\"heatmapgl\",\"colorbar\":{\"outlinewidth\":0,\"ticks\":\"\"},\"colorscale\":[[0.0,\"#0d0887\"],[0.1111111111111111,\"#46039f\"],[0.2222222222222222,\"#7201a8\"],[0.3333333333333333,\"#9c179e\"],[0.4444444444444444,\"#bd3786\"],[0.5555555555555556,\"#d8576b\"],[0.6666666666666666,\"#ed7953\"],[0.7777777777777778,\"#fb9f3a\"],[0.8888888888888888,\"#fdca26\"],[1.0,\"#f0f921\"]]}],\"contourcarpet\":[{\"type\":\"contourcarpet\",\"colorbar\":{\"outlinewidth\":0,\"ticks\":\"\"}}],\"contour\":[{\"type\":\"contour\",\"colorbar\":{\"outlinewidth\":0,\"ticks\":\"\"},\"colorscale\":[[0.0,\"#0d0887\"],[0.1111111111111111,\"#46039f\"],[0.2222222222222222,\"#7201a8\"],[0.3333333333333333,\"#9c179e\"],[0.4444444444444444,\"#bd3786\"],[0.5555555555555556,\"#d8576b\"],[0.6666666666666666,\"#ed7953\"],[0.7777777777777778,\"#fb9f3a\"],[0.8888888888888888,\"#fdca26\"],[1.0,\"#f0f921\"]]}],\"surface\":[{\"type\":\"surface\",\"colorbar\":{\"outlinewidth\":0,\"ticks\":\"\"},\"colorscale\":[[0.0,\"#0d0887\"],[0.1111111111111111,\"#46039f\"],[0.2222222222222222,\"#7201a8\"],[0.3333333333333333,\"#9c179e\"],[0.4444444444444444,\"#bd3786\"],[0.5555555555555556,\"#d8576b\"],[0.6666666666666666,\"#ed7953\"],[0.7777777777777778,\"#fb9f3a\"],[0.8888888888888888,\"#fdca26\"],[1.0,\"#f0f921\"]]}],\"mesh3d\":[{\"type\":\"mesh3d\",\"colorbar\":{\"outlinewidth\":0,\"ticks\":\"\"}}],\"scatter\":[{\"fillpattern\":{\"fillmode\":\"overlay\",\"size\":10,\"solidity\":0.2},\"type\":\"scatter\"}],\"parcoords\":[{\"type\":\"parcoords\",\"line\":{\"colorbar\":{\"outlinewidth\":0,\"ticks\":\"\"}}}],\"scatterpolargl\":[{\"type\":\"scatterpolargl\",\"marker\":{\"colorbar\":{\"outlinewidth\":0,\"ticks\":\"\"}}}],\"bar\":[{\"error_x\":{\"color\":\"#2a3f5f\"},\"error_y\":{\"color\":\"#2a3f5f\"},\"marker\":{\"line\":{\"color\":\"#E5ECF6\",\"width\":0.5},\"pattern\":{\"fillmode\":\"overlay\",\"size\":10,\"solidity\":0.2}},\"type\":\"bar\"}],\"scattergeo\":[{\"type\":\"scattergeo\",\"marker\":{\"colorbar\":{\"outlinewidth\":0,\"ticks\":\"\"}}}],\"scatterpolar\":[{\"type\":\"scatterpolar\",\"marker\":{\"colorbar\":{\"outlinewidth\":0,\"ticks\":\"\"}}}],\"histogram\":[{\"marker\":{\"pattern\":{\"fillmode\":\"overlay\",\"size\":10,\"solidity\":0.2}},\"type\":\"histogram\"}],\"scattergl\":[{\"type\":\"scattergl\",\"marker\":{\"colorbar\":{\"outlinewidth\":0,\"ticks\":\"\"}}}],\"scatter3d\":[{\"type\":\"scatter3d\",\"line\":{\"colorbar\":{\"outlinewidth\":0,\"ticks\":\"\"}},\"marker\":{\"colorbar\":{\"outlinewidth\":0,\"ticks\":\"\"}}}],\"scattermapbox\":[{\"type\":\"scattermapbox\",\"marker\":{\"colorbar\":{\"outlinewidth\":0,\"ticks\":\"\"}}}],\"scatterternary\":[{\"type\":\"scatterternary\",\"marker\":{\"colorbar\":{\"outlinewidth\":0,\"ticks\":\"\"}}}],\"scattercarpet\":[{\"type\":\"scattercarpet\",\"marker\":{\"colorbar\":{\"outlinewidth\":0,\"ticks\":\"\"}}}],\"carpet\":[{\"aaxis\":{\"endlinecolor\":\"#2a3f5f\",\"gridcolor\":\"white\",\"linecolor\":\"white\",\"minorgridcolor\":\"white\",\"startlinecolor\":\"#2a3f5f\"},\"baxis\":{\"endlinecolor\":\"#2a3f5f\",\"gridcolor\":\"white\",\"linecolor\":\"white\",\"minorgridcolor\":\"white\",\"startlinecolor\":\"#2a3f5f\"},\"type\":\"carpet\"}],\"table\":[{\"cells\":{\"fill\":{\"color\":\"#EBF0F8\"},\"line\":{\"color\":\"white\"}},\"header\":{\"fill\":{\"color\":\"#C8D4E3\"},\"line\":{\"color\":\"white\"}},\"type\":\"table\"}],\"barpolar\":[{\"marker\":{\"line\":{\"color\":\"#E5ECF6\",\"width\":0.5},\"pattern\":{\"fillmode\":\"overlay\",\"size\":10,\"solidity\":0.2}},\"type\":\"barpolar\"}],\"pie\":[{\"automargin\":true,\"type\":\"pie\"}]},\"layout\":{\"autotypenumbers\":\"strict\",\"colorway\":[\"#636efa\",\"#EF553B\",\"#00cc96\",\"#ab63fa\",\"#FFA15A\",\"#19d3f3\",\"#FF6692\",\"#B6E880\",\"#FF97FF\",\"#FECB52\"],\"font\":{\"color\":\"#2a3f5f\"},\"hovermode\":\"closest\",\"hoverlabel\":{\"align\":\"left\"},\"paper_bgcolor\":\"white\",\"plot_bgcolor\":\"#E5ECF6\",\"polar\":{\"bgcolor\":\"#E5ECF6\",\"angularaxis\":{\"gridcolor\":\"white\",\"linecolor\":\"white\",\"ticks\":\"\"},\"radialaxis\":{\"gridcolor\":\"white\",\"linecolor\":\"white\",\"ticks\":\"\"}},\"ternary\":{\"bgcolor\":\"#E5ECF6\",\"aaxis\":{\"gridcolor\":\"white\",\"linecolor\":\"white\",\"ticks\":\"\"},\"baxis\":{\"gridcolor\":\"white\",\"linecolor\":\"white\",\"ticks\":\"\"},\"caxis\":{\"gridcolor\":\"white\",\"linecolor\":\"white\",\"ticks\":\"\"}},\"coloraxis\":{\"colorbar\":{\"outlinewidth\":0,\"ticks\":\"\"}},\"colorscale\":{\"sequential\":[[0.0,\"#0d0887\"],[0.1111111111111111,\"#46039f\"],[0.2222222222222222,\"#7201a8\"],[0.3333333333333333,\"#9c179e\"],[0.4444444444444444,\"#bd3786\"],[0.5555555555555556,\"#d8576b\"],[0.6666666666666666,\"#ed7953\"],[0.7777777777777778,\"#fb9f3a\"],[0.8888888888888888,\"#fdca26\"],[1.0,\"#f0f921\"]],\"sequentialminus\":[[0.0,\"#0d0887\"],[0.1111111111111111,\"#46039f\"],[0.2222222222222222,\"#7201a8\"],[0.3333333333333333,\"#9c179e\"],[0.4444444444444444,\"#bd3786\"],[0.5555555555555556,\"#d8576b\"],[0.6666666666666666,\"#ed7953\"],[0.7777777777777778,\"#fb9f3a\"],[0.8888888888888888,\"#fdca26\"],[1.0,\"#f0f921\"]],\"diverging\":[[0,\"#8e0152\"],[0.1,\"#c51b7d\"],[0.2,\"#de77ae\"],[0.3,\"#f1b6da\"],[0.4,\"#fde0ef\"],[0.5,\"#f7f7f7\"],[0.6,\"#e6f5d0\"],[0.7,\"#b8e186\"],[0.8,\"#7fbc41\"],[0.9,\"#4d9221\"],[1,\"#276419\"]]},\"xaxis\":{\"gridcolor\":\"white\",\"linecolor\":\"white\",\"ticks\":\"\",\"title\":{\"standoff\":15},\"zerolinecolor\":\"white\",\"automargin\":true,\"zerolinewidth\":2},\"yaxis\":{\"gridcolor\":\"white\",\"linecolor\":\"white\",\"ticks\":\"\",\"title\":{\"standoff\":15},\"zerolinecolor\":\"white\",\"automargin\":true,\"zerolinewidth\":2},\"scene\":{\"xaxis\":{\"backgroundcolor\":\"#E5ECF6\",\"gridcolor\":\"white\",\"linecolor\":\"white\",\"showbackground\":true,\"ticks\":\"\",\"zerolinecolor\":\"white\",\"gridwidth\":2},\"yaxis\":{\"backgroundcolor\":\"#E5ECF6\",\"gridcolor\":\"white\",\"linecolor\":\"white\",\"showbackground\":true,\"ticks\":\"\",\"zerolinecolor\":\"white\",\"gridwidth\":2},\"zaxis\":{\"backgroundcolor\":\"#E5ECF6\",\"gridcolor\":\"white\",\"linecolor\":\"white\",\"showbackground\":true,\"ticks\":\"\",\"zerolinecolor\":\"white\",\"gridwidth\":2}},\"shapedefaults\":{\"line\":{\"color\":\"#2a3f5f\"}},\"annotationdefaults\":{\"arrowcolor\":\"#2a3f5f\",\"arrowhead\":0,\"arrowwidth\":1},\"geo\":{\"bgcolor\":\"white\",\"landcolor\":\"#E5ECF6\",\"subunitcolor\":\"white\",\"showland\":true,\"showlakes\":true,\"lakecolor\":\"white\"},\"title\":{\"x\":0.05},\"mapbox\":{\"style\":\"light\"}}}},                        {\"responsive\": true}                    ).then(function(){\n",
       "                            Plotly.addFrames('b96f5700-c738-4fa8-b833-23ce61afb843', [{\"data\":[{\"marker\":{\"color\":\"black\",\"size\":5},\"mode\":\"markers\",\"x\":[0.6448638439178467],\"y\":[0.7310750484466553],\"z\":[-0.2518309354782104],\"type\":\"scatter3d\"},{\"marker\":{\"color\":\"magenta\",\"size\":5},\"mode\":\"markers\",\"x\":[0.5462579131126404],\"y\":[0.681035578250885],\"z\":[0.0676652193069458],\"type\":\"scatter3d\"},{\"marker\":{\"color\":\"lime\",\"size\":5},\"mode\":\"markers\",\"x\":[0.5110486745834351],\"y\":[0.7210554480552673],\"z\":[-0.4360538125038147],\"type\":\"scatter3d\"},{\"marker\":{\"color\":\"magenta\",\"size\":5},\"mode\":\"markers\",\"x\":[0.4767604768276214],\"y\":[0.5689667463302612],\"z\":[0.1483912914991378],\"type\":\"scatter3d\"},{\"marker\":{\"color\":\"lime\",\"size\":5},\"mode\":\"markers\",\"x\":[0.3659592866897583],\"y\":[0.7485448718070984],\"z\":[-0.4937730729579925],\"type\":\"scatter3d\"},{\"marker\":{\"color\":\"magenta\",\"size\":5},\"mode\":\"markers\",\"x\":[0.4698794186115265],\"y\":[0.45635342597961426],\"z\":[0.0307509209960699],\"type\":\"scatter3d\"},{\"marker\":{\"color\":\"lime\",\"size\":5},\"mode\":\"markers\",\"x\":[0.2349718362092971],\"y\":[0.7782798409461975],\"z\":[-0.4950499534606933],\"type\":\"scatter3d\"},{\"marker\":{\"color\":\"magenta\",\"size\":5},\"mode\":\"markers\",\"x\":[0.4071149826049804],\"y\":[0.48656904697418213],\"z\":[0.138964831829071],\"type\":\"scatter3d\"},{\"marker\":{\"color\":\"lime\",\"size\":5},\"mode\":\"markers\",\"x\":[0.3523958921432495],\"y\":[0.51717808842659],\"z\":[-0.1392333209514618],\"type\":\"scatter3d\"},{\"marker\":{\"color\":\"magenta\",\"size\":5},\"mode\":\"markers\",\"x\":[0.526343584060669],\"y\":[0.4093383550643921],\"z\":[0.1605464071035385],\"type\":\"scatter3d\"},{\"marker\":{\"color\":\"lime\",\"size\":5},\"mode\":\"markers\",\"x\":[0.1445232331752777],\"y\":[0.4870809316635132],\"z\":[-0.2304689884185791],\"type\":\"scatter3d\"},{\"marker\":{\"color\":\"magenta\",\"size\":5},\"mode\":\"markers\",\"x\":[0.5213912129402161],\"y\":[0.223577618598938],\"z\":[0.2982233762741089],\"type\":\"scatter3d\"},{\"marker\":{\"color\":\"lime\",\"size\":5},\"mode\":\"markers\",\"x\":[0.1881858557462692],\"y\":[0.6924864947795868],\"z\":[0.0484459139406681],\"type\":\"scatter3d\"},{\"line\":{\"color\":\"silver\",\"width\":5},\"mode\":\"lines\",\"x\":[0.5462579131126404,0.5110486745834351,0.3523958921432495,0.4071149826049804,0.5462579131126404],\"y\":[0.681035578250885,0.7210554480552673,0.51717808842659,0.48656904697418213,0.681035578250885],\"z\":[0.0676652193069458,-0.4360538125038147,-0.1392333209514618,0.138964831829071,0.0676652193069458],\"type\":\"scatter3d\"},{\"line\":{\"color\":\"silver\",\"width\":5},\"mode\":\"lines\",\"x\":[0.5462579131126404,0.4767604768276214],\"y\":[0.681035578250885,0.5689667463302612],\"z\":[0.0676652193069458,0.1483912914991378],\"type\":\"scatter3d\"},{\"line\":{\"color\":\"silver\",\"width\":5},\"mode\":\"lines\",\"x\":[0.4698794186115265,0.4767604768276214],\"y\":[0.45635342597961426,0.5689667463302612],\"z\":[0.0307509209960699,0.1483912914991378],\"type\":\"scatter3d\"},{\"line\":{\"color\":\"silver\",\"width\":5},\"mode\":\"lines\",\"x\":[0.5110486745834351,0.3659592866897583],\"y\":[0.7210554480552673,0.7485448718070984],\"z\":[-0.4360538125038147,-0.4937730729579925],\"type\":\"scatter3d\"},{\"line\":{\"color\":\"silver\",\"width\":5},\"mode\":\"lines\",\"x\":[0.2349718362092971,0.3659592866897583],\"y\":[0.7782798409461975,0.7485448718070984],\"z\":[-0.4950499534606933,-0.4937730729579925],\"type\":\"scatter3d\"},{\"line\":{\"color\":\"silver\",\"width\":5},\"mode\":\"lines\",\"x\":[0.4071149826049804,0.526343584060669],\"y\":[0.48656904697418213,0.4093383550643921],\"z\":[0.138964831829071,0.1605464071035385],\"type\":\"scatter3d\"},{\"line\":{\"color\":\"silver\",\"width\":5},\"mode\":\"lines\",\"x\":[0.5213912129402161,0.526343584060669],\"y\":[0.223577618598938,0.4093383550643921],\"z\":[0.2982233762741089,0.1605464071035385],\"type\":\"scatter3d\"},{\"line\":{\"color\":\"silver\",\"width\":5},\"mode\":\"lines\",\"x\":[0.3523958921432495,0.1445232331752777],\"y\":[0.51717808842659,0.4870809316635132],\"z\":[-0.1392333209514618,-0.2304689884185791],\"type\":\"scatter3d\"},{\"line\":{\"color\":\"silver\",\"width\":5},\"mode\":\"lines\",\"x\":[0.1881858557462692,0.1445232331752777],\"y\":[0.6924864947795868,0.4870809316635132],\"z\":[0.0484459139406681,-0.2304689884185791],\"type\":\"scatter3d\"}],\"name\":\"frame0\"},{\"data\":[{\"marker\":{\"color\":\"black\",\"size\":5},\"mode\":\"markers\",\"x\":[0.6787968961534995],\"y\":[0.7310750484466553],\"z\":[-0.13602562636763288],\"type\":\"scatter3d\"},{\"marker\":{\"color\":\"magenta\",\"size\":5},\"mode\":\"markers\",\"x\":[0.5262090859535131],\"y\":[0.681035578250885],\"z\":[0.16149392373090193],\"type\":\"scatter3d\"},{\"marker\":{\"color\":\"lime\",\"size\":5},\"mode\":\"markers\",\"x\":[0.5790046468023846],\"y\":[0.7210554480552673],\"z\":[-0.3406865042437749],\"type\":\"scatter3d\"},{\"marker\":{\"color\":\"magenta\",\"size\":5},\"mode\":\"markers\",\"x\":[0.4437495365591712],\"y\":[0.5689667463302612],\"z\":[0.2289254823325787],\"type\":\"scatter3d\"},{\"marker\":{\"color\":\"lime\",\"size\":5},\"mode\":\"markers\",\"x\":[0.446142337119047],\"y\":[0.7485448718070984],\"z\":[-0.4227233872437275],\"type\":\"scatter3d\"},{\"marker\":{\"color\":\"magenta\",\"size\":5},\"mode\":\"markers\",\"x\":[0.45740105303695283],\"y\":[0.45635342597961426],\"z\":[0.11187745017428383],\"type\":\"scatter3d\"},{\"marker\":{\"color\":\"lime\",\"size\":5},\"mode\":\"markers\",\"x\":[0.31736660831097857],\"y\":[0.7782798409461975],\"z\":[-0.4467266011356267],\"type\":\"scatter3d\"},{\"marker\":{\"color\":\"magenta\",\"size\":5},\"mode\":\"markers\",\"x\":[0.3767990014299053],\"y\":[0.48656904697418213],\"z\":[0.2075484186115657],\"type\":\"scatter3d\"},{\"marker\":{\"color\":\"lime\",\"size\":5},\"mode\":\"markers\",\"x\":[0.37121981916606217],\"y\":[0.51717808842659],\"z\":[-0.07592514946264929],\"type\":\"scatter3d\"},{\"marker\":{\"color\":\"magenta\",\"size\":5},\"mode\":\"markers\",\"x\":[0.4904686513066771],\"y\":[0.4093383550643921],\"z\":[0.24950595063263487],\"type\":\"scatter3d\"},{\"marker\":{\"color\":\"lime\",\"size\":5},\"mode\":\"markers\",\"x\":[0.1823481203690318],\"y\":[0.4870809316635132],\"z\":[-0.20187145055207767],\"type\":\"scatter3d\"},{\"marker\":{\"color\":\"magenta\",\"size\":5},\"mode\":\"markers\",\"x\":[0.46168416302828563],\"y\":[0.223577618598938],\"z\":[0.38423132706283836],\"type\":\"scatter3d\"},{\"marker\":{\"color\":\"lime\",\"size\":5},\"mode\":\"markers\",\"x\":[0.17691434507495696],\"y\":[0.6924864947795868],\"z\":[0.08038804256356363],\"type\":\"scatter3d\"},{\"line\":{\"color\":\"silver\",\"width\":5},\"mode\":\"lines\",\"x\":[0.5262090859535131,0.5790046468023846,0.37121981916606217,0.3767990014299053,0.5262090859535131],\"y\":[0.681035578250885,0.7210554480552673,0.51717808842659,0.48656904697418213,0.681035578250885],\"z\":[0.16149392373090193,-0.3406865042437749,-0.07592514946264929,0.2075484186115657,0.16149392373090193],\"type\":\"scatter3d\"},{\"line\":{\"color\":\"silver\",\"width\":5},\"mode\":\"lines\",\"x\":[0.5262090859535131,0.4437495365591712],\"y\":[0.681035578250885,0.5689667463302612],\"z\":[0.16149392373090193,0.2289254823325787],\"type\":\"scatter3d\"},{\"line\":{\"color\":\"silver\",\"width\":5},\"mode\":\"lines\",\"x\":[0.45740105303695283,0.4437495365591712],\"y\":[0.45635342597961426,0.5689667463302612],\"z\":[0.11187745017428383,0.2289254823325787],\"type\":\"scatter3d\"},{\"line\":{\"color\":\"silver\",\"width\":5},\"mode\":\"lines\",\"x\":[0.5790046468023846,0.446142337119047],\"y\":[0.7210554480552673,0.7485448718070984],\"z\":[-0.3406865042437749,-0.4227233872437275],\"type\":\"scatter3d\"},{\"line\":{\"color\":\"silver\",\"width\":5},\"mode\":\"lines\",\"x\":[0.31736660831097857,0.446142337119047],\"y\":[0.7782798409461975,0.7485448718070984],\"z\":[-0.4467266011356267,-0.4227233872437275],\"type\":\"scatter3d\"},{\"line\":{\"color\":\"silver\",\"width\":5},\"mode\":\"lines\",\"x\":[0.3767990014299053,0.4904686513066771],\"y\":[0.48656904697418213,0.4093383550643921],\"z\":[0.2075484186115657,0.24950595063263487],\"type\":\"scatter3d\"},{\"line\":{\"color\":\"silver\",\"width\":5},\"mode\":\"lines\",\"x\":[0.46168416302828563,0.4904686513066771],\"y\":[0.223577618598938,0.4093383550643921],\"z\":[0.38423132706283836,0.24950595063263487],\"type\":\"scatter3d\"},{\"line\":{\"color\":\"silver\",\"width\":5},\"mode\":\"lines\",\"x\":[0.37121981916606217,0.1823481203690318],\"y\":[0.51717808842659,0.4870809316635132],\"z\":[-0.07592514946264929,-0.20187145055207767],\"type\":\"scatter3d\"},{\"line\":{\"color\":\"silver\",\"width\":5},\"mode\":\"lines\",\"x\":[0.17691434507495696,0.1823481203690318],\"y\":[0.6924864947795868,0.4870809316635132],\"z\":[0.08038804256356363,-0.20187145055207767],\"type\":\"scatter3d\"}],\"name\":\"frame1\"},{\"data\":[{\"marker\":{\"color\":\"black\",\"size\":5},\"mode\":\"markers\",\"x\":[0.6921050481873311],\"y\":[0.7310750484466552],\"z\":[-0.016087247432162943],\"type\":\"scatter3d\"},{\"marker\":{\"color\":\"magenta\",\"size\":5},\"mode\":\"markers\",\"x\":[0.4901716619923336],\"y\":[0.6810355782508849],\"z\":[0.25041571700216303],\"type\":\"scatter3d\"},{\"marker\":{\"color\":\"lime\",\"size\":5},\"mode\":\"markers\",\"x\":[0.6293678558187319],\"y\":[0.7210554480552672],\"z\":[-0.23496760894797727],\"type\":\"scatter3d\"},{\"marker\":{\"color\":\"magenta\",\"size\":5},\"mode\":\"markers\",\"x\":[0.39725549117047065],\"y\":[0.5689667463302611],\"z\":[0.3025038882272277],\"type\":\"scatter3d\"},{\"marker\":{\"color\":\"lime\",\"size\":5},\"mode\":\"markers\",\"x\":[0.512769578393889],\"y\":[0.7485448718070983],\"z\":[-0.3388294653164169],\"type\":\"scatter3d\"},{\"marker\":{\"color\":\"magenta\",\"size\":5},\"mode\":\"markers\",\"x\":[0.4310247879219521],\"y\":[0.4563534259796142],\"z\":[0.1896046396416735],\"type\":\"scatter3d\"},{\"marker\":{\"color\":\"lime\",\"size\":5},\"mode\":\"markers\",\"x\":[0.39011835661438354],\"y\":[0.7782798409461974],\"z\":[-0.3848296870896215],\"type\":\"scatter3d\"},{\"marker\":{\"color\":\"magenta\",\"size\":5},\"mode\":\"markers\",\"x\":[0.33503417326587726],\"y\":[0.4865690469741821],\"z\":[0.26982575171911527],\"type\":\"scatter3d\"},{\"marker\":{\"color\":\"lime\",\"size\":5},\"mode\":\"markers\",\"x\":[0.3787644198298062],\"y\":[0.5171780884265899],\"z\":[-0.010310030727393588],\"type\":\"scatter3d\"},{\"marker\":{\"color\":\"magenta\",\"size\":5},\"mode\":\"markers\",\"x\":[0.43969107677184466],\"y\":[0.40933835506439203],\"z\":[0.3308843821078616],\"type\":\"scatter3d\"},{\"marker\":{\"color\":\"lime\",\"size\":5},\"mode\":\"markers\",\"x\":[0.21463245219797394],\"y\":[0.48708093166351313],\"z\":[-0.16714015081243422],\"type\":\"scatter3d\"},{\"marker\":{\"color\":\"magenta\",\"size\":5},\"mode\":\"markers\",\"x\":[0.3879490734461997],\"y\":[0.22357761859893796],\"z\":[0.45856460340919636],\"type\":\"scatter3d\"},{\"marker\":{\"color\":\"lime\",\"size\":5},\"mode\":\"markers\",\"x\":[0.16026738155152026],\"y\":[0.6924864947795867],\"z\":[0.10988762119147757],\"type\":\"scatter3d\"},{\"line\":{\"color\":\"silver\",\"width\":5},\"mode\":\"lines\",\"x\":[0.4901716619923336,0.6293678558187319,0.3787644198298062,0.33503417326587726,0.4901716619923336],\"y\":[0.6810355782508849,0.7210554480552672,0.5171780884265899,0.4865690469741821,0.6810355782508849],\"z\":[0.25041571700216303,-0.23496760894797727,-0.010310030727393588,0.26982575171911527,0.25041571700216303],\"type\":\"scatter3d\"},{\"line\":{\"color\":\"silver\",\"width\":5},\"mode\":\"lines\",\"x\":[0.4901716619923336,0.39725549117047065],\"y\":[0.6810355782508849,0.5689667463302611],\"z\":[0.25041571700216303,0.3025038882272277],\"type\":\"scatter3d\"},{\"line\":{\"color\":\"silver\",\"width\":5},\"mode\":\"lines\",\"x\":[0.4310247879219521,0.39725549117047065],\"y\":[0.4563534259796142,0.5689667463302611],\"z\":[0.1896046396416735,0.3025038882272277],\"type\":\"scatter3d\"},{\"line\":{\"color\":\"silver\",\"width\":5},\"mode\":\"lines\",\"x\":[0.6293678558187319,0.512769578393889],\"y\":[0.7210554480552672,0.7485448718070983],\"z\":[-0.23496760894797727,-0.3388294653164169],\"type\":\"scatter3d\"},{\"line\":{\"color\":\"silver\",\"width\":5},\"mode\":\"lines\",\"x\":[0.39011835661438354,0.512769578393889],\"y\":[0.7782798409461974,0.7485448718070983],\"z\":[-0.3848296870896215,-0.3388294653164169],\"type\":\"scatter3d\"},{\"line\":{\"color\":\"silver\",\"width\":5},\"mode\":\"lines\",\"x\":[0.33503417326587726,0.43969107677184466],\"y\":[0.4865690469741821,0.40933835506439203],\"z\":[0.26982575171911527,0.3308843821078616],\"type\":\"scatter3d\"},{\"line\":{\"color\":\"silver\",\"width\":5},\"mode\":\"lines\",\"x\":[0.3879490734461997,0.43969107677184466],\"y\":[0.22357761859893796,0.40933835506439203],\"z\":[0.45856460340919636,0.3308843821078616],\"type\":\"scatter3d\"},{\"line\":{\"color\":\"silver\",\"width\":5},\"mode\":\"lines\",\"x\":[0.3787644198298062,0.21463245219797394],\"y\":[0.5171780884265899,0.48708093166351313],\"z\":[-0.010310030727393588,-0.16714015081243422],\"type\":\"scatter3d\"},{\"line\":{\"color\":\"silver\",\"width\":5},\"mode\":\"lines\",\"x\":[0.16026738155152026,0.21463245219797394],\"y\":[0.6924864947795867,0.48708093166351313],\"z\":[0.10988762119147757,-0.16714015081243422],\"type\":\"scatter3d\"}],\"name\":\"frame2\"},{\"data\":[{\"marker\":{\"color\":\"black\",\"size\":5},\"mode\":\"markers\",\"x\":[0.6843839385540436],\"y\":[0.7310750484466553],\"z\":[0.1043399343759932],\"type\":\"scatter3d\"},{\"marker\":{\"color\":\"magenta\",\"size\":5},\"mode\":\"markers\",\"x\":[0.4392406201203463],\"y\":[0.681035578250885],\"z\":[0.33172875542878044],\"type\":\"scatter3d\"},{\"marker\":{\"color\":\"lime\",\"size\":5},\"mode\":\"markers\",\"x\":[0.6606080410115289],\"y\":[0.7210554480552673],\"z\":[-0.12210934175364258],\"type\":\"scatter3d\"},{\"marker\":{\"color\":\"magenta\",\"size\":5},\"mode\":\"markers\",\"x\":[0.33869103870353345],\"y\":[0.5689667463302612],\"z\":[0.36689086655244585],\"type\":\"scatter3d\"},{\"marker\":{\"color\":\"lime\",\"size\":5},\"mode\":\"markers\",\"x\":[0.5638165755031593],\"y\":[0.7485448718070984],\"z\":[-0.24464038154144943],\"type\":\"scatter3d\"},{\"marker\":{\"color\":\"magenta\",\"size\":5},\"mode\":\"markers\",\"x\":[0.3915520527350096],\"y\":[0.45635342597961426],\"z\":[0.261570788078128],\"type\":\"scatter3d\"},{\"marker\":{\"color\":\"lime\",\"size\":5},\"mode\":\"markers\",\"x\":[0.45101655606147417],\"y\":[0.7782798409461975],\"z\":[-0.31123991773461596],\"type\":\"scatter3d\"},{\"marker\":{\"color\":\"magenta\",\"size\":5},\"mode\":\"markers\",\"x\":[0.28308950128263743],\"y\":[0.48656904697418213],\"z\":[0.323904565899098],\"type\":\"scatter3d\"},{\"marker\":{\"color\":\"lime\",\"size\":5},\"mode\":\"markers\",\"x\":[0.3748004552610661],\"y\":[0.51717808842659],\"z\":[0.05561835307438669],\"type\":\"scatter3d\"},{\"marker\":{\"color\":\"magenta\",\"size\":5},\"mode\":\"markers\",\"x\":[0.37555371136372023],\"y\":[0.4093383550643921],\"z\":[0.4022090590683173],\"type\":\"scatter3d\"},{\"marker\":{\"color\":\"lime\",\"size\":5},\"mode\":\"markers\",\"x\":[0.24039528557614198],\"y\":[0.4870809316635132],\"z\":[-0.12733038216735226],\"type\":\"scatter3d\"},{\"marker\":{\"color\":\"magenta\",\"size\":5},\"mode\":\"markers\",\"x\":[0.30242634757915443],\"y\":[0.223577618598938],\"z\":[0.5189646263258517],\"type\":\"scatter3d\"},{\"marker\":{\"color\":\"lime\",\"size\":5},\"mode\":\"markers\",\"x\":[0.13875077473884886],\"y\":[0.6924864947795868],\"z\":[0.13604832005530784],\"type\":\"scatter3d\"},{\"line\":{\"color\":\"silver\",\"width\":5},\"mode\":\"lines\",\"x\":[0.4392406201203463,0.6606080410115289,0.3748004552610661,0.28308950128263743,0.4392406201203463],\"y\":[0.681035578250885,0.7210554480552673,0.51717808842659,0.48656904697418213,0.681035578250885],\"z\":[0.33172875542878044,-0.12210934175364258,0.05561835307438669,0.323904565899098,0.33172875542878044],\"type\":\"scatter3d\"},{\"line\":{\"color\":\"silver\",\"width\":5},\"mode\":\"lines\",\"x\":[0.4392406201203463,0.33869103870353345],\"y\":[0.681035578250885,0.5689667463302612],\"z\":[0.33172875542878044,0.36689086655244585],\"type\":\"scatter3d\"},{\"line\":{\"color\":\"silver\",\"width\":5},\"mode\":\"lines\",\"x\":[0.3915520527350096,0.33869103870353345],\"y\":[0.45635342597961426,0.5689667463302612],\"z\":[0.261570788078128,0.36689086655244585],\"type\":\"scatter3d\"},{\"line\":{\"color\":\"silver\",\"width\":5},\"mode\":\"lines\",\"x\":[0.6606080410115289,0.5638165755031593],\"y\":[0.7210554480552673,0.7485448718070984],\"z\":[-0.12210934175364258,-0.24464038154144943],\"type\":\"scatter3d\"},{\"line\":{\"color\":\"silver\",\"width\":5},\"mode\":\"lines\",\"x\":[0.45101655606147417,0.5638165755031593],\"y\":[0.7782798409461975,0.7485448718070984],\"z\":[-0.31123991773461596,-0.24464038154144943],\"type\":\"scatter3d\"},{\"line\":{\"color\":\"silver\",\"width\":5},\"mode\":\"lines\",\"x\":[0.28308950128263743,0.37555371136372023],\"y\":[0.48656904697418213,0.4093383550643921],\"z\":[0.323904565899098,0.4022090590683173],\"type\":\"scatter3d\"},{\"line\":{\"color\":\"silver\",\"width\":5},\"mode\":\"lines\",\"x\":[0.30242634757915443,0.37555371136372023],\"y\":[0.223577618598938,0.4093383550643921],\"z\":[0.5189646263258517,0.4022090590683173],\"type\":\"scatter3d\"},{\"line\":{\"color\":\"silver\",\"width\":5},\"mode\":\"lines\",\"x\":[0.3748004552610661,0.24039528557614198],\"y\":[0.51717808842659,0.4870809316635132],\"z\":[0.05561835307438669,-0.12733038216735226],\"type\":\"scatter3d\"},{\"line\":{\"color\":\"silver\",\"width\":5},\"mode\":\"lines\",\"x\":[0.13875077473884886,0.24039528557614198],\"y\":[0.6924864947795868,0.4870809316635132],\"z\":[0.13604832005530784,-0.12733038216735226],\"type\":\"scatter3d\"}],\"name\":\"frame3\"},{\"data\":[{\"marker\":{\"color\":\"black\",\"size\":5},\"mode\":\"markers\",\"x\":[0.6558681692627745],\"y\":[0.7310750484466553],\"z\":[0.2215968000766893],\"type\":\"scatter3d\"},{\"marker\":{\"color\":\"magenta\",\"size\":5},\"mode\":\"markers\",\"x\":[0.37496347427248056],\"y\":[0.681035578250885],\"z\":[0.4029623834845443],\"type\":\"scatter3d\"},{\"marker\":{\"color\":\"lime\",\"size\":5},\"mode\":\"markers\",\"x\":[0.6717759851619889],\"y\":[0.7210554480552673],\"z\":[-0.005540844000431755],\"type\":\"scatter3d\"},{\"marker\":{\"color\":\"magenta\",\"size\":5},\"mode\":\"markers\",\"x\":[0.2698356304115244],\"y\":[0.5689667463302612],\"z\":[0.4201300515532045],\"type\":\"scatter3d\"},{\"marker\":{\"color\":\"lime\",\"size\":5},\"mode\":\"markers\",\"x\":[0.5977322912707195],\"y\":[0.7485448718070984],\"z\":[-0.1430180235673512],\"type\":\"scatter3d\"},{\"marker\":{\"color\":\"magenta\",\"size\":5},\"mode\":\"markers\",\"x\":[0.3401822065606126],\"y\":[0.45635342597961426],\"z\":[0.32558924048003396],\"type\":\"scatter3d\"},{\"marker\":{\"color\":\"lime\",\"size\":5},\"mode\":\"markers\",\"x\":[0.49821084567802637],\"y\":[0.7782798409461975],\"z\":[-0.22819328097424174],\"type\":\"scatter3d\"},{\"marker\":{\"color\":\"magenta\",\"size\":5},\"mode\":\"markers\",\"x\":[0.22254329805312426],\"y\":[0.48656904697418213],\"z\":[0.36814170374785554],\"type\":\"scatter3d\"},{\"marker\":{\"color\":\"lime\",\"size\":5},\"mode\":\"markers\",\"x\":[0.3594483685174],\"y\":[0.51717808842659],\"z\":[0.1198568013622464],\"type\":\"scatter3d\"},{\"marker\":{\"color\":\"magenta\",\"size\":5},\"mode\":\"markers\",\"x\":[0.30000533647515665],\"y\":[0.4093383550643921],\"z\":[0.4613128172965864],\"type\":\"scatter3d\"},{\"marker\":{\"color\":\"lime\",\"size\":5},\"mode\":\"markers\",\"x\":[0.258853829847963],\"y\":[0.4870809316635132],\"z\":[-0.08365174429239751],\"type\":\"scatter3d\"},{\"marker\":{\"color\":\"magenta\",\"size\":5},\"mode\":\"markers\",\"x\":[0.2077145501760325],\"y\":[0.223577618598938],\"z\":[0.5635961716803681],\"type\":\"scatter3d\"},{\"marker\":{\"color\":\"lime\",\"size\":5},\"mode\":\"markers\",\"x\":[0.11301829584701728],\"y\":[0.6924864947795868],\"z\":[0.1580752595580293],\"type\":\"scatter3d\"},{\"line\":{\"color\":\"silver\",\"width\":5},\"mode\":\"lines\",\"x\":[0.37496347427248056,0.6717759851619889,0.3594483685174,0.22254329805312426,0.37496347427248056],\"y\":[0.681035578250885,0.7210554480552673,0.51717808842659,0.48656904697418213,0.681035578250885],\"z\":[0.4029623834845443,-0.005540844000431755,0.1198568013622464,0.36814170374785554,0.4029623834845443],\"type\":\"scatter3d\"},{\"line\":{\"color\":\"silver\",\"width\":5},\"mode\":\"lines\",\"x\":[0.37496347427248056,0.2698356304115244],\"y\":[0.681035578250885,0.5689667463302612],\"z\":[0.4029623834845443,0.4201300515532045],\"type\":\"scatter3d\"},{\"line\":{\"color\":\"silver\",\"width\":5},\"mode\":\"lines\",\"x\":[0.3401822065606126,0.2698356304115244],\"y\":[0.45635342597961426,0.5689667463302612],\"z\":[0.32558924048003396,0.4201300515532045],\"type\":\"scatter3d\"},{\"line\":{\"color\":\"silver\",\"width\":5},\"mode\":\"lines\",\"x\":[0.6717759851619889,0.5977322912707195],\"y\":[0.7210554480552673,0.7485448718070984],\"z\":[-0.005540844000431755,-0.1430180235673512],\"type\":\"scatter3d\"},{\"line\":{\"color\":\"silver\",\"width\":5},\"mode\":\"lines\",\"x\":[0.49821084567802637,0.5977322912707195],\"y\":[0.7782798409461975,0.7485448718070984],\"z\":[-0.22819328097424174,-0.1430180235673512],\"type\":\"scatter3d\"},{\"line\":{\"color\":\"silver\",\"width\":5},\"mode\":\"lines\",\"x\":[0.22254329805312426,0.30000533647515665],\"y\":[0.48656904697418213,0.4093383550643921],\"z\":[0.36814170374785554,0.4613128172965864],\"type\":\"scatter3d\"},{\"line\":{\"color\":\"silver\",\"width\":5},\"mode\":\"lines\",\"x\":[0.2077145501760325,0.30000533647515665],\"y\":[0.223577618598938,0.4093383550643921],\"z\":[0.5635961716803681,0.4613128172965864],\"type\":\"scatter3d\"},{\"line\":{\"color\":\"silver\",\"width\":5},\"mode\":\"lines\",\"x\":[0.3594483685174,0.258853829847963],\"y\":[0.51717808842659,0.4870809316635132],\"z\":[0.1198568013622464,-0.08365174429239751],\"type\":\"scatter3d\"},{\"line\":{\"color\":\"silver\",\"width\":5},\"mode\":\"lines\",\"x\":[0.11301829584701728,0.258853829847963],\"y\":[0.6924864947795868,0.4870809316635132],\"z\":[0.1580752595580293,-0.08365174429239751],\"type\":\"scatter3d\"}],\"name\":\"frame4\"},{\"data\":[{\"marker\":{\"color\":\"black\",\"size\":5},\"mode\":\"markers\",\"x\":[0.6074241775337631],\"y\":[0.7310750484466553],\"z\":[0.33212055914044647],\"type\":\"scatter3d\"},{\"marker\":{\"color\":\"magenta\",\"size\":5},\"mode\":\"markers\",\"x\":[0.2992932529995186],\"y\":[0.681035578250885],\"z\":[0.4619522034269348],\"type\":\"scatter3d\"},{\"marker\":{\"color\":\"lime\",\"size\":5},\"mode\":\"markers\",\"x\":[0.6625323559383522],\"y\":[0.7210554480552673],\"z\":[0.11119600949392988],\"type\":\"scatter3d\"},{\"marker\":{\"color\":\"magenta\",\"size\":5},\"mode\":\"markers\",\"x\":[0.1927814030328785],\"y\":[0.5689667463302612],\"z\":[0.46060379753358294],\"type\":\"scatter3d\"},{\"marker\":{\"color\":\"lime\",\"size\":5},\"mode\":\"markers\",\"x\":[0.6134862138351526],\"y\":[0.7485448718070984],\"z\":[-0.037050135317770794],\"type\":\"scatter3d\"},{\"marker\":{\"color\":\"magenta\",\"size\":5},\"mode\":\"markers\",\"x\":[0.27847609618037383],\"y\":[0.45635342597961426],\"z\":[0.3797148285660593],\"type\":\"scatter3d\"},{\"marker\":{\"color\":\"lime\",\"size\":5},\"mode\":\"markers\",\"x\":[0.5302672508555039],\"y\":[0.7782798409461975],\"z\":[-0.13821310684283686],\"type\":\"scatter3d\"},{\"marker\":{\"color\":\"magenta\",\"size\":5},\"mode\":\"markers\",\"x\":[0.15523522932460923],\"y\":[0.48656904697418213],\"z\":[0.4011930422169251],\"type\":\"scatter3d\"},{\"marker\":{\"color\":\"lime\",\"size\":5},\"mode\":\"markers\",\"x\":[0.3331746249859833],\"y\":[0.51717808842659],\"z\":[0.18045346139118215],\"type\":\"scatter3d\"},{\"marker\":{\"color\":\"magenta\",\"size\":5},\"mode\":\"markers\",\"x\":[0.21534145124782056],\"y\":[0.4093383550643921],\"z\":[0.5063998190068477],\"type\":\"scatter3d\"},{\"marker\":{\"color\":\"lime\",\"size\":5},\"mode\":\"markers\",\"x\":[0.26944723148621175],\"y\":[0.4870809316635132],\"z\":[-0.03743139049694334],\"type\":\"scatter3d\"},{\"marker\":{\"color\":\"magenta\",\"size\":5},\"mode\":\"markers\",\"x\":[0.10669145127444568],\"y\":[0.223577618598938],\"z\":[0.5911031325518001],\"type\":\"scatter3d\"},{\"marker\":{\"color\":\"lime\",\"size\":5},\"mode\":\"markers\",\"x\":[0.08385181322589125],\"y\":[0.6924864947795868],\"z\":[0.17529916228902093],\"type\":\"scatter3d\"},{\"line\":{\"color\":\"silver\",\"width\":5},\"mode\":\"lines\",\"x\":[0.2992932529995186,0.6625323559383522,0.3331746249859833,0.15523522932460923,0.2992932529995186],\"y\":[0.681035578250885,0.7210554480552673,0.51717808842659,0.48656904697418213,0.681035578250885],\"z\":[0.4619522034269348,0.11119600949392988,0.18045346139118215,0.4011930422169251,0.4619522034269348],\"type\":\"scatter3d\"},{\"line\":{\"color\":\"silver\",\"width\":5},\"mode\":\"lines\",\"x\":[0.2992932529995186,0.1927814030328785],\"y\":[0.681035578250885,0.5689667463302612],\"z\":[0.4619522034269348,0.46060379753358294],\"type\":\"scatter3d\"},{\"line\":{\"color\":\"silver\",\"width\":5},\"mode\":\"lines\",\"x\":[0.27847609618037383,0.1927814030328785],\"y\":[0.45635342597961426,0.5689667463302612],\"z\":[0.3797148285660593,0.46060379753358294],\"type\":\"scatter3d\"},{\"line\":{\"color\":\"silver\",\"width\":5},\"mode\":\"lines\",\"x\":[0.6625323559383522,0.6134862138351526],\"y\":[0.7210554480552673,0.7485448718070984],\"z\":[0.11119600949392988,-0.037050135317770794],\"type\":\"scatter3d\"},{\"line\":{\"color\":\"silver\",\"width\":5},\"mode\":\"lines\",\"x\":[0.5302672508555039,0.6134862138351526],\"y\":[0.7782798409461975,0.7485448718070984],\"z\":[-0.13821310684283686,-0.037050135317770794],\"type\":\"scatter3d\"},{\"line\":{\"color\":\"silver\",\"width\":5},\"mode\":\"lines\",\"x\":[0.15523522932460923,0.21534145124782056],\"y\":[0.48656904697418213,0.4093383550643921],\"z\":[0.4011930422169251,0.5063998190068477],\"type\":\"scatter3d\"},{\"line\":{\"color\":\"silver\",\"width\":5},\"mode\":\"lines\",\"x\":[0.10669145127444568,0.21534145124782056],\"y\":[0.223577618598938,0.4093383550643921],\"z\":[0.5911031325518001,0.5063998190068477],\"type\":\"scatter3d\"},{\"line\":{\"color\":\"silver\",\"width\":5},\"mode\":\"lines\",\"x\":[0.3331746249859833,0.26944723148621175],\"y\":[0.51717808842659,0.4870809316635132],\"z\":[0.18045346139118215,-0.03743139049694334],\"type\":\"scatter3d\"},{\"line\":{\"color\":\"silver\",\"width\":5},\"mode\":\"lines\",\"x\":[0.08385181322589125,0.26944723148621175],\"y\":[0.6924864947795868,0.4870809316635132],\"z\":[0.17529916228902093,-0.03743139049694334],\"type\":\"scatter3d\"}],\"name\":\"frame5\"},{\"data\":[{\"marker\":{\"color\":\"black\",\"size\":5},\"mode\":\"markers\",\"x\":[0.5405239095418536],\"y\":[0.7310750484466553],\"z\":[0.4325530030758331],\"type\":\"scatter3d\"},{\"marker\":{\"color\":\"magenta\",\"size\":5},\"mode\":\"markers\",\"x\":[0.21452915768385997],\"y\":[0.681035578250885],\"z\":[0.5069058394272921],\"type\":\"scatter3d\"},{\"marker\":{\"color\":\"lime\",\"size\":5},\"mode\":\"markers\",\"x\":[0.6331580163370776],\"y\":[0.7210554480552673],\"z\":[0.2245542285077141],\"type\":\"scatter3d\"},{\"marker\":{\"color\":\"magenta\",\"size\":5},\"mode\":\"markers\",\"x\":[0.10986961027517567],\"y\":[0.5689667463302612],\"z\":[0.4870823302026712],\"type\":\"scatter3d\"},{\"marker\":{\"color\":\"lime\",\"size\":5},\"mode\":\"markers\",\"x\":[0.6105996682312077],\"y\":[0.7485448718070984],\"z\":[0.0700435025451667],\"type\":\"scatter3d\"},{\"marker\":{\"color\":\"magenta\",\"size\":5},\"mode\":\"markers\",\"x\":[0.20830863053339854],\"y\":[0.45635342597961426],\"z\":[0.42230297373107945],\"type\":\"scatter3d\"},{\"marker\":{\"color\":\"lime\",\"size\":5},\"mode\":\"markers\",\"x\":[0.5462117539439131],\"y\":[0.7782798409461975],\"z\":[-0.04403339739921927],\"type\":\"scatter3d\"},{\"marker\":{\"color\":\"magenta\",\"size\":5},\"mode\":\"markers\",\"x\":[0.08321041670588249],\"y\":[0.48656904697418213],\"z\":[0.42205433311170837],\"type\":\"scatter3d\"},{\"marker\":{\"color\":\"lime\",\"size\":5},\"mode\":\"markers\",\"x\":[0.29677753906886284],\"y\":[0.51717808842659],\"z\":[0.23556713430960421],\"type\":\"scatter3d\"},{\"marker\":{\"color\":\"magenta\",\"size\":5},\"mode\":\"markers\",\"x\":[0.12413452499235178],\"y\":[0.4093383550643921],\"z\":[0.5361001184672587],\"type\":\"scatter3d\"},{\"marker\":{\"color\":\"lime\",\"size\":5},\"mode\":\"markers\",\"x\":[0.27185361534263],\"y\":[0.4870809316635132],\"z\":[0.009926297157562852],\"type\":\"scatter3d\"},{\"marker\":{\"color\":\"magenta\",\"size\":5},\"mode\":\"markers\",\"x\":[0.0024265866143644566],\"y\":[0.223577618598938],\"z\":[0.6006497238532633],\"type\":\"scatter3d\"},{\"marker\":{\"color\":\"lime\",\"size\":5},\"mode\":\"markers\",\"x\":[0.052137535690961384],\"y\":[0.6924864947795868],\"z\":[0.18719668867951694],\"type\":\"scatter3d\"},{\"line\":{\"color\":\"silver\",\"width\":5},\"mode\":\"lines\",\"x\":[0.21452915768385997,0.6331580163370776,0.29677753906886284,0.08321041670588249,0.21452915768385997],\"y\":[0.681035578250885,0.7210554480552673,0.51717808842659,0.48656904697418213,0.681035578250885],\"z\":[0.5069058394272921,0.2245542285077141,0.23556713430960421,0.42205433311170837,0.5069058394272921],\"type\":\"scatter3d\"},{\"line\":{\"color\":\"silver\",\"width\":5},\"mode\":\"lines\",\"x\":[0.21452915768385997,0.10986961027517567],\"y\":[0.681035578250885,0.5689667463302612],\"z\":[0.5069058394272921,0.4870823302026712],\"type\":\"scatter3d\"},{\"line\":{\"color\":\"silver\",\"width\":5},\"mode\":\"lines\",\"x\":[0.20830863053339854,0.10986961027517567],\"y\":[0.45635342597961426,0.5689667463302612],\"z\":[0.42230297373107945,0.4870823302026712],\"type\":\"scatter3d\"},{\"line\":{\"color\":\"silver\",\"width\":5},\"mode\":\"lines\",\"x\":[0.6331580163370776,0.6105996682312077],\"y\":[0.7210554480552673,0.7485448718070984],\"z\":[0.2245542285077141,0.0700435025451667],\"type\":\"scatter3d\"},{\"line\":{\"color\":\"silver\",\"width\":5},\"mode\":\"lines\",\"x\":[0.5462117539439131,0.6105996682312077],\"y\":[0.7782798409461975,0.7485448718070984],\"z\":[-0.04403339739921927,0.0700435025451667],\"type\":\"scatter3d\"},{\"line\":{\"color\":\"silver\",\"width\":5},\"mode\":\"lines\",\"x\":[0.08321041670588249,0.12413452499235178],\"y\":[0.48656904697418213,0.4093383550643921],\"z\":[0.42205433311170837,0.5361001184672587],\"type\":\"scatter3d\"},{\"line\":{\"color\":\"silver\",\"width\":5},\"mode\":\"lines\",\"x\":[0.0024265866143644566,0.12413452499235178],\"y\":[0.223577618598938,0.4093383550643921],\"z\":[0.6006497238532633,0.5361001184672587],\"type\":\"scatter3d\"},{\"line\":{\"color\":\"silver\",\"width\":5},\"mode\":\"lines\",\"x\":[0.29677753906886284,0.27185361534263],\"y\":[0.51717808842659,0.4870809316635132],\"z\":[0.23556713430960421,0.009926297157562852],\"type\":\"scatter3d\"},{\"line\":{\"color\":\"silver\",\"width\":5},\"mode\":\"lines\",\"x\":[0.052137535690961384,0.27185361534263],\"y\":[0.6924864947795868,0.4870809316635132],\"z\":[0.18719668867951694,0.009926297157562852],\"type\":\"scatter3d\"}],\"name\":\"frame6\"},{\"data\":[{\"marker\":{\"color\":\"black\",\"size\":5},\"mode\":\"markers\",\"x\":[0.4572000960768101],\"y\":[0.7310750484466552],\"z\":[0.5198425428951415],\"type\":\"scatter3d\"},{\"marker\":{\"color\":\"magenta\",\"size\":5},\"mode\":\"markers\",\"x\":[0.12324670246896882],\"y\":[0.6810355782508849],\"z\":[0.5364573980033824],\"type\":\"scatter3d\"},{\"marker\":{\"color\":\"lime\",\"size\":5},\"mode\":\"markers\",\"x\":[0.5845454908028163],\"y\":[0.7210554480552672],\"z\":[0.3310894809182139],\"type\":\"scatter3d\"},{\"marker\":{\"color\":\"magenta\",\"size\":5},\"mode\":\"markers\",\"x\":[0.023619485005966778],\"y\":[0.5689667463302611],\"z\":[0.49876111274410306],\"type\":\"scatter3d\"},{\"marker\":{\"color\":\"lime\",\"size\":5},\"mode\":\"markers\",\"x\":[0.5891603606863981],\"y\":[0.7485448718070983],\"z\":[0.17500890402699207],\"type\":\"scatter3d\"},{\"marker\":{\"color\":\"magenta\",\"size\":5},\"mode\":\"markers\",\"x\":[0.13181181255691884],\"y\":[0.4563534259796142],\"z\":[0.45205965673489634],\"type\":\"scatter3d\"},{\"marker\":{\"color\":\"lime\",\"size\":5},\"mode\":\"markers\",\"x\":[0.5455598892852201],\"y\":[0.7782798409461974],\"z\":[0.05148424454239961],\"type\":\"scatter3d\"},{\"marker\":{\"color\":\"magenta\",\"size\":5},\"mode\":\"markers\",\"x\":[0.008657297682049814],\"y\":[0.4865690469741821],\"z\":[0.43009171666468987],\"type\":\"scatter3d\"},{\"marker\":{\"color\":\"lime\",\"size\":5},\"mode\":\"markers\",\"x\":[0.25136301780381576],\"y\":[0.5171780884265899],\"z\":[0.2835232190547506],\"type\":\"scatter3d\"},{\"marker\":{\"color\":\"magenta\",\"size\":5},\"mode\":\"markers\",\"x\":[0.029155834010090698],\"y\":[0.40933835506439203],\"z\":[0.5495112871077915],\"type\":\"scatter3d\"},{\"marker\":{\"color\":\"lime\",\"size\":5},\"mode\":\"markers\",\"x\":[0.2659998646614293],\"y\":[0.48708093166351313],\"z\":[0.05698237929588533],\"type\":\"scatter3d\"},{\"marker\":{\"color\":\"magenta\",\"size\":5},\"mode\":\"markers\",\"x\":[-0.10191200865208244],\"y\":[0.22357761859893796],\"z\":[0.5919458772388708],\"type\":\"scatter3d\"},{\"marker\":{\"color\":\"lime\",\"size\":5},\"mode\":\"markers\",\"x\":[0.018839085516927645],\"y\":[0.6924864947795867],\"z\":[0.1934063384105809],\"type\":\"scatter3d\"},{\"line\":{\"color\":\"silver\",\"width\":5},\"mode\":\"lines\",\"x\":[0.12324670246896882,0.5845454908028163,0.25136301780381576,0.008657297682049814,0.12324670246896882],\"y\":[0.6810355782508849,0.7210554480552672,0.5171780884265899,0.4865690469741821,0.6810355782508849],\"z\":[0.5364573980033824,0.3310894809182139,0.2835232190547506,0.43009171666468987,0.5364573980033824],\"type\":\"scatter3d\"},{\"line\":{\"color\":\"silver\",\"width\":5},\"mode\":\"lines\",\"x\":[0.12324670246896882,0.023619485005966778],\"y\":[0.6810355782508849,0.5689667463302611],\"z\":[0.5364573980033824,0.49876111274410306],\"type\":\"scatter3d\"},{\"line\":{\"color\":\"silver\",\"width\":5},\"mode\":\"lines\",\"x\":[0.13181181255691884,0.023619485005966778],\"y\":[0.4563534259796142,0.5689667463302611],\"z\":[0.45205965673489634,0.49876111274410306],\"type\":\"scatter3d\"},{\"line\":{\"color\":\"silver\",\"width\":5},\"mode\":\"lines\",\"x\":[0.5845454908028163,0.5891603606863981],\"y\":[0.7210554480552672,0.7485448718070983],\"z\":[0.3310894809182139,0.17500890402699207],\"type\":\"scatter3d\"},{\"line\":{\"color\":\"silver\",\"width\":5},\"mode\":\"lines\",\"x\":[0.5455598892852201,0.5891603606863981],\"y\":[0.7782798409461974,0.7485448718070983],\"z\":[0.05148424454239961,0.17500890402699207],\"type\":\"scatter3d\"},{\"line\":{\"color\":\"silver\",\"width\":5},\"mode\":\"lines\",\"x\":[0.008657297682049814,0.029155834010090698],\"y\":[0.4865690469741821,0.40933835506439203],\"z\":[0.43009171666468987,0.5495112871077915],\"type\":\"scatter3d\"},{\"line\":{\"color\":\"silver\",\"width\":5},\"mode\":\"lines\",\"x\":[-0.10191200865208244,0.029155834010090698],\"y\":[0.22357761859893796,0.40933835506439203],\"z\":[0.5919458772388708,0.5495112871077915],\"type\":\"scatter3d\"},{\"line\":{\"color\":\"silver\",\"width\":5},\"mode\":\"lines\",\"x\":[0.25136301780381576,0.2659998646614293],\"y\":[0.5171780884265899,0.48708093166351313],\"z\":[0.2835232190547506,0.05698237929588533],\"type\":\"scatter3d\"},{\"line\":{\"color\":\"silver\",\"width\":5},\"mode\":\"lines\",\"x\":[0.018839085516927645,0.2659998646614293],\"y\":[0.6924864947795867,0.48708093166351313],\"z\":[0.1934063384105809,0.05698237929588533],\"type\":\"scatter3d\"}],\"name\":\"frame7\"},{\"data\":[{\"marker\":{\"color\":\"black\",\"size\":5},\"mode\":\"markers\",\"x\":[0.3599844890468846],\"y\":[0.7310750484466552],\"z\":[0.5913369301016002],\"type\":\"scatter3d\"},{\"marker\":{\"color\":\"magenta\",\"size\":5},\"mode\":\"markers\",\"x\":[0.028219458565398856],\"y\":[0.6810355782508849],\"z\":[0.5497089700016816],\"type\":\"scatter3d\"},{\"marker\":{\"color\":\"lime\",\"size\":5},\"mode\":\"markers\",\"x\":[0.518171846324802],\"y\":[0.7210554480552672],\"z\":[0.427564746990375],\"type\":\"scatter3d\"},{\"marker\":{\"color\":\"magenta\",\"size\":5},\"mode\":\"markers\",\"x\":[-0.06334830636311217],\"y\":[0.5689667463302611],\"z\":[0.4952852912601062],\"type\":\"scatter3d\"},{\"marker\":{\"color\":\"lime\",\"size\":5},\"mode\":\"markers\",\"x\":[0.5498197137116598],\"y\":[0.7485448718070983],\"z\":[0.2746567485187356],\"type\":\"scatter3d\"},{\"marker\":{\"color\":\"magenta\",\"size\":5},\"mode\":\"markers\",\"x\":[0.05130995935589279],\"y\":[0.4563534259796142],\"z\":[0.4680807358220473],\"type\":\"scatter3d\"},{\"marker\":{\"color\":\"lime\",\"size\":5},\"mode\":\"markers\",\"x\":[0.5283314634572204],\"y\":[0.7782798409461974],\"z\":[0.14543756376588232],\"type\":\"scatter3d\"},{\"marker\":{\"color\":\"magenta\",\"size\":5},\"mode\":\"markers\",\"x\":[-0.06615886895104782],\"y\":[0.4865690469741821],\"z\":[0.42506098104372453],\"type\":\"scatter3d\"},{\"marker\":{\"color\":\"lime\",\"size\":5},\"mode\":\"markers\",\"x\":[0.19831095843862412],\"y\":[0.5171780884265899],\"z\":[0.32286459425858977],\"type\":\"scatter3d\"},{\"marker\":{\"color\":\"magenta\",\"size\":5},\"mode\":\"markers\",\"x\":[-0.06670874223500298],\"y\":[0.40933835506439203],\"z\":[0.5462258333556822],\"type\":\"scatter3d\"},{\"marker\":{\"color\":\"lime\",\"size\":5},\"mode\":\"markers\",\"x\":[0.2520638426949173],\"y\":[0.48708093166351313],\"z\":[0.10230708067377746],\"type\":\"scatter3d\"},{\"marker\":{\"color\":\"magenta\",\"size\":5},\"mode\":\"markers\",\"x\":[-0.20315405910560036],\"y\":[0.22357761859893796],\"z\":[0.565256054683642],\"type\":\"scatter3d\"},{\"marker\":{\"color\":\"lime\",\"size\":5},\"mode\":\"markers\",\"x\":[-0.01503178073750066],\"y\":[0.6924864947795867],\"z\":[0.19373943441736882],\"type\":\"scatter3d\"},{\"line\":{\"color\":\"silver\",\"width\":5},\"mode\":\"lines\",\"x\":[0.028219458565398856,0.518171846324802,0.19831095843862412,-0.06615886895104782,0.028219458565398856],\"y\":[0.6810355782508849,0.7210554480552672,0.5171780884265899,0.4865690469741821,0.6810355782508849],\"z\":[0.5497089700016816,0.427564746990375,0.32286459425858977,0.42506098104372453,0.5497089700016816],\"type\":\"scatter3d\"},{\"line\":{\"color\":\"silver\",\"width\":5},\"mode\":\"lines\",\"x\":[0.028219458565398856,-0.06334830636311217],\"y\":[0.6810355782508849,0.5689667463302611],\"z\":[0.5497089700016816,0.4952852912601062],\"type\":\"scatter3d\"},{\"line\":{\"color\":\"silver\",\"width\":5},\"mode\":\"lines\",\"x\":[0.05130995935589279,-0.06334830636311217],\"y\":[0.4563534259796142,0.5689667463302611],\"z\":[0.4680807358220473,0.4952852912601062],\"type\":\"scatter3d\"},{\"line\":{\"color\":\"silver\",\"width\":5},\"mode\":\"lines\",\"x\":[0.518171846324802,0.5498197137116598],\"y\":[0.7210554480552672,0.7485448718070983],\"z\":[0.427564746990375,0.2746567485187356],\"type\":\"scatter3d\"},{\"line\":{\"color\":\"silver\",\"width\":5},\"mode\":\"lines\",\"x\":[0.5283314634572204,0.5498197137116598],\"y\":[0.7782798409461974,0.7485448718070983],\"z\":[0.14543756376588232,0.2746567485187356],\"type\":\"scatter3d\"},{\"line\":{\"color\":\"silver\",\"width\":5},\"mode\":\"lines\",\"x\":[-0.06615886895104782,-0.06670874223500298],\"y\":[0.4865690469741821,0.40933835506439203],\"z\":[0.42506098104372453,0.5462258333556822],\"type\":\"scatter3d\"},{\"line\":{\"color\":\"silver\",\"width\":5},\"mode\":\"lines\",\"x\":[-0.20315405910560036,-0.06670874223500298],\"y\":[0.22357761859893796,0.40933835506439203],\"z\":[0.565256054683642,0.5462258333556822],\"type\":\"scatter3d\"},{\"line\":{\"color\":\"silver\",\"width\":5},\"mode\":\"lines\",\"x\":[0.19831095843862412,0.2520638426949173],\"y\":[0.5171780884265899,0.48708093166351313],\"z\":[0.32286459425858977,0.10230708067377746],\"type\":\"scatter3d\"},{\"line\":{\"color\":\"silver\",\"width\":5},\"mode\":\"lines\",\"x\":[-0.01503178073750066,0.2520638426949173],\"y\":[0.6924864947795867,0.48708093166351313],\"z\":[0.19373943441736882,0.10230708067377746],\"type\":\"scatter3d\"}],\"name\":\"frame8\"},{\"data\":[{\"marker\":{\"color\":\"black\",\"size\":5},\"mode\":\"markers\",\"x\":[0.25183093547821056],\"y\":[0.7310750484466553],\"z\":[0.6448638439178466],\"type\":\"scatter3d\"},{\"marker\":{\"color\":\"magenta\",\"size\":5},\"mode\":\"markers\",\"x\":[-0.06766521930694568],\"y\":[0.681035578250885],\"z\":[0.5462579131126404],\"type\":\"scatter3d\"},{\"marker\":{\"color\":\"lime\",\"size\":5},\"mode\":\"markers\",\"x\":[0.4360538125038148],\"y\":[0.7210554480552673],\"z\":[0.511048674583435],\"type\":\"scatter3d\"},{\"marker\":{\"color\":\"magenta\",\"size\":5},\"mode\":\"markers\",\"x\":[-0.14839129149913768],\"y\":[0.5689667463302612],\"z\":[0.47676047682762146],\"type\":\"scatter3d\"},{\"marker\":{\"color\":\"lime\",\"size\":5},\"mode\":\"markers\",\"x\":[0.49377307295799255],\"y\":[0.7485448718070984],\"z\":[0.3659592866897582],\"type\":\"scatter3d\"},{\"marker\":{\"color\":\"magenta\",\"size\":5},\"mode\":\"markers\",\"x\":[-0.030750920996069797],\"y\":[0.45635342597961426],\"z\":[0.4698794186115265],\"type\":\"scatter3d\"},{\"marker\":{\"color\":\"lime\",\"size\":5},\"mode\":\"markers\",\"x\":[0.49504995346069336],\"y\":[0.7782798409461975],\"z\":[0.23497183620929699],\"type\":\"scatter3d\"},{\"marker\":{\"color\":\"magenta\",\"size\":5},\"mode\":\"markers\",\"x\":[-0.1389648318290709],\"y\":[0.48656904697418213],\"z\":[0.40711498260498047],\"type\":\"scatter3d\"},{\"marker\":{\"color\":\"lime\",\"size\":5},\"mode\":\"markers\",\"x\":[0.13923332095146188],\"y\":[0.51717808842659],\"z\":[0.35239589214324946],\"type\":\"scatter3d\"},{\"marker\":{\"color\":\"magenta\",\"size\":5},\"mode\":\"markers\",\"x\":[-0.1605464071035384],\"y\":[0.4093383550643921],\"z\":[0.526343584060669],\"type\":\"scatter3d\"},{\"marker\":{\"color\":\"lime\",\"size\":5},\"mode\":\"markers\",\"x\":[0.23046898841857913],\"y\":[0.4870809316635132],\"z\":[0.14452323317527765],\"type\":\"scatter3d\"},{\"marker\":{\"color\":\"magenta\",\"size\":5},\"mode\":\"markers\",\"x\":[-0.2982233762741088],\"y\":[0.223577618598938],\"z\":[0.5213912129402162],\"type\":\"scatter3d\"},{\"marker\":{\"color\":\"lime\",\"size\":5},\"mode\":\"markers\",\"x\":[-0.04844591394066806],\"y\":[0.6924864947795868],\"z\":[0.1881858557462692],\"type\":\"scatter3d\"},{\"line\":{\"color\":\"silver\",\"width\":5},\"mode\":\"lines\",\"x\":[-0.06766521930694568,0.4360538125038148,0.13923332095146188,-0.1389648318290709,-0.06766521930694568],\"y\":[0.681035578250885,0.7210554480552673,0.51717808842659,0.48656904697418213,0.681035578250885],\"z\":[0.5462579131126404,0.511048674583435,0.35239589214324946,0.40711498260498047,0.5462579131126404],\"type\":\"scatter3d\"},{\"line\":{\"color\":\"silver\",\"width\":5},\"mode\":\"lines\",\"x\":[-0.06766521930694568,-0.14839129149913768],\"y\":[0.681035578250885,0.5689667463302612],\"z\":[0.5462579131126404,0.47676047682762146],\"type\":\"scatter3d\"},{\"line\":{\"color\":\"silver\",\"width\":5},\"mode\":\"lines\",\"x\":[-0.030750920996069797,-0.14839129149913768],\"y\":[0.45635342597961426,0.5689667463302612],\"z\":[0.4698794186115265,0.47676047682762146],\"type\":\"scatter3d\"},{\"line\":{\"color\":\"silver\",\"width\":5},\"mode\":\"lines\",\"x\":[0.4360538125038148,0.49377307295799255],\"y\":[0.7210554480552673,0.7485448718070984],\"z\":[0.511048674583435,0.3659592866897582],\"type\":\"scatter3d\"},{\"line\":{\"color\":\"silver\",\"width\":5},\"mode\":\"lines\",\"x\":[0.49504995346069336,0.49377307295799255],\"y\":[0.7782798409461975,0.7485448718070984],\"z\":[0.23497183620929699,0.3659592866897582],\"type\":\"scatter3d\"},{\"line\":{\"color\":\"silver\",\"width\":5},\"mode\":\"lines\",\"x\":[-0.1389648318290709,-0.1605464071035384],\"y\":[0.48656904697418213,0.4093383550643921],\"z\":[0.40711498260498047,0.526343584060669],\"type\":\"scatter3d\"},{\"line\":{\"color\":\"silver\",\"width\":5},\"mode\":\"lines\",\"x\":[-0.2982233762741088,-0.1605464071035384],\"y\":[0.223577618598938,0.4093383550643921],\"z\":[0.5213912129402162,0.526343584060669],\"type\":\"scatter3d\"},{\"line\":{\"color\":\"silver\",\"width\":5},\"mode\":\"lines\",\"x\":[0.13923332095146188,0.23046898841857913],\"y\":[0.51717808842659,0.4870809316635132],\"z\":[0.35239589214324946,0.14452323317527765],\"type\":\"scatter3d\"},{\"line\":{\"color\":\"silver\",\"width\":5},\"mode\":\"lines\",\"x\":[-0.04844591394066806,0.23046898841857913],\"y\":[0.6924864947795868,0.4870809316635132],\"z\":[0.1881858557462692,0.14452323317527765],\"type\":\"scatter3d\"}],\"name\":\"frame9\"},{\"data\":[{\"marker\":{\"color\":\"black\",\"size\":5},\"mode\":\"markers\",\"x\":[0.13602562636763288],\"y\":[0.7310750484466553],\"z\":[0.6787968961534995],\"type\":\"scatter3d\"},{\"marker\":{\"color\":\"magenta\",\"size\":5},\"mode\":\"markers\",\"x\":[-0.16149392373090193],\"y\":[0.681035578250885],\"z\":[0.5262090859535131],\"type\":\"scatter3d\"},{\"marker\":{\"color\":\"lime\",\"size\":5},\"mode\":\"markers\",\"x\":[0.3406865042437749],\"y\":[0.7210554480552673],\"z\":[0.5790046468023846],\"type\":\"scatter3d\"},{\"marker\":{\"color\":\"magenta\",\"size\":5},\"mode\":\"markers\",\"x\":[-0.22892548233257867],\"y\":[0.5689667463302612],\"z\":[0.4437495365591712],\"type\":\"scatter3d\"},{\"marker\":{\"color\":\"lime\",\"size\":5},\"mode\":\"markers\",\"x\":[0.4227233872437275],\"y\":[0.7485448718070984],\"z\":[0.446142337119047],\"type\":\"scatter3d\"},{\"marker\":{\"color\":\"magenta\",\"size\":5},\"mode\":\"markers\",\"x\":[-0.1118774501742838],\"y\":[0.45635342597961426],\"z\":[0.45740105303695283],\"type\":\"scatter3d\"},{\"marker\":{\"color\":\"lime\",\"size\":5},\"mode\":\"markers\",\"x\":[0.44672660113562673],\"y\":[0.7782798409461975],\"z\":[0.3173666083109785],\"type\":\"scatter3d\"},{\"marker\":{\"color\":\"magenta\",\"size\":5},\"mode\":\"markers\",\"x\":[-0.20754841861156567],\"y\":[0.48656904697418213],\"z\":[0.37679900142990536],\"type\":\"scatter3d\"},{\"marker\":{\"color\":\"lime\",\"size\":5},\"mode\":\"markers\",\"x\":[0.0759251494626493],\"y\":[0.51717808842659],\"z\":[0.37121981916606217],\"type\":\"scatter3d\"},{\"marker\":{\"color\":\"magenta\",\"size\":5},\"mode\":\"markers\",\"x\":[-0.24950595063263487],\"y\":[0.4093383550643921],\"z\":[0.4904686513066771],\"type\":\"scatter3d\"},{\"marker\":{\"color\":\"lime\",\"size\":5},\"mode\":\"markers\",\"x\":[0.20187145055207767],\"y\":[0.4870809316635132],\"z\":[0.1823481203690318],\"type\":\"scatter3d\"},{\"marker\":{\"color\":\"magenta\",\"size\":5},\"mode\":\"markers\",\"x\":[-0.38423132706283836],\"y\":[0.223577618598938],\"z\":[0.46168416302828563],\"type\":\"scatter3d\"},{\"marker\":{\"color\":\"lime\",\"size\":5},\"mode\":\"markers\",\"x\":[-0.08038804256356363],\"y\":[0.6924864947795868],\"z\":[0.17691434507495696],\"type\":\"scatter3d\"},{\"line\":{\"color\":\"silver\",\"width\":5},\"mode\":\"lines\",\"x\":[-0.16149392373090193,0.3406865042437749,0.0759251494626493,-0.20754841861156567,-0.16149392373090193],\"y\":[0.681035578250885,0.7210554480552673,0.51717808842659,0.48656904697418213,0.681035578250885],\"z\":[0.5262090859535131,0.5790046468023846,0.37121981916606217,0.37679900142990536,0.5262090859535131],\"type\":\"scatter3d\"},{\"line\":{\"color\":\"silver\",\"width\":5},\"mode\":\"lines\",\"x\":[-0.16149392373090193,-0.22892548233257867],\"y\":[0.681035578250885,0.5689667463302612],\"z\":[0.5262090859535131,0.4437495365591712],\"type\":\"scatter3d\"},{\"line\":{\"color\":\"silver\",\"width\":5},\"mode\":\"lines\",\"x\":[-0.1118774501742838,-0.22892548233257867],\"y\":[0.45635342597961426,0.5689667463302612],\"z\":[0.45740105303695283,0.4437495365591712],\"type\":\"scatter3d\"},{\"line\":{\"color\":\"silver\",\"width\":5},\"mode\":\"lines\",\"x\":[0.3406865042437749,0.4227233872437275],\"y\":[0.7210554480552673,0.7485448718070984],\"z\":[0.5790046468023846,0.446142337119047],\"type\":\"scatter3d\"},{\"line\":{\"color\":\"silver\",\"width\":5},\"mode\":\"lines\",\"x\":[0.44672660113562673,0.4227233872437275],\"y\":[0.7782798409461975,0.7485448718070984],\"z\":[0.3173666083109785,0.446142337119047],\"type\":\"scatter3d\"},{\"line\":{\"color\":\"silver\",\"width\":5},\"mode\":\"lines\",\"x\":[-0.20754841861156567,-0.24950595063263487],\"y\":[0.48656904697418213,0.4093383550643921],\"z\":[0.37679900142990536,0.4904686513066771],\"type\":\"scatter3d\"},{\"line\":{\"color\":\"silver\",\"width\":5},\"mode\":\"lines\",\"x\":[-0.38423132706283836,-0.24950595063263487],\"y\":[0.223577618598938,0.4093383550643921],\"z\":[0.46168416302828563,0.4904686513066771],\"type\":\"scatter3d\"},{\"line\":{\"color\":\"silver\",\"width\":5},\"mode\":\"lines\",\"x\":[0.0759251494626493,0.20187145055207767],\"y\":[0.51717808842659,0.4870809316635132],\"z\":[0.37121981916606217,0.1823481203690318],\"type\":\"scatter3d\"},{\"line\":{\"color\":\"silver\",\"width\":5},\"mode\":\"lines\",\"x\":[-0.08038804256356363,0.20187145055207767],\"y\":[0.6924864947795868,0.4870809316635132],\"z\":[0.17691434507495696,0.1823481203690318],\"type\":\"scatter3d\"}],\"name\":\"frame10\"},{\"data\":[{\"marker\":{\"color\":\"black\",\"size\":5},\"mode\":\"markers\",\"x\":[0.016087247432163054],\"y\":[0.7310750484466553],\"z\":[0.6921050481873312],\"type\":\"scatter3d\"},{\"marker\":{\"color\":\"magenta\",\"size\":5},\"mode\":\"markers\",\"x\":[-0.25041571700216303],\"y\":[0.681035578250885],\"z\":[0.4901716619923338],\"type\":\"scatter3d\"},{\"marker\":{\"color\":\"lime\",\"size\":5},\"mode\":\"markers\",\"x\":[0.23496760894797736],\"y\":[0.7210554480552673],\"z\":[0.6293678558187319],\"type\":\"scatter3d\"},{\"marker\":{\"color\":\"magenta\",\"size\":5},\"mode\":\"markers\",\"x\":[-0.3025038882272277],\"y\":[0.5689667463302612],\"z\":[0.39725549117047076],\"type\":\"scatter3d\"},{\"marker\":{\"color\":\"lime\",\"size\":5},\"mode\":\"markers\",\"x\":[0.338829465316417],\"y\":[0.7485448718070984],\"z\":[0.512769578393889],\"type\":\"scatter3d\"},{\"marker\":{\"color\":\"magenta\",\"size\":5},\"mode\":\"markers\",\"x\":[-0.18960463964167348],\"y\":[0.45635342597961426],\"z\":[0.4310247879219522],\"type\":\"scatter3d\"},{\"marker\":{\"color\":\"lime\",\"size\":5},\"mode\":\"markers\",\"x\":[0.3848296870896216],\"y\":[0.7782798409461975],\"z\":[0.39011835661438354],\"type\":\"scatter3d\"},{\"marker\":{\"color\":\"magenta\",\"size\":5},\"mode\":\"markers\",\"x\":[-0.26982575171911527],\"y\":[0.48656904697418213],\"z\":[0.3350341732658773],\"type\":\"scatter3d\"},{\"marker\":{\"color\":\"lime\",\"size\":5},\"mode\":\"markers\",\"x\":[0.01031003072739363],\"y\":[0.51717808842659],\"z\":[0.3787644198298063],\"type\":\"scatter3d\"},{\"marker\":{\"color\":\"magenta\",\"size\":5},\"mode\":\"markers\",\"x\":[-0.3308843821078616],\"y\":[0.4093383550643921],\"z\":[0.43969107677184477],\"type\":\"scatter3d\"},{\"marker\":{\"color\":\"lime\",\"size\":5},\"mode\":\"markers\",\"x\":[0.1671401508124343],\"y\":[0.4870809316635132],\"z\":[0.21463245219797394],\"type\":\"scatter3d\"},{\"marker\":{\"color\":\"magenta\",\"size\":5},\"mode\":\"markers\",\"x\":[-0.45856460340919647],\"y\":[0.223577618598938],\"z\":[0.38794907344619983],\"type\":\"scatter3d\"},{\"marker\":{\"color\":\"lime\",\"size\":5},\"mode\":\"markers\",\"x\":[-0.10988762119147757],\"y\":[0.6924864947795868],\"z\":[0.16026738155152034],\"type\":\"scatter3d\"},{\"line\":{\"color\":\"silver\",\"width\":5},\"mode\":\"lines\",\"x\":[-0.25041571700216303,0.23496760894797736,0.01031003072739363,-0.26982575171911527,-0.25041571700216303],\"y\":[0.681035578250885,0.7210554480552673,0.51717808842659,0.48656904697418213,0.681035578250885],\"z\":[0.4901716619923338,0.6293678558187319,0.3787644198298063,0.3350341732658773,0.4901716619923338],\"type\":\"scatter3d\"},{\"line\":{\"color\":\"silver\",\"width\":5},\"mode\":\"lines\",\"x\":[-0.25041571700216303,-0.3025038882272277],\"y\":[0.681035578250885,0.5689667463302612],\"z\":[0.4901716619923338,0.39725549117047076],\"type\":\"scatter3d\"},{\"line\":{\"color\":\"silver\",\"width\":5},\"mode\":\"lines\",\"x\":[-0.18960463964167348,-0.3025038882272277],\"y\":[0.45635342597961426,0.5689667463302612],\"z\":[0.4310247879219522,0.39725549117047076],\"type\":\"scatter3d\"},{\"line\":{\"color\":\"silver\",\"width\":5},\"mode\":\"lines\",\"x\":[0.23496760894797736,0.338829465316417],\"y\":[0.7210554480552673,0.7485448718070984],\"z\":[0.6293678558187319,0.512769578393889],\"type\":\"scatter3d\"},{\"line\":{\"color\":\"silver\",\"width\":5},\"mode\":\"lines\",\"x\":[0.3848296870896216,0.338829465316417],\"y\":[0.7782798409461975,0.7485448718070984],\"z\":[0.39011835661438354,0.512769578393889],\"type\":\"scatter3d\"},{\"line\":{\"color\":\"silver\",\"width\":5},\"mode\":\"lines\",\"x\":[-0.26982575171911527,-0.3308843821078616],\"y\":[0.48656904697418213,0.4093383550643921],\"z\":[0.3350341732658773,0.43969107677184477],\"type\":\"scatter3d\"},{\"line\":{\"color\":\"silver\",\"width\":5},\"mode\":\"lines\",\"x\":[-0.45856460340919647,-0.3308843821078616],\"y\":[0.223577618598938,0.4093383550643921],\"z\":[0.38794907344619983,0.43969107677184477],\"type\":\"scatter3d\"},{\"line\":{\"color\":\"silver\",\"width\":5},\"mode\":\"lines\",\"x\":[0.01031003072739363,0.1671401508124343],\"y\":[0.51717808842659,0.4870809316635132],\"z\":[0.3787644198298063,0.21463245219797394],\"type\":\"scatter3d\"},{\"line\":{\"color\":\"silver\",\"width\":5},\"mode\":\"lines\",\"x\":[-0.10988762119147757,0.1671401508124343],\"y\":[0.6924864947795868,0.4870809316635132],\"z\":[0.16026738155152034,0.21463245219797394],\"type\":\"scatter3d\"}],\"name\":\"frame11\"},{\"data\":[{\"marker\":{\"color\":\"black\",\"size\":5},\"mode\":\"markers\",\"x\":[-0.10433993437599307],\"y\":[0.7310750484466553],\"z\":[0.6843839385540437],\"type\":\"scatter3d\"},{\"marker\":{\"color\":\"magenta\",\"size\":5},\"mode\":\"markers\",\"x\":[-0.33172875542878044],\"y\":[0.681035578250885],\"z\":[0.43924062012034637],\"type\":\"scatter3d\"},{\"marker\":{\"color\":\"lime\",\"size\":5},\"mode\":\"markers\",\"x\":[0.12210934175364269],\"y\":[0.7210554480552673],\"z\":[0.6606080410115289],\"type\":\"scatter3d\"},{\"marker\":{\"color\":\"magenta\",\"size\":5},\"mode\":\"markers\",\"x\":[-0.36689086655244574],\"y\":[0.5689667463302612],\"z\":[0.3386910387035335],\"type\":\"scatter3d\"},{\"marker\":{\"color\":\"lime\",\"size\":5},\"mode\":\"markers\",\"x\":[0.24464038154144954],\"y\":[0.7485448718070984],\"z\":[0.5638165755031592],\"type\":\"scatter3d\"},{\"marker\":{\"color\":\"magenta\",\"size\":5},\"mode\":\"markers\",\"x\":[-0.26157078807812795],\"y\":[0.45635342597961426],\"z\":[0.39155205273500965],\"type\":\"scatter3d\"},{\"marker\":{\"color\":\"lime\",\"size\":5},\"mode\":\"markers\",\"x\":[0.31123991773461607],\"y\":[0.7782798409461975],\"z\":[0.45101655606147406],\"type\":\"scatter3d\"},{\"marker\":{\"color\":\"magenta\",\"size\":5},\"mode\":\"markers\",\"x\":[-0.323904565899098],\"y\":[0.48656904697418213],\"z\":[0.2830895012826375],\"type\":\"scatter3d\"},{\"marker\":{\"color\":\"lime\",\"size\":5},\"mode\":\"markers\",\"x\":[-0.0556183530743866],\"y\":[0.51717808842659],\"z\":[0.3748004552610661],\"type\":\"scatter3d\"},{\"marker\":{\"color\":\"magenta\",\"size\":5},\"mode\":\"markers\",\"x\":[-0.40220905906831717],\"y\":[0.4093383550643921],\"z\":[0.37555371136372034],\"type\":\"scatter3d\"},{\"marker\":{\"color\":\"lime\",\"size\":5},\"mode\":\"markers\",\"x\":[0.1273303821673523],\"y\":[0.4870809316635132],\"z\":[0.24039528557614198],\"type\":\"scatter3d\"},{\"marker\":{\"color\":\"magenta\",\"size\":5},\"mode\":\"markers\",\"x\":[-0.5189646263258517],\"y\":[0.223577618598938],\"z\":[0.30242634757915454],\"type\":\"scatter3d\"},{\"marker\":{\"color\":\"lime\",\"size\":5},\"mode\":\"markers\",\"x\":[-0.13604832005530781],\"y\":[0.6924864947795868],\"z\":[0.1387507747388489],\"type\":\"scatter3d\"},{\"line\":{\"color\":\"silver\",\"width\":5},\"mode\":\"lines\",\"x\":[-0.33172875542878044,0.12210934175364269,-0.0556183530743866,-0.323904565899098,-0.33172875542878044],\"y\":[0.681035578250885,0.7210554480552673,0.51717808842659,0.48656904697418213,0.681035578250885],\"z\":[0.43924062012034637,0.6606080410115289,0.3748004552610661,0.2830895012826375,0.43924062012034637],\"type\":\"scatter3d\"},{\"line\":{\"color\":\"silver\",\"width\":5},\"mode\":\"lines\",\"x\":[-0.33172875542878044,-0.36689086655244574],\"y\":[0.681035578250885,0.5689667463302612],\"z\":[0.43924062012034637,0.3386910387035335],\"type\":\"scatter3d\"},{\"line\":{\"color\":\"silver\",\"width\":5},\"mode\":\"lines\",\"x\":[-0.26157078807812795,-0.36689086655244574],\"y\":[0.45635342597961426,0.5689667463302612],\"z\":[0.39155205273500965,0.3386910387035335],\"type\":\"scatter3d\"},{\"line\":{\"color\":\"silver\",\"width\":5},\"mode\":\"lines\",\"x\":[0.12210934175364269,0.24464038154144954],\"y\":[0.7210554480552673,0.7485448718070984],\"z\":[0.6606080410115289,0.5638165755031592],\"type\":\"scatter3d\"},{\"line\":{\"color\":\"silver\",\"width\":5},\"mode\":\"lines\",\"x\":[0.31123991773461607,0.24464038154144954],\"y\":[0.7782798409461975,0.7485448718070984],\"z\":[0.45101655606147406,0.5638165755031592],\"type\":\"scatter3d\"},{\"line\":{\"color\":\"silver\",\"width\":5},\"mode\":\"lines\",\"x\":[-0.323904565899098,-0.40220905906831717],\"y\":[0.48656904697418213,0.4093383550643921],\"z\":[0.2830895012826375,0.37555371136372034],\"type\":\"scatter3d\"},{\"line\":{\"color\":\"silver\",\"width\":5},\"mode\":\"lines\",\"x\":[-0.5189646263258517,-0.40220905906831717],\"y\":[0.223577618598938,0.4093383550643921],\"z\":[0.30242634757915454,0.37555371136372034],\"type\":\"scatter3d\"},{\"line\":{\"color\":\"silver\",\"width\":5},\"mode\":\"lines\",\"x\":[-0.0556183530743866,0.1273303821673523],\"y\":[0.51717808842659,0.4870809316635132],\"z\":[0.3748004552610661,0.24039528557614198],\"type\":\"scatter3d\"},{\"line\":{\"color\":\"silver\",\"width\":5},\"mode\":\"lines\",\"x\":[-0.13604832005530781,0.1273303821673523],\"y\":[0.6924864947795868,0.4870809316635132],\"z\":[0.1387507747388489,0.24039528557614198],\"type\":\"scatter3d\"}],\"name\":\"frame12\"},{\"data\":[{\"marker\":{\"color\":\"black\",\"size\":5},\"mode\":\"markers\",\"x\":[-0.22159680007668922],\"y\":[0.7310750484466553],\"z\":[0.6558681692627744],\"type\":\"scatter3d\"},{\"marker\":{\"color\":\"magenta\",\"size\":5},\"mode\":\"markers\",\"x\":[-0.40296238348454416],\"y\":[0.681035578250885],\"z\":[0.3749634742724805],\"type\":\"scatter3d\"},{\"marker\":{\"color\":\"lime\",\"size\":5},\"mode\":\"markers\",\"x\":[0.005540844000431755],\"y\":[0.7210554480552673],\"z\":[0.6717759851619887],\"type\":\"scatter3d\"},{\"marker\":{\"color\":\"magenta\",\"size\":5},\"mode\":\"markers\",\"x\":[-0.4201300515532044],\"y\":[0.5689667463302612],\"z\":[0.26983563041152436],\"type\":\"scatter3d\"},{\"marker\":{\"color\":\"lime\",\"size\":5},\"mode\":\"markers\",\"x\":[0.1430180235673512],\"y\":[0.7485448718070984],\"z\":[0.5977322912707195],\"type\":\"scatter3d\"},{\"marker\":{\"color\":\"magenta\",\"size\":5},\"mode\":\"markers\",\"x\":[-0.3255892404800339],\"y\":[0.45635342597961426],\"z\":[0.3401822065606126],\"type\":\"scatter3d\"},{\"marker\":{\"color\":\"lime\",\"size\":5},\"mode\":\"markers\",\"x\":[0.2281932809742417],\"y\":[0.7782798409461975],\"z\":[0.4982108456780263],\"type\":\"scatter3d\"},{\"marker\":{\"color\":\"magenta\",\"size\":5},\"mode\":\"markers\",\"x\":[-0.3681417037478555],\"y\":[0.48656904697418213],\"z\":[0.22254329805312423],\"type\":\"scatter3d\"},{\"marker\":{\"color\":\"lime\",\"size\":5},\"mode\":\"markers\",\"x\":[-0.11985680136224636],\"y\":[0.51717808842659],\"z\":[0.3594483685173999],\"type\":\"scatter3d\"},{\"marker\":{\"color\":\"magenta\",\"size\":5},\"mode\":\"markers\",\"x\":[-0.46131281729658635],\"y\":[0.4093383550643921],\"z\":[0.3000053364751566],\"type\":\"scatter3d\"},{\"marker\":{\"color\":\"lime\",\"size\":5},\"mode\":\"markers\",\"x\":[0.08365174429239752],\"y\":[0.4870809316635132],\"z\":[0.258853829847963],\"type\":\"scatter3d\"},{\"marker\":{\"color\":\"magenta\",\"size\":5},\"mode\":\"markers\",\"x\":[-0.563596171680368],\"y\":[0.223577618598938],\"z\":[0.20771455017603246],\"type\":\"scatter3d\"},{\"marker\":{\"color\":\"lime\",\"size\":5},\"mode\":\"markers\",\"x\":[-0.15807525955802929],\"y\":[0.6924864947795868],\"z\":[0.11301829584701727],\"type\":\"scatter3d\"},{\"line\":{\"color\":\"silver\",\"width\":5},\"mode\":\"lines\",\"x\":[-0.40296238348454416,0.005540844000431755,-0.11985680136224636,-0.3681417037478555,-0.40296238348454416],\"y\":[0.681035578250885,0.7210554480552673,0.51717808842659,0.48656904697418213,0.681035578250885],\"z\":[0.3749634742724805,0.6717759851619887,0.3594483685173999,0.22254329805312423,0.3749634742724805],\"type\":\"scatter3d\"},{\"line\":{\"color\":\"silver\",\"width\":5},\"mode\":\"lines\",\"x\":[-0.40296238348454416,-0.4201300515532044],\"y\":[0.681035578250885,0.5689667463302612],\"z\":[0.3749634742724805,0.26983563041152436],\"type\":\"scatter3d\"},{\"line\":{\"color\":\"silver\",\"width\":5},\"mode\":\"lines\",\"x\":[-0.3255892404800339,-0.4201300515532044],\"y\":[0.45635342597961426,0.5689667463302612],\"z\":[0.3401822065606126,0.26983563041152436],\"type\":\"scatter3d\"},{\"line\":{\"color\":\"silver\",\"width\":5},\"mode\":\"lines\",\"x\":[0.005540844000431755,0.1430180235673512],\"y\":[0.7210554480552673,0.7485448718070984],\"z\":[0.6717759851619887,0.5977322912707195],\"type\":\"scatter3d\"},{\"line\":{\"color\":\"silver\",\"width\":5},\"mode\":\"lines\",\"x\":[0.2281932809742417,0.1430180235673512],\"y\":[0.7782798409461975,0.7485448718070984],\"z\":[0.4982108456780263,0.5977322912707195],\"type\":\"scatter3d\"},{\"line\":{\"color\":\"silver\",\"width\":5},\"mode\":\"lines\",\"x\":[-0.3681417037478555,-0.46131281729658635],\"y\":[0.48656904697418213,0.4093383550643921],\"z\":[0.22254329805312423,0.3000053364751566],\"type\":\"scatter3d\"},{\"line\":{\"color\":\"silver\",\"width\":5},\"mode\":\"lines\",\"x\":[-0.563596171680368,-0.46131281729658635],\"y\":[0.223577618598938,0.4093383550643921],\"z\":[0.20771455017603246,0.3000053364751566],\"type\":\"scatter3d\"},{\"line\":{\"color\":\"silver\",\"width\":5},\"mode\":\"lines\",\"x\":[-0.11985680136224636,0.08365174429239752],\"y\":[0.51717808842659,0.4870809316635132],\"z\":[0.3594483685173999,0.258853829847963],\"type\":\"scatter3d\"},{\"line\":{\"color\":\"silver\",\"width\":5},\"mode\":\"lines\",\"x\":[-0.15807525955802929,0.08365174429239752],\"y\":[0.6924864947795868,0.4870809316635132],\"z\":[0.11301829584701727,0.258853829847963],\"type\":\"scatter3d\"}],\"name\":\"frame13\"},{\"data\":[{\"marker\":{\"color\":\"black\",\"size\":5},\"mode\":\"markers\",\"x\":[-0.33212055914044625],\"y\":[0.7310750484466552],\"z\":[0.6074241775337632],\"type\":\"scatter3d\"},{\"marker\":{\"color\":\"magenta\",\"size\":5},\"mode\":\"markers\",\"x\":[-0.4619522034269347],\"y\":[0.6810355782508849],\"z\":[0.2992932529995187],\"type\":\"scatter3d\"},{\"marker\":{\"color\":\"lime\",\"size\":5},\"mode\":\"markers\",\"x\":[-0.11119600949392966],\"y\":[0.7210554480552672],\"z\":[0.6625323559383522],\"type\":\"scatter3d\"},{\"marker\":{\"color\":\"magenta\",\"size\":5},\"mode\":\"markers\",\"x\":[-0.4606037975335828],\"y\":[0.5689667463302611],\"z\":[0.19278140303287863],\"type\":\"scatter3d\"},{\"marker\":{\"color\":\"lime\",\"size\":5},\"mode\":\"markers\",\"x\":[0.037050135317771016],\"y\":[0.7485448718070983],\"z\":[0.6134862138351524],\"type\":\"scatter3d\"},{\"marker\":{\"color\":\"magenta\",\"size\":5},\"mode\":\"markers\",\"x\":[-0.37971482856605926],\"y\":[0.4563534259796142],\"z\":[0.27847609618037394],\"type\":\"scatter3d\"},{\"marker\":{\"color\":\"lime\",\"size\":5},\"mode\":\"markers\",\"x\":[0.13821310684283702],\"y\":[0.7782798409461974],\"z\":[0.5302672508555039],\"type\":\"scatter3d\"},{\"marker\":{\"color\":\"magenta\",\"size\":5},\"mode\":\"markers\",\"x\":[-0.40119304221692503],\"y\":[0.4865690469741821],\"z\":[0.15523522932460937],\"type\":\"scatter3d\"},{\"marker\":{\"color\":\"lime\",\"size\":5},\"mode\":\"markers\",\"x\":[-0.180453461391182],\"y\":[0.5171780884265899],\"z\":[0.3331746249859834],\"type\":\"scatter3d\"},{\"marker\":{\"color\":\"magenta\",\"size\":5},\"mode\":\"markers\",\"x\":[-0.5063998190068476],\"y\":[0.40933835506439203],\"z\":[0.21534145124782073],\"type\":\"scatter3d\"},{\"marker\":{\"color\":\"lime\",\"size\":5},\"mode\":\"markers\",\"x\":[0.03743139049694341],\"y\":[0.48708093166351313],\"z\":[0.26944723148621175],\"type\":\"scatter3d\"},{\"marker\":{\"color\":\"magenta\",\"size\":5},\"mode\":\"markers\",\"x\":[-0.5911031325518001],\"y\":[0.22357761859893796],\"z\":[0.1066914512744459],\"type\":\"scatter3d\"},{\"marker\":{\"color\":\"lime\",\"size\":5},\"mode\":\"markers\",\"x\":[-0.17529916228902093],\"y\":[0.6924864947795867],\"z\":[0.08385181322589129],\"type\":\"scatter3d\"},{\"line\":{\"color\":\"silver\",\"width\":5},\"mode\":\"lines\",\"x\":[-0.4619522034269347,-0.11119600949392966,-0.180453461391182,-0.40119304221692503,-0.4619522034269347],\"y\":[0.6810355782508849,0.7210554480552672,0.5171780884265899,0.4865690469741821,0.6810355782508849],\"z\":[0.2992932529995187,0.6625323559383522,0.3331746249859834,0.15523522932460937,0.2992932529995187],\"type\":\"scatter3d\"},{\"line\":{\"color\":\"silver\",\"width\":5},\"mode\":\"lines\",\"x\":[-0.4619522034269347,-0.4606037975335828],\"y\":[0.6810355782508849,0.5689667463302611],\"z\":[0.2992932529995187,0.19278140303287863],\"type\":\"scatter3d\"},{\"line\":{\"color\":\"silver\",\"width\":5},\"mode\":\"lines\",\"x\":[-0.37971482856605926,-0.4606037975335828],\"y\":[0.4563534259796142,0.5689667463302611],\"z\":[0.27847609618037394,0.19278140303287863],\"type\":\"scatter3d\"},{\"line\":{\"color\":\"silver\",\"width\":5},\"mode\":\"lines\",\"x\":[-0.11119600949392966,0.037050135317771016],\"y\":[0.7210554480552672,0.7485448718070983],\"z\":[0.6625323559383522,0.6134862138351524],\"type\":\"scatter3d\"},{\"line\":{\"color\":\"silver\",\"width\":5},\"mode\":\"lines\",\"x\":[0.13821310684283702,0.037050135317771016],\"y\":[0.7782798409461974,0.7485448718070983],\"z\":[0.5302672508555039,0.6134862138351524],\"type\":\"scatter3d\"},{\"line\":{\"color\":\"silver\",\"width\":5},\"mode\":\"lines\",\"x\":[-0.40119304221692503,-0.5063998190068476],\"y\":[0.4865690469741821,0.40933835506439203],\"z\":[0.15523522932460937,0.21534145124782073],\"type\":\"scatter3d\"},{\"line\":{\"color\":\"silver\",\"width\":5},\"mode\":\"lines\",\"x\":[-0.5911031325518001,-0.5063998190068476],\"y\":[0.22357761859893796,0.40933835506439203],\"z\":[0.1066914512744459,0.21534145124782073],\"type\":\"scatter3d\"},{\"line\":{\"color\":\"silver\",\"width\":5},\"mode\":\"lines\",\"x\":[-0.180453461391182,0.03743139049694341],\"y\":[0.5171780884265899,0.48708093166351313],\"z\":[0.3331746249859834,0.26944723148621175],\"type\":\"scatter3d\"},{\"line\":{\"color\":\"silver\",\"width\":5},\"mode\":\"lines\",\"x\":[-0.17529916228902093,0.03743139049694341],\"y\":[0.6924864947795867,0.48708093166351313],\"z\":[0.08385181322589129,0.26944723148621175],\"type\":\"scatter3d\"}],\"name\":\"frame14\"},{\"data\":[{\"marker\":{\"color\":\"black\",\"size\":5},\"mode\":\"markers\",\"x\":[-0.4325530030758333],\"y\":[0.7310750484466553],\"z\":[0.5405239095418534],\"type\":\"scatter3d\"},{\"marker\":{\"color\":\"magenta\",\"size\":5},\"mode\":\"markers\",\"x\":[-0.5069058394272921],\"y\":[0.681035578250885],\"z\":[0.2145291576838598],\"type\":\"scatter3d\"},{\"marker\":{\"color\":\"lime\",\"size\":5},\"mode\":\"markers\",\"x\":[-0.22455422850771425],\"y\":[0.7210554480552673],\"z\":[0.6331580163370776],\"type\":\"scatter3d\"},{\"marker\":{\"color\":\"magenta\",\"size\":5},\"mode\":\"markers\",\"x\":[-0.4870823302026712],\"y\":[0.5689667463302612],\"z\":[0.10986961027517553],\"type\":\"scatter3d\"},{\"marker\":{\"color\":\"lime\",\"size\":5},\"mode\":\"markers\",\"x\":[-0.07004350254516689],\"y\":[0.7485448718070984],\"z\":[0.6105996682312077],\"type\":\"scatter3d\"},{\"marker\":{\"color\":\"magenta\",\"size\":5},\"mode\":\"markers\",\"x\":[-0.4223029737310795],\"y\":[0.45635342597961426],\"z\":[0.2083086305333984],\"type\":\"scatter3d\"},{\"marker\":{\"color\":\"lime\",\"size\":5},\"mode\":\"markers\",\"x\":[0.044033397399219104],\"y\":[0.7782798409461975],\"z\":[0.5462117539439131],\"type\":\"scatter3d\"},{\"marker\":{\"color\":\"magenta\",\"size\":5},\"mode\":\"markers\",\"x\":[-0.42205433311170837],\"y\":[0.48656904697418213],\"z\":[0.08321041670588236],\"type\":\"scatter3d\"},{\"marker\":{\"color\":\"lime\",\"size\":5},\"mode\":\"markers\",\"x\":[-0.2355671343096043],\"y\":[0.51717808842659],\"z\":[0.2967775390688628],\"type\":\"scatter3d\"},{\"marker\":{\"color\":\"magenta\",\"size\":5},\"mode\":\"markers\",\"x\":[-0.5361001184672587],\"y\":[0.4093383550643921],\"z\":[0.12413452499235159],\"type\":\"scatter3d\"},{\"marker\":{\"color\":\"lime\",\"size\":5},\"mode\":\"markers\",\"x\":[-0.009926297157562922],\"y\":[0.4870809316635132],\"z\":[0.2718536153426299],\"type\":\"scatter3d\"},{\"marker\":{\"color\":\"magenta\",\"size\":5},\"mode\":\"markers\",\"x\":[-0.6006497238532633],\"y\":[0.223577618598938],\"z\":[0.0024265866143642345],\"type\":\"scatter3d\"},{\"marker\":{\"color\":\"lime\",\"size\":5},\"mode\":\"markers\",\"x\":[-0.18719668867951697],\"y\":[0.6924864947795868],\"z\":[0.05213753569096133],\"type\":\"scatter3d\"},{\"line\":{\"color\":\"silver\",\"width\":5},\"mode\":\"lines\",\"x\":[-0.5069058394272921,-0.22455422850771425,-0.2355671343096043,-0.42205433311170837,-0.5069058394272921],\"y\":[0.681035578250885,0.7210554480552673,0.51717808842659,0.48656904697418213,0.681035578250885],\"z\":[0.2145291576838598,0.6331580163370776,0.2967775390688628,0.08321041670588236,0.2145291576838598],\"type\":\"scatter3d\"},{\"line\":{\"color\":\"silver\",\"width\":5},\"mode\":\"lines\",\"x\":[-0.5069058394272921,-0.4870823302026712],\"y\":[0.681035578250885,0.5689667463302612],\"z\":[0.2145291576838598,0.10986961027517553],\"type\":\"scatter3d\"},{\"line\":{\"color\":\"silver\",\"width\":5},\"mode\":\"lines\",\"x\":[-0.4223029737310795,-0.4870823302026712],\"y\":[0.45635342597961426,0.5689667463302612],\"z\":[0.2083086305333984,0.10986961027517553],\"type\":\"scatter3d\"},{\"line\":{\"color\":\"silver\",\"width\":5},\"mode\":\"lines\",\"x\":[-0.22455422850771425,-0.07004350254516689],\"y\":[0.7210554480552673,0.7485448718070984],\"z\":[0.6331580163370776,0.6105996682312077],\"type\":\"scatter3d\"},{\"line\":{\"color\":\"silver\",\"width\":5},\"mode\":\"lines\",\"x\":[0.044033397399219104,-0.07004350254516689],\"y\":[0.7782798409461975,0.7485448718070984],\"z\":[0.5462117539439131,0.6105996682312077],\"type\":\"scatter3d\"},{\"line\":{\"color\":\"silver\",\"width\":5},\"mode\":\"lines\",\"x\":[-0.42205433311170837,-0.5361001184672587],\"y\":[0.48656904697418213,0.4093383550643921],\"z\":[0.08321041670588236,0.12413452499235159],\"type\":\"scatter3d\"},{\"line\":{\"color\":\"silver\",\"width\":5},\"mode\":\"lines\",\"x\":[-0.6006497238532633,-0.5361001184672587],\"y\":[0.223577618598938,0.4093383550643921],\"z\":[0.0024265866143642345,0.12413452499235159],\"type\":\"scatter3d\"},{\"line\":{\"color\":\"silver\",\"width\":5},\"mode\":\"lines\",\"x\":[-0.2355671343096043,-0.009926297157562922],\"y\":[0.51717808842659,0.4870809316635132],\"z\":[0.2967775390688628,0.2718536153426299],\"type\":\"scatter3d\"},{\"line\":{\"color\":\"silver\",\"width\":5},\"mode\":\"lines\",\"x\":[-0.18719668867951697,-0.009926297157562922],\"y\":[0.6924864947795868,0.4870809316635132],\"z\":[0.05213753569096133,0.2718536153426299],\"type\":\"scatter3d\"}],\"name\":\"frame15\"},{\"data\":[{\"marker\":{\"color\":\"black\",\"size\":5},\"mode\":\"markers\",\"x\":[-0.5198425428951415],\"y\":[0.7310750484466552],\"z\":[0.4572000960768101],\"type\":\"scatter3d\"},{\"marker\":{\"color\":\"magenta\",\"size\":5},\"mode\":\"markers\",\"x\":[-0.5364573980033824],\"y\":[0.6810355782508849],\"z\":[0.12324670246896888],\"type\":\"scatter3d\"},{\"marker\":{\"color\":\"lime\",\"size\":5},\"mode\":\"markers\",\"x\":[-0.3310894809182139],\"y\":[0.7210554480552672],\"z\":[0.5845454908028163],\"type\":\"scatter3d\"},{\"marker\":{\"color\":\"magenta\",\"size\":5},\"mode\":\"markers\",\"x\":[-0.49876111274410306],\"y\":[0.5689667463302611],\"z\":[0.023619485005966806],\"type\":\"scatter3d\"},{\"marker\":{\"color\":\"lime\",\"size\":5},\"mode\":\"markers\",\"x\":[-0.17500890402699204],\"y\":[0.7485448718070983],\"z\":[0.5891603606863982],\"type\":\"scatter3d\"},{\"marker\":{\"color\":\"magenta\",\"size\":5},\"mode\":\"markers\",\"x\":[-0.45205965673489634],\"y\":[0.4563534259796142],\"z\":[0.13181181255691887],\"type\":\"scatter3d\"},{\"marker\":{\"color\":\"lime\",\"size\":5},\"mode\":\"markers\",\"x\":[-0.05148424454239958],\"y\":[0.7782798409461974],\"z\":[0.5455598892852203],\"type\":\"scatter3d\"},{\"marker\":{\"color\":\"magenta\",\"size\":5},\"mode\":\"markers\",\"x\":[-0.43009171666468987],\"y\":[0.4865690469741821],\"z\":[0.008657297682049842],\"type\":\"scatter3d\"},{\"marker\":{\"color\":\"lime\",\"size\":5},\"mode\":\"markers\",\"x\":[-0.2835232190547506],\"y\":[0.5171780884265899],\"z\":[0.25136301780381576],\"type\":\"scatter3d\"},{\"marker\":{\"color\":\"magenta\",\"size\":5},\"mode\":\"markers\",\"x\":[-0.5495112871077915],\"y\":[0.40933835506439203],\"z\":[0.029155834010090725],\"type\":\"scatter3d\"},{\"marker\":{\"color\":\"lime\",\"size\":5},\"mode\":\"markers\",\"x\":[-0.056982379295885316],\"y\":[0.48708093166351313],\"z\":[0.2659998646614293],\"type\":\"scatter3d\"},{\"marker\":{\"color\":\"magenta\",\"size\":5},\"mode\":\"markers\",\"x\":[-0.5919458772388708],\"y\":[0.22357761859893796],\"z\":[-0.10191200865208241],\"type\":\"scatter3d\"},{\"marker\":{\"color\":\"lime\",\"size\":5},\"mode\":\"markers\",\"x\":[-0.1934063384105809],\"y\":[0.6924864947795867],\"z\":[0.018839085516927645],\"type\":\"scatter3d\"},{\"line\":{\"color\":\"silver\",\"width\":5},\"mode\":\"lines\",\"x\":[-0.5364573980033824,-0.3310894809182139,-0.2835232190547506,-0.43009171666468987,-0.5364573980033824],\"y\":[0.6810355782508849,0.7210554480552672,0.5171780884265899,0.4865690469741821,0.6810355782508849],\"z\":[0.12324670246896888,0.5845454908028163,0.25136301780381576,0.008657297682049842,0.12324670246896888],\"type\":\"scatter3d\"},{\"line\":{\"color\":\"silver\",\"width\":5},\"mode\":\"lines\",\"x\":[-0.5364573980033824,-0.49876111274410306],\"y\":[0.6810355782508849,0.5689667463302611],\"z\":[0.12324670246896888,0.023619485005966806],\"type\":\"scatter3d\"},{\"line\":{\"color\":\"silver\",\"width\":5},\"mode\":\"lines\",\"x\":[-0.45205965673489634,-0.49876111274410306],\"y\":[0.4563534259796142,0.5689667463302611],\"z\":[0.13181181255691887,0.023619485005966806],\"type\":\"scatter3d\"},{\"line\":{\"color\":\"silver\",\"width\":5},\"mode\":\"lines\",\"x\":[-0.3310894809182139,-0.17500890402699204],\"y\":[0.7210554480552672,0.7485448718070983],\"z\":[0.5845454908028163,0.5891603606863982],\"type\":\"scatter3d\"},{\"line\":{\"color\":\"silver\",\"width\":5},\"mode\":\"lines\",\"x\":[-0.05148424454239958,-0.17500890402699204],\"y\":[0.7782798409461974,0.7485448718070983],\"z\":[0.5455598892852203,0.5891603606863982],\"type\":\"scatter3d\"},{\"line\":{\"color\":\"silver\",\"width\":5},\"mode\":\"lines\",\"x\":[-0.43009171666468987,-0.5495112871077915],\"y\":[0.4865690469741821,0.40933835506439203],\"z\":[0.008657297682049842,0.029155834010090725],\"type\":\"scatter3d\"},{\"line\":{\"color\":\"silver\",\"width\":5},\"mode\":\"lines\",\"x\":[-0.5919458772388708,-0.5495112871077915],\"y\":[0.22357761859893796,0.40933835506439203],\"z\":[-0.10191200865208241,0.029155834010090725],\"type\":\"scatter3d\"},{\"line\":{\"color\":\"silver\",\"width\":5},\"mode\":\"lines\",\"x\":[-0.2835232190547506,-0.056982379295885316],\"y\":[0.5171780884265899,0.48708093166351313],\"z\":[0.25136301780381576,0.2659998646614293],\"type\":\"scatter3d\"},{\"line\":{\"color\":\"silver\",\"width\":5},\"mode\":\"lines\",\"x\":[-0.1934063384105809,-0.056982379295885316],\"y\":[0.6924864947795867,0.48708093166351313],\"z\":[0.018839085516927645,0.2659998646614293],\"type\":\"scatter3d\"}],\"name\":\"frame16\"},{\"data\":[{\"marker\":{\"color\":\"black\",\"size\":5},\"mode\":\"markers\",\"x\":[-0.5913369301016004],\"y\":[0.7310750484466553],\"z\":[0.35998448904688457],\"type\":\"scatter3d\"},{\"marker\":{\"color\":\"magenta\",\"size\":5},\"mode\":\"markers\",\"x\":[-0.5497089700016817],\"y\":[0.681035578250885],\"z\":[0.028219458565398745],\"type\":\"scatter3d\"},{\"marker\":{\"color\":\"lime\",\"size\":5},\"mode\":\"markers\",\"x\":[-0.42756474699037517],\"y\":[0.7210554480552673],\"z\":[0.5181718463248021],\"type\":\"scatter3d\"},{\"marker\":{\"color\":\"magenta\",\"size\":5},\"mode\":\"markers\",\"x\":[-0.4952852912601063],\"y\":[0.5689667463302612],\"z\":[-0.06334830636311228],\"type\":\"scatter3d\"},{\"marker\":{\"color\":\"lime\",\"size\":5},\"mode\":\"markers\",\"x\":[-0.2746567485187358],\"y\":[0.7485448718070984],\"z\":[0.5498197137116599],\"type\":\"scatter3d\"},{\"marker\":{\"color\":\"magenta\",\"size\":5},\"mode\":\"markers\",\"x\":[-0.4680807358220474],\"y\":[0.45635342597961426],\"z\":[0.05130995935589271],\"type\":\"scatter3d\"},{\"marker\":{\"color\":\"lime\",\"size\":5},\"mode\":\"markers\",\"x\":[-0.14543756376588246],\"y\":[0.7782798409461975],\"z\":[0.5283314634572205],\"type\":\"scatter3d\"},{\"marker\":{\"color\":\"magenta\",\"size\":5},\"mode\":\"markers\",\"x\":[-0.42506098104372453],\"y\":[0.48656904697418213],\"z\":[-0.06615886895104794],\"type\":\"scatter3d\"},{\"marker\":{\"color\":\"lime\",\"size\":5},\"mode\":\"markers\",\"x\":[-0.3228645942585898],\"y\":[0.51717808842659],\"z\":[0.19831095843862406],\"type\":\"scatter3d\"},{\"marker\":{\"color\":\"magenta\",\"size\":5},\"mode\":\"markers\",\"x\":[-0.5462258333556822],\"y\":[0.4093383550643921],\"z\":[-0.06670874223500309],\"type\":\"scatter3d\"},{\"marker\":{\"color\":\"lime\",\"size\":5},\"mode\":\"markers\",\"x\":[-0.10230708067377756],\"y\":[0.4870809316635132],\"z\":[0.25206384269491733],\"type\":\"scatter3d\"},{\"marker\":{\"color\":\"magenta\",\"size\":5},\"mode\":\"markers\",\"x\":[-0.5652560546836422],\"y\":[0.223577618598938],\"z\":[-0.20315405910560053],\"type\":\"scatter3d\"},{\"marker\":{\"color\":\"lime\",\"size\":5},\"mode\":\"markers\",\"x\":[-0.19373943441736885],\"y\":[0.6924864947795868],\"z\":[-0.015031780737500701],\"type\":\"scatter3d\"},{\"line\":{\"color\":\"silver\",\"width\":5},\"mode\":\"lines\",\"x\":[-0.5497089700016817,-0.42756474699037517,-0.3228645942585898,-0.42506098104372453,-0.5497089700016817],\"y\":[0.681035578250885,0.7210554480552673,0.51717808842659,0.48656904697418213,0.681035578250885],\"z\":[0.028219458565398745,0.5181718463248021,0.19831095843862406,-0.06615886895104794,0.028219458565398745],\"type\":\"scatter3d\"},{\"line\":{\"color\":\"silver\",\"width\":5},\"mode\":\"lines\",\"x\":[-0.5497089700016817,-0.4952852912601063],\"y\":[0.681035578250885,0.5689667463302612],\"z\":[0.028219458565398745,-0.06334830636311228],\"type\":\"scatter3d\"},{\"line\":{\"color\":\"silver\",\"width\":5},\"mode\":\"lines\",\"x\":[-0.4680807358220474,-0.4952852912601063],\"y\":[0.45635342597961426,0.5689667463302612],\"z\":[0.05130995935589271,-0.06334830636311228],\"type\":\"scatter3d\"},{\"line\":{\"color\":\"silver\",\"width\":5},\"mode\":\"lines\",\"x\":[-0.42756474699037517,-0.2746567485187358],\"y\":[0.7210554480552673,0.7485448718070984],\"z\":[0.5181718463248021,0.5498197137116599],\"type\":\"scatter3d\"},{\"line\":{\"color\":\"silver\",\"width\":5},\"mode\":\"lines\",\"x\":[-0.14543756376588246,-0.2746567485187358],\"y\":[0.7782798409461975,0.7485448718070984],\"z\":[0.5283314634572205,0.5498197137116599],\"type\":\"scatter3d\"},{\"line\":{\"color\":\"silver\",\"width\":5},\"mode\":\"lines\",\"x\":[-0.42506098104372453,-0.5462258333556822],\"y\":[0.48656904697418213,0.4093383550643921],\"z\":[-0.06615886895104794,-0.06670874223500309],\"type\":\"scatter3d\"},{\"line\":{\"color\":\"silver\",\"width\":5},\"mode\":\"lines\",\"x\":[-0.5652560546836422,-0.5462258333556822],\"y\":[0.223577618598938,0.4093383550643921],\"z\":[-0.20315405910560053,-0.06670874223500309],\"type\":\"scatter3d\"},{\"line\":{\"color\":\"silver\",\"width\":5},\"mode\":\"lines\",\"x\":[-0.3228645942585898,-0.10230708067377756],\"y\":[0.51717808842659,0.4870809316635132],\"z\":[0.19831095843862406,0.25206384269491733],\"type\":\"scatter3d\"},{\"line\":{\"color\":\"silver\",\"width\":5},\"mode\":\"lines\",\"x\":[-0.19373943441736885,-0.10230708067377756],\"y\":[0.6924864947795868,0.4870809316635132],\"z\":[-0.015031780737500701,0.25206384269491733],\"type\":\"scatter3d\"}],\"name\":\"frame17\"},{\"data\":[{\"marker\":{\"color\":\"black\",\"size\":5},\"mode\":\"markers\",\"x\":[-0.6448638439178467],\"y\":[0.7310750484466553],\"z\":[0.25183093547821045],\"type\":\"scatter3d\"},{\"marker\":{\"color\":\"magenta\",\"size\":5},\"mode\":\"markers\",\"x\":[-0.5462579131126404],\"y\":[0.681035578250885],\"z\":[-0.06766521930694573],\"type\":\"scatter3d\"},{\"marker\":{\"color\":\"lime\",\"size\":5},\"mode\":\"markers\",\"x\":[-0.5110486745834351],\"y\":[0.7210554480552673],\"z\":[0.43605381250381475],\"type\":\"scatter3d\"},{\"marker\":{\"color\":\"magenta\",\"size\":5},\"mode\":\"markers\",\"x\":[-0.4767604768276214],\"y\":[0.5689667463302612],\"z\":[-0.14839129149913774],\"type\":\"scatter3d\"},{\"marker\":{\"color\":\"lime\",\"size\":5},\"mode\":\"markers\",\"x\":[-0.36595928668975825],\"y\":[0.7485448718070984],\"z\":[0.49377307295799255],\"type\":\"scatter3d\"},{\"marker\":{\"color\":\"magenta\",\"size\":5},\"mode\":\"markers\",\"x\":[-0.4698794186115265],\"y\":[0.45635342597961426],\"z\":[-0.030750920996069842],\"type\":\"scatter3d\"},{\"marker\":{\"color\":\"lime\",\"size\":5},\"mode\":\"markers\",\"x\":[-0.23497183620929704],\"y\":[0.7782798409461975],\"z\":[0.49504995346069336],\"type\":\"scatter3d\"},{\"marker\":{\"color\":\"magenta\",\"size\":5},\"mode\":\"markers\",\"x\":[-0.4071149826049804],\"y\":[0.48656904697418213],\"z\":[-0.13896483182907093],\"type\":\"scatter3d\"},{\"marker\":{\"color\":\"lime\",\"size\":5},\"mode\":\"markers\",\"x\":[-0.3523958921432495],\"y\":[0.51717808842659],\"z\":[0.13923332095146185],\"type\":\"scatter3d\"},{\"marker\":{\"color\":\"magenta\",\"size\":5},\"mode\":\"markers\",\"x\":[-0.526343584060669],\"y\":[0.4093383550643921],\"z\":[-0.16054640710353846],\"type\":\"scatter3d\"},{\"marker\":{\"color\":\"lime\",\"size\":5},\"mode\":\"markers\",\"x\":[-0.14452323317527768],\"y\":[0.4870809316635132],\"z\":[0.23046898841857913],\"type\":\"scatter3d\"},{\"marker\":{\"color\":\"magenta\",\"size\":5},\"mode\":\"markers\",\"x\":[-0.5213912129402161],\"y\":[0.223577618598938],\"z\":[-0.29822337627410883],\"type\":\"scatter3d\"},{\"marker\":{\"color\":\"lime\",\"size\":5},\"mode\":\"markers\",\"x\":[-0.1881858557462692],\"y\":[0.6924864947795868],\"z\":[-0.04844591394066808],\"type\":\"scatter3d\"},{\"line\":{\"color\":\"silver\",\"width\":5},\"mode\":\"lines\",\"x\":[-0.5462579131126404,-0.5110486745834351,-0.3523958921432495,-0.4071149826049804,-0.5462579131126404],\"y\":[0.681035578250885,0.7210554480552673,0.51717808842659,0.48656904697418213,0.681035578250885],\"z\":[-0.06766521930694573,0.43605381250381475,0.13923332095146185,-0.13896483182907093,-0.06766521930694573],\"type\":\"scatter3d\"},{\"line\":{\"color\":\"silver\",\"width\":5},\"mode\":\"lines\",\"x\":[-0.5462579131126404,-0.4767604768276214],\"y\":[0.681035578250885,0.5689667463302612],\"z\":[-0.06766521930694573,-0.14839129149913774],\"type\":\"scatter3d\"},{\"line\":{\"color\":\"silver\",\"width\":5},\"mode\":\"lines\",\"x\":[-0.4698794186115265,-0.4767604768276214],\"y\":[0.45635342597961426,0.5689667463302612],\"z\":[-0.030750920996069842,-0.14839129149913774],\"type\":\"scatter3d\"},{\"line\":{\"color\":\"silver\",\"width\":5},\"mode\":\"lines\",\"x\":[-0.5110486745834351,-0.36595928668975825],\"y\":[0.7210554480552673,0.7485448718070984],\"z\":[0.43605381250381475,0.49377307295799255],\"type\":\"scatter3d\"},{\"line\":{\"color\":\"silver\",\"width\":5},\"mode\":\"lines\",\"x\":[-0.23497183620929704,-0.36595928668975825],\"y\":[0.7782798409461975,0.7485448718070984],\"z\":[0.49504995346069336,0.49377307295799255],\"type\":\"scatter3d\"},{\"line\":{\"color\":\"silver\",\"width\":5},\"mode\":\"lines\",\"x\":[-0.4071149826049804,-0.526343584060669],\"y\":[0.48656904697418213,0.4093383550643921],\"z\":[-0.13896483182907093,-0.16054640710353846],\"type\":\"scatter3d\"},{\"line\":{\"color\":\"silver\",\"width\":5},\"mode\":\"lines\",\"x\":[-0.5213912129402161,-0.526343584060669],\"y\":[0.223577618598938,0.4093383550643921],\"z\":[-0.29822337627410883,-0.16054640710353846],\"type\":\"scatter3d\"},{\"line\":{\"color\":\"silver\",\"width\":5},\"mode\":\"lines\",\"x\":[-0.3523958921432495,-0.14452323317527768],\"y\":[0.51717808842659,0.4870809316635132],\"z\":[0.13923332095146185,0.23046898841857913],\"type\":\"scatter3d\"},{\"line\":{\"color\":\"silver\",\"width\":5},\"mode\":\"lines\",\"x\":[-0.1881858557462692,-0.14452323317527768],\"y\":[0.6924864947795868,0.4870809316635132],\"z\":[-0.04844591394066808,0.23046898841857913],\"type\":\"scatter3d\"}],\"name\":\"frame18\"},{\"data\":[{\"marker\":{\"color\":\"black\",\"size\":5},\"mode\":\"markers\",\"x\":[-0.6787968961534995],\"y\":[0.7310750484466553],\"z\":[0.1360256263676328],\"type\":\"scatter3d\"},{\"marker\":{\"color\":\"magenta\",\"size\":5},\"mode\":\"markers\",\"x\":[-0.5262090859535131],\"y\":[0.681035578250885],\"z\":[-0.16149392373090202],\"type\":\"scatter3d\"},{\"marker\":{\"color\":\"lime\",\"size\":5},\"mode\":\"markers\",\"x\":[-0.5790046468023847],\"y\":[0.7210554480552673],\"z\":[0.3406865042437748],\"type\":\"scatter3d\"},{\"marker\":{\"color\":\"magenta\",\"size\":5},\"mode\":\"markers\",\"x\":[-0.4437495365591712],\"y\":[0.5689667463302612],\"z\":[-0.22892548233257876],\"type\":\"scatter3d\"},{\"marker\":{\"color\":\"lime\",\"size\":5},\"mode\":\"markers\",\"x\":[-0.44614233711904705],\"y\":[0.7485448718070984],\"z\":[0.42272338724372743],\"type\":\"scatter3d\"},{\"marker\":{\"color\":\"magenta\",\"size\":5},\"mode\":\"markers\",\"x\":[-0.45740105303695283],\"y\":[0.45635342597961426],\"z\":[-0.11187745017428388],\"type\":\"scatter3d\"},{\"marker\":{\"color\":\"lime\",\"size\":5},\"mode\":\"markers\",\"x\":[-0.3173666083109786],\"y\":[0.7782798409461975],\"z\":[0.4467266011356267],\"type\":\"scatter3d\"},{\"marker\":{\"color\":\"magenta\",\"size\":5},\"mode\":\"markers\",\"x\":[-0.3767990014299053],\"y\":[0.48656904697418213],\"z\":[-0.20754841861156575],\"type\":\"scatter3d\"},{\"marker\":{\"color\":\"lime\",\"size\":5},\"mode\":\"markers\",\"x\":[-0.37121981916606217],\"y\":[0.51717808842659],\"z\":[0.07592514946264925],\"type\":\"scatter3d\"},{\"marker\":{\"color\":\"magenta\",\"size\":5},\"mode\":\"markers\",\"x\":[-0.49046865130667705],\"y\":[0.4093383550643921],\"z\":[-0.24950595063263498],\"type\":\"scatter3d\"},{\"marker\":{\"color\":\"lime\",\"size\":5},\"mode\":\"markers\",\"x\":[-0.18234812036903184],\"y\":[0.4870809316635132],\"z\":[0.20187145055207767],\"type\":\"scatter3d\"},{\"marker\":{\"color\":\"magenta\",\"size\":5},\"mode\":\"markers\",\"x\":[-0.4616841630282856],\"y\":[0.223577618598938],\"z\":[-0.3842313270628384],\"type\":\"scatter3d\"},{\"marker\":{\"color\":\"lime\",\"size\":5},\"mode\":\"markers\",\"x\":[-0.17691434507495696],\"y\":[0.6924864947795868],\"z\":[-0.08038804256356366],\"type\":\"scatter3d\"},{\"line\":{\"color\":\"silver\",\"width\":5},\"mode\":\"lines\",\"x\":[-0.5262090859535131,-0.5790046468023847,-0.37121981916606217,-0.3767990014299053,-0.5262090859535131],\"y\":[0.681035578250885,0.7210554480552673,0.51717808842659,0.48656904697418213,0.681035578250885],\"z\":[-0.16149392373090202,0.3406865042437748,0.07592514946264925,-0.20754841861156575,-0.16149392373090202],\"type\":\"scatter3d\"},{\"line\":{\"color\":\"silver\",\"width\":5},\"mode\":\"lines\",\"x\":[-0.5262090859535131,-0.4437495365591712],\"y\":[0.681035578250885,0.5689667463302612],\"z\":[-0.16149392373090202,-0.22892548233257876],\"type\":\"scatter3d\"},{\"line\":{\"color\":\"silver\",\"width\":5},\"mode\":\"lines\",\"x\":[-0.45740105303695283,-0.4437495365591712],\"y\":[0.45635342597961426,0.5689667463302612],\"z\":[-0.11187745017428388,-0.22892548233257876],\"type\":\"scatter3d\"},{\"line\":{\"color\":\"silver\",\"width\":5},\"mode\":\"lines\",\"x\":[-0.5790046468023847,-0.44614233711904705],\"y\":[0.7210554480552673,0.7485448718070984],\"z\":[0.3406865042437748,0.42272338724372743],\"type\":\"scatter3d\"},{\"line\":{\"color\":\"silver\",\"width\":5},\"mode\":\"lines\",\"x\":[-0.3173666083109786,-0.44614233711904705],\"y\":[0.7782798409461975,0.7485448718070984],\"z\":[0.4467266011356267,0.42272338724372743],\"type\":\"scatter3d\"},{\"line\":{\"color\":\"silver\",\"width\":5},\"mode\":\"lines\",\"x\":[-0.3767990014299053,-0.49046865130667705],\"y\":[0.48656904697418213,0.4093383550643921],\"z\":[-0.20754841861156575,-0.24950595063263498],\"type\":\"scatter3d\"},{\"line\":{\"color\":\"silver\",\"width\":5},\"mode\":\"lines\",\"x\":[-0.4616841630282856,-0.49046865130667705],\"y\":[0.223577618598938,0.4093383550643921],\"z\":[-0.3842313270628384,-0.24950595063263498],\"type\":\"scatter3d\"},{\"line\":{\"color\":\"silver\",\"width\":5},\"mode\":\"lines\",\"x\":[-0.37121981916606217,-0.18234812036903184],\"y\":[0.51717808842659,0.4870809316635132],\"z\":[0.07592514946264925,0.20187145055207767],\"type\":\"scatter3d\"},{\"line\":{\"color\":\"silver\",\"width\":5},\"mode\":\"lines\",\"x\":[-0.17691434507495696,-0.18234812036903184],\"y\":[0.6924864947795868,0.4870809316635132],\"z\":[-0.08038804256356366,0.20187145055207767],\"type\":\"scatter3d\"}],\"name\":\"frame19\"},{\"data\":[{\"marker\":{\"color\":\"black\",\"size\":5},\"mode\":\"markers\",\"x\":[-0.6921050481873311],\"y\":[0.7310750484466552],\"z\":[0.016087247432162943],\"type\":\"scatter3d\"},{\"marker\":{\"color\":\"magenta\",\"size\":5},\"mode\":\"markers\",\"x\":[-0.4901716619923336],\"y\":[0.6810355782508849],\"z\":[-0.25041571700216303],\"type\":\"scatter3d\"},{\"marker\":{\"color\":\"lime\",\"size\":5},\"mode\":\"markers\",\"x\":[-0.6293678558187319],\"y\":[0.7210554480552672],\"z\":[0.23496760894797727],\"type\":\"scatter3d\"},{\"marker\":{\"color\":\"magenta\",\"size\":5},\"mode\":\"markers\",\"x\":[-0.39725549117047065],\"y\":[0.5689667463302611],\"z\":[-0.3025038882272277],\"type\":\"scatter3d\"},{\"marker\":{\"color\":\"lime\",\"size\":5},\"mode\":\"markers\",\"x\":[-0.512769578393889],\"y\":[0.7485448718070983],\"z\":[0.3388294653164169],\"type\":\"scatter3d\"},{\"marker\":{\"color\":\"magenta\",\"size\":5},\"mode\":\"markers\",\"x\":[-0.4310247879219521],\"y\":[0.4563534259796142],\"z\":[-0.1896046396416735],\"type\":\"scatter3d\"},{\"marker\":{\"color\":\"lime\",\"size\":5},\"mode\":\"markers\",\"x\":[-0.39011835661438354],\"y\":[0.7782798409461974],\"z\":[0.3848296870896215],\"type\":\"scatter3d\"},{\"marker\":{\"color\":\"magenta\",\"size\":5},\"mode\":\"markers\",\"x\":[-0.33503417326587726],\"y\":[0.4865690469741821],\"z\":[-0.26982575171911527],\"type\":\"scatter3d\"},{\"marker\":{\"color\":\"lime\",\"size\":5},\"mode\":\"markers\",\"x\":[-0.3787644198298062],\"y\":[0.5171780884265899],\"z\":[0.010310030727393588],\"type\":\"scatter3d\"},{\"marker\":{\"color\":\"magenta\",\"size\":5},\"mode\":\"markers\",\"x\":[-0.43969107677184466],\"y\":[0.40933835506439203],\"z\":[-0.3308843821078616],\"type\":\"scatter3d\"},{\"marker\":{\"color\":\"lime\",\"size\":5},\"mode\":\"markers\",\"x\":[-0.21463245219797394],\"y\":[0.48708093166351313],\"z\":[0.16714015081243422],\"type\":\"scatter3d\"},{\"marker\":{\"color\":\"magenta\",\"size\":5},\"mode\":\"markers\",\"x\":[-0.3879490734461997],\"y\":[0.22357761859893796],\"z\":[-0.45856460340919636],\"type\":\"scatter3d\"},{\"marker\":{\"color\":\"lime\",\"size\":5},\"mode\":\"markers\",\"x\":[-0.16026738155152026],\"y\":[0.6924864947795867],\"z\":[-0.10988762119147757],\"type\":\"scatter3d\"},{\"line\":{\"color\":\"silver\",\"width\":5},\"mode\":\"lines\",\"x\":[-0.4901716619923336,-0.6293678558187319,-0.3787644198298062,-0.33503417326587726,-0.4901716619923336],\"y\":[0.6810355782508849,0.7210554480552672,0.5171780884265899,0.4865690469741821,0.6810355782508849],\"z\":[-0.25041571700216303,0.23496760894797727,0.010310030727393588,-0.26982575171911527,-0.25041571700216303],\"type\":\"scatter3d\"},{\"line\":{\"color\":\"silver\",\"width\":5},\"mode\":\"lines\",\"x\":[-0.4901716619923336,-0.39725549117047065],\"y\":[0.6810355782508849,0.5689667463302611],\"z\":[-0.25041571700216303,-0.3025038882272277],\"type\":\"scatter3d\"},{\"line\":{\"color\":\"silver\",\"width\":5},\"mode\":\"lines\",\"x\":[-0.4310247879219521,-0.39725549117047065],\"y\":[0.4563534259796142,0.5689667463302611],\"z\":[-0.1896046396416735,-0.3025038882272277],\"type\":\"scatter3d\"},{\"line\":{\"color\":\"silver\",\"width\":5},\"mode\":\"lines\",\"x\":[-0.6293678558187319,-0.512769578393889],\"y\":[0.7210554480552672,0.7485448718070983],\"z\":[0.23496760894797727,0.3388294653164169],\"type\":\"scatter3d\"},{\"line\":{\"color\":\"silver\",\"width\":5},\"mode\":\"lines\",\"x\":[-0.39011835661438354,-0.512769578393889],\"y\":[0.7782798409461974,0.7485448718070983],\"z\":[0.3848296870896215,0.3388294653164169],\"type\":\"scatter3d\"},{\"line\":{\"color\":\"silver\",\"width\":5},\"mode\":\"lines\",\"x\":[-0.33503417326587726,-0.43969107677184466],\"y\":[0.4865690469741821,0.40933835506439203],\"z\":[-0.26982575171911527,-0.3308843821078616],\"type\":\"scatter3d\"},{\"line\":{\"color\":\"silver\",\"width\":5},\"mode\":\"lines\",\"x\":[-0.3879490734461997,-0.43969107677184466],\"y\":[0.22357761859893796,0.40933835506439203],\"z\":[-0.45856460340919636,-0.3308843821078616],\"type\":\"scatter3d\"},{\"line\":{\"color\":\"silver\",\"width\":5},\"mode\":\"lines\",\"x\":[-0.3787644198298062,-0.21463245219797394],\"y\":[0.5171780884265899,0.48708093166351313],\"z\":[0.010310030727393588,0.16714015081243422],\"type\":\"scatter3d\"},{\"line\":{\"color\":\"silver\",\"width\":5},\"mode\":\"lines\",\"x\":[-0.16026738155152026,-0.21463245219797394],\"y\":[0.6924864947795867,0.48708093166351313],\"z\":[-0.10988762119147757,0.16714015081243422],\"type\":\"scatter3d\"}],\"name\":\"frame20\"},{\"data\":[{\"marker\":{\"color\":\"black\",\"size\":5},\"mode\":\"markers\",\"x\":[-0.6843839385540437],\"y\":[0.7310750484466554],\"z\":[-0.10433993437599343],\"type\":\"scatter3d\"},{\"marker\":{\"color\":\"magenta\",\"size\":5},\"mode\":\"markers\",\"x\":[-0.4392406201203463],\"y\":[0.6810355782508851],\"z\":[-0.33172875542878066],\"type\":\"scatter3d\"},{\"marker\":{\"color\":\"lime\",\"size\":5},\"mode\":\"markers\",\"x\":[-0.660608041011529],\"y\":[0.7210554480552674],\"z\":[0.12210934175364241],\"type\":\"scatter3d\"},{\"marker\":{\"color\":\"magenta\",\"size\":5},\"mode\":\"markers\",\"x\":[-0.3386910387035334],\"y\":[0.5689667463302613],\"z\":[-0.36689086655244596],\"type\":\"scatter3d\"},{\"marker\":{\"color\":\"lime\",\"size\":5},\"mode\":\"markers\",\"x\":[-0.5638165755031594],\"y\":[0.7485448718070985],\"z\":[0.24464038154144932],\"type\":\"scatter3d\"},{\"marker\":{\"color\":\"magenta\",\"size\":5},\"mode\":\"markers\",\"x\":[-0.3915520527350096],\"y\":[0.45635342597961437],\"z\":[-0.26157078807812817],\"type\":\"scatter3d\"},{\"marker\":{\"color\":\"lime\",\"size\":5},\"mode\":\"markers\",\"x\":[-0.4510165560614743],\"y\":[0.7782798409461977],\"z\":[0.3112399177346159],\"type\":\"scatter3d\"},{\"marker\":{\"color\":\"magenta\",\"size\":5},\"mode\":\"markers\",\"x\":[-0.2830895012826374],\"y\":[0.48656904697418224],\"z\":[-0.3239045658990981],\"type\":\"scatter3d\"},{\"marker\":{\"color\":\"lime\",\"size\":5},\"mode\":\"markers\",\"x\":[-0.3748004552610661],\"y\":[0.5171780884265901],\"z\":[-0.0556183530743868],\"type\":\"scatter3d\"},{\"marker\":{\"color\":\"magenta\",\"size\":5},\"mode\":\"markers\",\"x\":[-0.3755537113637202],\"y\":[0.4093383550643922],\"z\":[-0.4022090590683174],\"type\":\"scatter3d\"},{\"marker\":{\"color\":\"lime\",\"size\":5},\"mode\":\"markers\",\"x\":[-0.24039528557614206],\"y\":[0.4870809316635133],\"z\":[0.1273303821673522],\"type\":\"scatter3d\"},{\"marker\":{\"color\":\"magenta\",\"size\":5},\"mode\":\"markers\",\"x\":[-0.3024263475791544],\"y\":[0.22357761859893804],\"z\":[-0.5189646263258518],\"type\":\"scatter3d\"},{\"marker\":{\"color\":\"lime\",\"size\":5},\"mode\":\"markers\",\"x\":[-0.13875077473884886],\"y\":[0.6924864947795869],\"z\":[-0.1360483200553079],\"type\":\"scatter3d\"},{\"line\":{\"color\":\"silver\",\"width\":5},\"mode\":\"lines\",\"x\":[-0.4392406201203463,-0.660608041011529,-0.3748004552610661,-0.2830895012826374,-0.4392406201203463],\"y\":[0.6810355782508851,0.7210554480552674,0.5171780884265901,0.48656904697418224,0.6810355782508851],\"z\":[-0.33172875542878066,0.12210934175364241,-0.0556183530743868,-0.3239045658990981,-0.33172875542878066],\"type\":\"scatter3d\"},{\"line\":{\"color\":\"silver\",\"width\":5},\"mode\":\"lines\",\"x\":[-0.4392406201203463,-0.3386910387035334],\"y\":[0.6810355782508851,0.5689667463302613],\"z\":[-0.33172875542878066,-0.36689086655244596],\"type\":\"scatter3d\"},{\"line\":{\"color\":\"silver\",\"width\":5},\"mode\":\"lines\",\"x\":[-0.3915520527350096,-0.3386910387035334],\"y\":[0.45635342597961437,0.5689667463302613],\"z\":[-0.26157078807812817,-0.36689086655244596],\"type\":\"scatter3d\"},{\"line\":{\"color\":\"silver\",\"width\":5},\"mode\":\"lines\",\"x\":[-0.660608041011529,-0.5638165755031594],\"y\":[0.7210554480552674,0.7485448718070985],\"z\":[0.12210934175364241,0.24464038154144932],\"type\":\"scatter3d\"},{\"line\":{\"color\":\"silver\",\"width\":5},\"mode\":\"lines\",\"x\":[-0.4510165560614743,-0.5638165755031594],\"y\":[0.7782798409461977,0.7485448718070985],\"z\":[0.3112399177346159,0.24464038154144932],\"type\":\"scatter3d\"},{\"line\":{\"color\":\"silver\",\"width\":5},\"mode\":\"lines\",\"x\":[-0.2830895012826374,-0.3755537113637202],\"y\":[0.48656904697418224,0.4093383550643922],\"z\":[-0.3239045658990981,-0.4022090590683174],\"type\":\"scatter3d\"},{\"line\":{\"color\":\"silver\",\"width\":5},\"mode\":\"lines\",\"x\":[-0.3024263475791544,-0.3755537113637202],\"y\":[0.22357761859893804,0.4093383550643922],\"z\":[-0.5189646263258518,-0.4022090590683174],\"type\":\"scatter3d\"},{\"line\":{\"color\":\"silver\",\"width\":5},\"mode\":\"lines\",\"x\":[-0.3748004552610661,-0.24039528557614206],\"y\":[0.5171780884265901,0.4870809316635133],\"z\":[-0.0556183530743868,0.1273303821673522],\"type\":\"scatter3d\"},{\"line\":{\"color\":\"silver\",\"width\":5},\"mode\":\"lines\",\"x\":[-0.13875077473884886,-0.24039528557614206],\"y\":[0.6924864947795869,0.4870809316635133],\"z\":[-0.1360483200553079,0.1273303821673522],\"type\":\"scatter3d\"}],\"name\":\"frame21\"},{\"data\":[{\"marker\":{\"color\":\"black\",\"size\":5},\"mode\":\"markers\",\"x\":[-0.6558681692627745],\"y\":[0.7310750484466553],\"z\":[-0.2215968000766893],\"type\":\"scatter3d\"},{\"marker\":{\"color\":\"magenta\",\"size\":5},\"mode\":\"markers\",\"x\":[-0.37496347427248056],\"y\":[0.681035578250885],\"z\":[-0.4029623834845443],\"type\":\"scatter3d\"},{\"marker\":{\"color\":\"lime\",\"size\":5},\"mode\":\"markers\",\"x\":[-0.6717759851619889],\"y\":[0.7210554480552673],\"z\":[0.005540844000431755],\"type\":\"scatter3d\"},{\"marker\":{\"color\":\"magenta\",\"size\":5},\"mode\":\"markers\",\"x\":[-0.2698356304115244],\"y\":[0.5689667463302612],\"z\":[-0.4201300515532045],\"type\":\"scatter3d\"},{\"marker\":{\"color\":\"lime\",\"size\":5},\"mode\":\"markers\",\"x\":[-0.5977322912707195],\"y\":[0.7485448718070984],\"z\":[0.1430180235673512],\"type\":\"scatter3d\"},{\"marker\":{\"color\":\"magenta\",\"size\":5},\"mode\":\"markers\",\"x\":[-0.3401822065606126],\"y\":[0.45635342597961426],\"z\":[-0.32558924048003396],\"type\":\"scatter3d\"},{\"marker\":{\"color\":\"lime\",\"size\":5},\"mode\":\"markers\",\"x\":[-0.49821084567802637],\"y\":[0.7782798409461975],\"z\":[0.22819328097424174],\"type\":\"scatter3d\"},{\"marker\":{\"color\":\"magenta\",\"size\":5},\"mode\":\"markers\",\"x\":[-0.22254329805312426],\"y\":[0.48656904697418213],\"z\":[-0.36814170374785554],\"type\":\"scatter3d\"},{\"marker\":{\"color\":\"lime\",\"size\":5},\"mode\":\"markers\",\"x\":[-0.3594483685174],\"y\":[0.51717808842659],\"z\":[-0.1198568013622464],\"type\":\"scatter3d\"},{\"marker\":{\"color\":\"magenta\",\"size\":5},\"mode\":\"markers\",\"x\":[-0.30000533647515665],\"y\":[0.4093383550643921],\"z\":[-0.4613128172965864],\"type\":\"scatter3d\"},{\"marker\":{\"color\":\"lime\",\"size\":5},\"mode\":\"markers\",\"x\":[-0.258853829847963],\"y\":[0.4870809316635132],\"z\":[0.08365174429239751],\"type\":\"scatter3d\"},{\"marker\":{\"color\":\"magenta\",\"size\":5},\"mode\":\"markers\",\"x\":[-0.2077145501760325],\"y\":[0.223577618598938],\"z\":[-0.5635961716803681],\"type\":\"scatter3d\"},{\"marker\":{\"color\":\"lime\",\"size\":5},\"mode\":\"markers\",\"x\":[-0.11301829584701728],\"y\":[0.6924864947795868],\"z\":[-0.1580752595580293],\"type\":\"scatter3d\"},{\"line\":{\"color\":\"silver\",\"width\":5},\"mode\":\"lines\",\"x\":[-0.37496347427248056,-0.6717759851619889,-0.3594483685174,-0.22254329805312426,-0.37496347427248056],\"y\":[0.681035578250885,0.7210554480552673,0.51717808842659,0.48656904697418213,0.681035578250885],\"z\":[-0.4029623834845443,0.005540844000431755,-0.1198568013622464,-0.36814170374785554,-0.4029623834845443],\"type\":\"scatter3d\"},{\"line\":{\"color\":\"silver\",\"width\":5},\"mode\":\"lines\",\"x\":[-0.37496347427248056,-0.2698356304115244],\"y\":[0.681035578250885,0.5689667463302612],\"z\":[-0.4029623834845443,-0.4201300515532045],\"type\":\"scatter3d\"},{\"line\":{\"color\":\"silver\",\"width\":5},\"mode\":\"lines\",\"x\":[-0.3401822065606126,-0.2698356304115244],\"y\":[0.45635342597961426,0.5689667463302612],\"z\":[-0.32558924048003396,-0.4201300515532045],\"type\":\"scatter3d\"},{\"line\":{\"color\":\"silver\",\"width\":5},\"mode\":\"lines\",\"x\":[-0.6717759851619889,-0.5977322912707195],\"y\":[0.7210554480552673,0.7485448718070984],\"z\":[0.005540844000431755,0.1430180235673512],\"type\":\"scatter3d\"},{\"line\":{\"color\":\"silver\",\"width\":5},\"mode\":\"lines\",\"x\":[-0.49821084567802637,-0.5977322912707195],\"y\":[0.7782798409461975,0.7485448718070984],\"z\":[0.22819328097424174,0.1430180235673512],\"type\":\"scatter3d\"},{\"line\":{\"color\":\"silver\",\"width\":5},\"mode\":\"lines\",\"x\":[-0.22254329805312426,-0.30000533647515665],\"y\":[0.48656904697418213,0.4093383550643921],\"z\":[-0.36814170374785554,-0.4613128172965864],\"type\":\"scatter3d\"},{\"line\":{\"color\":\"silver\",\"width\":5},\"mode\":\"lines\",\"x\":[-0.2077145501760325,-0.30000533647515665],\"y\":[0.223577618598938,0.4093383550643921],\"z\":[-0.5635961716803681,-0.4613128172965864],\"type\":\"scatter3d\"},{\"line\":{\"color\":\"silver\",\"width\":5},\"mode\":\"lines\",\"x\":[-0.3594483685174,-0.258853829847963],\"y\":[0.51717808842659,0.4870809316635132],\"z\":[-0.1198568013622464,0.08365174429239751],\"type\":\"scatter3d\"},{\"line\":{\"color\":\"silver\",\"width\":5},\"mode\":\"lines\",\"x\":[-0.11301829584701728,-0.258853829847963],\"y\":[0.6924864947795868,0.4870809316635132],\"z\":[-0.1580752595580293,0.08365174429239751],\"type\":\"scatter3d\"}],\"name\":\"frame22\"},{\"data\":[{\"marker\":{\"color\":\"black\",\"size\":5},\"mode\":\"markers\",\"x\":[-0.6074241775337633],\"y\":[0.7310750484466553],\"z\":[-0.33212055914044636],\"type\":\"scatter3d\"},{\"marker\":{\"color\":\"magenta\",\"size\":5},\"mode\":\"markers\",\"x\":[-0.29929325299951876],\"y\":[0.681035578250885],\"z\":[-0.46195220342693477],\"type\":\"scatter3d\"},{\"marker\":{\"color\":\"lime\",\"size\":5},\"mode\":\"markers\",\"x\":[-0.6625323559383524],\"y\":[0.7210554480552673],\"z\":[-0.11119600949392972],\"type\":\"scatter3d\"},{\"marker\":{\"color\":\"magenta\",\"size\":5},\"mode\":\"markers\",\"x\":[-0.19278140303287866],\"y\":[0.5689667463302612],\"z\":[-0.4606037975335829],\"type\":\"scatter3d\"},{\"marker\":{\"color\":\"lime\",\"size\":5},\"mode\":\"markers\",\"x\":[-0.6134862138351527],\"y\":[0.7485448718070984],\"z\":[0.037050135317771016],\"type\":\"scatter3d\"},{\"marker\":{\"color\":\"magenta\",\"size\":5},\"mode\":\"markers\",\"x\":[-0.278476096180374],\"y\":[0.45635342597961426],\"z\":[-0.3797148285660593],\"type\":\"scatter3d\"},{\"marker\":{\"color\":\"lime\",\"size\":5},\"mode\":\"markers\",\"x\":[-0.530267250855504],\"y\":[0.7782798409461975],\"z\":[0.13821310684283705],\"type\":\"scatter3d\"},{\"marker\":{\"color\":\"magenta\",\"size\":5},\"mode\":\"markers\",\"x\":[-0.15523522932460943],\"y\":[0.48656904697418213],\"z\":[-0.4011930422169251],\"type\":\"scatter3d\"},{\"marker\":{\"color\":\"lime\",\"size\":5},\"mode\":\"markers\",\"x\":[-0.33317462498598344],\"y\":[0.51717808842659],\"z\":[-0.18045346139118207],\"type\":\"scatter3d\"},{\"marker\":{\"color\":\"magenta\",\"size\":5},\"mode\":\"markers\",\"x\":[-0.21534145124782073],\"y\":[0.4093383550643921],\"z\":[-0.5063998190068477],\"type\":\"scatter3d\"},{\"marker\":{\"color\":\"lime\",\"size\":5},\"mode\":\"markers\",\"x\":[-0.26944723148621175],\"y\":[0.4870809316635132],\"z\":[0.037431390496943426],\"type\":\"scatter3d\"},{\"marker\":{\"color\":\"magenta\",\"size\":5},\"mode\":\"markers\",\"x\":[-0.10669145127444593],\"y\":[0.223577618598938],\"z\":[-0.5911031325518001],\"type\":\"scatter3d\"},{\"marker\":{\"color\":\"lime\",\"size\":5},\"mode\":\"markers\",\"x\":[-0.0838518132258913],\"y\":[0.6924864947795868],\"z\":[-0.17529916228902095],\"type\":\"scatter3d\"},{\"line\":{\"color\":\"silver\",\"width\":5},\"mode\":\"lines\",\"x\":[-0.29929325299951876,-0.6625323559383524,-0.33317462498598344,-0.15523522932460943,-0.29929325299951876],\"y\":[0.681035578250885,0.7210554480552673,0.51717808842659,0.48656904697418213,0.681035578250885],\"z\":[-0.46195220342693477,-0.11119600949392972,-0.18045346139118207,-0.4011930422169251,-0.46195220342693477],\"type\":\"scatter3d\"},{\"line\":{\"color\":\"silver\",\"width\":5},\"mode\":\"lines\",\"x\":[-0.29929325299951876,-0.19278140303287866],\"y\":[0.681035578250885,0.5689667463302612],\"z\":[-0.46195220342693477,-0.4606037975335829],\"type\":\"scatter3d\"},{\"line\":{\"color\":\"silver\",\"width\":5},\"mode\":\"lines\",\"x\":[-0.278476096180374,-0.19278140303287866],\"y\":[0.45635342597961426,0.5689667463302612],\"z\":[-0.3797148285660593,-0.4606037975335829],\"type\":\"scatter3d\"},{\"line\":{\"color\":\"silver\",\"width\":5},\"mode\":\"lines\",\"x\":[-0.6625323559383524,-0.6134862138351527],\"y\":[0.7210554480552673,0.7485448718070984],\"z\":[-0.11119600949392972,0.037050135317771016],\"type\":\"scatter3d\"},{\"line\":{\"color\":\"silver\",\"width\":5},\"mode\":\"lines\",\"x\":[-0.530267250855504,-0.6134862138351527],\"y\":[0.7782798409461975,0.7485448718070984],\"z\":[0.13821310684283705,0.037050135317771016],\"type\":\"scatter3d\"},{\"line\":{\"color\":\"silver\",\"width\":5},\"mode\":\"lines\",\"x\":[-0.15523522932460943,-0.21534145124782073],\"y\":[0.48656904697418213,0.4093383550643921],\"z\":[-0.4011930422169251,-0.5063998190068477],\"type\":\"scatter3d\"},{\"line\":{\"color\":\"silver\",\"width\":5},\"mode\":\"lines\",\"x\":[-0.10669145127444593,-0.21534145124782073],\"y\":[0.223577618598938,0.4093383550643921],\"z\":[-0.5911031325518001,-0.5063998190068477],\"type\":\"scatter3d\"},{\"line\":{\"color\":\"silver\",\"width\":5},\"mode\":\"lines\",\"x\":[-0.33317462498598344,-0.26944723148621175],\"y\":[0.51717808842659,0.4870809316635132],\"z\":[-0.18045346139118207,0.037431390496943426],\"type\":\"scatter3d\"},{\"line\":{\"color\":\"silver\",\"width\":5},\"mode\":\"lines\",\"x\":[-0.0838518132258913,-0.26944723148621175],\"y\":[0.6924864947795868,0.4870809316635132],\"z\":[-0.17529916228902095,0.037431390496943426],\"type\":\"scatter3d\"}],\"name\":\"frame23\"},{\"data\":[{\"marker\":{\"color\":\"black\",\"size\":5},\"mode\":\"markers\",\"x\":[-0.5405239095418537],\"y\":[0.7310750484466553],\"z\":[-0.432553003075833],\"type\":\"scatter3d\"},{\"marker\":{\"color\":\"magenta\",\"size\":5},\"mode\":\"markers\",\"x\":[-0.21452915768386016],\"y\":[0.681035578250885],\"z\":[-0.5069058394272921],\"type\":\"scatter3d\"},{\"marker\":{\"color\":\"lime\",\"size\":5},\"mode\":\"markers\",\"x\":[-0.6331580163370778],\"y\":[0.7210554480552673],\"z\":[-0.22455422850771387],\"type\":\"scatter3d\"},{\"marker\":{\"color\":\"magenta\",\"size\":5},\"mode\":\"markers\",\"x\":[-0.10986961027517586],\"y\":[0.5689667463302612],\"z\":[-0.4870823302026713],\"type\":\"scatter3d\"},{\"marker\":{\"color\":\"lime\",\"size\":5},\"mode\":\"markers\",\"x\":[-0.6105996682312078],\"y\":[0.7485448718070984],\"z\":[-0.07004350254516648],\"type\":\"scatter3d\"},{\"marker\":{\"color\":\"magenta\",\"size\":5},\"mode\":\"markers\",\"x\":[-0.20830863053339868],\"y\":[0.45635342597961426],\"z\":[-0.4223029737310794],\"type\":\"scatter3d\"},{\"marker\":{\"color\":\"lime\",\"size\":5},\"mode\":\"markers\",\"x\":[-0.5462117539439131],\"y\":[0.7782798409461975],\"z\":[0.044033397399219465],\"type\":\"scatter3d\"},{\"marker\":{\"color\":\"magenta\",\"size\":5},\"mode\":\"markers\",\"x\":[-0.08321041670588264],\"y\":[0.48656904697418213],\"z\":[-0.42205433311170837],\"type\":\"scatter3d\"},{\"marker\":{\"color\":\"lime\",\"size\":5},\"mode\":\"markers\",\"x\":[-0.29677753906886295],\"y\":[0.51717808842659],\"z\":[-0.2355671343096041],\"type\":\"scatter3d\"},{\"marker\":{\"color\":\"magenta\",\"size\":5},\"mode\":\"markers\",\"x\":[-0.12413452499235197],\"y\":[0.4093383550643921],\"z\":[-0.5361001184672587],\"type\":\"scatter3d\"},{\"marker\":{\"color\":\"lime\",\"size\":5},\"mode\":\"markers\",\"x\":[-0.27185361534263],\"y\":[0.4870809316635132],\"z\":[-0.009926297157562755],\"type\":\"scatter3d\"},{\"marker\":{\"color\":\"magenta\",\"size\":5},\"mode\":\"markers\",\"x\":[-0.002426586614364623],\"y\":[0.223577618598938],\"z\":[-0.6006497238532633],\"type\":\"scatter3d\"},{\"marker\":{\"color\":\"lime\",\"size\":5},\"mode\":\"markers\",\"x\":[-0.05213753569096146],\"y\":[0.6924864947795868],\"z\":[-0.18719668867951697],\"type\":\"scatter3d\"},{\"line\":{\"color\":\"silver\",\"width\":5},\"mode\":\"lines\",\"x\":[-0.21452915768386016,-0.6331580163370778,-0.29677753906886295,-0.08321041670588264,-0.21452915768386016],\"y\":[0.681035578250885,0.7210554480552673,0.51717808842659,0.48656904697418213,0.681035578250885],\"z\":[-0.5069058394272921,-0.22455422850771387,-0.2355671343096041,-0.42205433311170837,-0.5069058394272921],\"type\":\"scatter3d\"},{\"line\":{\"color\":\"silver\",\"width\":5},\"mode\":\"lines\",\"x\":[-0.21452915768386016,-0.10986961027517586],\"y\":[0.681035578250885,0.5689667463302612],\"z\":[-0.5069058394272921,-0.4870823302026713],\"type\":\"scatter3d\"},{\"line\":{\"color\":\"silver\",\"width\":5},\"mode\":\"lines\",\"x\":[-0.20830863053339868,-0.10986961027517586],\"y\":[0.45635342597961426,0.5689667463302612],\"z\":[-0.4223029737310794,-0.4870823302026713],\"type\":\"scatter3d\"},{\"line\":{\"color\":\"silver\",\"width\":5},\"mode\":\"lines\",\"x\":[-0.6331580163370778,-0.6105996682312078],\"y\":[0.7210554480552673,0.7485448718070984],\"z\":[-0.22455422850771387,-0.07004350254516648],\"type\":\"scatter3d\"},{\"line\":{\"color\":\"silver\",\"width\":5},\"mode\":\"lines\",\"x\":[-0.5462117539439131,-0.6105996682312078],\"y\":[0.7782798409461975,0.7485448718070984],\"z\":[0.044033397399219465,-0.07004350254516648],\"type\":\"scatter3d\"},{\"line\":{\"color\":\"silver\",\"width\":5},\"mode\":\"lines\",\"x\":[-0.08321041670588264,-0.12413452499235197],\"y\":[0.48656904697418213,0.4093383550643921],\"z\":[-0.42205433311170837,-0.5361001184672587],\"type\":\"scatter3d\"},{\"line\":{\"color\":\"silver\",\"width\":5},\"mode\":\"lines\",\"x\":[-0.002426586614364623,-0.12413452499235197],\"y\":[0.223577618598938,0.4093383550643921],\"z\":[-0.6006497238532633,-0.5361001184672587],\"type\":\"scatter3d\"},{\"line\":{\"color\":\"silver\",\"width\":5},\"mode\":\"lines\",\"x\":[-0.29677753906886295,-0.27185361534263],\"y\":[0.51717808842659,0.4870809316635132],\"z\":[-0.2355671343096041,-0.009926297157562755],\"type\":\"scatter3d\"},{\"line\":{\"color\":\"silver\",\"width\":5},\"mode\":\"lines\",\"x\":[-0.05213753569096146,-0.27185361534263],\"y\":[0.6924864947795868,0.4870809316635132],\"z\":[-0.18719668867951697,-0.009926297157562755],\"type\":\"scatter3d\"}],\"name\":\"frame24\"},{\"data\":[{\"marker\":{\"color\":\"black\",\"size\":5},\"mode\":\"markers\",\"x\":[-0.45720009607681006],\"y\":[0.7310750484466553],\"z\":[-0.5198425428951416],\"type\":\"scatter3d\"},{\"marker\":{\"color\":\"magenta\",\"size\":5},\"mode\":\"markers\",\"x\":[-0.12324670246896872],\"y\":[0.681035578250885],\"z\":[-0.5364573980033827],\"type\":\"scatter3d\"},{\"marker\":{\"color\":\"lime\",\"size\":5},\"mode\":\"markers\",\"x\":[-0.5845454908028163],\"y\":[0.7210554480552673],\"z\":[-0.3310894809182141],\"type\":\"scatter3d\"},{\"marker\":{\"color\":\"magenta\",\"size\":5},\"mode\":\"markers\",\"x\":[-0.023619485005966667],\"y\":[0.5689667463302612],\"z\":[-0.4987611127441032],\"type\":\"scatter3d\"},{\"marker\":{\"color\":\"lime\",\"size\":5},\"mode\":\"markers\",\"x\":[-0.5891603606863982],\"y\":[0.7485448718070984],\"z\":[-0.1750089040269922],\"type\":\"scatter3d\"},{\"marker\":{\"color\":\"magenta\",\"size\":5},\"mode\":\"markers\",\"x\":[-0.1318118125569188],\"y\":[0.45635342597961426],\"z\":[-0.45205965673489645],\"type\":\"scatter3d\"},{\"marker\":{\"color\":\"lime\",\"size\":5},\"mode\":\"markers\",\"x\":[-0.5455598892852203],\"y\":[0.7782798409461975],\"z\":[-0.05148424454239972],\"type\":\"scatter3d\"},{\"marker\":{\"color\":\"magenta\",\"size\":5},\"mode\":\"markers\",\"x\":[-0.00865729768204973],\"y\":[0.48656904697418213],\"z\":[-0.43009171666468987],\"type\":\"scatter3d\"},{\"marker\":{\"color\":\"lime\",\"size\":5},\"mode\":\"markers\",\"x\":[-0.25136301780381576],\"y\":[0.51717808842659],\"z\":[-0.2835232190547507],\"type\":\"scatter3d\"},{\"marker\":{\"color\":\"magenta\",\"size\":5},\"mode\":\"markers\",\"x\":[-0.029155834010090587],\"y\":[0.4093383550643921],\"z\":[-0.5495112871077915],\"type\":\"scatter3d\"},{\"marker\":{\"color\":\"lime\",\"size\":5},\"mode\":\"markers\",\"x\":[-0.26599986466142933],\"y\":[0.4870809316635132],\"z\":[-0.056982379295885385],\"type\":\"scatter3d\"},{\"marker\":{\"color\":\"magenta\",\"size\":5},\"mode\":\"markers\",\"x\":[0.10191200865208264],\"y\":[0.223577618598938],\"z\":[-0.5919458772388708],\"type\":\"scatter3d\"},{\"marker\":{\"color\":\"lime\",\"size\":5},\"mode\":\"markers\",\"x\":[-0.018839085516927596],\"y\":[0.6924864947795868],\"z\":[-0.19340633841058094],\"type\":\"scatter3d\"},{\"line\":{\"color\":\"silver\",\"width\":5},\"mode\":\"lines\",\"x\":[-0.12324670246896872,-0.5845454908028163,-0.25136301780381576,-0.00865729768204973,-0.12324670246896872],\"y\":[0.681035578250885,0.7210554480552673,0.51717808842659,0.48656904697418213,0.681035578250885],\"z\":[-0.5364573980033827,-0.3310894809182141,-0.2835232190547507,-0.43009171666468987,-0.5364573980033827],\"type\":\"scatter3d\"},{\"line\":{\"color\":\"silver\",\"width\":5},\"mode\":\"lines\",\"x\":[-0.12324670246896872,-0.023619485005966667],\"y\":[0.681035578250885,0.5689667463302612],\"z\":[-0.5364573980033827,-0.4987611127441032],\"type\":\"scatter3d\"},{\"line\":{\"color\":\"silver\",\"width\":5},\"mode\":\"lines\",\"x\":[-0.1318118125569188,-0.023619485005966667],\"y\":[0.45635342597961426,0.5689667463302612],\"z\":[-0.45205965673489645,-0.4987611127441032],\"type\":\"scatter3d\"},{\"line\":{\"color\":\"silver\",\"width\":5},\"mode\":\"lines\",\"x\":[-0.5845454908028163,-0.5891603606863982],\"y\":[0.7210554480552673,0.7485448718070984],\"z\":[-0.3310894809182141,-0.1750089040269922],\"type\":\"scatter3d\"},{\"line\":{\"color\":\"silver\",\"width\":5},\"mode\":\"lines\",\"x\":[-0.5455598892852203,-0.5891603606863982],\"y\":[0.7782798409461975,0.7485448718070984],\"z\":[-0.05148424454239972,-0.1750089040269922],\"type\":\"scatter3d\"},{\"line\":{\"color\":\"silver\",\"width\":5},\"mode\":\"lines\",\"x\":[-0.00865729768204973,-0.029155834010090587],\"y\":[0.48656904697418213,0.4093383550643921],\"z\":[-0.43009171666468987,-0.5495112871077915],\"type\":\"scatter3d\"},{\"line\":{\"color\":\"silver\",\"width\":5},\"mode\":\"lines\",\"x\":[0.10191200865208264,-0.029155834010090587],\"y\":[0.223577618598938,0.4093383550643921],\"z\":[-0.5919458772388708,-0.5495112871077915],\"type\":\"scatter3d\"},{\"line\":{\"color\":\"silver\",\"width\":5},\"mode\":\"lines\",\"x\":[-0.25136301780381576,-0.26599986466142933],\"y\":[0.51717808842659,0.4870809316635132],\"z\":[-0.2835232190547507,-0.056982379295885385],\"type\":\"scatter3d\"},{\"line\":{\"color\":\"silver\",\"width\":5},\"mode\":\"lines\",\"x\":[-0.018839085516927596,-0.26599986466142933],\"y\":[0.6924864947795868,0.4870809316635132],\"z\":[-0.19340633841058094,-0.056982379295885385],\"type\":\"scatter3d\"}],\"name\":\"frame25\"},{\"data\":[{\"marker\":{\"color\":\"black\",\"size\":5},\"mode\":\"markers\",\"x\":[-0.3599844890468846],\"y\":[0.7310750484466552],\"z\":[-0.5913369301016002],\"type\":\"scatter3d\"},{\"marker\":{\"color\":\"magenta\",\"size\":5},\"mode\":\"markers\",\"x\":[-0.028219458565398856],\"y\":[0.6810355782508849],\"z\":[-0.5497089700016816],\"type\":\"scatter3d\"},{\"marker\":{\"color\":\"lime\",\"size\":5},\"mode\":\"markers\",\"x\":[-0.518171846324802],\"y\":[0.7210554480552672],\"z\":[-0.427564746990375],\"type\":\"scatter3d\"},{\"marker\":{\"color\":\"magenta\",\"size\":5},\"mode\":\"markers\",\"x\":[0.06334830636311217],\"y\":[0.5689667463302611],\"z\":[-0.4952852912601062],\"type\":\"scatter3d\"},{\"marker\":{\"color\":\"lime\",\"size\":5},\"mode\":\"markers\",\"x\":[-0.5498197137116598],\"y\":[0.7485448718070983],\"z\":[-0.2746567485187356],\"type\":\"scatter3d\"},{\"marker\":{\"color\":\"magenta\",\"size\":5},\"mode\":\"markers\",\"x\":[-0.05130995935589279],\"y\":[0.4563534259796142],\"z\":[-0.4680807358220473],\"type\":\"scatter3d\"},{\"marker\":{\"color\":\"lime\",\"size\":5},\"mode\":\"markers\",\"x\":[-0.5283314634572204],\"y\":[0.7782798409461974],\"z\":[-0.14543756376588232],\"type\":\"scatter3d\"},{\"marker\":{\"color\":\"magenta\",\"size\":5},\"mode\":\"markers\",\"x\":[0.06615886895104782],\"y\":[0.4865690469741821],\"z\":[-0.42506098104372453],\"type\":\"scatter3d\"},{\"marker\":{\"color\":\"lime\",\"size\":5},\"mode\":\"markers\",\"x\":[-0.19831095843862412],\"y\":[0.5171780884265899],\"z\":[-0.32286459425858977],\"type\":\"scatter3d\"},{\"marker\":{\"color\":\"magenta\",\"size\":5},\"mode\":\"markers\",\"x\":[0.06670874223500298],\"y\":[0.40933835506439203],\"z\":[-0.5462258333556822],\"type\":\"scatter3d\"},{\"marker\":{\"color\":\"lime\",\"size\":5},\"mode\":\"markers\",\"x\":[-0.2520638426949173],\"y\":[0.48708093166351313],\"z\":[-0.10230708067377746],\"type\":\"scatter3d\"},{\"marker\":{\"color\":\"magenta\",\"size\":5},\"mode\":\"markers\",\"x\":[0.20315405910560036],\"y\":[0.22357761859893796],\"z\":[-0.565256054683642],\"type\":\"scatter3d\"},{\"marker\":{\"color\":\"lime\",\"size\":5},\"mode\":\"markers\",\"x\":[0.01503178073750066],\"y\":[0.6924864947795867],\"z\":[-0.19373943441736882],\"type\":\"scatter3d\"},{\"line\":{\"color\":\"silver\",\"width\":5},\"mode\":\"lines\",\"x\":[-0.028219458565398856,-0.518171846324802,-0.19831095843862412,0.06615886895104782,-0.028219458565398856],\"y\":[0.6810355782508849,0.7210554480552672,0.5171780884265899,0.4865690469741821,0.6810355782508849],\"z\":[-0.5497089700016816,-0.427564746990375,-0.32286459425858977,-0.42506098104372453,-0.5497089700016816],\"type\":\"scatter3d\"},{\"line\":{\"color\":\"silver\",\"width\":5},\"mode\":\"lines\",\"x\":[-0.028219458565398856,0.06334830636311217],\"y\":[0.6810355782508849,0.5689667463302611],\"z\":[-0.5497089700016816,-0.4952852912601062],\"type\":\"scatter3d\"},{\"line\":{\"color\":\"silver\",\"width\":5},\"mode\":\"lines\",\"x\":[-0.05130995935589279,0.06334830636311217],\"y\":[0.4563534259796142,0.5689667463302611],\"z\":[-0.4680807358220473,-0.4952852912601062],\"type\":\"scatter3d\"},{\"line\":{\"color\":\"silver\",\"width\":5},\"mode\":\"lines\",\"x\":[-0.518171846324802,-0.5498197137116598],\"y\":[0.7210554480552672,0.7485448718070983],\"z\":[-0.427564746990375,-0.2746567485187356],\"type\":\"scatter3d\"},{\"line\":{\"color\":\"silver\",\"width\":5},\"mode\":\"lines\",\"x\":[-0.5283314634572204,-0.5498197137116598],\"y\":[0.7782798409461974,0.7485448718070983],\"z\":[-0.14543756376588232,-0.2746567485187356],\"type\":\"scatter3d\"},{\"line\":{\"color\":\"silver\",\"width\":5},\"mode\":\"lines\",\"x\":[0.06615886895104782,0.06670874223500298],\"y\":[0.4865690469741821,0.40933835506439203],\"z\":[-0.42506098104372453,-0.5462258333556822],\"type\":\"scatter3d\"},{\"line\":{\"color\":\"silver\",\"width\":5},\"mode\":\"lines\",\"x\":[0.20315405910560036,0.06670874223500298],\"y\":[0.22357761859893796,0.40933835506439203],\"z\":[-0.565256054683642,-0.5462258333556822],\"type\":\"scatter3d\"},{\"line\":{\"color\":\"silver\",\"width\":5},\"mode\":\"lines\",\"x\":[-0.19831095843862412,-0.2520638426949173],\"y\":[0.5171780884265899,0.48708093166351313],\"z\":[-0.32286459425858977,-0.10230708067377746],\"type\":\"scatter3d\"},{\"line\":{\"color\":\"silver\",\"width\":5},\"mode\":\"lines\",\"x\":[0.01503178073750066,-0.2520638426949173],\"y\":[0.6924864947795867,0.48708093166351313],\"z\":[-0.19373943441736882,-0.10230708067377746],\"type\":\"scatter3d\"}],\"name\":\"frame26\"},{\"data\":[{\"marker\":{\"color\":\"black\",\"size\":5},\"mode\":\"markers\",\"x\":[-0.25183093547821056],\"y\":[0.7310750484466553],\"z\":[-0.6448638439178466],\"type\":\"scatter3d\"},{\"marker\":{\"color\":\"magenta\",\"size\":5},\"mode\":\"markers\",\"x\":[0.06766521930694568],\"y\":[0.681035578250885],\"z\":[-0.5462579131126404],\"type\":\"scatter3d\"},{\"marker\":{\"color\":\"lime\",\"size\":5},\"mode\":\"markers\",\"x\":[-0.4360538125038148],\"y\":[0.7210554480552673],\"z\":[-0.511048674583435],\"type\":\"scatter3d\"},{\"marker\":{\"color\":\"magenta\",\"size\":5},\"mode\":\"markers\",\"x\":[0.14839129149913768],\"y\":[0.5689667463302612],\"z\":[-0.47676047682762146],\"type\":\"scatter3d\"},{\"marker\":{\"color\":\"lime\",\"size\":5},\"mode\":\"markers\",\"x\":[-0.49377307295799255],\"y\":[0.7485448718070984],\"z\":[-0.3659592866897582],\"type\":\"scatter3d\"},{\"marker\":{\"color\":\"magenta\",\"size\":5},\"mode\":\"markers\",\"x\":[0.030750920996069797],\"y\":[0.45635342597961426],\"z\":[-0.4698794186115265],\"type\":\"scatter3d\"},{\"marker\":{\"color\":\"lime\",\"size\":5},\"mode\":\"markers\",\"x\":[-0.49504995346069336],\"y\":[0.7782798409461975],\"z\":[-0.23497183620929699],\"type\":\"scatter3d\"},{\"marker\":{\"color\":\"magenta\",\"size\":5},\"mode\":\"markers\",\"x\":[0.1389648318290709],\"y\":[0.48656904697418213],\"z\":[-0.40711498260498047],\"type\":\"scatter3d\"},{\"marker\":{\"color\":\"lime\",\"size\":5},\"mode\":\"markers\",\"x\":[-0.13923332095146188],\"y\":[0.51717808842659],\"z\":[-0.35239589214324946],\"type\":\"scatter3d\"},{\"marker\":{\"color\":\"magenta\",\"size\":5},\"mode\":\"markers\",\"x\":[0.1605464071035384],\"y\":[0.4093383550643921],\"z\":[-0.526343584060669],\"type\":\"scatter3d\"},{\"marker\":{\"color\":\"lime\",\"size\":5},\"mode\":\"markers\",\"x\":[-0.23046898841857913],\"y\":[0.4870809316635132],\"z\":[-0.14452323317527765],\"type\":\"scatter3d\"},{\"marker\":{\"color\":\"magenta\",\"size\":5},\"mode\":\"markers\",\"x\":[0.2982233762741088],\"y\":[0.223577618598938],\"z\":[-0.5213912129402162],\"type\":\"scatter3d\"},{\"marker\":{\"color\":\"lime\",\"size\":5},\"mode\":\"markers\",\"x\":[0.04844591394066806],\"y\":[0.6924864947795868],\"z\":[-0.1881858557462692],\"type\":\"scatter3d\"},{\"line\":{\"color\":\"silver\",\"width\":5},\"mode\":\"lines\",\"x\":[0.06766521930694568,-0.4360538125038148,-0.13923332095146188,0.1389648318290709,0.06766521930694568],\"y\":[0.681035578250885,0.7210554480552673,0.51717808842659,0.48656904697418213,0.681035578250885],\"z\":[-0.5462579131126404,-0.511048674583435,-0.35239589214324946,-0.40711498260498047,-0.5462579131126404],\"type\":\"scatter3d\"},{\"line\":{\"color\":\"silver\",\"width\":5},\"mode\":\"lines\",\"x\":[0.06766521930694568,0.14839129149913768],\"y\":[0.681035578250885,0.5689667463302612],\"z\":[-0.5462579131126404,-0.47676047682762146],\"type\":\"scatter3d\"},{\"line\":{\"color\":\"silver\",\"width\":5},\"mode\":\"lines\",\"x\":[0.030750920996069797,0.14839129149913768],\"y\":[0.45635342597961426,0.5689667463302612],\"z\":[-0.4698794186115265,-0.47676047682762146],\"type\":\"scatter3d\"},{\"line\":{\"color\":\"silver\",\"width\":5},\"mode\":\"lines\",\"x\":[-0.4360538125038148,-0.49377307295799255],\"y\":[0.7210554480552673,0.7485448718070984],\"z\":[-0.511048674583435,-0.3659592866897582],\"type\":\"scatter3d\"},{\"line\":{\"color\":\"silver\",\"width\":5},\"mode\":\"lines\",\"x\":[-0.49504995346069336,-0.49377307295799255],\"y\":[0.7782798409461975,0.7485448718070984],\"z\":[-0.23497183620929699,-0.3659592866897582],\"type\":\"scatter3d\"},{\"line\":{\"color\":\"silver\",\"width\":5},\"mode\":\"lines\",\"x\":[0.1389648318290709,0.1605464071035384],\"y\":[0.48656904697418213,0.4093383550643921],\"z\":[-0.40711498260498047,-0.526343584060669],\"type\":\"scatter3d\"},{\"line\":{\"color\":\"silver\",\"width\":5},\"mode\":\"lines\",\"x\":[0.2982233762741088,0.1605464071035384],\"y\":[0.223577618598938,0.4093383550643921],\"z\":[-0.5213912129402162,-0.526343584060669],\"type\":\"scatter3d\"},{\"line\":{\"color\":\"silver\",\"width\":5},\"mode\":\"lines\",\"x\":[-0.13923332095146188,-0.23046898841857913],\"y\":[0.51717808842659,0.4870809316635132],\"z\":[-0.35239589214324946,-0.14452323317527765],\"type\":\"scatter3d\"},{\"line\":{\"color\":\"silver\",\"width\":5},\"mode\":\"lines\",\"x\":[0.04844591394066806,-0.23046898841857913],\"y\":[0.6924864947795868,0.4870809316635132],\"z\":[-0.1881858557462692,-0.14452323317527765],\"type\":\"scatter3d\"}],\"name\":\"frame27\"},{\"data\":[{\"marker\":{\"color\":\"black\",\"size\":5},\"mode\":\"markers\",\"x\":[-0.13602562636763316],\"y\":[0.7310750484466553],\"z\":[-0.6787968961534994],\"type\":\"scatter3d\"},{\"marker\":{\"color\":\"magenta\",\"size\":5},\"mode\":\"markers\",\"x\":[0.1614939237309017],\"y\":[0.681035578250885],\"z\":[-0.5262090859535131],\"type\":\"scatter3d\"},{\"marker\":{\"color\":\"lime\",\"size\":5},\"mode\":\"markers\",\"x\":[-0.3406865042437751],\"y\":[0.7210554480552673],\"z\":[-0.5790046468023844],\"type\":\"scatter3d\"},{\"marker\":{\"color\":\"magenta\",\"size\":5},\"mode\":\"markers\",\"x\":[0.22892548233257848],\"y\":[0.5689667463302612],\"z\":[-0.44374953655917126],\"type\":\"scatter3d\"},{\"marker\":{\"color\":\"lime\",\"size\":5},\"mode\":\"markers\",\"x\":[-0.4227233872437276],\"y\":[0.7485448718070984],\"z\":[-0.4461423371190468],\"type\":\"scatter3d\"},{\"marker\":{\"color\":\"magenta\",\"size\":5},\"mode\":\"markers\",\"x\":[0.11187745017428363],\"y\":[0.45635342597961426],\"z\":[-0.45740105303695283],\"type\":\"scatter3d\"},{\"marker\":{\"color\":\"lime\",\"size\":5},\"mode\":\"markers\",\"x\":[-0.4467266011356268],\"y\":[0.7782798409461975],\"z\":[-0.31736660831097835],\"type\":\"scatter3d\"},{\"marker\":{\"color\":\"magenta\",\"size\":5},\"mode\":\"markers\",\"x\":[0.20754841861156553],\"y\":[0.48656904697418213],\"z\":[-0.3767990014299054],\"type\":\"scatter3d\"},{\"marker\":{\"color\":\"lime\",\"size\":5},\"mode\":\"markers\",\"x\":[-0.07592514946264944],\"y\":[0.51717808842659],\"z\":[-0.3712198191660621],\"type\":\"scatter3d\"},{\"marker\":{\"color\":\"magenta\",\"size\":5},\"mode\":\"markers\",\"x\":[0.24950595063263467],\"y\":[0.4093383550643921],\"z\":[-0.49046865130667716],\"type\":\"scatter3d\"},{\"marker\":{\"color\":\"lime\",\"size\":5},\"mode\":\"markers\",\"x\":[-0.20187145055207772],\"y\":[0.4870809316635132],\"z\":[-0.1823481203690317],\"type\":\"scatter3d\"},{\"marker\":{\"color\":\"magenta\",\"size\":5},\"mode\":\"markers\",\"x\":[0.38423132706283813],\"y\":[0.223577618598938],\"z\":[-0.46168416302828574],\"type\":\"scatter3d\"},{\"marker\":{\"color\":\"lime\",\"size\":5},\"mode\":\"markers\",\"x\":[0.08038804256356356],\"y\":[0.6924864947795868],\"z\":[-0.17691434507495699],\"type\":\"scatter3d\"},{\"line\":{\"color\":\"silver\",\"width\":5},\"mode\":\"lines\",\"x\":[0.1614939237309017,-0.3406865042437751,-0.07592514946264944,0.20754841861156553,0.1614939237309017],\"y\":[0.681035578250885,0.7210554480552673,0.51717808842659,0.48656904697418213,0.681035578250885],\"z\":[-0.5262090859535131,-0.5790046468023844,-0.3712198191660621,-0.3767990014299054,-0.5262090859535131],\"type\":\"scatter3d\"},{\"line\":{\"color\":\"silver\",\"width\":5},\"mode\":\"lines\",\"x\":[0.1614939237309017,0.22892548233257848],\"y\":[0.681035578250885,0.5689667463302612],\"z\":[-0.5262090859535131,-0.44374953655917126],\"type\":\"scatter3d\"},{\"line\":{\"color\":\"silver\",\"width\":5},\"mode\":\"lines\",\"x\":[0.11187745017428363,0.22892548233257848],\"y\":[0.45635342597961426,0.5689667463302612],\"z\":[-0.45740105303695283,-0.44374953655917126],\"type\":\"scatter3d\"},{\"line\":{\"color\":\"silver\",\"width\":5},\"mode\":\"lines\",\"x\":[-0.3406865042437751,-0.4227233872437276],\"y\":[0.7210554480552673,0.7485448718070984],\"z\":[-0.5790046468023844,-0.4461423371190468],\"type\":\"scatter3d\"},{\"line\":{\"color\":\"silver\",\"width\":5},\"mode\":\"lines\",\"x\":[-0.4467266011356268,-0.4227233872437276],\"y\":[0.7782798409461975,0.7485448718070984],\"z\":[-0.31736660831097835,-0.4461423371190468],\"type\":\"scatter3d\"},{\"line\":{\"color\":\"silver\",\"width\":5},\"mode\":\"lines\",\"x\":[0.20754841861156553,0.24950595063263467],\"y\":[0.48656904697418213,0.4093383550643921],\"z\":[-0.3767990014299054,-0.49046865130667716],\"type\":\"scatter3d\"},{\"line\":{\"color\":\"silver\",\"width\":5},\"mode\":\"lines\",\"x\":[0.38423132706283813,0.24950595063263467],\"y\":[0.223577618598938,0.4093383550643921],\"z\":[-0.46168416302828574,-0.49046865130667716],\"type\":\"scatter3d\"},{\"line\":{\"color\":\"silver\",\"width\":5},\"mode\":\"lines\",\"x\":[-0.07592514946264944,-0.20187145055207772],\"y\":[0.51717808842659,0.4870809316635132],\"z\":[-0.3712198191660621,-0.1823481203690317],\"type\":\"scatter3d\"},{\"line\":{\"color\":\"silver\",\"width\":5},\"mode\":\"lines\",\"x\":[0.08038804256356356,-0.20187145055207772],\"y\":[0.6924864947795868,0.4870809316635132],\"z\":[-0.17691434507495699,-0.1823481203690317],\"type\":\"scatter3d\"}],\"name\":\"frame28\"},{\"data\":[{\"marker\":{\"color\":\"black\",\"size\":5},\"mode\":\"markers\",\"x\":[-0.016087247432162666],\"y\":[0.7310750484466553],\"z\":[-0.6921050481873312],\"type\":\"scatter3d\"},{\"marker\":{\"color\":\"magenta\",\"size\":5},\"mode\":\"markers\",\"x\":[0.2504157170021633],\"y\":[0.681035578250885],\"z\":[-0.49017166199233353],\"type\":\"scatter3d\"},{\"marker\":{\"color\":\"lime\",\"size\":5},\"mode\":\"markers\",\"x\":[-0.23496760894797702],\"y\":[0.7210554480552673],\"z\":[-0.629367855818732],\"type\":\"scatter3d\"},{\"marker\":{\"color\":\"magenta\",\"size\":5},\"mode\":\"markers\",\"x\":[0.3025038882272279],\"y\":[0.5689667463302612],\"z\":[-0.3972554911704706],\"type\":\"scatter3d\"},{\"marker\":{\"color\":\"lime\",\"size\":5},\"mode\":\"markers\",\"x\":[-0.3388294653164167],\"y\":[0.7485448718070984],\"z\":[-0.5127695783938893],\"type\":\"scatter3d\"},{\"marker\":{\"color\":\"magenta\",\"size\":5},\"mode\":\"markers\",\"x\":[0.1896046396416737],\"y\":[0.45635342597961426],\"z\":[-0.43102478792195204],\"type\":\"scatter3d\"},{\"marker\":{\"color\":\"lime\",\"size\":5},\"mode\":\"markers\",\"x\":[-0.3848296870896214],\"y\":[0.7782798409461975],\"z\":[-0.39011835661438377],\"type\":\"scatter3d\"},{\"marker\":{\"color\":\"magenta\",\"size\":5},\"mode\":\"markers\",\"x\":[0.2698257517191154],\"y\":[0.48656904697418213],\"z\":[-0.33503417326587714],\"type\":\"scatter3d\"},{\"marker\":{\"color\":\"lime\",\"size\":5},\"mode\":\"markers\",\"x\":[-0.010310030727393435],\"y\":[0.51717808842659],\"z\":[-0.37876441982980624],\"type\":\"scatter3d\"},{\"marker\":{\"color\":\"magenta\",\"size\":5},\"mode\":\"markers\",\"x\":[0.33088438210786186],\"y\":[0.4093383550643921],\"z\":[-0.4396910767718446],\"type\":\"scatter3d\"},{\"marker\":{\"color\":\"lime\",\"size\":5},\"mode\":\"markers\",\"x\":[-0.16714015081243416],\"y\":[0.4870809316635132],\"z\":[-0.21463245219797406],\"type\":\"scatter3d\"},{\"marker\":{\"color\":\"magenta\",\"size\":5},\"mode\":\"markers\",\"x\":[0.4585646034091966],\"y\":[0.223577618598938],\"z\":[-0.38794907344619955],\"type\":\"scatter3d\"},{\"marker\":{\"color\":\"lime\",\"size\":5},\"mode\":\"markers\",\"x\":[0.10988762119147766],\"y\":[0.6924864947795868],\"z\":[-0.16026738155152026],\"type\":\"scatter3d\"},{\"line\":{\"color\":\"silver\",\"width\":5},\"mode\":\"lines\",\"x\":[0.2504157170021633,-0.23496760894797702,-0.010310030727393435,0.2698257517191154,0.2504157170021633],\"y\":[0.681035578250885,0.7210554480552673,0.51717808842659,0.48656904697418213,0.681035578250885],\"z\":[-0.49017166199233353,-0.629367855818732,-0.37876441982980624,-0.33503417326587714,-0.49017166199233353],\"type\":\"scatter3d\"},{\"line\":{\"color\":\"silver\",\"width\":5},\"mode\":\"lines\",\"x\":[0.2504157170021633,0.3025038882272279],\"y\":[0.681035578250885,0.5689667463302612],\"z\":[-0.49017166199233353,-0.3972554911704706],\"type\":\"scatter3d\"},{\"line\":{\"color\":\"silver\",\"width\":5},\"mode\":\"lines\",\"x\":[0.1896046396416737,0.3025038882272279],\"y\":[0.45635342597961426,0.5689667463302612],\"z\":[-0.43102478792195204,-0.3972554911704706],\"type\":\"scatter3d\"},{\"line\":{\"color\":\"silver\",\"width\":5},\"mode\":\"lines\",\"x\":[-0.23496760894797702,-0.3388294653164167],\"y\":[0.7210554480552673,0.7485448718070984],\"z\":[-0.629367855818732,-0.5127695783938893],\"type\":\"scatter3d\"},{\"line\":{\"color\":\"silver\",\"width\":5},\"mode\":\"lines\",\"x\":[-0.3848296870896214,-0.3388294653164167],\"y\":[0.7782798409461975,0.7485448718070984],\"z\":[-0.39011835661438377,-0.5127695783938893],\"type\":\"scatter3d\"},{\"line\":{\"color\":\"silver\",\"width\":5},\"mode\":\"lines\",\"x\":[0.2698257517191154,0.33088438210786186],\"y\":[0.48656904697418213,0.4093383550643921],\"z\":[-0.33503417326587714,-0.4396910767718446],\"type\":\"scatter3d\"},{\"line\":{\"color\":\"silver\",\"width\":5},\"mode\":\"lines\",\"x\":[0.4585646034091966,0.33088438210786186],\"y\":[0.223577618598938,0.4093383550643921],\"z\":[-0.38794907344619955,-0.4396910767718446],\"type\":\"scatter3d\"},{\"line\":{\"color\":\"silver\",\"width\":5},\"mode\":\"lines\",\"x\":[-0.010310030727393435,-0.16714015081243416],\"y\":[0.51717808842659,0.4870809316635132],\"z\":[-0.37876441982980624,-0.21463245219797406],\"type\":\"scatter3d\"},{\"line\":{\"color\":\"silver\",\"width\":5},\"mode\":\"lines\",\"x\":[0.10988762119147766,-0.16714015081243416],\"y\":[0.6924864947795868,0.4870809316635132],\"z\":[-0.16026738155152026,-0.21463245219797406],\"type\":\"scatter3d\"}],\"name\":\"frame29\"},{\"data\":[{\"marker\":{\"color\":\"black\",\"size\":5},\"mode\":\"markers\",\"x\":[0.10433993437599345],\"y\":[0.7310750484466553],\"z\":[-0.6843839385540436],\"type\":\"scatter3d\"},{\"marker\":{\"color\":\"magenta\",\"size\":5},\"mode\":\"markers\",\"x\":[0.3317287554287806],\"y\":[0.681035578250885],\"z\":[-0.43924062012034626],\"type\":\"scatter3d\"},{\"marker\":{\"color\":\"lime\",\"size\":5},\"mode\":\"markers\",\"x\":[-0.12210934175364235],\"y\":[0.7210554480552673],\"z\":[-0.6606080410115289],\"type\":\"scatter3d\"},{\"marker\":{\"color\":\"magenta\",\"size\":5},\"mode\":\"markers\",\"x\":[0.36689086655244596],\"y\":[0.5689667463302612],\"z\":[-0.33869103870353334],\"type\":\"scatter3d\"},{\"marker\":{\"color\":\"lime\",\"size\":5},\"mode\":\"markers\",\"x\":[-0.24464038154144926],\"y\":[0.7485448718070984],\"z\":[-0.5638165755031594],\"type\":\"scatter3d\"},{\"marker\":{\"color\":\"magenta\",\"size\":5},\"mode\":\"markers\",\"x\":[0.26157078807812817],\"y\":[0.45635342597961426],\"z\":[-0.39155205273500954],\"type\":\"scatter3d\"},{\"marker\":{\"color\":\"lime\",\"size\":5},\"mode\":\"markers\",\"x\":[-0.31123991773461585],\"y\":[0.7782798409461975],\"z\":[-0.4510165560614743],\"type\":\"scatter3d\"},{\"marker\":{\"color\":\"magenta\",\"size\":5},\"mode\":\"markers\",\"x\":[0.3239045658990981],\"y\":[0.48656904697418213],\"z\":[-0.2830895012826373],\"type\":\"scatter3d\"},{\"marker\":{\"color\":\"lime\",\"size\":5},\"mode\":\"markers\",\"x\":[0.05561835307438681],\"y\":[0.51717808842659],\"z\":[-0.3748004552610661],\"type\":\"scatter3d\"},{\"marker\":{\"color\":\"magenta\",\"size\":5},\"mode\":\"markers\",\"x\":[0.4022090590683174],\"y\":[0.4093383550643921],\"z\":[-0.3755537113637201],\"type\":\"scatter3d\"},{\"marker\":{\"color\":\"lime\",\"size\":5},\"mode\":\"markers\",\"x\":[-0.12733038216735218],\"y\":[0.4870809316635132],\"z\":[-0.24039528557614206],\"type\":\"scatter3d\"},{\"marker\":{\"color\":\"magenta\",\"size\":5},\"mode\":\"markers\",\"x\":[0.5189646263258518],\"y\":[0.223577618598938],\"z\":[-0.3024263475791543],\"type\":\"scatter3d\"},{\"marker\":{\"color\":\"lime\",\"size\":5},\"mode\":\"markers\",\"x\":[0.1360483200553079],\"y\":[0.6924864947795868],\"z\":[-0.13875077473884884],\"type\":\"scatter3d\"},{\"line\":{\"color\":\"silver\",\"width\":5},\"mode\":\"lines\",\"x\":[0.3317287554287806,-0.12210934175364235,0.05561835307438681,0.3239045658990981,0.3317287554287806],\"y\":[0.681035578250885,0.7210554480552673,0.51717808842659,0.48656904697418213,0.681035578250885],\"z\":[-0.43924062012034626,-0.6606080410115289,-0.3748004552610661,-0.2830895012826373,-0.43924062012034626],\"type\":\"scatter3d\"},{\"line\":{\"color\":\"silver\",\"width\":5},\"mode\":\"lines\",\"x\":[0.3317287554287806,0.36689086655244596],\"y\":[0.681035578250885,0.5689667463302612],\"z\":[-0.43924062012034626,-0.33869103870353334],\"type\":\"scatter3d\"},{\"line\":{\"color\":\"silver\",\"width\":5},\"mode\":\"lines\",\"x\":[0.26157078807812817,0.36689086655244596],\"y\":[0.45635342597961426,0.5689667463302612],\"z\":[-0.39155205273500954,-0.33869103870353334],\"type\":\"scatter3d\"},{\"line\":{\"color\":\"silver\",\"width\":5},\"mode\":\"lines\",\"x\":[-0.12210934175364235,-0.24464038154144926],\"y\":[0.7210554480552673,0.7485448718070984],\"z\":[-0.6606080410115289,-0.5638165755031594],\"type\":\"scatter3d\"},{\"line\":{\"color\":\"silver\",\"width\":5},\"mode\":\"lines\",\"x\":[-0.31123991773461585,-0.24464038154144926],\"y\":[0.7782798409461975,0.7485448718070984],\"z\":[-0.4510165560614743,-0.5638165755031594],\"type\":\"scatter3d\"},{\"line\":{\"color\":\"silver\",\"width\":5},\"mode\":\"lines\",\"x\":[0.3239045658990981,0.4022090590683174],\"y\":[0.48656904697418213,0.4093383550643921],\"z\":[-0.2830895012826373,-0.3755537113637201],\"type\":\"scatter3d\"},{\"line\":{\"color\":\"silver\",\"width\":5},\"mode\":\"lines\",\"x\":[0.5189646263258518,0.4022090590683174],\"y\":[0.223577618598938,0.4093383550643921],\"z\":[-0.3024263475791543,-0.3755537113637201],\"type\":\"scatter3d\"},{\"line\":{\"color\":\"silver\",\"width\":5},\"mode\":\"lines\",\"x\":[0.05561835307438681,-0.12733038216735218],\"y\":[0.51717808842659,0.4870809316635132],\"z\":[-0.3748004552610661,-0.24039528557614206],\"type\":\"scatter3d\"},{\"line\":{\"color\":\"silver\",\"width\":5},\"mode\":\"lines\",\"x\":[0.1360483200553079,-0.12733038216735218],\"y\":[0.6924864947795868,0.4870809316635132],\"z\":[-0.13875077473884884,-0.24039528557614206],\"type\":\"scatter3d\"}],\"name\":\"frame30\"},{\"data\":[{\"marker\":{\"color\":\"black\",\"size\":5},\"mode\":\"markers\",\"x\":[0.2215968000766892],\"y\":[0.7310750484466553],\"z\":[-0.6558681692627744],\"type\":\"scatter3d\"},{\"marker\":{\"color\":\"magenta\",\"size\":5},\"mode\":\"markers\",\"x\":[0.4029623834845442],\"y\":[0.681035578250885],\"z\":[-0.37496347427248056],\"type\":\"scatter3d\"},{\"marker\":{\"color\":\"lime\",\"size\":5},\"mode\":\"markers\",\"x\":[-0.0055408440004318105],\"y\":[0.7210554480552673],\"z\":[-0.6717759851619888],\"type\":\"scatter3d\"},{\"marker\":{\"color\":\"magenta\",\"size\":5},\"mode\":\"markers\",\"x\":[0.4201300515532044],\"y\":[0.5689667463302612],\"z\":[-0.2698356304115245],\"type\":\"scatter3d\"},{\"marker\":{\"color\":\"lime\",\"size\":5},\"mode\":\"markers\",\"x\":[-0.14301802356735124],\"y\":[0.7485448718070984],\"z\":[-0.5977322912707195],\"type\":\"scatter3d\"},{\"marker\":{\"color\":\"magenta\",\"size\":5},\"mode\":\"markers\",\"x\":[0.3255892404800339],\"y\":[0.45635342597961426],\"z\":[-0.3401822065606126],\"type\":\"scatter3d\"},{\"marker\":{\"color\":\"lime\",\"size\":5},\"mode\":\"markers\",\"x\":[-0.22819328097424177],\"y\":[0.7782798409461975],\"z\":[-0.4982108456780263],\"type\":\"scatter3d\"},{\"marker\":{\"color\":\"magenta\",\"size\":5},\"mode\":\"markers\",\"x\":[0.3681417037478555],\"y\":[0.48656904697418213],\"z\":[-0.22254329805312428],\"type\":\"scatter3d\"},{\"marker\":{\"color\":\"lime\",\"size\":5},\"mode\":\"markers\",\"x\":[0.11985680136224634],\"y\":[0.51717808842659],\"z\":[-0.3594483685173999],\"type\":\"scatter3d\"},{\"marker\":{\"color\":\"magenta\",\"size\":5},\"mode\":\"markers\",\"x\":[0.46131281729658635],\"y\":[0.4093383550643921],\"z\":[-0.30000533647515665],\"type\":\"scatter3d\"},{\"marker\":{\"color\":\"lime\",\"size\":5},\"mode\":\"markers\",\"x\":[-0.08365174429239752],\"y\":[0.4870809316635132],\"z\":[-0.258853829847963],\"type\":\"scatter3d\"},{\"marker\":{\"color\":\"magenta\",\"size\":5},\"mode\":\"markers\",\"x\":[0.5635961716803681],\"y\":[0.223577618598938],\"z\":[-0.20771455017603252],\"type\":\"scatter3d\"},{\"marker\":{\"color\":\"lime\",\"size\":5},\"mode\":\"markers\",\"x\":[0.1580752595580293],\"y\":[0.6924864947795868],\"z\":[-0.1130182958470173],\"type\":\"scatter3d\"},{\"line\":{\"color\":\"silver\",\"width\":5},\"mode\":\"lines\",\"x\":[0.4029623834845442,-0.0055408440004318105,0.11985680136224634,0.3681417037478555,0.4029623834845442],\"y\":[0.681035578250885,0.7210554480552673,0.51717808842659,0.48656904697418213,0.681035578250885],\"z\":[-0.37496347427248056,-0.6717759851619888,-0.3594483685173999,-0.22254329805312428,-0.37496347427248056],\"type\":\"scatter3d\"},{\"line\":{\"color\":\"silver\",\"width\":5},\"mode\":\"lines\",\"x\":[0.4029623834845442,0.4201300515532044],\"y\":[0.681035578250885,0.5689667463302612],\"z\":[-0.37496347427248056,-0.2698356304115245],\"type\":\"scatter3d\"},{\"line\":{\"color\":\"silver\",\"width\":5},\"mode\":\"lines\",\"x\":[0.3255892404800339,0.4201300515532044],\"y\":[0.45635342597961426,0.5689667463302612],\"z\":[-0.3401822065606126,-0.2698356304115245],\"type\":\"scatter3d\"},{\"line\":{\"color\":\"silver\",\"width\":5},\"mode\":\"lines\",\"x\":[-0.0055408440004318105,-0.14301802356735124],\"y\":[0.7210554480552673,0.7485448718070984],\"z\":[-0.6717759851619888,-0.5977322912707195],\"type\":\"scatter3d\"},{\"line\":{\"color\":\"silver\",\"width\":5},\"mode\":\"lines\",\"x\":[-0.22819328097424177,-0.14301802356735124],\"y\":[0.7782798409461975,0.7485448718070984],\"z\":[-0.4982108456780263,-0.5977322912707195],\"type\":\"scatter3d\"},{\"line\":{\"color\":\"silver\",\"width\":5},\"mode\":\"lines\",\"x\":[0.3681417037478555,0.46131281729658635],\"y\":[0.48656904697418213,0.4093383550643921],\"z\":[-0.22254329805312428,-0.30000533647515665],\"type\":\"scatter3d\"},{\"line\":{\"color\":\"silver\",\"width\":5},\"mode\":\"lines\",\"x\":[0.5635961716803681,0.46131281729658635],\"y\":[0.223577618598938,0.4093383550643921],\"z\":[-0.20771455017603252,-0.30000533647515665],\"type\":\"scatter3d\"},{\"line\":{\"color\":\"silver\",\"width\":5},\"mode\":\"lines\",\"x\":[0.11985680136224634,-0.08365174429239752],\"y\":[0.51717808842659,0.4870809316635132],\"z\":[-0.3594483685173999,-0.258853829847963],\"type\":\"scatter3d\"},{\"line\":{\"color\":\"silver\",\"width\":5},\"mode\":\"lines\",\"x\":[0.1580752595580293,-0.08365174429239752],\"y\":[0.6924864947795868,0.4870809316635132],\"z\":[-0.1130182958470173,-0.258853829847963],\"type\":\"scatter3d\"}],\"name\":\"frame31\"},{\"data\":[{\"marker\":{\"color\":\"black\",\"size\":5},\"mode\":\"markers\",\"x\":[0.33212055914044625],\"y\":[0.7310750484466552],\"z\":[-0.6074241775337633],\"type\":\"scatter3d\"},{\"marker\":{\"color\":\"magenta\",\"size\":5},\"mode\":\"markers\",\"x\":[0.4619522034269347],\"y\":[0.6810355782508849],\"z\":[-0.29929325299951876],\"type\":\"scatter3d\"},{\"marker\":{\"color\":\"lime\",\"size\":5},\"mode\":\"markers\",\"x\":[0.11119600949392966],\"y\":[0.7210554480552672],\"z\":[-0.6625323559383522],\"type\":\"scatter3d\"},{\"marker\":{\"color\":\"magenta\",\"size\":5},\"mode\":\"markers\",\"x\":[0.4606037975335828],\"y\":[0.5689667463302611],\"z\":[-0.1927814030328787],\"type\":\"scatter3d\"},{\"marker\":{\"color\":\"lime\",\"size\":5},\"mode\":\"markers\",\"x\":[-0.03705013531777107],\"y\":[0.7485448718070983],\"z\":[-0.6134862138351526],\"type\":\"scatter3d\"},{\"marker\":{\"color\":\"magenta\",\"size\":5},\"mode\":\"markers\",\"x\":[0.37971482856605926],\"y\":[0.4563534259796142],\"z\":[-0.278476096180374],\"type\":\"scatter3d\"},{\"marker\":{\"color\":\"lime\",\"size\":5},\"mode\":\"markers\",\"x\":[-0.13821310684283708],\"y\":[0.7782798409461974],\"z\":[-0.5302672508555039],\"type\":\"scatter3d\"},{\"marker\":{\"color\":\"magenta\",\"size\":5},\"mode\":\"markers\",\"x\":[0.40119304221692503],\"y\":[0.4865690469741821],\"z\":[-0.15523522932460943],\"type\":\"scatter3d\"},{\"marker\":{\"color\":\"lime\",\"size\":5},\"mode\":\"markers\",\"x\":[0.180453461391182],\"y\":[0.5171780884265899],\"z\":[-0.33317462498598344],\"type\":\"scatter3d\"},{\"marker\":{\"color\":\"magenta\",\"size\":5},\"mode\":\"markers\",\"x\":[0.5063998190068476],\"y\":[0.40933835506439203],\"z\":[-0.21534145124782078],\"type\":\"scatter3d\"},{\"marker\":{\"color\":\"lime\",\"size\":5},\"mode\":\"markers\",\"x\":[-0.03743139049694344],\"y\":[0.48708093166351313],\"z\":[-0.26944723148621175],\"type\":\"scatter3d\"},{\"marker\":{\"color\":\"magenta\",\"size\":5},\"mode\":\"markers\",\"x\":[0.5911031325518001],\"y\":[0.22357761859893796],\"z\":[-0.10669145127444596],\"type\":\"scatter3d\"},{\"marker\":{\"color\":\"lime\",\"size\":5},\"mode\":\"markers\",\"x\":[0.17529916228902093],\"y\":[0.6924864947795867],\"z\":[-0.0838518132258913],\"type\":\"scatter3d\"},{\"line\":{\"color\":\"silver\",\"width\":5},\"mode\":\"lines\",\"x\":[0.4619522034269347,0.11119600949392966,0.180453461391182,0.40119304221692503,0.4619522034269347],\"y\":[0.6810355782508849,0.7210554480552672,0.5171780884265899,0.4865690469741821,0.6810355782508849],\"z\":[-0.29929325299951876,-0.6625323559383522,-0.33317462498598344,-0.15523522932460943,-0.29929325299951876],\"type\":\"scatter3d\"},{\"line\":{\"color\":\"silver\",\"width\":5},\"mode\":\"lines\",\"x\":[0.4619522034269347,0.4606037975335828],\"y\":[0.6810355782508849,0.5689667463302611],\"z\":[-0.29929325299951876,-0.1927814030328787],\"type\":\"scatter3d\"},{\"line\":{\"color\":\"silver\",\"width\":5},\"mode\":\"lines\",\"x\":[0.37971482856605926,0.4606037975335828],\"y\":[0.4563534259796142,0.5689667463302611],\"z\":[-0.278476096180374,-0.1927814030328787],\"type\":\"scatter3d\"},{\"line\":{\"color\":\"silver\",\"width\":5},\"mode\":\"lines\",\"x\":[0.11119600949392966,-0.03705013531777107],\"y\":[0.7210554480552672,0.7485448718070983],\"z\":[-0.6625323559383522,-0.6134862138351526],\"type\":\"scatter3d\"},{\"line\":{\"color\":\"silver\",\"width\":5},\"mode\":\"lines\",\"x\":[-0.13821310684283708,-0.03705013531777107],\"y\":[0.7782798409461974,0.7485448718070983],\"z\":[-0.5302672508555039,-0.6134862138351526],\"type\":\"scatter3d\"},{\"line\":{\"color\":\"silver\",\"width\":5},\"mode\":\"lines\",\"x\":[0.40119304221692503,0.5063998190068476],\"y\":[0.4865690469741821,0.40933835506439203],\"z\":[-0.15523522932460943,-0.21534145124782078],\"type\":\"scatter3d\"},{\"line\":{\"color\":\"silver\",\"width\":5},\"mode\":\"lines\",\"x\":[0.5911031325518001,0.5063998190068476],\"y\":[0.22357761859893796,0.40933835506439203],\"z\":[-0.10669145127444596,-0.21534145124782078],\"type\":\"scatter3d\"},{\"line\":{\"color\":\"silver\",\"width\":5},\"mode\":\"lines\",\"x\":[0.180453461391182,-0.03743139049694344],\"y\":[0.5171780884265899,0.48708093166351313],\"z\":[-0.33317462498598344,-0.26944723148621175],\"type\":\"scatter3d\"},{\"line\":{\"color\":\"silver\",\"width\":5},\"mode\":\"lines\",\"x\":[0.17529916228902093,-0.03743139049694344],\"y\":[0.6924864947795867,0.48708093166351313],\"z\":[-0.0838518132258913,-0.26944723148621175],\"type\":\"scatter3d\"}],\"name\":\"frame32\"},{\"data\":[{\"marker\":{\"color\":\"black\",\"size\":5},\"mode\":\"markers\",\"x\":[0.4325530030758329],\"y\":[0.7310750484466553],\"z\":[-0.5405239095418536],\"type\":\"scatter3d\"},{\"marker\":{\"color\":\"magenta\",\"size\":5},\"mode\":\"markers\",\"x\":[0.506905839427292],\"y\":[0.681035578250885],\"z\":[-0.2145291576838601],\"type\":\"scatter3d\"},{\"marker\":{\"color\":\"lime\",\"size\":5},\"mode\":\"markers\",\"x\":[0.22455422850771387],\"y\":[0.7210554480552673],\"z\":[-0.6331580163370776],\"type\":\"scatter3d\"},{\"marker\":{\"color\":\"magenta\",\"size\":5},\"mode\":\"markers\",\"x\":[0.4870823302026712],\"y\":[0.5689667463302612],\"z\":[-0.1098696102751758],\"type\":\"scatter3d\"},{\"marker\":{\"color\":\"lime\",\"size\":5},\"mode\":\"markers\",\"x\":[0.07004350254516653],\"y\":[0.7485448718070984],\"z\":[-0.6105996682312077],\"type\":\"scatter3d\"},{\"marker\":{\"color\":\"magenta\",\"size\":5},\"mode\":\"markers\",\"x\":[0.42230297373107933],\"y\":[0.45635342597961426],\"z\":[-0.20830863053339865],\"type\":\"scatter3d\"},{\"marker\":{\"color\":\"lime\",\"size\":5},\"mode\":\"markers\",\"x\":[-0.04403339739921944],\"y\":[0.7782798409461975],\"z\":[-0.546211753943913],\"type\":\"scatter3d\"},{\"marker\":{\"color\":\"magenta\",\"size\":5},\"mode\":\"markers\",\"x\":[0.42205433311170837],\"y\":[0.48656904697418213],\"z\":[-0.08321041670588263],\"type\":\"scatter3d\"},{\"marker\":{\"color\":\"lime\",\"size\":5},\"mode\":\"markers\",\"x\":[0.23556713430960408],\"y\":[0.51717808842659],\"z\":[-0.29677753906886295],\"type\":\"scatter3d\"},{\"marker\":{\"color\":\"magenta\",\"size\":5},\"mode\":\"markers\",\"x\":[0.5361001184672587],\"y\":[0.4093383550643921],\"z\":[-0.12413452499235192],\"type\":\"scatter3d\"},{\"marker\":{\"color\":\"lime\",\"size\":5},\"mode\":\"markers\",\"x\":[0.009926297157562783],\"y\":[0.4870809316635132],\"z\":[-0.2718536153426299],\"type\":\"scatter3d\"},{\"marker\":{\"color\":\"magenta\",\"size\":5},\"mode\":\"markers\",\"x\":[0.6006497238532633],\"y\":[0.223577618598938],\"z\":[-0.002426586614364623],\"type\":\"scatter3d\"},{\"marker\":{\"color\":\"lime\",\"size\":5},\"mode\":\"markers\",\"x\":[0.18719668867951694],\"y\":[0.6924864947795868],\"z\":[-0.05213753569096144],\"type\":\"scatter3d\"},{\"line\":{\"color\":\"silver\",\"width\":5},\"mode\":\"lines\",\"x\":[0.506905839427292,0.22455422850771387,0.23556713430960408,0.42205433311170837,0.506905839427292],\"y\":[0.681035578250885,0.7210554480552673,0.51717808842659,0.48656904697418213,0.681035578250885],\"z\":[-0.2145291576838601,-0.6331580163370776,-0.29677753906886295,-0.08321041670588263,-0.2145291576838601],\"type\":\"scatter3d\"},{\"line\":{\"color\":\"silver\",\"width\":5},\"mode\":\"lines\",\"x\":[0.506905839427292,0.4870823302026712],\"y\":[0.681035578250885,0.5689667463302612],\"z\":[-0.2145291576838601,-0.1098696102751758],\"type\":\"scatter3d\"},{\"line\":{\"color\":\"silver\",\"width\":5},\"mode\":\"lines\",\"x\":[0.42230297373107933,0.4870823302026712],\"y\":[0.45635342597961426,0.5689667463302612],\"z\":[-0.20830863053339865,-0.1098696102751758],\"type\":\"scatter3d\"},{\"line\":{\"color\":\"silver\",\"width\":5},\"mode\":\"lines\",\"x\":[0.22455422850771387,0.07004350254516653],\"y\":[0.7210554480552673,0.7485448718070984],\"z\":[-0.6331580163370776,-0.6105996682312077],\"type\":\"scatter3d\"},{\"line\":{\"color\":\"silver\",\"width\":5},\"mode\":\"lines\",\"x\":[-0.04403339739921944,0.07004350254516653],\"y\":[0.7782798409461975,0.7485448718070984],\"z\":[-0.546211753943913,-0.6105996682312077],\"type\":\"scatter3d\"},{\"line\":{\"color\":\"silver\",\"width\":5},\"mode\":\"lines\",\"x\":[0.42205433311170837,0.5361001184672587],\"y\":[0.48656904697418213,0.4093383550643921],\"z\":[-0.08321041670588263,-0.12413452499235192],\"type\":\"scatter3d\"},{\"line\":{\"color\":\"silver\",\"width\":5},\"mode\":\"lines\",\"x\":[0.6006497238532633,0.5361001184672587],\"y\":[0.223577618598938,0.4093383550643921],\"z\":[-0.002426586614364623,-0.12413452499235192],\"type\":\"scatter3d\"},{\"line\":{\"color\":\"silver\",\"width\":5},\"mode\":\"lines\",\"x\":[0.23556713430960408,0.009926297157562783],\"y\":[0.51717808842659,0.4870809316635132],\"z\":[-0.29677753906886295,-0.2718536153426299],\"type\":\"scatter3d\"},{\"line\":{\"color\":\"silver\",\"width\":5},\"mode\":\"lines\",\"x\":[0.18719668867951694,0.009926297157562783],\"y\":[0.6924864947795868,0.4870809316635132],\"z\":[-0.05213753569096144,-0.2718536153426299],\"type\":\"scatter3d\"}],\"name\":\"frame33\"},{\"data\":[{\"marker\":{\"color\":\"black\",\"size\":5},\"mode\":\"markers\",\"x\":[0.5198425428951416],\"y\":[0.7310750484466552],\"z\":[-0.45720009607681],\"type\":\"scatter3d\"},{\"marker\":{\"color\":\"magenta\",\"size\":5},\"mode\":\"markers\",\"x\":[0.5364573980033824],\"y\":[0.6810355782508849],\"z\":[-0.12324670246896871],\"type\":\"scatter3d\"},{\"marker\":{\"color\":\"lime\",\"size\":5},\"mode\":\"markers\",\"x\":[0.331089480918214],\"y\":[0.7210554480552672],\"z\":[-0.5845454908028161],\"type\":\"scatter3d\"},{\"marker\":{\"color\":\"magenta\",\"size\":5},\"mode\":\"markers\",\"x\":[0.498761112744103],\"y\":[0.5689667463302611],\"z\":[-0.023619485005966667],\"type\":\"scatter3d\"},{\"marker\":{\"color\":\"lime\",\"size\":5},\"mode\":\"markers\",\"x\":[0.17500890402699218],\"y\":[0.7485448718070983],\"z\":[-0.589160360686398],\"type\":\"scatter3d\"},{\"marker\":{\"color\":\"magenta\",\"size\":5},\"mode\":\"markers\",\"x\":[0.45205965673489634],\"y\":[0.4563534259796142],\"z\":[-0.13181181255691876],\"type\":\"scatter3d\"},{\"marker\":{\"color\":\"lime\",\"size\":5},\"mode\":\"markers\",\"x\":[0.05148424454239972],\"y\":[0.7782798409461974],\"z\":[-0.5455598892852201],\"type\":\"scatter3d\"},{\"marker\":{\"color\":\"magenta\",\"size\":5},\"mode\":\"markers\",\"x\":[0.4300917166646898],\"y\":[0.4865690469741821],\"z\":[-0.00865729768204973],\"type\":\"scatter3d\"},{\"marker\":{\"color\":\"lime\",\"size\":5},\"mode\":\"markers\",\"x\":[0.28352321905475064],\"y\":[0.5171780884265899],\"z\":[-0.2513630178038157],\"type\":\"scatter3d\"},{\"marker\":{\"color\":\"magenta\",\"size\":5},\"mode\":\"markers\",\"x\":[0.5495112871077914],\"y\":[0.40933835506439203],\"z\":[-0.029155834010090587],\"type\":\"scatter3d\"},{\"marker\":{\"color\":\"lime\",\"size\":5},\"mode\":\"markers\",\"x\":[0.05698237929588537],\"y\":[0.48708093166351313],\"z\":[-0.2659998646614292],\"type\":\"scatter3d\"},{\"marker\":{\"color\":\"magenta\",\"size\":5},\"mode\":\"markers\",\"x\":[0.5919458772388707],\"y\":[0.22357761859893796],\"z\":[0.10191200865208255],\"type\":\"scatter3d\"},{\"marker\":{\"color\":\"lime\",\"size\":5},\"mode\":\"markers\",\"x\":[0.19340633841058089],\"y\":[0.6924864947795867],\"z\":[-0.018839085516927603],\"type\":\"scatter3d\"},{\"line\":{\"color\":\"silver\",\"width\":5},\"mode\":\"lines\",\"x\":[0.5364573980033824,0.331089480918214,0.28352321905475064,0.4300917166646898,0.5364573980033824],\"y\":[0.6810355782508849,0.7210554480552672,0.5171780884265899,0.4865690469741821,0.6810355782508849],\"z\":[-0.12324670246896871,-0.5845454908028161,-0.2513630178038157,-0.00865729768204973,-0.12324670246896871],\"type\":\"scatter3d\"},{\"line\":{\"color\":\"silver\",\"width\":5},\"mode\":\"lines\",\"x\":[0.5364573980033824,0.498761112744103],\"y\":[0.6810355782508849,0.5689667463302611],\"z\":[-0.12324670246896871,-0.023619485005966667],\"type\":\"scatter3d\"},{\"line\":{\"color\":\"silver\",\"width\":5},\"mode\":\"lines\",\"x\":[0.45205965673489634,0.498761112744103],\"y\":[0.4563534259796142,0.5689667463302611],\"z\":[-0.13181181255691876,-0.023619485005966667],\"type\":\"scatter3d\"},{\"line\":{\"color\":\"silver\",\"width\":5},\"mode\":\"lines\",\"x\":[0.331089480918214,0.17500890402699218],\"y\":[0.7210554480552672,0.7485448718070983],\"z\":[-0.5845454908028161,-0.589160360686398],\"type\":\"scatter3d\"},{\"line\":{\"color\":\"silver\",\"width\":5},\"mode\":\"lines\",\"x\":[0.05148424454239972,0.17500890402699218],\"y\":[0.7782798409461974,0.7485448718070983],\"z\":[-0.5455598892852201,-0.589160360686398],\"type\":\"scatter3d\"},{\"line\":{\"color\":\"silver\",\"width\":5},\"mode\":\"lines\",\"x\":[0.4300917166646898,0.5495112871077914],\"y\":[0.4865690469741821,0.40933835506439203],\"z\":[-0.00865729768204973,-0.029155834010090587],\"type\":\"scatter3d\"},{\"line\":{\"color\":\"silver\",\"width\":5},\"mode\":\"lines\",\"x\":[0.5919458772388707,0.5495112871077914],\"y\":[0.22357761859893796,0.40933835506439203],\"z\":[0.10191200865208255,-0.029155834010090587],\"type\":\"scatter3d\"},{\"line\":{\"color\":\"silver\",\"width\":5},\"mode\":\"lines\",\"x\":[0.28352321905475064,0.05698237929588537],\"y\":[0.5171780884265899,0.48708093166351313],\"z\":[-0.2513630178038157,-0.2659998646614292],\"type\":\"scatter3d\"},{\"line\":{\"color\":\"silver\",\"width\":5},\"mode\":\"lines\",\"x\":[0.19340633841058089,0.05698237929588537],\"y\":[0.6924864947795867,0.48708093166351313],\"z\":[-0.018839085516927603,-0.2659998646614292],\"type\":\"scatter3d\"}],\"name\":\"frame34\"},{\"data\":[{\"marker\":{\"color\":\"black\",\"size\":5},\"mode\":\"markers\",\"x\":[0.5913369301016004],\"y\":[0.7310750484466553],\"z\":[-0.3599844890468846],\"type\":\"scatter3d\"},{\"marker\":{\"color\":\"magenta\",\"size\":5},\"mode\":\"markers\",\"x\":[0.5497089700016817],\"y\":[0.681035578250885],\"z\":[-0.028219458565398828],\"type\":\"scatter3d\"},{\"marker\":{\"color\":\"lime\",\"size\":5},\"mode\":\"markers\",\"x\":[0.4275647469903751],\"y\":[0.7210554480552673],\"z\":[-0.5181718463248021],\"type\":\"scatter3d\"},{\"marker\":{\"color\":\"magenta\",\"size\":5},\"mode\":\"markers\",\"x\":[0.4952852912601063],\"y\":[0.5689667463302612],\"z\":[0.06334830636311221],\"type\":\"scatter3d\"},{\"marker\":{\"color\":\"lime\",\"size\":5},\"mode\":\"markers\",\"x\":[0.27465674851873567],\"y\":[0.7485448718070984],\"z\":[-0.5498197137116599],\"type\":\"scatter3d\"},{\"marker\":{\"color\":\"magenta\",\"size\":5},\"mode\":\"markers\",\"x\":[0.4680807358220474],\"y\":[0.45635342597961426],\"z\":[-0.05130995935589278],\"type\":\"scatter3d\"},{\"marker\":{\"color\":\"lime\",\"size\":5},\"mode\":\"markers\",\"x\":[0.1454375637658824],\"y\":[0.7782798409461975],\"z\":[-0.5283314634572205],\"type\":\"scatter3d\"},{\"marker\":{\"color\":\"magenta\",\"size\":5},\"mode\":\"markers\",\"x\":[0.4250609810437246],\"y\":[0.48656904697418213],\"z\":[0.06615886895104788],\"type\":\"scatter3d\"},{\"marker\":{\"color\":\"lime\",\"size\":5},\"mode\":\"markers\",\"x\":[0.3228645942585898],\"y\":[0.51717808842659],\"z\":[-0.19831095843862412],\"type\":\"scatter3d\"},{\"marker\":{\"color\":\"magenta\",\"size\":5},\"mode\":\"markers\",\"x\":[0.5462258333556823],\"y\":[0.4093383550643921],\"z\":[0.06670874223500302],\"type\":\"scatter3d\"},{\"marker\":{\"color\":\"lime\",\"size\":5},\"mode\":\"markers\",\"x\":[0.10230708067377753],\"y\":[0.4870809316635132],\"z\":[-0.25206384269491733],\"type\":\"scatter3d\"},{\"marker\":{\"color\":\"magenta\",\"size\":5},\"mode\":\"markers\",\"x\":[0.5652560546836422],\"y\":[0.223577618598938],\"z\":[0.20315405910560044],\"type\":\"scatter3d\"},{\"marker\":{\"color\":\"lime\",\"size\":5},\"mode\":\"markers\",\"x\":[0.19373943441736885],\"y\":[0.6924864947795868],\"z\":[0.01503178073750068],\"type\":\"scatter3d\"},{\"line\":{\"color\":\"silver\",\"width\":5},\"mode\":\"lines\",\"x\":[0.5497089700016817,0.4275647469903751,0.3228645942585898,0.4250609810437246,0.5497089700016817],\"y\":[0.681035578250885,0.7210554480552673,0.51717808842659,0.48656904697418213,0.681035578250885],\"z\":[-0.028219458565398828,-0.5181718463248021,-0.19831095843862412,0.06615886895104788,-0.028219458565398828],\"type\":\"scatter3d\"},{\"line\":{\"color\":\"silver\",\"width\":5},\"mode\":\"lines\",\"x\":[0.5497089700016817,0.4952852912601063],\"y\":[0.681035578250885,0.5689667463302612],\"z\":[-0.028219458565398828,0.06334830636311221],\"type\":\"scatter3d\"},{\"line\":{\"color\":\"silver\",\"width\":5},\"mode\":\"lines\",\"x\":[0.4680807358220474,0.4952852912601063],\"y\":[0.45635342597961426,0.5689667463302612],\"z\":[-0.05130995935589278,0.06334830636311221],\"type\":\"scatter3d\"},{\"line\":{\"color\":\"silver\",\"width\":5},\"mode\":\"lines\",\"x\":[0.4275647469903751,0.27465674851873567],\"y\":[0.7210554480552673,0.7485448718070984],\"z\":[-0.5181718463248021,-0.5498197137116599],\"type\":\"scatter3d\"},{\"line\":{\"color\":\"silver\",\"width\":5},\"mode\":\"lines\",\"x\":[0.1454375637658824,0.27465674851873567],\"y\":[0.7782798409461975,0.7485448718070984],\"z\":[-0.5283314634572205,-0.5498197137116599],\"type\":\"scatter3d\"},{\"line\":{\"color\":\"silver\",\"width\":5},\"mode\":\"lines\",\"x\":[0.4250609810437246,0.5462258333556823],\"y\":[0.48656904697418213,0.4093383550643921],\"z\":[0.06615886895104788,0.06670874223500302],\"type\":\"scatter3d\"},{\"line\":{\"color\":\"silver\",\"width\":5},\"mode\":\"lines\",\"x\":[0.5652560546836422,0.5462258333556823],\"y\":[0.223577618598938,0.4093383550643921],\"z\":[0.20315405910560044,0.06670874223500302],\"type\":\"scatter3d\"},{\"line\":{\"color\":\"silver\",\"width\":5},\"mode\":\"lines\",\"x\":[0.3228645942585898,0.10230708067377753],\"y\":[0.51717808842659,0.4870809316635132],\"z\":[-0.19831095843862412,-0.25206384269491733],\"type\":\"scatter3d\"},{\"line\":{\"color\":\"silver\",\"width\":5},\"mode\":\"lines\",\"x\":[0.19373943441736885,0.10230708067377753],\"y\":[0.6924864947795868,0.4870809316635132],\"z\":[0.01503178073750068,-0.25206384269491733],\"type\":\"scatter3d\"}],\"name\":\"frame35\"},{\"data\":[{\"marker\":{\"color\":\"black\",\"size\":5},\"mode\":\"markers\",\"x\":[0.6448638439178466],\"y\":[0.7310750484466553],\"z\":[-0.25183093547821056],\"type\":\"scatter3d\"},{\"marker\":{\"color\":\"magenta\",\"size\":5},\"mode\":\"markers\",\"x\":[0.5462579131126404],\"y\":[0.681035578250885],\"z\":[0.06766521930694566],\"type\":\"scatter3d\"},{\"marker\":{\"color\":\"lime\",\"size\":5},\"mode\":\"markers\",\"x\":[0.511048674583435],\"y\":[0.7210554480552673],\"z\":[-0.4360538125038148],\"type\":\"scatter3d\"},{\"marker\":{\"color\":\"magenta\",\"size\":5},\"mode\":\"markers\",\"x\":[0.47676047682762146],\"y\":[0.5689667463302612],\"z\":[0.14839129149913768],\"type\":\"scatter3d\"},{\"marker\":{\"color\":\"lime\",\"size\":5},\"mode\":\"markers\",\"x\":[0.3659592866897582],\"y\":[0.7485448718070984],\"z\":[-0.4937730729579926],\"type\":\"scatter3d\"},{\"marker\":{\"color\":\"magenta\",\"size\":5},\"mode\":\"markers\",\"x\":[0.4698794186115265],\"y\":[0.45635342597961426],\"z\":[0.030750920996069787],\"type\":\"scatter3d\"},{\"marker\":{\"color\":\"lime\",\"size\":5},\"mode\":\"markers\",\"x\":[0.23497183620929699],\"y\":[0.7782798409461975],\"z\":[-0.49504995346069336],\"type\":\"scatter3d\"},{\"marker\":{\"color\":\"magenta\",\"size\":5},\"mode\":\"markers\",\"x\":[0.40711498260498047],\"y\":[0.48656904697418213],\"z\":[0.13896483182907088],\"type\":\"scatter3d\"},{\"marker\":{\"color\":\"lime\",\"size\":5},\"mode\":\"markers\",\"x\":[0.35239589214324946],\"y\":[0.51717808842659],\"z\":[-0.13923332095146188],\"type\":\"scatter3d\"},{\"marker\":{\"color\":\"magenta\",\"size\":5},\"mode\":\"markers\",\"x\":[0.526343584060669],\"y\":[0.4093383550643921],\"z\":[0.16054640710353837],\"type\":\"scatter3d\"},{\"marker\":{\"color\":\"lime\",\"size\":5},\"mode\":\"markers\",\"x\":[0.14452323317527765],\"y\":[0.4870809316635132],\"z\":[-0.23046898841857913],\"type\":\"scatter3d\"},{\"marker\":{\"color\":\"magenta\",\"size\":5},\"mode\":\"markers\",\"x\":[0.5213912129402162],\"y\":[0.223577618598938],\"z\":[0.2982233762741088],\"type\":\"scatter3d\"},{\"marker\":{\"color\":\"lime\",\"size\":5},\"mode\":\"markers\",\"x\":[0.1881858557462692],\"y\":[0.6924864947795868],\"z\":[0.04844591394066805],\"type\":\"scatter3d\"},{\"line\":{\"color\":\"silver\",\"width\":5},\"mode\":\"lines\",\"x\":[0.5462579131126404,0.511048674583435,0.35239589214324946,0.40711498260498047,0.5462579131126404],\"y\":[0.681035578250885,0.7210554480552673,0.51717808842659,0.48656904697418213,0.681035578250885],\"z\":[0.06766521930694566,-0.4360538125038148,-0.13923332095146188,0.13896483182907088,0.06766521930694566],\"type\":\"scatter3d\"},{\"line\":{\"color\":\"silver\",\"width\":5},\"mode\":\"lines\",\"x\":[0.5462579131126404,0.47676047682762146],\"y\":[0.681035578250885,0.5689667463302612],\"z\":[0.06766521930694566,0.14839129149913768],\"type\":\"scatter3d\"},{\"line\":{\"color\":\"silver\",\"width\":5},\"mode\":\"lines\",\"x\":[0.4698794186115265,0.47676047682762146],\"y\":[0.45635342597961426,0.5689667463302612],\"z\":[0.030750920996069787,0.14839129149913768],\"type\":\"scatter3d\"},{\"line\":{\"color\":\"silver\",\"width\":5},\"mode\":\"lines\",\"x\":[0.511048674583435,0.3659592866897582],\"y\":[0.7210554480552673,0.7485448718070984],\"z\":[-0.4360538125038148,-0.4937730729579926],\"type\":\"scatter3d\"},{\"line\":{\"color\":\"silver\",\"width\":5},\"mode\":\"lines\",\"x\":[0.23497183620929699,0.3659592866897582],\"y\":[0.7782798409461975,0.7485448718070984],\"z\":[-0.49504995346069336,-0.4937730729579926],\"type\":\"scatter3d\"},{\"line\":{\"color\":\"silver\",\"width\":5},\"mode\":\"lines\",\"x\":[0.40711498260498047,0.526343584060669],\"y\":[0.48656904697418213,0.4093383550643921],\"z\":[0.13896483182907088,0.16054640710353837],\"type\":\"scatter3d\"},{\"line\":{\"color\":\"silver\",\"width\":5},\"mode\":\"lines\",\"x\":[0.5213912129402162,0.526343584060669],\"y\":[0.223577618598938,0.4093383550643921],\"z\":[0.2982233762741088,0.16054640710353837],\"type\":\"scatter3d\"},{\"line\":{\"color\":\"silver\",\"width\":5},\"mode\":\"lines\",\"x\":[0.35239589214324946,0.14452323317527765],\"y\":[0.51717808842659,0.4870809316635132],\"z\":[-0.13923332095146188,-0.23046898841857913],\"type\":\"scatter3d\"},{\"line\":{\"color\":\"silver\",\"width\":5},\"mode\":\"lines\",\"x\":[0.1881858557462692,0.14452323317527765],\"y\":[0.6924864947795868,0.4870809316635132],\"z\":[0.04844591394066805,-0.23046898841857913],\"type\":\"scatter3d\"}],\"name\":\"frame36\"}]);\n",
       "                        }).then(function(){\n",
       "                            \n",
       "var gd = document.getElementById('b96f5700-c738-4fa8-b833-23ce61afb843');\n",
       "var x = new MutationObserver(function (mutations, observer) {{\n",
       "        var display = window.getComputedStyle(gd).display;\n",
       "        if (!display || display === 'none') {{\n",
       "            console.log([gd, 'removed!']);\n",
       "            Plotly.purge(gd);\n",
       "            observer.disconnect();\n",
       "        }}\n",
       "}});\n",
       "\n",
       "// Listen for the removal of the full notebook cells\n",
       "var notebookContainer = gd.closest('#notebook-container');\n",
       "if (notebookContainer) {{\n",
       "    x.observe(notebookContainer, {childList: true});\n",
       "}}\n",
       "\n",
       "// Listen for the clearing of the current output cell\n",
       "var outputEl = gd.closest('.output');\n",
       "if (outputEl) {{\n",
       "    x.observe(outputEl, {childList: true});\n",
       "}}\n",
       "\n",
       "                        })                };                });            </script>        </div>"
      ]
     },
     "metadata": {},
     "output_type": "display_data"
    }
   ],
   "source": [
    "import plotly.graph_objects as go\n",
    "\n",
    "fig = go.Figure(\n",
    "    data=[\n",
    "        go.Scatter3d(x=[v0[0]], y=[v0[1]], z=[v0[2]], mode='markers', marker=dict(color=\"black\",size=5)),\n",
    "        \n",
    "        go.Scatter3d(x=[v11[0]], y=[v11[1]], z=[v11[2]], mode='markers', marker=dict(color=\"magenta\",size=5)),\n",
    "        go.Scatter3d(x=[v12[0]], y=[v12[1]], z=[v12[2]], mode='markers', marker=dict(color=\"lime\",size=5)),\n",
    "        go.Scatter3d(x=[v13[0]], y=[v13[1]], z=[v13[2]], mode='markers', marker=dict(color=\"magenta\",size=5)),\n",
    "        go.Scatter3d(x=[v14[0]], y=[v14[1]], z=[v14[2]], mode='markers', marker=dict(color=\"lime\",size=5)),\n",
    "        go.Scatter3d(x=[v15[0]], y=[v15[1]], z=[v15[2]], mode='markers', marker=dict(color=\"magenta\",size=5)),\n",
    "        go.Scatter3d(x=[v16[0]], y=[v16[1]], z=[v16[2]], mode='markers', marker=dict(color=\"lime\",size=5)),\n",
    "        \n",
    "        go.Scatter3d(x=[v23[0]], y=[v23[1]], z=[v23[2]], mode='markers', marker=dict(color=\"magenta\",size=5)),\n",
    "        go.Scatter3d(x=[v24[0]], y=[v24[1]], z=[v24[2]], mode='markers', marker=dict(color=\"lime\",size=5)),\n",
    "        go.Scatter3d(x=[v25[0]], y=[v25[1]], z=[v25[2]], mode='markers', marker=dict(color=\"magenta\",size=5)),\n",
    "        go.Scatter3d(x=[v26[0]], y=[v26[1]], z=[v26[2]], mode='markers', marker=dict(color=\"lime\",size=5)),\n",
    "        go.Scatter3d(x=[v27[0]], y=[v27[1]], z=[v27[2]], mode='markers', marker=dict(color=\"magenta\",size=5)),\n",
    "        go.Scatter3d(x=[v28[0]], y=[v28[1]], z=[v28[2]], mode='markers', marker=dict(color=\"lime\",size=5)),\n",
    "        \n",
    "        go.Scatter3d(\n",
    "            x=[v11[0], v12[0], v24[0], v23[0], v11[0]],\n",
    "            y=[v11[1], v12[1], v24[1], v23[1], v11[1]],\n",
    "            z=[v11[2], v12[2], v24[2], v23[2], v11[2]],\n",
    "            mode='lines',\n",
    "            line=dict(color='silver', width=5)),\n",
    "\n",
    "        go.Scatter3d(\n",
    "            x=[v11[0], v13[0]],\n",
    "            y=[v11[1], v13[1]],\n",
    "            z=[v11[2], v13[2]],\n",
    "            mode='lines',\n",
    "            line=dict(color='silver', width=5)),\n",
    "\n",
    "        go.Scatter3d(\n",
    "            x=[v15[0], v13[0]],\n",
    "            y=[v15[1], v13[1]],\n",
    "            z=[v15[2], v13[2]],\n",
    "            mode='lines',\n",
    "            line=dict(color='silver', width=5)),\n",
    "        \n",
    "        go.Scatter3d(\n",
    "            x=[v12[0], v14[0]],\n",
    "            y=[v12[1], v14[1]],\n",
    "            z=[v12[2], v14[2]],\n",
    "            mode='lines',\n",
    "            line=dict(color='silver', width=5)),\n",
    "\n",
    "        go.Scatter3d(\n",
    "            x=[v16[0], v14[0]],\n",
    "            y=[v16[1], v14[1]],\n",
    "            z=[v16[2], v14[2]],\n",
    "            mode='lines',\n",
    "            line=dict(color='silver', width=5)),\n",
    "\n",
    "        go.Scatter3d(\n",
    "            x=[v23[0], v25[0]],\n",
    "            y=[v23[1], v25[1]],\n",
    "            z=[v23[2], v25[2]],\n",
    "            mode='lines',\n",
    "            line=dict(color='silver', width=5)),\n",
    "\n",
    "        go.Scatter3d(\n",
    "            x=[v27[0], v25[0]],\n",
    "            y=[v27[1], v25[1]],\n",
    "            z=[v27[2], v25[2]],\n",
    "            mode='lines',\n",
    "            line=dict(color='silver', width=5)),\n",
    "        \n",
    "        go.Scatter3d(\n",
    "            x=[v24[0], v26[0]],\n",
    "            y=[v24[1], v26[1]],\n",
    "            z=[v24[2], v26[2]],\n",
    "            mode='lines',\n",
    "            line=dict(color='silver', width=5)),\n",
    "\n",
    "        go.Scatter3d(\n",
    "            x=[v28[0], v26[0]],\n",
    "            y=[v28[1], v26[1]],\n",
    "            z=[v28[2], v26[2]],\n",
    "            mode='lines',\n",
    "            line=dict(color='silver', width=5)),\n",
    "\n",
    "    ],\n",
    "        \n",
    "    layout=go.Layout(\n",
    "        title=\"Vector Rotation on Selected Landmarks\",\n",
    "            width=700, height=1000, \n",
    "            scene=dict(\n",
    "                xaxis=dict(range=[-1, 1], autorange=False),\n",
    "                yaxis=dict(range=[0, 1], autorange=\"reversed\"),\n",
    "                zaxis=dict(range=[-2, 2], autorange=False),\n",
    "                aspectmode='cube'\n",
    "            ),\n",
    "            updatemenus=[{\n",
    "                \"type\": \"buttons\",\n",
    "                \"buttons\": [{\n",
    "                    \"label\": \"Play\",\n",
    "                    \"method\": \"animate\",\n",
    "                    \"args\": [None, {\"frame\": {\"duration\": 500, \"redraw\": True}, \"fromcurrent\": True, \"transition\": {\"duration\": 300}}],\n",
    "                }],\n",
    "                \"direction\": \"left\",\n",
    "                \"pad\": {\"r\": 10, \"t\": 87},\n",
    "                \"showactive\": False,\n",
    "                \"type\": \"buttons\",\n",
    "                \"x\": 0.1,\n",
    "                \"xanchor\": \"right\",\n",
    "                \"y\": 0,\n",
    "                \"yanchor\": \"top\"\n",
    "            }],\n",
    "            sliders=[{\n",
    "                \"steps\": [{\"method\": \"animate\", \"args\": [[f\"frame{step}\"], {\"mode\": \"immediate\", \"frame\": {\"duration\": 500, \"redraw\": True}, \"transition\": {\"duration\": 300}}], \"label\": f\"{angle_increment * step} degrees\"} for step in range(len(rv0))],\n",
    "            }]\n",
    "        ),\n",
    "        frames = [\n",
    "            go.Frame(\n",
    "                data=[\n",
    "                    go.Scatter3d(x=[rv0[step][0]], y=[rv0[step][1]], z=[rv0[step][2]], mode='markers', marker=dict(color=\"black\", size=5)),\n",
    "                    \n",
    "                    go.Scatter3d(x=[rv11[step][0]], y=[rv11[step][1]], z=[rv11[step][2]], mode='markers', marker=dict(color=\"magenta\", size=5)),\n",
    "                    go.Scatter3d(x=[rv12[step][0]], y=[rv12[step][1]], z=[rv12[step][2]], mode='markers', marker=dict(color=\"lime\", size=5)),\n",
    "                    go.Scatter3d(x=[rv13[step][0]], y=[rv13[step][1]], z=[rv13[step][2]], mode='markers', marker=dict(color=\"magenta\", size=5)),\n",
    "                    go.Scatter3d(x=[rv14[step][0]], y=[rv14[step][1]], z=[rv14[step][2]], mode='markers', marker=dict(color=\"lime\", size=5)),\n",
    "                    go.Scatter3d(x=[rv15[step][0]], y=[rv15[step][1]], z=[rv15[step][2]], mode='markers', marker=dict(color=\"magenta\", size=5)),\n",
    "                    go.Scatter3d(x=[rv16[step][0]], y=[rv16[step][1]], z=[rv16[step][2]], mode='markers', marker=dict(color=\"lime\", size=5)),\n",
    "                    \n",
    "                    go.Scatter3d(x=[rv23[step][0]], y=[rv23[step][1]], z=[rv23[step][2]], mode='markers', marker=dict(color=\"magenta\", size=5)),\n",
    "                    go.Scatter3d(x=[rv24[step][0]], y=[rv24[step][1]], z=[rv24[step][2]], mode='markers', marker=dict(color=\"lime\", size=5)),\n",
    "                    go.Scatter3d(x=[rv25[step][0]], y=[rv25[step][1]], z=[rv25[step][2]], mode='markers', marker=dict(color=\"magenta\", size=5)),\n",
    "                    go.Scatter3d(x=[rv26[step][0]], y=[rv26[step][1]], z=[rv26[step][2]], mode='markers', marker=dict(color=\"lime\", size=5)),\n",
    "                    go.Scatter3d(x=[rv27[step][0]], y=[rv27[step][1]], z=[rv27[step][2]], mode='markers', marker=dict(color=\"magenta\", size=5)),\n",
    "                    go.Scatter3d(x=[rv28[step][0]], y=[rv28[step][1]], z=[rv28[step][2]], mode='markers', marker=dict(color=\"lime\", size=5)),\n",
    "                    \n",
    "                    go.Scatter3d(\n",
    "                        x=[rv11[step][0], rv12[step][0], rv24[step][0], rv23[step][0], rv11[step][0]],  # Closing the loop by repeating the first point\n",
    "                        y=[rv11[step][1], rv12[step][1], rv24[step][1], rv23[step][1], rv11[step][1]],\n",
    "                        z=[rv11[step][2], rv12[step][2], rv24[step][2], rv23[step][2], rv11[step][2]],\n",
    "                        mode='lines',\n",
    "                        line=dict(color='silver', width=5)\n",
    "                    ),\n",
    "\n",
    "                    go.Scatter3d(\n",
    "                        x=[rv11[step][0], rv13[step][0]],\n",
    "                        y=[rv11[step][1], rv13[step][1]],\n",
    "                        z=[rv11[step][2], rv13[step][2]],\n",
    "                        mode='lines',\n",
    "                        line=dict(color='silver', width=5)\n",
    "                    ),\n",
    "\n",
    "                    go.Scatter3d(\n",
    "                        x=[rv15[step][0], rv13[step][0]],\n",
    "                        y=[rv15[step][1], rv13[step][1]],\n",
    "                        z=[rv15[step][2], rv13[step][2]],\n",
    "                        mode='lines',\n",
    "                        line=dict(color='silver', width=5)\n",
    "                    ),\n",
    "                    \n",
    "                    go.Scatter3d(\n",
    "                        x=[rv12[step][0], rv14[step][0]],\n",
    "                        y=[rv12[step][1], rv14[step][1]],\n",
    "                        z=[rv12[step][2], rv14[step][2]],\n",
    "                        mode='lines',\n",
    "                        line=dict(color='silver', width=5)\n",
    "                    ),\n",
    "\n",
    "                    go.Scatter3d(\n",
    "                        x=[rv16[step][0], rv14[step][0]],\n",
    "                        y=[rv16[step][1], rv14[step][1]],\n",
    "                        z=[rv16[step][2], rv14[step][2]],\n",
    "                        mode='lines',\n",
    "                        line=dict(color='silver', width=5)\n",
    "                    ),\n",
    "                    \n",
    "                    go.Scatter3d(\n",
    "                        x=[rv23[step][0], rv25[step][0]],\n",
    "                        y=[rv23[step][1], rv25[step][1]],\n",
    "                        z=[rv23[step][2], rv25[step][2]],\n",
    "                        mode='lines',\n",
    "                        line=dict(color='silver', width=5)\n",
    "                    ),\n",
    "\n",
    "                    go.Scatter3d(\n",
    "                        x=[rv27[step][0], rv25[step][0]],\n",
    "                        y=[rv27[step][1], rv25[step][1]],\n",
    "                        z=[rv27[step][2], rv25[step][2]],\n",
    "                        mode='lines',\n",
    "                        line=dict(color='silver', width=5)\n",
    "                    ),\n",
    "                    \n",
    "                    go.Scatter3d(\n",
    "                        x=[rv24[step][0], rv26[step][0]],\n",
    "                        y=[rv24[step][1], rv26[step][1]],\n",
    "                        z=[rv24[step][2], rv26[step][2]],\n",
    "                        mode='lines',\n",
    "                        line=dict(color='silver', width=5)\n",
    "                    ),\n",
    "\n",
    "                    go.Scatter3d(\n",
    "                        x=[rv28[step][0], rv26[step][0]],\n",
    "                        y=[rv28[step][1], rv26[step][1]],\n",
    "                        z=[rv28[step][2], rv26[step][2]],\n",
    "                        mode='lines',\n",
    "                        line=dict(color='silver', width=5)\n",
    "                    ),\n",
    "                ],\n",
    "                name=f\"frame{step}\"\n",
    "            ) for step in range(len(rv0)) # Since all of them are the same length\n",
    "        ]\n",
    "    )\n",
    "\n",
    "fig.add_trace(go.Scatter3d(x=[-1, 1], y=[0, 0], z=[0, 0],mode='lines',line=dict(color='red', width=2, dash='dash'),name='X axis'))\n",
    "fig.add_trace(go.Scatter3d(x=[0,0], y=[0, 1], z=[0, 0],mode='lines',line=dict(color='green', width=2, dash='dash'),name='Y axis'))\n",
    "fig.add_trace(go.Scatter3d(x=[0,0], y=[0, 0], z=[-2, 2],mode='lines',line=dict(color='blue', width=2, dash='dash'),name='Z axis'))\n",
    "\n",
    "\n",
    "fig.update_layout(\n",
    "    scene = dict(\n",
    "        xaxis = dict(backgroundcolor=\"rgb(230, 230, 255)\",gridcolor=\"white\",showbackground=True,zerolinecolor=\"white\",),\n",
    "        yaxis = dict(backgroundcolor=\"rgb(230, 255, 230)\",gridcolor=\"white\",showbackground=True,zerolinecolor=\"white\",),\n",
    "        zaxis = dict(backgroundcolor=\"rgb(255, 230, 255)\",gridcolor=\"white\",showbackground=True,zerolinecolor=\"white\",),\n",
    "))\n",
    "\n",
    "camera = dict(up=dict(x=0, y=-1.5, z=0),eye=dict(x=-2.5, y=0.1, z=-2.5))\n",
    "\n",
    "fig.update_layout(\n",
    "    scene_camera = camera)\n",
    "\n",
    "fig.show()"
   ]
  },
  {
   "cell_type": "markdown",
   "id": "882a461c-9f67-4674-ae30-40d83eb37da5",
   "metadata": {},
   "source": [
    "## Rotation Matrix Implementation (Batch)"
   ]
  },
  {
   "cell_type": "code",
   "execution_count": 68,
   "id": "a548e87c-1e3d-4add-94e3-0c2d3855ddc0",
   "metadata": {},
   "outputs": [
    {
     "data": {
      "text/html": [
       "<div>\n",
       "<style scoped>\n",
       "    .dataframe tbody tr th:only-of-type {\n",
       "        vertical-align: middle;\n",
       "    }\n",
       "\n",
       "    .dataframe tbody tr th {\n",
       "        vertical-align: top;\n",
       "    }\n",
       "\n",
       "    .dataframe thead th {\n",
       "        text-align: right;\n",
       "    }\n",
       "</style>\n",
       "<table border=\"1\" class=\"dataframe\">\n",
       "  <thead>\n",
       "    <tr style=\"text-align: right;\">\n",
       "      <th></th>\n",
       "      <th>image_filename</th>\n",
       "      <th>pose_name</th>\n",
       "      <th>label_encoded</th>\n",
       "      <th>theta</th>\n",
       "      <th>landmark_00_x</th>\n",
       "      <th>landmark_00_y</th>\n",
       "      <th>landmark_00_z</th>\n",
       "      <th>landmark_01_x</th>\n",
       "      <th>landmark_01_y</th>\n",
       "      <th>landmark_01_z</th>\n",
       "      <th>...</th>\n",
       "      <th>landmark_29_z</th>\n",
       "      <th>landmark_30_x</th>\n",
       "      <th>landmark_30_y</th>\n",
       "      <th>landmark_30_z</th>\n",
       "      <th>landmark_31_x</th>\n",
       "      <th>landmark_31_y</th>\n",
       "      <th>landmark_31_z</th>\n",
       "      <th>landmark_32_x</th>\n",
       "      <th>landmark_32_y</th>\n",
       "      <th>landmark_32_z</th>\n",
       "    </tr>\n",
       "  </thead>\n",
       "  <tbody>\n",
       "    <tr>\n",
       "      <th>0</th>\n",
       "      <td>advanced-figurehead-lft.png</td>\n",
       "      <td>advanced-figurehead-lft</td>\n",
       "      <td>0</td>\n",
       "      <td>0</td>\n",
       "      <td>0.545408</td>\n",
       "      <td>0.740922</td>\n",
       "      <td>-0.407526</td>\n",
       "      <td>0.529543</td>\n",
       "      <td>0.728610</td>\n",
       "      <td>-0.377108</td>\n",
       "      <td>...</td>\n",
       "      <td>0.468260</td>\n",
       "      <td>0.301245</td>\n",
       "      <td>0.325765</td>\n",
       "      <td>-0.279319</td>\n",
       "      <td>0.178496</td>\n",
       "      <td>0.312144</td>\n",
       "      <td>0.396094</td>\n",
       "      <td>0.165575</td>\n",
       "      <td>0.312704</td>\n",
       "      <td>-0.299426</td>\n",
       "    </tr>\n",
       "    <tr>\n",
       "      <th>1</th>\n",
       "      <td>advanced-figurehead-lft.png</td>\n",
       "      <td>advanced-figurehead-lft</td>\n",
       "      <td>0</td>\n",
       "      <td>10</td>\n",
       "      <td>0.607888</td>\n",
       "      <td>0.740922</td>\n",
       "      <td>-0.306625</td>\n",
       "      <td>0.586982</td>\n",
       "      <td>0.728610</td>\n",
       "      <td>-0.279425</td>\n",
       "      <td>...</td>\n",
       "      <td>0.514853</td>\n",
       "      <td>0.345172</td>\n",
       "      <td>0.325765</td>\n",
       "      <td>-0.222765</td>\n",
       "      <td>0.107004</td>\n",
       "      <td>0.312144</td>\n",
       "      <td>0.421072</td>\n",
       "      <td>0.215054</td>\n",
       "      <td>0.312704</td>\n",
       "      <td>-0.266125</td>\n",
       "    </tr>\n",
       "    <tr>\n",
       "      <th>2</th>\n",
       "      <td>advanced-figurehead-lft.png</td>\n",
       "      <td>advanced-figurehead-lft</td>\n",
       "      <td>0</td>\n",
       "      <td>20</td>\n",
       "      <td>0.651898</td>\n",
       "      <td>0.740922</td>\n",
       "      <td>-0.196408</td>\n",
       "      <td>0.626586</td>\n",
       "      <td>0.728610</td>\n",
       "      <td>-0.173252</td>\n",
       "      <td>...</td>\n",
       "      <td>0.545803</td>\n",
       "      <td>0.378611</td>\n",
       "      <td>0.325765</td>\n",
       "      <td>-0.159442</td>\n",
       "      <td>0.032260</td>\n",
       "      <td>0.312144</td>\n",
       "      <td>0.433256</td>\n",
       "      <td>0.257999</td>\n",
       "      <td>0.312704</td>\n",
       "      <td>-0.224739</td>\n",
       "    </tr>\n",
       "    <tr>\n",
       "      <th>3</th>\n",
       "      <td>advanced-figurehead-lft.png</td>\n",
       "      <td>advanced-figurehead-lft</td>\n",
       "      <td>0</td>\n",
       "      <td>30</td>\n",
       "      <td>0.676100</td>\n",
       "      <td>0.740922</td>\n",
       "      <td>-0.080224</td>\n",
       "      <td>0.647152</td>\n",
       "      <td>0.728610</td>\n",
       "      <td>-0.061814</td>\n",
       "      <td>...</td>\n",
       "      <td>0.560169</td>\n",
       "      <td>0.400546</td>\n",
       "      <td>0.325765</td>\n",
       "      <td>-0.091275</td>\n",
       "      <td>-0.043465</td>\n",
       "      <td>0.312144</td>\n",
       "      <td>0.432276</td>\n",
       "      <td>0.293105</td>\n",
       "      <td>0.312704</td>\n",
       "      <td>-0.176523</td>\n",
       "    </tr>\n",
       "    <tr>\n",
       "      <th>4</th>\n",
       "      <td>advanced-figurehead-lft.png</td>\n",
       "      <td>advanced-figurehead-lft</td>\n",
       "      <td>0</td>\n",
       "      <td>40</td>\n",
       "      <td>0.679759</td>\n",
       "      <td>0.740922</td>\n",
       "      <td>0.038399</td>\n",
       "      <td>0.648054</td>\n",
       "      <td>0.728610</td>\n",
       "      <td>0.051502</td>\n",
       "      <td>...</td>\n",
       "      <td>0.557515</td>\n",
       "      <td>0.410310</td>\n",
       "      <td>0.325765</td>\n",
       "      <td>-0.020334</td>\n",
       "      <td>-0.117868</td>\n",
       "      <td>0.312144</td>\n",
       "      <td>0.418161</td>\n",
       "      <td>0.319305</td>\n",
       "      <td>0.312704</td>\n",
       "      <td>-0.122944</td>\n",
       "    </tr>\n",
       "    <tr>\n",
       "      <th>...</th>\n",
       "      <td>...</td>\n",
       "      <td>...</td>\n",
       "      <td>...</td>\n",
       "      <td>...</td>\n",
       "      <td>...</td>\n",
       "      <td>...</td>\n",
       "      <td>...</td>\n",
       "      <td>...</td>\n",
       "      <td>...</td>\n",
       "      <td>...</td>\n",
       "      <td>...</td>\n",
       "      <td>...</td>\n",
       "      <td>...</td>\n",
       "      <td>...</td>\n",
       "      <td>...</td>\n",
       "      <td>...</td>\n",
       "      <td>...</td>\n",
       "      <td>...</td>\n",
       "      <td>...</td>\n",
       "      <td>...</td>\n",
       "      <td>...</td>\n",
       "    </tr>\n",
       "    <tr>\n",
       "      <th>19579</th>\n",
       "      <td>yogini-twisted-rgt.png</td>\n",
       "      <td>yogini-twisted-rgt</td>\n",
       "      <td>271</td>\n",
       "      <td>310</td>\n",
       "      <td>0.221597</td>\n",
       "      <td>0.731075</td>\n",
       "      <td>-0.655868</td>\n",
       "      <td>0.241815</td>\n",
       "      <td>0.751349</td>\n",
       "      <td>-0.633527</td>\n",
       "      <td>...</td>\n",
       "      <td>-0.188110</td>\n",
       "      <td>0.205020</td>\n",
       "      <td>0.697971</td>\n",
       "      <td>-0.118801</td>\n",
       "      <td>0.537527</td>\n",
       "      <td>0.136663</td>\n",
       "      <td>-0.257138</td>\n",
       "      <td>0.179851</td>\n",
       "      <td>0.763012</td>\n",
       "      <td>-0.090221</td>\n",
       "    </tr>\n",
       "    <tr>\n",
       "      <th>19580</th>\n",
       "      <td>yogini-twisted-rgt.png</td>\n",
       "      <td>yogini-twisted-rgt</td>\n",
       "      <td>271</td>\n",
       "      <td>320</td>\n",
       "      <td>0.332121</td>\n",
       "      <td>0.731075</td>\n",
       "      <td>-0.607424</td>\n",
       "      <td>0.348152</td>\n",
       "      <td>0.751349</td>\n",
       "      <td>-0.581912</td>\n",
       "      <td>...</td>\n",
       "      <td>-0.089076</td>\n",
       "      <td>0.222535</td>\n",
       "      <td>0.697971</td>\n",
       "      <td>-0.081394</td>\n",
       "      <td>0.574013</td>\n",
       "      <td>0.136663</td>\n",
       "      <td>-0.159891</td>\n",
       "      <td>0.192785</td>\n",
       "      <td>0.763012</td>\n",
       "      <td>-0.057619</td>\n",
       "    </tr>\n",
       "    <tr>\n",
       "      <th>19581</th>\n",
       "      <td>yogini-twisted-rgt.png</td>\n",
       "      <td>yogini-twisted-rgt</td>\n",
       "      <td>271</td>\n",
       "      <td>330</td>\n",
       "      <td>0.432553</td>\n",
       "      <td>0.731075</td>\n",
       "      <td>-0.540524</td>\n",
       "      <td>0.443911</td>\n",
       "      <td>0.751349</td>\n",
       "      <td>-0.512615</td>\n",
       "      <td>...</td>\n",
       "      <td>0.012664</td>\n",
       "      <td>0.233288</td>\n",
       "      <td>0.697971</td>\n",
       "      <td>-0.041515</td>\n",
       "      <td>0.593057</td>\n",
       "      <td>0.136663</td>\n",
       "      <td>-0.057786</td>\n",
       "      <td>0.199862</td>\n",
       "      <td>0.763012</td>\n",
       "      <td>-0.023267</td>\n",
       "    </tr>\n",
       "    <tr>\n",
       "      <th>19582</th>\n",
       "      <td>yogini-twisted-rgt.png</td>\n",
       "      <td>yogini-twisted-rgt</td>\n",
       "      <td>271</td>\n",
       "      <td>340</td>\n",
       "      <td>0.519843</td>\n",
       "      <td>0.731075</td>\n",
       "      <td>-0.457200</td>\n",
       "      <td>0.526182</td>\n",
       "      <td>0.751349</td>\n",
       "      <td>-0.427743</td>\n",
       "      <td>...</td>\n",
       "      <td>0.114019</td>\n",
       "      <td>0.236953</td>\n",
       "      <td>0.697971</td>\n",
       "      <td>-0.000374</td>\n",
       "      <td>0.594081</td>\n",
       "      <td>0.136663</td>\n",
       "      <td>0.046075</td>\n",
       "      <td>0.200866</td>\n",
       "      <td>0.763012</td>\n",
       "      <td>0.011792</td>\n",
       "    </tr>\n",
       "    <tr>\n",
       "      <th>19583</th>\n",
       "      <td>yogini-twisted-rgt.png</td>\n",
       "      <td>yogini-twisted-rgt</td>\n",
       "      <td>271</td>\n",
       "      <td>350</td>\n",
       "      <td>0.591337</td>\n",
       "      <td>0.731075</td>\n",
       "      <td>-0.359984</td>\n",
       "      <td>0.592465</td>\n",
       "      <td>0.751349</td>\n",
       "      <td>-0.329874</td>\n",
       "      <td>...</td>\n",
       "      <td>0.211910</td>\n",
       "      <td>0.233418</td>\n",
       "      <td>0.697971</td>\n",
       "      <td>0.040778</td>\n",
       "      <td>0.577055</td>\n",
       "      <td>0.136663</td>\n",
       "      <td>0.148537</td>\n",
       "      <td>0.195767</td>\n",
       "      <td>0.763012</td>\n",
       "      <td>0.046493</td>\n",
       "    </tr>\n",
       "  </tbody>\n",
       "</table>\n",
       "<p>19584 rows × 103 columns</p>\n",
       "</div>"
      ],
      "text/plain": [
       "                    image_filename                pose_name  label_encoded  \\\n",
       "0      advanced-figurehead-lft.png  advanced-figurehead-lft              0   \n",
       "1      advanced-figurehead-lft.png  advanced-figurehead-lft              0   \n",
       "2      advanced-figurehead-lft.png  advanced-figurehead-lft              0   \n",
       "3      advanced-figurehead-lft.png  advanced-figurehead-lft              0   \n",
       "4      advanced-figurehead-lft.png  advanced-figurehead-lft              0   \n",
       "...                            ...                      ...            ...   \n",
       "19579       yogini-twisted-rgt.png       yogini-twisted-rgt            271   \n",
       "19580       yogini-twisted-rgt.png       yogini-twisted-rgt            271   \n",
       "19581       yogini-twisted-rgt.png       yogini-twisted-rgt            271   \n",
       "19582       yogini-twisted-rgt.png       yogini-twisted-rgt            271   \n",
       "19583       yogini-twisted-rgt.png       yogini-twisted-rgt            271   \n",
       "\n",
       "       theta  landmark_00_x  landmark_00_y  landmark_00_z  landmark_01_x  \\\n",
       "0          0       0.545408       0.740922      -0.407526       0.529543   \n",
       "1         10       0.607888       0.740922      -0.306625       0.586982   \n",
       "2         20       0.651898       0.740922      -0.196408       0.626586   \n",
       "3         30       0.676100       0.740922      -0.080224       0.647152   \n",
       "4         40       0.679759       0.740922       0.038399       0.648054   \n",
       "...      ...            ...            ...            ...            ...   \n",
       "19579    310       0.221597       0.731075      -0.655868       0.241815   \n",
       "19580    320       0.332121       0.731075      -0.607424       0.348152   \n",
       "19581    330       0.432553       0.731075      -0.540524       0.443911   \n",
       "19582    340       0.519843       0.731075      -0.457200       0.526182   \n",
       "19583    350       0.591337       0.731075      -0.359984       0.592465   \n",
       "\n",
       "       landmark_01_y  landmark_01_z  ...  landmark_29_z  landmark_30_x  \\\n",
       "0           0.728610      -0.377108  ...       0.468260       0.301245   \n",
       "1           0.728610      -0.279425  ...       0.514853       0.345172   \n",
       "2           0.728610      -0.173252  ...       0.545803       0.378611   \n",
       "3           0.728610      -0.061814  ...       0.560169       0.400546   \n",
       "4           0.728610       0.051502  ...       0.557515       0.410310   \n",
       "...              ...            ...  ...            ...            ...   \n",
       "19579       0.751349      -0.633527  ...      -0.188110       0.205020   \n",
       "19580       0.751349      -0.581912  ...      -0.089076       0.222535   \n",
       "19581       0.751349      -0.512615  ...       0.012664       0.233288   \n",
       "19582       0.751349      -0.427743  ...       0.114019       0.236953   \n",
       "19583       0.751349      -0.329874  ...       0.211910       0.233418   \n",
       "\n",
       "       landmark_30_y  landmark_30_z  landmark_31_x  landmark_31_y  \\\n",
       "0           0.325765      -0.279319       0.178496       0.312144   \n",
       "1           0.325765      -0.222765       0.107004       0.312144   \n",
       "2           0.325765      -0.159442       0.032260       0.312144   \n",
       "3           0.325765      -0.091275      -0.043465       0.312144   \n",
       "4           0.325765      -0.020334      -0.117868       0.312144   \n",
       "...              ...            ...            ...            ...   \n",
       "19579       0.697971      -0.118801       0.537527       0.136663   \n",
       "19580       0.697971      -0.081394       0.574013       0.136663   \n",
       "19581       0.697971      -0.041515       0.593057       0.136663   \n",
       "19582       0.697971      -0.000374       0.594081       0.136663   \n",
       "19583       0.697971       0.040778       0.577055       0.136663   \n",
       "\n",
       "       landmark_31_z  landmark_32_x  landmark_32_y  landmark_32_z  \n",
       "0           0.396094       0.165575       0.312704      -0.299426  \n",
       "1           0.421072       0.215054       0.312704      -0.266125  \n",
       "2           0.433256       0.257999       0.312704      -0.224739  \n",
       "3           0.432276       0.293105       0.312704      -0.176523  \n",
       "4           0.418161       0.319305       0.312704      -0.122944  \n",
       "...              ...            ...            ...            ...  \n",
       "19579      -0.257138       0.179851       0.763012      -0.090221  \n",
       "19580      -0.159891       0.192785       0.763012      -0.057619  \n",
       "19581      -0.057786       0.199862       0.763012      -0.023267  \n",
       "19582       0.046075       0.200866       0.763012       0.011792  \n",
       "19583       0.148537       0.195767       0.763012       0.046493  \n",
       "\n",
       "[19584 rows x 103 columns]"
      ]
     },
     "execution_count": 68,
     "metadata": {},
     "output_type": "execute_result"
    }
   ],
   "source": [
    "def rotate_pose(pose, axis, angle_increment=10, full_circle=360):\n",
    "    rotated_poses = []\n",
    "    for theta in np.arange(0, full_circle, angle_increment):\n",
    "        rotated_pose = {'theta': theta}\n",
    "        for landmark in range(33):  # Assuming 33 landmarks\n",
    "            x = pose[f'landmark_{landmark:02}_x']\n",
    "            y = pose[f'landmark_{landmark:02}_y']\n",
    "            z = pose[f'landmark_{landmark:02}_z']\n",
    "            v = np.array([x, y, z])\n",
    "            rotation_matrix = rotation_matrix_per_angle(axis, -np.radians(theta))\n",
    "            rotated_v = np.dot(rotation_matrix, v)\n",
    "            rotated_pose.update({\n",
    "                f'landmark_{landmark:02}_x': rotated_v[0],\n",
    "                f'landmark_{landmark:02}_y': rotated_v[1],\n",
    "                f'landmark_{landmark:02}_z': rotated_v[2],\n",
    "            })\n",
    "        rotated_poses.append(rotated_pose)\n",
    "    return rotated_poses\n",
    "\n",
    "axis = [0, 1, 0]  # y-axis for vertical rotation\n",
    "angle_increment = 10\n",
    "\n",
    "all_rotated_poses = []\n",
    "\n",
    "data['label'] = data['pose_name'].str.replace('-lft', '').str.replace('-rgt', '')\n",
    "label_to_int = {label: idx for idx, label in enumerate(np.unique(data['label']))}\n",
    "\n",
    "for index, row in data.iterrows():\n",
    "    pose_name = row['pose_name']\n",
    "    image_filename = row['image_filename']\n",
    "\n",
    "    # Remove '-lft' and '-rgt' from pose_name for encoding\n",
    "    label = pose_name.replace('-lft', '').replace('-rgt', '')\n",
    "    label_encoded = label_to_int[label]  # Encode the label\n",
    "\n",
    "    rotated_poses = rotate_pose(row, axis, angle_increment)\n",
    "    for rotated_pose in rotated_poses:\n",
    "        updated_pose = {\n",
    "            'image_filename': image_filename,\n",
    "            'pose_name': pose_name,\n",
    "            'label_encoded': label_encoded  # Add encoded label as the third key\n",
    "        }\n",
    "        updated_pose.update(rotated_pose)\n",
    "        all_rotated_poses.append(updated_pose)\n",
    "\n",
    "rotated_poses_df = pd.DataFrame(all_rotated_poses)\n",
    "rotated_poses_df"
   ]
  },
  {
   "cell_type": "code",
   "execution_count": 69,
   "id": "cff1c659-12d4-447a-bbc6-e328387fb124",
   "metadata": {},
   "outputs": [],
   "source": [
    "rotated_poses_df.to_csv(\"dataset/pose_data_augmented.csv\", index=False)"
   ]
  },
  {
   "cell_type": "code",
   "execution_count": null,
   "id": "807fc9f2-232e-450a-97ae-be528922ae45",
   "metadata": {},
   "outputs": [],
   "source": []
  }
 ],
 "metadata": {
  "kernelspec": {
   "display_name": "Python 3 (ipykernel)",
   "language": "python",
   "name": "python3"
  },
  "language_info": {
   "codemirror_mode": {
    "name": "ipython",
    "version": 3
   },
   "file_extension": ".py",
   "mimetype": "text/x-python",
   "name": "python",
   "nbconvert_exporter": "python",
   "pygments_lexer": "ipython3",
   "version": "3.11.6"
  }
 },
 "nbformat": 4,
 "nbformat_minor": 5
}

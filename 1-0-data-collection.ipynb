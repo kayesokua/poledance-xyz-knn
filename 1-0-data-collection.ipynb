{
 "cells": [
  {
   "cell_type": "markdown",
   "id": "5b1f8303-ea36-4e2d-97ac-c7301c0a0309",
   "metadata": {},
   "source": [
    "## 1.0 Data Collection"
   ]
  }
 ],
 "metadata": {
  "kernelspec": {
   "display_name": "Python 3 (ipykernel)",
   "language": "python",
   "name": "python3"
  },
  "language_info": {
   "codemirror_mode": {
    "name": "ipython",
    "version": 3
   },
   "file_extension": ".py",
   "mimetype": "text/x-python",
   "name": "python",
   "nbconvert_exporter": "python",
   "pygments_lexer": "ipython3",
   "version": "3.11.6"
  }
 },
 "nbformat": 4,
 "nbformat_minor": 5
}

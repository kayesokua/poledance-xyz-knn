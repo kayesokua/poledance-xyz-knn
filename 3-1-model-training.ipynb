{
 "cells": [
  {
   "cell_type": "markdown",
   "id": "fbfc1200-7d3d-400c-a1bd-30dd6ee4c451",
   "metadata": {},
   "source": [
    "# 3.0 Model Training and Testing\n",
    "\n",
    "### Data Setup"
   ]
  },
  {
   "cell_type": "code",
   "execution_count": 1,
   "id": "452fe688-d96d-4a8e-b603-fedd6d20bbc1",
   "metadata": {},
   "outputs": [],
   "source": [
    "import numpy as np\n",
    "import pandas as pd\n",
    "\n",
    "from helpers.datasets import load_train_data,load_feature_weights\n",
    "X, y, feature_names = load_train_data()\n",
    "weights = load_feature_weights()"
   ]
  },
  {
   "cell_type": "markdown",
   "id": "7b70273a-5024-4fbb-ba52-188103f640ff",
   "metadata": {},
   "source": [
    "## 3.1 Model Training based on Feature Weights"
   ]
  },
  {
   "cell_type": "code",
   "execution_count": null,
   "id": "0a497f28-56a9-4e13-86c8-1430b38590e7",
   "metadata": {},
   "outputs": [],
   "source": [
    "from sklearn.neighbors import KNeighborsClassifier\n",
    "from sklearn.metrics.pairwise import euclidean_distances\n",
    "from joblib import dump, load\n",
    "\n",
    "def custom_distance(weights):\n",
    "    def weighted_euclidean(x, y):\n",
    "        diff = x - y\n",
    "        weighted_diff = diff * weights\n",
    "        return np.sqrt(np.sum(weighted_diff ** 2))\n",
    "    return weighted_euclidean\n",
    "\n",
    "def train_knn_with_custom_distance(X, y, weights):\n",
    "    feature_names = X.columns\n",
    "    method_used = 'gini'\n",
    "    weight_values = np.array([weights.loc[feature, method_used] for feature in feature_names])    \n",
    "    knn = KNeighborsClassifier(n_neighbors=5, metric=custom_distance(weight_values))\n",
    "    if knn:\n",
    "        knn.fit(X, y)\n",
    "    return knn\n",
    "\n",
    "X_df = pd.DataFrame(X, columns=weights.index)\n",
    "knn_model = train_knn_with_custom_distance(X_df, y, weights)\n",
    "dump(knn_model, 'experiments/gini_model.joblib')"
   ]
  },
  {
   "cell_type": "markdown",
   "id": "7dd34a06-8acb-4279-b33a-1bc2327172f4",
   "metadata": {},
   "source": [
    "# Resources\n",
    "\n",
    "1. https://medium.com/analytics-vidhya/feature-engineering-experiment-weighted-knn-3f28dfdf30e1"
   ]
  },
  {
   "cell_type": "code",
   "execution_count": null,
   "id": "d1cf1a9a-0203-4929-b70d-0aa2b6e08526",
   "metadata": {},
   "outputs": [],
   "source": []
  }
 ],
 "metadata": {
  "kernelspec": {
   "display_name": "Python 3 (ipykernel)",
   "language": "python",
   "name": "python3"
  },
  "language_info": {
   "codemirror_mode": {
    "name": "ipython",
    "version": 3
   },
   "file_extension": ".py",
   "mimetype": "text/x-python",
   "name": "python",
   "nbconvert_exporter": "python",
   "pygments_lexer": "ipython3",
   "version": "3.11.6"
  }
 },
 "nbformat": 4,
 "nbformat_minor": 5
}

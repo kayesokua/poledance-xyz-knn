{
 "cells": [
  {
   "cell_type": "markdown",
   "id": "0cdf78a9-e4e3-45f9-baf6-f998e13f4290",
   "metadata": {},
   "source": [
    "# 2.0 Data Augmentation"
   ]
  },
  {
   "cell_type": "markdown",
   "id": "f05d6e6a-6b33-4876-b40c-d3fcae6d7e71",
   "metadata": {},
   "source": [
    "## 2.1 Image Mirroring for Data Augmentation"
   ]
  },
  {
   "cell_type": "code",
   "execution_count": null,
   "id": "8e101ea0-e00e-43f7-87a3-6b90977e68ff",
   "metadata": {},
   "outputs": [],
   "source": [
    "import os\n",
    "from PIL import Image\n",
    "from shutil import copyfile\n",
    "\n",
    "def is_image_file(filename):\n",
    "    return filename.lower().endswith(('.png', '.jpg', '.jpeg', '.bmp', '.gif', '.tiff'))\n",
    "\n",
    "def flip_image_horizontally(image_path, save_path):\n",
    "    img = Image.open(image_path)\n",
    "    flipped_img = img.transpose(Image.FLIP_LEFT_RIGHT)\n",
    "    flipped_img.save(save_path)\n",
    "\n",
    "def pose_image_mirror(root_dir):\n",
    "    error = 0\n",
    "    copy_count = 0\n",
    "    flipped_horizontal_count = 0\n",
    "    flipped_vertical_count = 0\n",
    "\n",
    "    lft_images_dir = root_dir + \"lft/\"\n",
    "    rgt_images_dir = root_dir + \"rgt/\"\n",
    "\n",
    "    for dir_path, suffix in [(lft_images_dir, '-lft.png'), (rgt_images_dir, '-rgt.png')]:\n",
    "        for filename in os.listdir(dir_path):\n",
    "            if is_image_file(filename):\n",
    "                base_filename = os.path.splitext(filename)[0]\n",
    "                source_path = os.path.join(dir_path, filename)\n",
    "                save_path = os.path.join(root_dir, base_filename + suffix)\n",
    "                copyfile(source_path, save_path)\n",
    "                copy_count += 1\n",
    "    print(f\"Successfully copied {copy_count} images\")\n",
    "\n",
    "    for filename in os.listdir(root_dir):\n",
    "        if is_image_file(filename) and filename.lower().endswith('-lft.png'):\n",
    "            base_filename = filename.replace('-lft.png', '')\n",
    "            flipped_path = os.path.join(root_dir, base_filename + '-rgt.png')\n",
    "            source_path = os.path.join(root_dir, filename)\n",
    "            flip_image_horizontally(source_path, flipped_path)\n",
    "            flipped_horizontal_count += 1 \n",
    "        elif is_image_file(filename) and filename.lower().endswith('-rgt.png'):\n",
    "            base_filename = filename.replace('-rgt.png', '')\n",
    "            flipped_path = os.path.join(root_dir, base_filename + '-lft.png')\n",
    "            source_path = os.path.join(root_dir, filename)\n",
    "            flip_image_horizontally(source_path, flipped_path)\n",
    "            flipped_horizontal_count += 1 \n",
    "        else:\n",
    "            error += 1\n",
    "            \n",
    "    print(f\"Successfully flipped horizontally {flipped_horizontal_count} images\")\n",
    "\n",
    "dir = 'data/training-selected/beginner/'\n",
    "pose_image_mirror(dir)"
   ]
  },
  {
   "cell_type": "markdown",
   "id": "9a2d0a45-6d32-4a1a-968f-9be787ba605c",
   "metadata": {},
   "source": [
    "## 1.2 Human Pose Estimation Extraction\n",
    "\n",
    "### Implementation for Static Images (Benchmark Data)"
   ]
  },
  {
   "cell_type": "code",
   "execution_count": 1,
   "id": "e984fcd5-2ed6-46b6-bcfe-18ac58398cb4",
   "metadata": {},
   "outputs": [
    {
     "name": "stderr",
     "output_type": "stream",
     "text": [
      "2024-03-13 12:58:27.243183: I tensorflow/core/platform/cpu_feature_guard.cc:182] This TensorFlow binary is optimized to use available CPU instructions in performance-critical operations.\n",
      "To enable the following instructions: AVX2 FMA, in other operations, rebuild TensorFlow with the appropriate compiler flags.\n"
     ]
    }
   ],
   "source": []
  },
  {
   "cell_type": "code",
   "execution_count": 10,
   "id": "623abfe1-82f0-4d48-b842-6dcf39a95e0e",
   "metadata": {},
   "outputs": [
    {
     "name": "stderr",
     "output_type": "stream",
     "text": [
      "INFO: Created TensorFlow Lite XNNPACK delegate for CPU.\n",
      "/usr/local/lib/python3.11/site-packages/google/protobuf/symbol_database.py:55: UserWarning: SymbolDatabase.GetPrototype() is deprecated. Please use message_factory.GetMessageClass() instead. SymbolDatabase.GetPrototype() will be removed soon.\n",
      "  warnings.warn('SymbolDatabase.GetPrototype() is deprecated. Please '\n"
     ]
    },
    {
     "name": "stdout",
     "output_type": "stream",
     "text": [
      "data/training-selected/beginner/annotated\n",
      "data/training-selected/advanced/annotated\n",
      "data/training-selected/intermediate/annotated\n"
     ]
    }
   ],
   "source": []
  },
  {
   "cell_type": "markdown",
   "id": "7bfc21c0-032f-4795-b924-df1bd12b32b3",
   "metadata": {},
   "source": [
    "### Implementation for Video Frames (Test Data)"
   ]
  },
  {
   "cell_type": "code",
   "execution_count": 2,
   "id": "a04712e3-b14d-4ef1-b1e4-bc6b9a50105f",
   "metadata": {},
   "outputs": [],
   "source": [
    "from helpers.video_utils import *\n",
    "\n",
    "def decompose_video_to_frames(input_video_path, output_dir):\n",
    "    if not is_video_openable(input_video_path):\n",
    "        return False\n",
    "    fps, frame_interval, _ = get_video_properties(input_video_path)\n",
    "    image_count = process_video_images(input_video_path, output_dir, frame_interval, fps)\n",
    "    print(f\"Processed {image_count} frames from the video.\")\n",
    "    return True"
   ]
  },
  {
   "cell_type": "code",
   "execution_count": 3,
   "id": "e96579e4-8aec-4647-a908-d50de3a58b9b",
   "metadata": {},
   "outputs": [
    {
     "name": "stdout",
     "output_type": "stream",
     "text": [
      "Processed 84 frames from the video.\n"
     ]
    },
    {
     "name": "stderr",
     "output_type": "stream",
     "text": [
      "INFO: Created TensorFlow Lite XNNPACK delegate for CPU.\n",
      "/usr/local/lib/python3.11/site-packages/google/protobuf/symbol_database.py:55: UserWarning: SymbolDatabase.GetPrototype() is deprecated. Please use message_factory.GetMessageClass() instead. SymbolDatabase.GetPrototype() will be removed soon.\n",
      "  warnings.warn('SymbolDatabase.GetPrototype() is deprecated. Please '\n"
     ]
    },
    {
     "name": "stdout",
     "output_type": "stream",
     "text": [
      "data/testing-set-1/processed/test-chair-spin/annotated\n"
     ]
    }
   ],
   "source": [
    "input_video_path = 'data/testing-set-1/uploads/test-chair-spin.mp4'\n",
    "output_dir = 'data/testing-set-1/processed/test-chair-spin/'\n",
    "\n",
    "decompose_video_to_frames(input_video_path, output_dir)\n",
    "generate_pose_landmark_dictionary(source_dir=output_dir,model_path=model_path,is_video=True)"
   ]
  }
 ],
 "metadata": {
  "kernelspec": {
   "display_name": "Python 3 (ipykernel)",
   "language": "python",
   "name": "python3"
  },
  "language_info": {
   "codemirror_mode": {
    "name": "ipython",
    "version": 3
   },
   "file_extension": ".py",
   "mimetype": "text/x-python",
   "name": "python",
   "nbconvert_exporter": "python",
   "pygments_lexer": "ipython3",
   "version": "3.11.6"
  }
 },
 "nbformat": 4,
 "nbformat_minor": 5
}
